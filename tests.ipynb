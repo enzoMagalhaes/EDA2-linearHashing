{
 "cells": [
  {
   "cell_type": "code",
   "execution_count": 74,
   "metadata": {},
   "outputs": [],
   "source": [
    "from src.linear_hashing import LinearHashing\n",
    "from random import sample, randint\n",
    "from math import ceil\n",
    "import pandas as pd\n",
    "import plotly.express as px\n",
    "\n",
    "def generate_keys(amount, start=0, end=10**5):\n",
    "    random_numbers = set()\n",
    "    while len(random_numbers) < amount:\n",
    "        random_numbers.add(randint(start, end))\n",
    "\n",
    "    return list(random_numbers)\n",
    "\n",
    "def average(numbers):\n",
    "    return sum(numbers) / len(numbers)\n",
    "\n",
    "def linePlot(data,x,y, y_range, color=None):\n",
    "    if not color:\n",
    "        plot_data = data.groupby(x)[y].mean().reset_index()\n",
    "    else:\n",
    "        plot_data = data.groupby([x,color])[y].mean().reset_index()\n",
    "\n",
    "    fig = px.line(plot_data, x=x, y=y, title=f'{y} em funcao do {x}', markers=True, color=color)\n",
    "    fig.update_yaxes(range=y_range)\n",
    "    fig.show()\n",
    "\n",
    "\n",
    "test_ps = [1, 5, 10, 20, 50]\n",
    "test_alphas = [0.2, 0.3, 0.4, 0.5, 0.6, 0.7, 0.8, 0.9]\n"
   ]
  },
  {
   "attachments": {},
   "cell_type": "markdown",
   "metadata": {},
   "source": [
    "# Desempenho quanto ao espaço"
   ]
  },
  {
   "cell_type": "code",
   "execution_count": 64,
   "metadata": {},
   "outputs": [
    {
     "data": {
      "text/html": [
       "<div>\n",
       "<style scoped>\n",
       "    .dataframe tbody tr th:only-of-type {\n",
       "        vertical-align: middle;\n",
       "    }\n",
       "\n",
       "    .dataframe tbody tr th {\n",
       "        vertical-align: top;\n",
       "    }\n",
       "\n",
       "    .dataframe thead th {\n",
       "        text-align: right;\n",
       "    }\n",
       "</style>\n",
       "<table border=\"1\" class=\"dataframe\">\n",
       "  <thead>\n",
       "    <tr style=\"text-align: right;\">\n",
       "      <th></th>\n",
       "      <th>p</th>\n",
       "      <th>maxAlpha</th>\n",
       "      <th>avgAlpha</th>\n",
       "      <th>avgP*</th>\n",
       "    </tr>\n",
       "  </thead>\n",
       "  <tbody>\n",
       "    <tr>\n",
       "      <th>0</th>\n",
       "      <td>1</td>\n",
       "      <td>0.2</td>\n",
       "      <td>0.199992</td>\n",
       "      <td>1.668595</td>\n",
       "    </tr>\n",
       "    <tr>\n",
       "      <th>1</th>\n",
       "      <td>1</td>\n",
       "      <td>0.3</td>\n",
       "      <td>0.299868</td>\n",
       "      <td>1.630612</td>\n",
       "    </tr>\n",
       "    <tr>\n",
       "      <th>2</th>\n",
       "      <td>1</td>\n",
       "      <td>0.4</td>\n",
       "      <td>0.399936</td>\n",
       "      <td>1.530059</td>\n",
       "    </tr>\n",
       "    <tr>\n",
       "      <th>3</th>\n",
       "      <td>1</td>\n",
       "      <td>0.5</td>\n",
       "      <td>0.499925</td>\n",
       "      <td>1.580294</td>\n",
       "    </tr>\n",
       "    <tr>\n",
       "      <th>4</th>\n",
       "      <td>1</td>\n",
       "      <td>0.6</td>\n",
       "      <td>0.599808</td>\n",
       "      <td>1.578393</td>\n",
       "    </tr>\n",
       "    <tr>\n",
       "      <th>5</th>\n",
       "      <td>1</td>\n",
       "      <td>0.7</td>\n",
       "      <td>0.699790</td>\n",
       "      <td>1.687594</td>\n",
       "    </tr>\n",
       "    <tr>\n",
       "      <th>6</th>\n",
       "      <td>1</td>\n",
       "      <td>0.8</td>\n",
       "      <td>0.799936</td>\n",
       "      <td>1.884030</td>\n",
       "    </tr>\n",
       "    <tr>\n",
       "      <th>7</th>\n",
       "      <td>1</td>\n",
       "      <td>0.9</td>\n",
       "      <td>0.899038</td>\n",
       "      <td>2.133624</td>\n",
       "    </tr>\n",
       "    <tr>\n",
       "      <th>8</th>\n",
       "      <td>5</td>\n",
       "      <td>0.2</td>\n",
       "      <td>0.199988</td>\n",
       "      <td>1.172852</td>\n",
       "    </tr>\n",
       "    <tr>\n",
       "      <th>9</th>\n",
       "      <td>5</td>\n",
       "      <td>0.3</td>\n",
       "      <td>0.299940</td>\n",
       "      <td>1.109989</td>\n",
       "    </tr>\n",
       "    <tr>\n",
       "      <th>10</th>\n",
       "      <td>5</td>\n",
       "      <td>0.4</td>\n",
       "      <td>0.400000</td>\n",
       "      <td>1.074612</td>\n",
       "    </tr>\n",
       "    <tr>\n",
       "      <th>11</th>\n",
       "      <td>5</td>\n",
       "      <td>0.5</td>\n",
       "      <td>0.499900</td>\n",
       "      <td>1.093593</td>\n",
       "    </tr>\n",
       "    <tr>\n",
       "      <th>12</th>\n",
       "      <td>5</td>\n",
       "      <td>0.6</td>\n",
       "      <td>0.599664</td>\n",
       "      <td>1.203436</td>\n",
       "    </tr>\n",
       "    <tr>\n",
       "      <th>13</th>\n",
       "      <td>5</td>\n",
       "      <td>0.7</td>\n",
       "      <td>0.699008</td>\n",
       "      <td>1.350532</td>\n",
       "    </tr>\n",
       "    <tr>\n",
       "      <th>14</th>\n",
       "      <td>5</td>\n",
       "      <td>0.8</td>\n",
       "      <td>0.798979</td>\n",
       "      <td>1.961979</td>\n",
       "    </tr>\n",
       "    <tr>\n",
       "      <th>15</th>\n",
       "      <td>5</td>\n",
       "      <td>0.9</td>\n",
       "      <td>0.897027</td>\n",
       "      <td>3.964655</td>\n",
       "    </tr>\n",
       "    <tr>\n",
       "      <th>16</th>\n",
       "      <td>10</td>\n",
       "      <td>0.2</td>\n",
       "      <td>0.199984</td>\n",
       "      <td>1.045200</td>\n",
       "    </tr>\n",
       "    <tr>\n",
       "      <th>17</th>\n",
       "      <td>10</td>\n",
       "      <td>0.3</td>\n",
       "      <td>0.299940</td>\n",
       "      <td>1.015076</td>\n",
       "    </tr>\n",
       "    <tr>\n",
       "      <th>18</th>\n",
       "      <td>10</td>\n",
       "      <td>0.4</td>\n",
       "      <td>0.400000</td>\n",
       "      <td>1.009698</td>\n",
       "    </tr>\n",
       "    <tr>\n",
       "      <th>19</th>\n",
       "      <td>10</td>\n",
       "      <td>0.5</td>\n",
       "      <td>0.499675</td>\n",
       "      <td>1.026541</td>\n",
       "    </tr>\n",
       "    <tr>\n",
       "      <th>20</th>\n",
       "      <td>10</td>\n",
       "      <td>0.6</td>\n",
       "      <td>0.599377</td>\n",
       "      <td>1.169029</td>\n",
       "    </tr>\n",
       "    <tr>\n",
       "      <th>21</th>\n",
       "      <td>10</td>\n",
       "      <td>0.7</td>\n",
       "      <td>0.698279</td>\n",
       "      <td>1.377283</td>\n",
       "    </tr>\n",
       "    <tr>\n",
       "      <th>22</th>\n",
       "      <td>10</td>\n",
       "      <td>0.8</td>\n",
       "      <td>0.798596</td>\n",
       "      <td>2.151855</td>\n",
       "    </tr>\n",
       "    <tr>\n",
       "      <th>23</th>\n",
       "      <td>10</td>\n",
       "      <td>0.9</td>\n",
       "      <td>0.896949</td>\n",
       "      <td>4.340574</td>\n",
       "    </tr>\n",
       "    <tr>\n",
       "      <th>24</th>\n",
       "      <td>20</td>\n",
       "      <td>0.2</td>\n",
       "      <td>0.200000</td>\n",
       "      <td>1.003010</td>\n",
       "    </tr>\n",
       "    <tr>\n",
       "      <th>25</th>\n",
       "      <td>20</td>\n",
       "      <td>0.3</td>\n",
       "      <td>0.299940</td>\n",
       "      <td>1.000120</td>\n",
       "    </tr>\n",
       "    <tr>\n",
       "      <th>26</th>\n",
       "      <td>20</td>\n",
       "      <td>0.4</td>\n",
       "      <td>0.400000</td>\n",
       "      <td>1.000240</td>\n",
       "    </tr>\n",
       "    <tr>\n",
       "      <th>27</th>\n",
       "      <td>20</td>\n",
       "      <td>0.5</td>\n",
       "      <td>0.500000</td>\n",
       "      <td>1.014975</td>\n",
       "    </tr>\n",
       "    <tr>\n",
       "      <th>28</th>\n",
       "      <td>20</td>\n",
       "      <td>0.6</td>\n",
       "      <td>0.599162</td>\n",
       "      <td>1.166713</td>\n",
       "    </tr>\n",
       "    <tr>\n",
       "      <th>29</th>\n",
       "      <td>20</td>\n",
       "      <td>0.7</td>\n",
       "      <td>0.681493</td>\n",
       "      <td>1.346455</td>\n",
       "    </tr>\n",
       "    <tr>\n",
       "      <th>30</th>\n",
       "      <td>20</td>\n",
       "      <td>0.8</td>\n",
       "      <td>0.787570</td>\n",
       "      <td>2.043078</td>\n",
       "    </tr>\n",
       "    <tr>\n",
       "      <th>31</th>\n",
       "      <td>20</td>\n",
       "      <td>0.9</td>\n",
       "      <td>0.896785</td>\n",
       "      <td>4.437962</td>\n",
       "    </tr>\n",
       "    <tr>\n",
       "      <th>32</th>\n",
       "      <td>50</td>\n",
       "      <td>0.2</td>\n",
       "      <td>0.200000</td>\n",
       "      <td>1.000000</td>\n",
       "    </tr>\n",
       "    <tr>\n",
       "      <th>33</th>\n",
       "      <td>50</td>\n",
       "      <td>0.3</td>\n",
       "      <td>0.299940</td>\n",
       "      <td>1.000000</td>\n",
       "    </tr>\n",
       "    <tr>\n",
       "      <th>34</th>\n",
       "      <td>50</td>\n",
       "      <td>0.4</td>\n",
       "      <td>0.400000</td>\n",
       "      <td>1.000000</td>\n",
       "    </tr>\n",
       "    <tr>\n",
       "      <th>35</th>\n",
       "      <td>50</td>\n",
       "      <td>0.5</td>\n",
       "      <td>0.500000</td>\n",
       "      <td>1.014050</td>\n",
       "    </tr>\n",
       "    <tr>\n",
       "      <th>36</th>\n",
       "      <td>50</td>\n",
       "      <td>0.6</td>\n",
       "      <td>0.593021</td>\n",
       "      <td>1.133611</td>\n",
       "    </tr>\n",
       "    <tr>\n",
       "      <th>37</th>\n",
       "      <td>50</td>\n",
       "      <td>0.7</td>\n",
       "      <td>0.654855</td>\n",
       "      <td>1.244615</td>\n",
       "    </tr>\n",
       "    <tr>\n",
       "      <th>38</th>\n",
       "      <td>50</td>\n",
       "      <td>0.8</td>\n",
       "      <td>0.705626</td>\n",
       "      <td>1.346086</td>\n",
       "    </tr>\n",
       "    <tr>\n",
       "      <th>39</th>\n",
       "      <td>50</td>\n",
       "      <td>0.9</td>\n",
       "      <td>0.873949</td>\n",
       "      <td>3.177258</td>\n",
       "    </tr>\n",
       "  </tbody>\n",
       "</table>\n",
       "</div>"
      ],
      "text/plain": [
       "     p  maxAlpha  avgAlpha     avgP*\n",
       "0    1       0.2  0.199992  1.668595\n",
       "1    1       0.3  0.299868  1.630612\n",
       "2    1       0.4  0.399936  1.530059\n",
       "3    1       0.5  0.499925  1.580294\n",
       "4    1       0.6  0.599808  1.578393\n",
       "5    1       0.7  0.699790  1.687594\n",
       "6    1       0.8  0.799936  1.884030\n",
       "7    1       0.9  0.899038  2.133624\n",
       "8    5       0.2  0.199988  1.172852\n",
       "9    5       0.3  0.299940  1.109989\n",
       "10   5       0.4  0.400000  1.074612\n",
       "11   5       0.5  0.499900  1.093593\n",
       "12   5       0.6  0.599664  1.203436\n",
       "13   5       0.7  0.699008  1.350532\n",
       "14   5       0.8  0.798979  1.961979\n",
       "15   5       0.9  0.897027  3.964655\n",
       "16  10       0.2  0.199984  1.045200\n",
       "17  10       0.3  0.299940  1.015076\n",
       "18  10       0.4  0.400000  1.009698\n",
       "19  10       0.5  0.499675  1.026541\n",
       "20  10       0.6  0.599377  1.169029\n",
       "21  10       0.7  0.698279  1.377283\n",
       "22  10       0.8  0.798596  2.151855\n",
       "23  10       0.9  0.896949  4.340574\n",
       "24  20       0.2  0.200000  1.003010\n",
       "25  20       0.3  0.299940  1.000120\n",
       "26  20       0.4  0.400000  1.000240\n",
       "27  20       0.5  0.500000  1.014975\n",
       "28  20       0.6  0.599162  1.166713\n",
       "29  20       0.7  0.681493  1.346455\n",
       "30  20       0.8  0.787570  2.043078\n",
       "31  20       0.9  0.896785  4.437962\n",
       "32  50       0.2  0.200000  1.000000\n",
       "33  50       0.3  0.299940  1.000000\n",
       "34  50       0.4  0.400000  1.000000\n",
       "35  50       0.5  0.500000  1.014050\n",
       "36  50       0.6  0.593021  1.133611\n",
       "37  50       0.7  0.654855  1.244615\n",
       "38  50       0.8  0.705626  1.346086\n",
       "39  50       0.9  0.873949  3.177258"
      ]
     },
     "execution_count": 64,
     "metadata": {},
     "output_type": "execute_result"
    }
   ],
   "source": [
    "data = []\n",
    "\n",
    "for p in test_ps:\n",
    "    for alpha in test_alphas:\n",
    "        alphas = []\n",
    "        p_stars = []\n",
    "\n",
    "        for _ in range(10):\n",
    "            linear_hashing = LinearHashing(p, alpha)\n",
    "            keys = generate_keys(p*1000)\n",
    "            for key in keys:\n",
    "                linear_hashing.insert(key)\n",
    "\n",
    "            alphas.append(linear_hashing.alpha)\n",
    "            p_stars.append(linear_hashing.p_star)\n",
    "\n",
    "        avg_alpha = average(alphas)\n",
    "        avg_p_star = average(p_stars)\n",
    "\n",
    "        data.append([p,alpha,avg_alpha,avg_p_star])\n",
    "\n",
    "data = pd.DataFrame(data, columns=['p', 'maxAlpha','avgAlpha','avgP*']) \n",
    "data"
   ]
  },
  {
   "cell_type": "code",
   "execution_count": 66,
   "metadata": {},
   "outputs": [
    {
     "name": "stdout",
     "output_type": "stream",
     "text": [
      "   maxAlpha  avgAlpha\n",
      "0       0.2  0.199993\n",
      "1       0.3  0.299926\n",
      "2       0.4  0.399987\n",
      "3       0.5  0.499900\n",
      "4       0.6  0.598207\n",
      "5       0.7  0.686685\n",
      "6       0.8  0.778141\n",
      "7       0.9  0.892750\n"
     ]
    },
    {
     "data": {
      "application/vnd.plotly.v1+json": {
       "config": {
        "plotlyServerURL": "https://plot.ly"
       },
       "data": [
        {
         "hovertemplate": "maxAlpha=%{x}<br>avgAlpha=%{y}<extra></extra>",
         "legendgroup": "",
         "line": {
          "color": "#636efa",
          "dash": "solid"
         },
         "marker": {
          "symbol": "circle"
         },
         "mode": "markers+lines",
         "name": "",
         "orientation": "v",
         "showlegend": false,
         "type": "scatter",
         "x": [
          0.2,
          0.3,
          0.4,
          0.5,
          0.6,
          0.7,
          0.8,
          0.9
         ],
         "xaxis": "x",
         "y": [
          0.19999280143971204,
          0.2999256220719874,
          0.3999872051179528,
          0.4999000849076186,
          0.5982066415575409,
          0.6866850999435384,
          0.7781414033051963,
          0.8927496273296194
         ],
         "yaxis": "y"
        }
       ],
       "layout": {
        "legend": {
         "tracegroupgap": 0
        },
        "template": {
         "data": {
          "bar": [
           {
            "error_x": {
             "color": "#2a3f5f"
            },
            "error_y": {
             "color": "#2a3f5f"
            },
            "marker": {
             "line": {
              "color": "#E5ECF6",
              "width": 0.5
             },
             "pattern": {
              "fillmode": "overlay",
              "size": 10,
              "solidity": 0.2
             }
            },
            "type": "bar"
           }
          ],
          "barpolar": [
           {
            "marker": {
             "line": {
              "color": "#E5ECF6",
              "width": 0.5
             },
             "pattern": {
              "fillmode": "overlay",
              "size": 10,
              "solidity": 0.2
             }
            },
            "type": "barpolar"
           }
          ],
          "carpet": [
           {
            "aaxis": {
             "endlinecolor": "#2a3f5f",
             "gridcolor": "white",
             "linecolor": "white",
             "minorgridcolor": "white",
             "startlinecolor": "#2a3f5f"
            },
            "baxis": {
             "endlinecolor": "#2a3f5f",
             "gridcolor": "white",
             "linecolor": "white",
             "minorgridcolor": "white",
             "startlinecolor": "#2a3f5f"
            },
            "type": "carpet"
           }
          ],
          "choropleth": [
           {
            "colorbar": {
             "outlinewidth": 0,
             "ticks": ""
            },
            "type": "choropleth"
           }
          ],
          "contour": [
           {
            "colorbar": {
             "outlinewidth": 0,
             "ticks": ""
            },
            "colorscale": [
             [
              0,
              "#0d0887"
             ],
             [
              0.1111111111111111,
              "#46039f"
             ],
             [
              0.2222222222222222,
              "#7201a8"
             ],
             [
              0.3333333333333333,
              "#9c179e"
             ],
             [
              0.4444444444444444,
              "#bd3786"
             ],
             [
              0.5555555555555556,
              "#d8576b"
             ],
             [
              0.6666666666666666,
              "#ed7953"
             ],
             [
              0.7777777777777778,
              "#fb9f3a"
             ],
             [
              0.8888888888888888,
              "#fdca26"
             ],
             [
              1,
              "#f0f921"
             ]
            ],
            "type": "contour"
           }
          ],
          "contourcarpet": [
           {
            "colorbar": {
             "outlinewidth": 0,
             "ticks": ""
            },
            "type": "contourcarpet"
           }
          ],
          "heatmap": [
           {
            "colorbar": {
             "outlinewidth": 0,
             "ticks": ""
            },
            "colorscale": [
             [
              0,
              "#0d0887"
             ],
             [
              0.1111111111111111,
              "#46039f"
             ],
             [
              0.2222222222222222,
              "#7201a8"
             ],
             [
              0.3333333333333333,
              "#9c179e"
             ],
             [
              0.4444444444444444,
              "#bd3786"
             ],
             [
              0.5555555555555556,
              "#d8576b"
             ],
             [
              0.6666666666666666,
              "#ed7953"
             ],
             [
              0.7777777777777778,
              "#fb9f3a"
             ],
             [
              0.8888888888888888,
              "#fdca26"
             ],
             [
              1,
              "#f0f921"
             ]
            ],
            "type": "heatmap"
           }
          ],
          "heatmapgl": [
           {
            "colorbar": {
             "outlinewidth": 0,
             "ticks": ""
            },
            "colorscale": [
             [
              0,
              "#0d0887"
             ],
             [
              0.1111111111111111,
              "#46039f"
             ],
             [
              0.2222222222222222,
              "#7201a8"
             ],
             [
              0.3333333333333333,
              "#9c179e"
             ],
             [
              0.4444444444444444,
              "#bd3786"
             ],
             [
              0.5555555555555556,
              "#d8576b"
             ],
             [
              0.6666666666666666,
              "#ed7953"
             ],
             [
              0.7777777777777778,
              "#fb9f3a"
             ],
             [
              0.8888888888888888,
              "#fdca26"
             ],
             [
              1,
              "#f0f921"
             ]
            ],
            "type": "heatmapgl"
           }
          ],
          "histogram": [
           {
            "marker": {
             "pattern": {
              "fillmode": "overlay",
              "size": 10,
              "solidity": 0.2
             }
            },
            "type": "histogram"
           }
          ],
          "histogram2d": [
           {
            "colorbar": {
             "outlinewidth": 0,
             "ticks": ""
            },
            "colorscale": [
             [
              0,
              "#0d0887"
             ],
             [
              0.1111111111111111,
              "#46039f"
             ],
             [
              0.2222222222222222,
              "#7201a8"
             ],
             [
              0.3333333333333333,
              "#9c179e"
             ],
             [
              0.4444444444444444,
              "#bd3786"
             ],
             [
              0.5555555555555556,
              "#d8576b"
             ],
             [
              0.6666666666666666,
              "#ed7953"
             ],
             [
              0.7777777777777778,
              "#fb9f3a"
             ],
             [
              0.8888888888888888,
              "#fdca26"
             ],
             [
              1,
              "#f0f921"
             ]
            ],
            "type": "histogram2d"
           }
          ],
          "histogram2dcontour": [
           {
            "colorbar": {
             "outlinewidth": 0,
             "ticks": ""
            },
            "colorscale": [
             [
              0,
              "#0d0887"
             ],
             [
              0.1111111111111111,
              "#46039f"
             ],
             [
              0.2222222222222222,
              "#7201a8"
             ],
             [
              0.3333333333333333,
              "#9c179e"
             ],
             [
              0.4444444444444444,
              "#bd3786"
             ],
             [
              0.5555555555555556,
              "#d8576b"
             ],
             [
              0.6666666666666666,
              "#ed7953"
             ],
             [
              0.7777777777777778,
              "#fb9f3a"
             ],
             [
              0.8888888888888888,
              "#fdca26"
             ],
             [
              1,
              "#f0f921"
             ]
            ],
            "type": "histogram2dcontour"
           }
          ],
          "mesh3d": [
           {
            "colorbar": {
             "outlinewidth": 0,
             "ticks": ""
            },
            "type": "mesh3d"
           }
          ],
          "parcoords": [
           {
            "line": {
             "colorbar": {
              "outlinewidth": 0,
              "ticks": ""
             }
            },
            "type": "parcoords"
           }
          ],
          "pie": [
           {
            "automargin": true,
            "type": "pie"
           }
          ],
          "scatter": [
           {
            "fillpattern": {
             "fillmode": "overlay",
             "size": 10,
             "solidity": 0.2
            },
            "type": "scatter"
           }
          ],
          "scatter3d": [
           {
            "line": {
             "colorbar": {
              "outlinewidth": 0,
              "ticks": ""
             }
            },
            "marker": {
             "colorbar": {
              "outlinewidth": 0,
              "ticks": ""
             }
            },
            "type": "scatter3d"
           }
          ],
          "scattercarpet": [
           {
            "marker": {
             "colorbar": {
              "outlinewidth": 0,
              "ticks": ""
             }
            },
            "type": "scattercarpet"
           }
          ],
          "scattergeo": [
           {
            "marker": {
             "colorbar": {
              "outlinewidth": 0,
              "ticks": ""
             }
            },
            "type": "scattergeo"
           }
          ],
          "scattergl": [
           {
            "marker": {
             "colorbar": {
              "outlinewidth": 0,
              "ticks": ""
             }
            },
            "type": "scattergl"
           }
          ],
          "scattermapbox": [
           {
            "marker": {
             "colorbar": {
              "outlinewidth": 0,
              "ticks": ""
             }
            },
            "type": "scattermapbox"
           }
          ],
          "scatterpolar": [
           {
            "marker": {
             "colorbar": {
              "outlinewidth": 0,
              "ticks": ""
             }
            },
            "type": "scatterpolar"
           }
          ],
          "scatterpolargl": [
           {
            "marker": {
             "colorbar": {
              "outlinewidth": 0,
              "ticks": ""
             }
            },
            "type": "scatterpolargl"
           }
          ],
          "scatterternary": [
           {
            "marker": {
             "colorbar": {
              "outlinewidth": 0,
              "ticks": ""
             }
            },
            "type": "scatterternary"
           }
          ],
          "surface": [
           {
            "colorbar": {
             "outlinewidth": 0,
             "ticks": ""
            },
            "colorscale": [
             [
              0,
              "#0d0887"
             ],
             [
              0.1111111111111111,
              "#46039f"
             ],
             [
              0.2222222222222222,
              "#7201a8"
             ],
             [
              0.3333333333333333,
              "#9c179e"
             ],
             [
              0.4444444444444444,
              "#bd3786"
             ],
             [
              0.5555555555555556,
              "#d8576b"
             ],
             [
              0.6666666666666666,
              "#ed7953"
             ],
             [
              0.7777777777777778,
              "#fb9f3a"
             ],
             [
              0.8888888888888888,
              "#fdca26"
             ],
             [
              1,
              "#f0f921"
             ]
            ],
            "type": "surface"
           }
          ],
          "table": [
           {
            "cells": {
             "fill": {
              "color": "#EBF0F8"
             },
             "line": {
              "color": "white"
             }
            },
            "header": {
             "fill": {
              "color": "#C8D4E3"
             },
             "line": {
              "color": "white"
             }
            },
            "type": "table"
           }
          ]
         },
         "layout": {
          "annotationdefaults": {
           "arrowcolor": "#2a3f5f",
           "arrowhead": 0,
           "arrowwidth": 1
          },
          "autotypenumbers": "strict",
          "coloraxis": {
           "colorbar": {
            "outlinewidth": 0,
            "ticks": ""
           }
          },
          "colorscale": {
           "diverging": [
            [
             0,
             "#8e0152"
            ],
            [
             0.1,
             "#c51b7d"
            ],
            [
             0.2,
             "#de77ae"
            ],
            [
             0.3,
             "#f1b6da"
            ],
            [
             0.4,
             "#fde0ef"
            ],
            [
             0.5,
             "#f7f7f7"
            ],
            [
             0.6,
             "#e6f5d0"
            ],
            [
             0.7,
             "#b8e186"
            ],
            [
             0.8,
             "#7fbc41"
            ],
            [
             0.9,
             "#4d9221"
            ],
            [
             1,
             "#276419"
            ]
           ],
           "sequential": [
            [
             0,
             "#0d0887"
            ],
            [
             0.1111111111111111,
             "#46039f"
            ],
            [
             0.2222222222222222,
             "#7201a8"
            ],
            [
             0.3333333333333333,
             "#9c179e"
            ],
            [
             0.4444444444444444,
             "#bd3786"
            ],
            [
             0.5555555555555556,
             "#d8576b"
            ],
            [
             0.6666666666666666,
             "#ed7953"
            ],
            [
             0.7777777777777778,
             "#fb9f3a"
            ],
            [
             0.8888888888888888,
             "#fdca26"
            ],
            [
             1,
             "#f0f921"
            ]
           ],
           "sequentialminus": [
            [
             0,
             "#0d0887"
            ],
            [
             0.1111111111111111,
             "#46039f"
            ],
            [
             0.2222222222222222,
             "#7201a8"
            ],
            [
             0.3333333333333333,
             "#9c179e"
            ],
            [
             0.4444444444444444,
             "#bd3786"
            ],
            [
             0.5555555555555556,
             "#d8576b"
            ],
            [
             0.6666666666666666,
             "#ed7953"
            ],
            [
             0.7777777777777778,
             "#fb9f3a"
            ],
            [
             0.8888888888888888,
             "#fdca26"
            ],
            [
             1,
             "#f0f921"
            ]
           ]
          },
          "colorway": [
           "#636efa",
           "#EF553B",
           "#00cc96",
           "#ab63fa",
           "#FFA15A",
           "#19d3f3",
           "#FF6692",
           "#B6E880",
           "#FF97FF",
           "#FECB52"
          ],
          "font": {
           "color": "#2a3f5f"
          },
          "geo": {
           "bgcolor": "white",
           "lakecolor": "white",
           "landcolor": "#E5ECF6",
           "showlakes": true,
           "showland": true,
           "subunitcolor": "white"
          },
          "hoverlabel": {
           "align": "left"
          },
          "hovermode": "closest",
          "mapbox": {
           "style": "light"
          },
          "paper_bgcolor": "white",
          "plot_bgcolor": "#E5ECF6",
          "polar": {
           "angularaxis": {
            "gridcolor": "white",
            "linecolor": "white",
            "ticks": ""
           },
           "bgcolor": "#E5ECF6",
           "radialaxis": {
            "gridcolor": "white",
            "linecolor": "white",
            "ticks": ""
           }
          },
          "scene": {
           "xaxis": {
            "backgroundcolor": "#E5ECF6",
            "gridcolor": "white",
            "gridwidth": 2,
            "linecolor": "white",
            "showbackground": true,
            "ticks": "",
            "zerolinecolor": "white"
           },
           "yaxis": {
            "backgroundcolor": "#E5ECF6",
            "gridcolor": "white",
            "gridwidth": 2,
            "linecolor": "white",
            "showbackground": true,
            "ticks": "",
            "zerolinecolor": "white"
           },
           "zaxis": {
            "backgroundcolor": "#E5ECF6",
            "gridcolor": "white",
            "gridwidth": 2,
            "linecolor": "white",
            "showbackground": true,
            "ticks": "",
            "zerolinecolor": "white"
           }
          },
          "shapedefaults": {
           "line": {
            "color": "#2a3f5f"
           }
          },
          "ternary": {
           "aaxis": {
            "gridcolor": "white",
            "linecolor": "white",
            "ticks": ""
           },
           "baxis": {
            "gridcolor": "white",
            "linecolor": "white",
            "ticks": ""
           },
           "bgcolor": "#E5ECF6",
           "caxis": {
            "gridcolor": "white",
            "linecolor": "white",
            "ticks": ""
           }
          },
          "title": {
           "x": 0.05
          },
          "xaxis": {
           "automargin": true,
           "gridcolor": "white",
           "linecolor": "white",
           "ticks": "",
           "title": {
            "standoff": 15
           },
           "zerolinecolor": "white",
           "zerolinewidth": 2
          },
          "yaxis": {
           "automargin": true,
           "gridcolor": "white",
           "linecolor": "white",
           "ticks": "",
           "title": {
            "standoff": 15
           },
           "zerolinecolor": "white",
           "zerolinewidth": 2
          }
         }
        },
        "title": {
         "text": "avgAlpha em funcao do maxAlpha"
        },
        "xaxis": {
         "anchor": "y",
         "domain": [
          0,
          1
         ],
         "title": {
          "text": "maxAlpha"
         }
        },
        "yaxis": {
         "anchor": "x",
         "domain": [
          0,
          1
         ],
         "range": [
          0,
          1
         ],
         "title": {
          "text": "avgAlpha"
         }
        }
       }
      }
     },
     "metadata": {},
     "output_type": "display_data"
    }
   ],
   "source": [
    "linePlot(data,x=\"maxAlpha\",y=\"avgAlpha\",y_range=[0,1])"
   ]
  },
  {
   "cell_type": "code",
   "execution_count": 67,
   "metadata": {},
   "outputs": [
    {
     "name": "stdout",
     "output_type": "stream",
     "text": [
      "    p  avgAlpha\n",
      "0   1  0.549787\n",
      "1   5  0.549313\n",
      "2  10  0.549100\n",
      "3  20  0.545619\n",
      "4  50  0.528424\n"
     ]
    },
    {
     "data": {
      "application/vnd.plotly.v1+json": {
       "config": {
        "plotlyServerURL": "https://plot.ly"
       },
       "data": [
        {
         "hovertemplate": "p=%{x}<br>avgAlpha=%{y}<extra></extra>",
         "legendgroup": "",
         "line": {
          "color": "#636efa",
          "dash": "solid"
         },
         "marker": {
          "symbol": "circle"
         },
         "mode": "markers+lines",
         "name": "",
         "orientation": "v",
         "showlegend": false,
         "type": "scatter",
         "x": [
          1,
          5,
          10,
          20,
          50
         ],
         "xaxis": "x",
         "y": [
          0.5497866898710783,
          0.5493133001994177,
          0.5491001585835804,
          0.5456186969741308,
          0.5284239579175214
         ],
         "yaxis": "y"
        }
       ],
       "layout": {
        "legend": {
         "tracegroupgap": 0
        },
        "template": {
         "data": {
          "bar": [
           {
            "error_x": {
             "color": "#2a3f5f"
            },
            "error_y": {
             "color": "#2a3f5f"
            },
            "marker": {
             "line": {
              "color": "#E5ECF6",
              "width": 0.5
             },
             "pattern": {
              "fillmode": "overlay",
              "size": 10,
              "solidity": 0.2
             }
            },
            "type": "bar"
           }
          ],
          "barpolar": [
           {
            "marker": {
             "line": {
              "color": "#E5ECF6",
              "width": 0.5
             },
             "pattern": {
              "fillmode": "overlay",
              "size": 10,
              "solidity": 0.2
             }
            },
            "type": "barpolar"
           }
          ],
          "carpet": [
           {
            "aaxis": {
             "endlinecolor": "#2a3f5f",
             "gridcolor": "white",
             "linecolor": "white",
             "minorgridcolor": "white",
             "startlinecolor": "#2a3f5f"
            },
            "baxis": {
             "endlinecolor": "#2a3f5f",
             "gridcolor": "white",
             "linecolor": "white",
             "minorgridcolor": "white",
             "startlinecolor": "#2a3f5f"
            },
            "type": "carpet"
           }
          ],
          "choropleth": [
           {
            "colorbar": {
             "outlinewidth": 0,
             "ticks": ""
            },
            "type": "choropleth"
           }
          ],
          "contour": [
           {
            "colorbar": {
             "outlinewidth": 0,
             "ticks": ""
            },
            "colorscale": [
             [
              0,
              "#0d0887"
             ],
             [
              0.1111111111111111,
              "#46039f"
             ],
             [
              0.2222222222222222,
              "#7201a8"
             ],
             [
              0.3333333333333333,
              "#9c179e"
             ],
             [
              0.4444444444444444,
              "#bd3786"
             ],
             [
              0.5555555555555556,
              "#d8576b"
             ],
             [
              0.6666666666666666,
              "#ed7953"
             ],
             [
              0.7777777777777778,
              "#fb9f3a"
             ],
             [
              0.8888888888888888,
              "#fdca26"
             ],
             [
              1,
              "#f0f921"
             ]
            ],
            "type": "contour"
           }
          ],
          "contourcarpet": [
           {
            "colorbar": {
             "outlinewidth": 0,
             "ticks": ""
            },
            "type": "contourcarpet"
           }
          ],
          "heatmap": [
           {
            "colorbar": {
             "outlinewidth": 0,
             "ticks": ""
            },
            "colorscale": [
             [
              0,
              "#0d0887"
             ],
             [
              0.1111111111111111,
              "#46039f"
             ],
             [
              0.2222222222222222,
              "#7201a8"
             ],
             [
              0.3333333333333333,
              "#9c179e"
             ],
             [
              0.4444444444444444,
              "#bd3786"
             ],
             [
              0.5555555555555556,
              "#d8576b"
             ],
             [
              0.6666666666666666,
              "#ed7953"
             ],
             [
              0.7777777777777778,
              "#fb9f3a"
             ],
             [
              0.8888888888888888,
              "#fdca26"
             ],
             [
              1,
              "#f0f921"
             ]
            ],
            "type": "heatmap"
           }
          ],
          "heatmapgl": [
           {
            "colorbar": {
             "outlinewidth": 0,
             "ticks": ""
            },
            "colorscale": [
             [
              0,
              "#0d0887"
             ],
             [
              0.1111111111111111,
              "#46039f"
             ],
             [
              0.2222222222222222,
              "#7201a8"
             ],
             [
              0.3333333333333333,
              "#9c179e"
             ],
             [
              0.4444444444444444,
              "#bd3786"
             ],
             [
              0.5555555555555556,
              "#d8576b"
             ],
             [
              0.6666666666666666,
              "#ed7953"
             ],
             [
              0.7777777777777778,
              "#fb9f3a"
             ],
             [
              0.8888888888888888,
              "#fdca26"
             ],
             [
              1,
              "#f0f921"
             ]
            ],
            "type": "heatmapgl"
           }
          ],
          "histogram": [
           {
            "marker": {
             "pattern": {
              "fillmode": "overlay",
              "size": 10,
              "solidity": 0.2
             }
            },
            "type": "histogram"
           }
          ],
          "histogram2d": [
           {
            "colorbar": {
             "outlinewidth": 0,
             "ticks": ""
            },
            "colorscale": [
             [
              0,
              "#0d0887"
             ],
             [
              0.1111111111111111,
              "#46039f"
             ],
             [
              0.2222222222222222,
              "#7201a8"
             ],
             [
              0.3333333333333333,
              "#9c179e"
             ],
             [
              0.4444444444444444,
              "#bd3786"
             ],
             [
              0.5555555555555556,
              "#d8576b"
             ],
             [
              0.6666666666666666,
              "#ed7953"
             ],
             [
              0.7777777777777778,
              "#fb9f3a"
             ],
             [
              0.8888888888888888,
              "#fdca26"
             ],
             [
              1,
              "#f0f921"
             ]
            ],
            "type": "histogram2d"
           }
          ],
          "histogram2dcontour": [
           {
            "colorbar": {
             "outlinewidth": 0,
             "ticks": ""
            },
            "colorscale": [
             [
              0,
              "#0d0887"
             ],
             [
              0.1111111111111111,
              "#46039f"
             ],
             [
              0.2222222222222222,
              "#7201a8"
             ],
             [
              0.3333333333333333,
              "#9c179e"
             ],
             [
              0.4444444444444444,
              "#bd3786"
             ],
             [
              0.5555555555555556,
              "#d8576b"
             ],
             [
              0.6666666666666666,
              "#ed7953"
             ],
             [
              0.7777777777777778,
              "#fb9f3a"
             ],
             [
              0.8888888888888888,
              "#fdca26"
             ],
             [
              1,
              "#f0f921"
             ]
            ],
            "type": "histogram2dcontour"
           }
          ],
          "mesh3d": [
           {
            "colorbar": {
             "outlinewidth": 0,
             "ticks": ""
            },
            "type": "mesh3d"
           }
          ],
          "parcoords": [
           {
            "line": {
             "colorbar": {
              "outlinewidth": 0,
              "ticks": ""
             }
            },
            "type": "parcoords"
           }
          ],
          "pie": [
           {
            "automargin": true,
            "type": "pie"
           }
          ],
          "scatter": [
           {
            "fillpattern": {
             "fillmode": "overlay",
             "size": 10,
             "solidity": 0.2
            },
            "type": "scatter"
           }
          ],
          "scatter3d": [
           {
            "line": {
             "colorbar": {
              "outlinewidth": 0,
              "ticks": ""
             }
            },
            "marker": {
             "colorbar": {
              "outlinewidth": 0,
              "ticks": ""
             }
            },
            "type": "scatter3d"
           }
          ],
          "scattercarpet": [
           {
            "marker": {
             "colorbar": {
              "outlinewidth": 0,
              "ticks": ""
             }
            },
            "type": "scattercarpet"
           }
          ],
          "scattergeo": [
           {
            "marker": {
             "colorbar": {
              "outlinewidth": 0,
              "ticks": ""
             }
            },
            "type": "scattergeo"
           }
          ],
          "scattergl": [
           {
            "marker": {
             "colorbar": {
              "outlinewidth": 0,
              "ticks": ""
             }
            },
            "type": "scattergl"
           }
          ],
          "scattermapbox": [
           {
            "marker": {
             "colorbar": {
              "outlinewidth": 0,
              "ticks": ""
             }
            },
            "type": "scattermapbox"
           }
          ],
          "scatterpolar": [
           {
            "marker": {
             "colorbar": {
              "outlinewidth": 0,
              "ticks": ""
             }
            },
            "type": "scatterpolar"
           }
          ],
          "scatterpolargl": [
           {
            "marker": {
             "colorbar": {
              "outlinewidth": 0,
              "ticks": ""
             }
            },
            "type": "scatterpolargl"
           }
          ],
          "scatterternary": [
           {
            "marker": {
             "colorbar": {
              "outlinewidth": 0,
              "ticks": ""
             }
            },
            "type": "scatterternary"
           }
          ],
          "surface": [
           {
            "colorbar": {
             "outlinewidth": 0,
             "ticks": ""
            },
            "colorscale": [
             [
              0,
              "#0d0887"
             ],
             [
              0.1111111111111111,
              "#46039f"
             ],
             [
              0.2222222222222222,
              "#7201a8"
             ],
             [
              0.3333333333333333,
              "#9c179e"
             ],
             [
              0.4444444444444444,
              "#bd3786"
             ],
             [
              0.5555555555555556,
              "#d8576b"
             ],
             [
              0.6666666666666666,
              "#ed7953"
             ],
             [
              0.7777777777777778,
              "#fb9f3a"
             ],
             [
              0.8888888888888888,
              "#fdca26"
             ],
             [
              1,
              "#f0f921"
             ]
            ],
            "type": "surface"
           }
          ],
          "table": [
           {
            "cells": {
             "fill": {
              "color": "#EBF0F8"
             },
             "line": {
              "color": "white"
             }
            },
            "header": {
             "fill": {
              "color": "#C8D4E3"
             },
             "line": {
              "color": "white"
             }
            },
            "type": "table"
           }
          ]
         },
         "layout": {
          "annotationdefaults": {
           "arrowcolor": "#2a3f5f",
           "arrowhead": 0,
           "arrowwidth": 1
          },
          "autotypenumbers": "strict",
          "coloraxis": {
           "colorbar": {
            "outlinewidth": 0,
            "ticks": ""
           }
          },
          "colorscale": {
           "diverging": [
            [
             0,
             "#8e0152"
            ],
            [
             0.1,
             "#c51b7d"
            ],
            [
             0.2,
             "#de77ae"
            ],
            [
             0.3,
             "#f1b6da"
            ],
            [
             0.4,
             "#fde0ef"
            ],
            [
             0.5,
             "#f7f7f7"
            ],
            [
             0.6,
             "#e6f5d0"
            ],
            [
             0.7,
             "#b8e186"
            ],
            [
             0.8,
             "#7fbc41"
            ],
            [
             0.9,
             "#4d9221"
            ],
            [
             1,
             "#276419"
            ]
           ],
           "sequential": [
            [
             0,
             "#0d0887"
            ],
            [
             0.1111111111111111,
             "#46039f"
            ],
            [
             0.2222222222222222,
             "#7201a8"
            ],
            [
             0.3333333333333333,
             "#9c179e"
            ],
            [
             0.4444444444444444,
             "#bd3786"
            ],
            [
             0.5555555555555556,
             "#d8576b"
            ],
            [
             0.6666666666666666,
             "#ed7953"
            ],
            [
             0.7777777777777778,
             "#fb9f3a"
            ],
            [
             0.8888888888888888,
             "#fdca26"
            ],
            [
             1,
             "#f0f921"
            ]
           ],
           "sequentialminus": [
            [
             0,
             "#0d0887"
            ],
            [
             0.1111111111111111,
             "#46039f"
            ],
            [
             0.2222222222222222,
             "#7201a8"
            ],
            [
             0.3333333333333333,
             "#9c179e"
            ],
            [
             0.4444444444444444,
             "#bd3786"
            ],
            [
             0.5555555555555556,
             "#d8576b"
            ],
            [
             0.6666666666666666,
             "#ed7953"
            ],
            [
             0.7777777777777778,
             "#fb9f3a"
            ],
            [
             0.8888888888888888,
             "#fdca26"
            ],
            [
             1,
             "#f0f921"
            ]
           ]
          },
          "colorway": [
           "#636efa",
           "#EF553B",
           "#00cc96",
           "#ab63fa",
           "#FFA15A",
           "#19d3f3",
           "#FF6692",
           "#B6E880",
           "#FF97FF",
           "#FECB52"
          ],
          "font": {
           "color": "#2a3f5f"
          },
          "geo": {
           "bgcolor": "white",
           "lakecolor": "white",
           "landcolor": "#E5ECF6",
           "showlakes": true,
           "showland": true,
           "subunitcolor": "white"
          },
          "hoverlabel": {
           "align": "left"
          },
          "hovermode": "closest",
          "mapbox": {
           "style": "light"
          },
          "paper_bgcolor": "white",
          "plot_bgcolor": "#E5ECF6",
          "polar": {
           "angularaxis": {
            "gridcolor": "white",
            "linecolor": "white",
            "ticks": ""
           },
           "bgcolor": "#E5ECF6",
           "radialaxis": {
            "gridcolor": "white",
            "linecolor": "white",
            "ticks": ""
           }
          },
          "scene": {
           "xaxis": {
            "backgroundcolor": "#E5ECF6",
            "gridcolor": "white",
            "gridwidth": 2,
            "linecolor": "white",
            "showbackground": true,
            "ticks": "",
            "zerolinecolor": "white"
           },
           "yaxis": {
            "backgroundcolor": "#E5ECF6",
            "gridcolor": "white",
            "gridwidth": 2,
            "linecolor": "white",
            "showbackground": true,
            "ticks": "",
            "zerolinecolor": "white"
           },
           "zaxis": {
            "backgroundcolor": "#E5ECF6",
            "gridcolor": "white",
            "gridwidth": 2,
            "linecolor": "white",
            "showbackground": true,
            "ticks": "",
            "zerolinecolor": "white"
           }
          },
          "shapedefaults": {
           "line": {
            "color": "#2a3f5f"
           }
          },
          "ternary": {
           "aaxis": {
            "gridcolor": "white",
            "linecolor": "white",
            "ticks": ""
           },
           "baxis": {
            "gridcolor": "white",
            "linecolor": "white",
            "ticks": ""
           },
           "bgcolor": "#E5ECF6",
           "caxis": {
            "gridcolor": "white",
            "linecolor": "white",
            "ticks": ""
           }
          },
          "title": {
           "x": 0.05
          },
          "xaxis": {
           "automargin": true,
           "gridcolor": "white",
           "linecolor": "white",
           "ticks": "",
           "title": {
            "standoff": 15
           },
           "zerolinecolor": "white",
           "zerolinewidth": 2
          },
          "yaxis": {
           "automargin": true,
           "gridcolor": "white",
           "linecolor": "white",
           "ticks": "",
           "title": {
            "standoff": 15
           },
           "zerolinecolor": "white",
           "zerolinewidth": 2
          }
         }
        },
        "title": {
         "text": "avgAlpha em funcao do p"
        },
        "xaxis": {
         "anchor": "y",
         "domain": [
          0,
          1
         ],
         "title": {
          "text": "p"
         }
        },
        "yaxis": {
         "anchor": "x",
         "domain": [
          0,
          1
         ],
         "range": [
          0,
          1
         ],
         "title": {
          "text": "avgAlpha"
         }
        }
       }
      }
     },
     "metadata": {},
     "output_type": "display_data"
    }
   ],
   "source": [
    "linePlot(data,x=\"p\",y=\"avgAlpha\",y_range=[0,1])"
   ]
  },
  {
   "cell_type": "code",
   "execution_count": 68,
   "metadata": {},
   "outputs": [
    {
     "name": "stdout",
     "output_type": "stream",
     "text": [
      "   maxAlpha     avgP*\n",
      "0       0.2  1.177931\n",
      "1       0.3  1.151159\n",
      "2       0.4  1.122922\n",
      "3       0.5  1.145891\n",
      "4       0.6  1.250236\n",
      "5       0.7  1.401296\n",
      "6       0.8  1.877406\n",
      "7       0.9  3.610814\n"
     ]
    },
    {
     "data": {
      "application/vnd.plotly.v1+json": {
       "config": {
        "plotlyServerURL": "https://plot.ly"
       },
       "data": [
        {
         "hovertemplate": "maxAlpha=%{x}<br>avgP*=%{y}<extra></extra>",
         "legendgroup": "",
         "line": {
          "color": "#636efa",
          "dash": "solid"
         },
         "marker": {
          "symbol": "circle"
         },
         "mode": "markers+lines",
         "name": "",
         "orientation": "v",
         "showlegend": false,
         "type": "scatter",
         "x": [
          0.2,
          0.3,
          0.4,
          0.5,
          0.6,
          0.7,
          0.8,
          0.9
         ],
         "xaxis": "x",
         "y": [
          1.177931162945385,
          1.151159283417843,
          1.1229218340210623,
          1.1458907005327905,
          1.2502364203559813,
          1.401296007579739,
          1.8774059176128852,
          3.61081449541942
         ],
         "yaxis": "y"
        }
       ],
       "layout": {
        "legend": {
         "tracegroupgap": 0
        },
        "template": {
         "data": {
          "bar": [
           {
            "error_x": {
             "color": "#2a3f5f"
            },
            "error_y": {
             "color": "#2a3f5f"
            },
            "marker": {
             "line": {
              "color": "#E5ECF6",
              "width": 0.5
             },
             "pattern": {
              "fillmode": "overlay",
              "size": 10,
              "solidity": 0.2
             }
            },
            "type": "bar"
           }
          ],
          "barpolar": [
           {
            "marker": {
             "line": {
              "color": "#E5ECF6",
              "width": 0.5
             },
             "pattern": {
              "fillmode": "overlay",
              "size": 10,
              "solidity": 0.2
             }
            },
            "type": "barpolar"
           }
          ],
          "carpet": [
           {
            "aaxis": {
             "endlinecolor": "#2a3f5f",
             "gridcolor": "white",
             "linecolor": "white",
             "minorgridcolor": "white",
             "startlinecolor": "#2a3f5f"
            },
            "baxis": {
             "endlinecolor": "#2a3f5f",
             "gridcolor": "white",
             "linecolor": "white",
             "minorgridcolor": "white",
             "startlinecolor": "#2a3f5f"
            },
            "type": "carpet"
           }
          ],
          "choropleth": [
           {
            "colorbar": {
             "outlinewidth": 0,
             "ticks": ""
            },
            "type": "choropleth"
           }
          ],
          "contour": [
           {
            "colorbar": {
             "outlinewidth": 0,
             "ticks": ""
            },
            "colorscale": [
             [
              0,
              "#0d0887"
             ],
             [
              0.1111111111111111,
              "#46039f"
             ],
             [
              0.2222222222222222,
              "#7201a8"
             ],
             [
              0.3333333333333333,
              "#9c179e"
             ],
             [
              0.4444444444444444,
              "#bd3786"
             ],
             [
              0.5555555555555556,
              "#d8576b"
             ],
             [
              0.6666666666666666,
              "#ed7953"
             ],
             [
              0.7777777777777778,
              "#fb9f3a"
             ],
             [
              0.8888888888888888,
              "#fdca26"
             ],
             [
              1,
              "#f0f921"
             ]
            ],
            "type": "contour"
           }
          ],
          "contourcarpet": [
           {
            "colorbar": {
             "outlinewidth": 0,
             "ticks": ""
            },
            "type": "contourcarpet"
           }
          ],
          "heatmap": [
           {
            "colorbar": {
             "outlinewidth": 0,
             "ticks": ""
            },
            "colorscale": [
             [
              0,
              "#0d0887"
             ],
             [
              0.1111111111111111,
              "#46039f"
             ],
             [
              0.2222222222222222,
              "#7201a8"
             ],
             [
              0.3333333333333333,
              "#9c179e"
             ],
             [
              0.4444444444444444,
              "#bd3786"
             ],
             [
              0.5555555555555556,
              "#d8576b"
             ],
             [
              0.6666666666666666,
              "#ed7953"
             ],
             [
              0.7777777777777778,
              "#fb9f3a"
             ],
             [
              0.8888888888888888,
              "#fdca26"
             ],
             [
              1,
              "#f0f921"
             ]
            ],
            "type": "heatmap"
           }
          ],
          "heatmapgl": [
           {
            "colorbar": {
             "outlinewidth": 0,
             "ticks": ""
            },
            "colorscale": [
             [
              0,
              "#0d0887"
             ],
             [
              0.1111111111111111,
              "#46039f"
             ],
             [
              0.2222222222222222,
              "#7201a8"
             ],
             [
              0.3333333333333333,
              "#9c179e"
             ],
             [
              0.4444444444444444,
              "#bd3786"
             ],
             [
              0.5555555555555556,
              "#d8576b"
             ],
             [
              0.6666666666666666,
              "#ed7953"
             ],
             [
              0.7777777777777778,
              "#fb9f3a"
             ],
             [
              0.8888888888888888,
              "#fdca26"
             ],
             [
              1,
              "#f0f921"
             ]
            ],
            "type": "heatmapgl"
           }
          ],
          "histogram": [
           {
            "marker": {
             "pattern": {
              "fillmode": "overlay",
              "size": 10,
              "solidity": 0.2
             }
            },
            "type": "histogram"
           }
          ],
          "histogram2d": [
           {
            "colorbar": {
             "outlinewidth": 0,
             "ticks": ""
            },
            "colorscale": [
             [
              0,
              "#0d0887"
             ],
             [
              0.1111111111111111,
              "#46039f"
             ],
             [
              0.2222222222222222,
              "#7201a8"
             ],
             [
              0.3333333333333333,
              "#9c179e"
             ],
             [
              0.4444444444444444,
              "#bd3786"
             ],
             [
              0.5555555555555556,
              "#d8576b"
             ],
             [
              0.6666666666666666,
              "#ed7953"
             ],
             [
              0.7777777777777778,
              "#fb9f3a"
             ],
             [
              0.8888888888888888,
              "#fdca26"
             ],
             [
              1,
              "#f0f921"
             ]
            ],
            "type": "histogram2d"
           }
          ],
          "histogram2dcontour": [
           {
            "colorbar": {
             "outlinewidth": 0,
             "ticks": ""
            },
            "colorscale": [
             [
              0,
              "#0d0887"
             ],
             [
              0.1111111111111111,
              "#46039f"
             ],
             [
              0.2222222222222222,
              "#7201a8"
             ],
             [
              0.3333333333333333,
              "#9c179e"
             ],
             [
              0.4444444444444444,
              "#bd3786"
             ],
             [
              0.5555555555555556,
              "#d8576b"
             ],
             [
              0.6666666666666666,
              "#ed7953"
             ],
             [
              0.7777777777777778,
              "#fb9f3a"
             ],
             [
              0.8888888888888888,
              "#fdca26"
             ],
             [
              1,
              "#f0f921"
             ]
            ],
            "type": "histogram2dcontour"
           }
          ],
          "mesh3d": [
           {
            "colorbar": {
             "outlinewidth": 0,
             "ticks": ""
            },
            "type": "mesh3d"
           }
          ],
          "parcoords": [
           {
            "line": {
             "colorbar": {
              "outlinewidth": 0,
              "ticks": ""
             }
            },
            "type": "parcoords"
           }
          ],
          "pie": [
           {
            "automargin": true,
            "type": "pie"
           }
          ],
          "scatter": [
           {
            "fillpattern": {
             "fillmode": "overlay",
             "size": 10,
             "solidity": 0.2
            },
            "type": "scatter"
           }
          ],
          "scatter3d": [
           {
            "line": {
             "colorbar": {
              "outlinewidth": 0,
              "ticks": ""
             }
            },
            "marker": {
             "colorbar": {
              "outlinewidth": 0,
              "ticks": ""
             }
            },
            "type": "scatter3d"
           }
          ],
          "scattercarpet": [
           {
            "marker": {
             "colorbar": {
              "outlinewidth": 0,
              "ticks": ""
             }
            },
            "type": "scattercarpet"
           }
          ],
          "scattergeo": [
           {
            "marker": {
             "colorbar": {
              "outlinewidth": 0,
              "ticks": ""
             }
            },
            "type": "scattergeo"
           }
          ],
          "scattergl": [
           {
            "marker": {
             "colorbar": {
              "outlinewidth": 0,
              "ticks": ""
             }
            },
            "type": "scattergl"
           }
          ],
          "scattermapbox": [
           {
            "marker": {
             "colorbar": {
              "outlinewidth": 0,
              "ticks": ""
             }
            },
            "type": "scattermapbox"
           }
          ],
          "scatterpolar": [
           {
            "marker": {
             "colorbar": {
              "outlinewidth": 0,
              "ticks": ""
             }
            },
            "type": "scatterpolar"
           }
          ],
          "scatterpolargl": [
           {
            "marker": {
             "colorbar": {
              "outlinewidth": 0,
              "ticks": ""
             }
            },
            "type": "scatterpolargl"
           }
          ],
          "scatterternary": [
           {
            "marker": {
             "colorbar": {
              "outlinewidth": 0,
              "ticks": ""
             }
            },
            "type": "scatterternary"
           }
          ],
          "surface": [
           {
            "colorbar": {
             "outlinewidth": 0,
             "ticks": ""
            },
            "colorscale": [
             [
              0,
              "#0d0887"
             ],
             [
              0.1111111111111111,
              "#46039f"
             ],
             [
              0.2222222222222222,
              "#7201a8"
             ],
             [
              0.3333333333333333,
              "#9c179e"
             ],
             [
              0.4444444444444444,
              "#bd3786"
             ],
             [
              0.5555555555555556,
              "#d8576b"
             ],
             [
              0.6666666666666666,
              "#ed7953"
             ],
             [
              0.7777777777777778,
              "#fb9f3a"
             ],
             [
              0.8888888888888888,
              "#fdca26"
             ],
             [
              1,
              "#f0f921"
             ]
            ],
            "type": "surface"
           }
          ],
          "table": [
           {
            "cells": {
             "fill": {
              "color": "#EBF0F8"
             },
             "line": {
              "color": "white"
             }
            },
            "header": {
             "fill": {
              "color": "#C8D4E3"
             },
             "line": {
              "color": "white"
             }
            },
            "type": "table"
           }
          ]
         },
         "layout": {
          "annotationdefaults": {
           "arrowcolor": "#2a3f5f",
           "arrowhead": 0,
           "arrowwidth": 1
          },
          "autotypenumbers": "strict",
          "coloraxis": {
           "colorbar": {
            "outlinewidth": 0,
            "ticks": ""
           }
          },
          "colorscale": {
           "diverging": [
            [
             0,
             "#8e0152"
            ],
            [
             0.1,
             "#c51b7d"
            ],
            [
             0.2,
             "#de77ae"
            ],
            [
             0.3,
             "#f1b6da"
            ],
            [
             0.4,
             "#fde0ef"
            ],
            [
             0.5,
             "#f7f7f7"
            ],
            [
             0.6,
             "#e6f5d0"
            ],
            [
             0.7,
             "#b8e186"
            ],
            [
             0.8,
             "#7fbc41"
            ],
            [
             0.9,
             "#4d9221"
            ],
            [
             1,
             "#276419"
            ]
           ],
           "sequential": [
            [
             0,
             "#0d0887"
            ],
            [
             0.1111111111111111,
             "#46039f"
            ],
            [
             0.2222222222222222,
             "#7201a8"
            ],
            [
             0.3333333333333333,
             "#9c179e"
            ],
            [
             0.4444444444444444,
             "#bd3786"
            ],
            [
             0.5555555555555556,
             "#d8576b"
            ],
            [
             0.6666666666666666,
             "#ed7953"
            ],
            [
             0.7777777777777778,
             "#fb9f3a"
            ],
            [
             0.8888888888888888,
             "#fdca26"
            ],
            [
             1,
             "#f0f921"
            ]
           ],
           "sequentialminus": [
            [
             0,
             "#0d0887"
            ],
            [
             0.1111111111111111,
             "#46039f"
            ],
            [
             0.2222222222222222,
             "#7201a8"
            ],
            [
             0.3333333333333333,
             "#9c179e"
            ],
            [
             0.4444444444444444,
             "#bd3786"
            ],
            [
             0.5555555555555556,
             "#d8576b"
            ],
            [
             0.6666666666666666,
             "#ed7953"
            ],
            [
             0.7777777777777778,
             "#fb9f3a"
            ],
            [
             0.8888888888888888,
             "#fdca26"
            ],
            [
             1,
             "#f0f921"
            ]
           ]
          },
          "colorway": [
           "#636efa",
           "#EF553B",
           "#00cc96",
           "#ab63fa",
           "#FFA15A",
           "#19d3f3",
           "#FF6692",
           "#B6E880",
           "#FF97FF",
           "#FECB52"
          ],
          "font": {
           "color": "#2a3f5f"
          },
          "geo": {
           "bgcolor": "white",
           "lakecolor": "white",
           "landcolor": "#E5ECF6",
           "showlakes": true,
           "showland": true,
           "subunitcolor": "white"
          },
          "hoverlabel": {
           "align": "left"
          },
          "hovermode": "closest",
          "mapbox": {
           "style": "light"
          },
          "paper_bgcolor": "white",
          "plot_bgcolor": "#E5ECF6",
          "polar": {
           "angularaxis": {
            "gridcolor": "white",
            "linecolor": "white",
            "ticks": ""
           },
           "bgcolor": "#E5ECF6",
           "radialaxis": {
            "gridcolor": "white",
            "linecolor": "white",
            "ticks": ""
           }
          },
          "scene": {
           "xaxis": {
            "backgroundcolor": "#E5ECF6",
            "gridcolor": "white",
            "gridwidth": 2,
            "linecolor": "white",
            "showbackground": true,
            "ticks": "",
            "zerolinecolor": "white"
           },
           "yaxis": {
            "backgroundcolor": "#E5ECF6",
            "gridcolor": "white",
            "gridwidth": 2,
            "linecolor": "white",
            "showbackground": true,
            "ticks": "",
            "zerolinecolor": "white"
           },
           "zaxis": {
            "backgroundcolor": "#E5ECF6",
            "gridcolor": "white",
            "gridwidth": 2,
            "linecolor": "white",
            "showbackground": true,
            "ticks": "",
            "zerolinecolor": "white"
           }
          },
          "shapedefaults": {
           "line": {
            "color": "#2a3f5f"
           }
          },
          "ternary": {
           "aaxis": {
            "gridcolor": "white",
            "linecolor": "white",
            "ticks": ""
           },
           "baxis": {
            "gridcolor": "white",
            "linecolor": "white",
            "ticks": ""
           },
           "bgcolor": "#E5ECF6",
           "caxis": {
            "gridcolor": "white",
            "linecolor": "white",
            "ticks": ""
           }
          },
          "title": {
           "x": 0.05
          },
          "xaxis": {
           "automargin": true,
           "gridcolor": "white",
           "linecolor": "white",
           "ticks": "",
           "title": {
            "standoff": 15
           },
           "zerolinecolor": "white",
           "zerolinewidth": 2
          },
          "yaxis": {
           "automargin": true,
           "gridcolor": "white",
           "linecolor": "white",
           "ticks": "",
           "title": {
            "standoff": 15
           },
           "zerolinecolor": "white",
           "zerolinewidth": 2
          }
         }
        },
        "title": {
         "text": "avgP* em funcao do maxAlpha"
        },
        "xaxis": {
         "anchor": "y",
         "domain": [
          0,
          1
         ],
         "title": {
          "text": "maxAlpha"
         }
        },
        "yaxis": {
         "anchor": "x",
         "domain": [
          0,
          1
         ],
         "range": [
          0,
          4
         ],
         "title": {
          "text": "avgP*"
         }
        }
       }
      }
     },
     "metadata": {},
     "output_type": "display_data"
    }
   ],
   "source": [
    "linePlot(data,x=\"maxAlpha\",y=\"avgP*\",y_range=[0,4])"
   ]
  },
  {
   "cell_type": "code",
   "execution_count": 69,
   "metadata": {},
   "outputs": [
    {
     "name": "stdout",
     "output_type": "stream",
     "text": [
      "    p     avgP*\n",
      "0   1  1.711650\n",
      "1   5  1.616456\n",
      "2  10  1.641907\n",
      "3  20  1.626569\n",
      "4  50  1.364453\n"
     ]
    },
    {
     "data": {
      "application/vnd.plotly.v1+json": {
       "config": {
        "plotlyServerURL": "https://plot.ly"
       },
       "data": [
        {
         "hovertemplate": "p=%{x}<br>avgP*=%{y}<extra></extra>",
         "legendgroup": "",
         "line": {
          "color": "#636efa",
          "dash": "solid"
         },
         "marker": {
          "symbol": "circle"
         },
         "mode": "markers+lines",
         "name": "",
         "orientation": "v",
         "showlegend": false,
         "type": "scatter",
         "x": [
          1,
          5,
          10,
          20,
          50
         ],
         "xaxis": "x",
         "y": [
          1.7116501546058052,
          1.6164560120138085,
          1.6419070619715113,
          1.6265690918323323,
          1.364452568254734
         ],
         "yaxis": "y"
        }
       ],
       "layout": {
        "legend": {
         "tracegroupgap": 0
        },
        "template": {
         "data": {
          "bar": [
           {
            "error_x": {
             "color": "#2a3f5f"
            },
            "error_y": {
             "color": "#2a3f5f"
            },
            "marker": {
             "line": {
              "color": "#E5ECF6",
              "width": 0.5
             },
             "pattern": {
              "fillmode": "overlay",
              "size": 10,
              "solidity": 0.2
             }
            },
            "type": "bar"
           }
          ],
          "barpolar": [
           {
            "marker": {
             "line": {
              "color": "#E5ECF6",
              "width": 0.5
             },
             "pattern": {
              "fillmode": "overlay",
              "size": 10,
              "solidity": 0.2
             }
            },
            "type": "barpolar"
           }
          ],
          "carpet": [
           {
            "aaxis": {
             "endlinecolor": "#2a3f5f",
             "gridcolor": "white",
             "linecolor": "white",
             "minorgridcolor": "white",
             "startlinecolor": "#2a3f5f"
            },
            "baxis": {
             "endlinecolor": "#2a3f5f",
             "gridcolor": "white",
             "linecolor": "white",
             "minorgridcolor": "white",
             "startlinecolor": "#2a3f5f"
            },
            "type": "carpet"
           }
          ],
          "choropleth": [
           {
            "colorbar": {
             "outlinewidth": 0,
             "ticks": ""
            },
            "type": "choropleth"
           }
          ],
          "contour": [
           {
            "colorbar": {
             "outlinewidth": 0,
             "ticks": ""
            },
            "colorscale": [
             [
              0,
              "#0d0887"
             ],
             [
              0.1111111111111111,
              "#46039f"
             ],
             [
              0.2222222222222222,
              "#7201a8"
             ],
             [
              0.3333333333333333,
              "#9c179e"
             ],
             [
              0.4444444444444444,
              "#bd3786"
             ],
             [
              0.5555555555555556,
              "#d8576b"
             ],
             [
              0.6666666666666666,
              "#ed7953"
             ],
             [
              0.7777777777777778,
              "#fb9f3a"
             ],
             [
              0.8888888888888888,
              "#fdca26"
             ],
             [
              1,
              "#f0f921"
             ]
            ],
            "type": "contour"
           }
          ],
          "contourcarpet": [
           {
            "colorbar": {
             "outlinewidth": 0,
             "ticks": ""
            },
            "type": "contourcarpet"
           }
          ],
          "heatmap": [
           {
            "colorbar": {
             "outlinewidth": 0,
             "ticks": ""
            },
            "colorscale": [
             [
              0,
              "#0d0887"
             ],
             [
              0.1111111111111111,
              "#46039f"
             ],
             [
              0.2222222222222222,
              "#7201a8"
             ],
             [
              0.3333333333333333,
              "#9c179e"
             ],
             [
              0.4444444444444444,
              "#bd3786"
             ],
             [
              0.5555555555555556,
              "#d8576b"
             ],
             [
              0.6666666666666666,
              "#ed7953"
             ],
             [
              0.7777777777777778,
              "#fb9f3a"
             ],
             [
              0.8888888888888888,
              "#fdca26"
             ],
             [
              1,
              "#f0f921"
             ]
            ],
            "type": "heatmap"
           }
          ],
          "heatmapgl": [
           {
            "colorbar": {
             "outlinewidth": 0,
             "ticks": ""
            },
            "colorscale": [
             [
              0,
              "#0d0887"
             ],
             [
              0.1111111111111111,
              "#46039f"
             ],
             [
              0.2222222222222222,
              "#7201a8"
             ],
             [
              0.3333333333333333,
              "#9c179e"
             ],
             [
              0.4444444444444444,
              "#bd3786"
             ],
             [
              0.5555555555555556,
              "#d8576b"
             ],
             [
              0.6666666666666666,
              "#ed7953"
             ],
             [
              0.7777777777777778,
              "#fb9f3a"
             ],
             [
              0.8888888888888888,
              "#fdca26"
             ],
             [
              1,
              "#f0f921"
             ]
            ],
            "type": "heatmapgl"
           }
          ],
          "histogram": [
           {
            "marker": {
             "pattern": {
              "fillmode": "overlay",
              "size": 10,
              "solidity": 0.2
             }
            },
            "type": "histogram"
           }
          ],
          "histogram2d": [
           {
            "colorbar": {
             "outlinewidth": 0,
             "ticks": ""
            },
            "colorscale": [
             [
              0,
              "#0d0887"
             ],
             [
              0.1111111111111111,
              "#46039f"
             ],
             [
              0.2222222222222222,
              "#7201a8"
             ],
             [
              0.3333333333333333,
              "#9c179e"
             ],
             [
              0.4444444444444444,
              "#bd3786"
             ],
             [
              0.5555555555555556,
              "#d8576b"
             ],
             [
              0.6666666666666666,
              "#ed7953"
             ],
             [
              0.7777777777777778,
              "#fb9f3a"
             ],
             [
              0.8888888888888888,
              "#fdca26"
             ],
             [
              1,
              "#f0f921"
             ]
            ],
            "type": "histogram2d"
           }
          ],
          "histogram2dcontour": [
           {
            "colorbar": {
             "outlinewidth": 0,
             "ticks": ""
            },
            "colorscale": [
             [
              0,
              "#0d0887"
             ],
             [
              0.1111111111111111,
              "#46039f"
             ],
             [
              0.2222222222222222,
              "#7201a8"
             ],
             [
              0.3333333333333333,
              "#9c179e"
             ],
             [
              0.4444444444444444,
              "#bd3786"
             ],
             [
              0.5555555555555556,
              "#d8576b"
             ],
             [
              0.6666666666666666,
              "#ed7953"
             ],
             [
              0.7777777777777778,
              "#fb9f3a"
             ],
             [
              0.8888888888888888,
              "#fdca26"
             ],
             [
              1,
              "#f0f921"
             ]
            ],
            "type": "histogram2dcontour"
           }
          ],
          "mesh3d": [
           {
            "colorbar": {
             "outlinewidth": 0,
             "ticks": ""
            },
            "type": "mesh3d"
           }
          ],
          "parcoords": [
           {
            "line": {
             "colorbar": {
              "outlinewidth": 0,
              "ticks": ""
             }
            },
            "type": "parcoords"
           }
          ],
          "pie": [
           {
            "automargin": true,
            "type": "pie"
           }
          ],
          "scatter": [
           {
            "fillpattern": {
             "fillmode": "overlay",
             "size": 10,
             "solidity": 0.2
            },
            "type": "scatter"
           }
          ],
          "scatter3d": [
           {
            "line": {
             "colorbar": {
              "outlinewidth": 0,
              "ticks": ""
             }
            },
            "marker": {
             "colorbar": {
              "outlinewidth": 0,
              "ticks": ""
             }
            },
            "type": "scatter3d"
           }
          ],
          "scattercarpet": [
           {
            "marker": {
             "colorbar": {
              "outlinewidth": 0,
              "ticks": ""
             }
            },
            "type": "scattercarpet"
           }
          ],
          "scattergeo": [
           {
            "marker": {
             "colorbar": {
              "outlinewidth": 0,
              "ticks": ""
             }
            },
            "type": "scattergeo"
           }
          ],
          "scattergl": [
           {
            "marker": {
             "colorbar": {
              "outlinewidth": 0,
              "ticks": ""
             }
            },
            "type": "scattergl"
           }
          ],
          "scattermapbox": [
           {
            "marker": {
             "colorbar": {
              "outlinewidth": 0,
              "ticks": ""
             }
            },
            "type": "scattermapbox"
           }
          ],
          "scatterpolar": [
           {
            "marker": {
             "colorbar": {
              "outlinewidth": 0,
              "ticks": ""
             }
            },
            "type": "scatterpolar"
           }
          ],
          "scatterpolargl": [
           {
            "marker": {
             "colorbar": {
              "outlinewidth": 0,
              "ticks": ""
             }
            },
            "type": "scatterpolargl"
           }
          ],
          "scatterternary": [
           {
            "marker": {
             "colorbar": {
              "outlinewidth": 0,
              "ticks": ""
             }
            },
            "type": "scatterternary"
           }
          ],
          "surface": [
           {
            "colorbar": {
             "outlinewidth": 0,
             "ticks": ""
            },
            "colorscale": [
             [
              0,
              "#0d0887"
             ],
             [
              0.1111111111111111,
              "#46039f"
             ],
             [
              0.2222222222222222,
              "#7201a8"
             ],
             [
              0.3333333333333333,
              "#9c179e"
             ],
             [
              0.4444444444444444,
              "#bd3786"
             ],
             [
              0.5555555555555556,
              "#d8576b"
             ],
             [
              0.6666666666666666,
              "#ed7953"
             ],
             [
              0.7777777777777778,
              "#fb9f3a"
             ],
             [
              0.8888888888888888,
              "#fdca26"
             ],
             [
              1,
              "#f0f921"
             ]
            ],
            "type": "surface"
           }
          ],
          "table": [
           {
            "cells": {
             "fill": {
              "color": "#EBF0F8"
             },
             "line": {
              "color": "white"
             }
            },
            "header": {
             "fill": {
              "color": "#C8D4E3"
             },
             "line": {
              "color": "white"
             }
            },
            "type": "table"
           }
          ]
         },
         "layout": {
          "annotationdefaults": {
           "arrowcolor": "#2a3f5f",
           "arrowhead": 0,
           "arrowwidth": 1
          },
          "autotypenumbers": "strict",
          "coloraxis": {
           "colorbar": {
            "outlinewidth": 0,
            "ticks": ""
           }
          },
          "colorscale": {
           "diverging": [
            [
             0,
             "#8e0152"
            ],
            [
             0.1,
             "#c51b7d"
            ],
            [
             0.2,
             "#de77ae"
            ],
            [
             0.3,
             "#f1b6da"
            ],
            [
             0.4,
             "#fde0ef"
            ],
            [
             0.5,
             "#f7f7f7"
            ],
            [
             0.6,
             "#e6f5d0"
            ],
            [
             0.7,
             "#b8e186"
            ],
            [
             0.8,
             "#7fbc41"
            ],
            [
             0.9,
             "#4d9221"
            ],
            [
             1,
             "#276419"
            ]
           ],
           "sequential": [
            [
             0,
             "#0d0887"
            ],
            [
             0.1111111111111111,
             "#46039f"
            ],
            [
             0.2222222222222222,
             "#7201a8"
            ],
            [
             0.3333333333333333,
             "#9c179e"
            ],
            [
             0.4444444444444444,
             "#bd3786"
            ],
            [
             0.5555555555555556,
             "#d8576b"
            ],
            [
             0.6666666666666666,
             "#ed7953"
            ],
            [
             0.7777777777777778,
             "#fb9f3a"
            ],
            [
             0.8888888888888888,
             "#fdca26"
            ],
            [
             1,
             "#f0f921"
            ]
           ],
           "sequentialminus": [
            [
             0,
             "#0d0887"
            ],
            [
             0.1111111111111111,
             "#46039f"
            ],
            [
             0.2222222222222222,
             "#7201a8"
            ],
            [
             0.3333333333333333,
             "#9c179e"
            ],
            [
             0.4444444444444444,
             "#bd3786"
            ],
            [
             0.5555555555555556,
             "#d8576b"
            ],
            [
             0.6666666666666666,
             "#ed7953"
            ],
            [
             0.7777777777777778,
             "#fb9f3a"
            ],
            [
             0.8888888888888888,
             "#fdca26"
            ],
            [
             1,
             "#f0f921"
            ]
           ]
          },
          "colorway": [
           "#636efa",
           "#EF553B",
           "#00cc96",
           "#ab63fa",
           "#FFA15A",
           "#19d3f3",
           "#FF6692",
           "#B6E880",
           "#FF97FF",
           "#FECB52"
          ],
          "font": {
           "color": "#2a3f5f"
          },
          "geo": {
           "bgcolor": "white",
           "lakecolor": "white",
           "landcolor": "#E5ECF6",
           "showlakes": true,
           "showland": true,
           "subunitcolor": "white"
          },
          "hoverlabel": {
           "align": "left"
          },
          "hovermode": "closest",
          "mapbox": {
           "style": "light"
          },
          "paper_bgcolor": "white",
          "plot_bgcolor": "#E5ECF6",
          "polar": {
           "angularaxis": {
            "gridcolor": "white",
            "linecolor": "white",
            "ticks": ""
           },
           "bgcolor": "#E5ECF6",
           "radialaxis": {
            "gridcolor": "white",
            "linecolor": "white",
            "ticks": ""
           }
          },
          "scene": {
           "xaxis": {
            "backgroundcolor": "#E5ECF6",
            "gridcolor": "white",
            "gridwidth": 2,
            "linecolor": "white",
            "showbackground": true,
            "ticks": "",
            "zerolinecolor": "white"
           },
           "yaxis": {
            "backgroundcolor": "#E5ECF6",
            "gridcolor": "white",
            "gridwidth": 2,
            "linecolor": "white",
            "showbackground": true,
            "ticks": "",
            "zerolinecolor": "white"
           },
           "zaxis": {
            "backgroundcolor": "#E5ECF6",
            "gridcolor": "white",
            "gridwidth": 2,
            "linecolor": "white",
            "showbackground": true,
            "ticks": "",
            "zerolinecolor": "white"
           }
          },
          "shapedefaults": {
           "line": {
            "color": "#2a3f5f"
           }
          },
          "ternary": {
           "aaxis": {
            "gridcolor": "white",
            "linecolor": "white",
            "ticks": ""
           },
           "baxis": {
            "gridcolor": "white",
            "linecolor": "white",
            "ticks": ""
           },
           "bgcolor": "#E5ECF6",
           "caxis": {
            "gridcolor": "white",
            "linecolor": "white",
            "ticks": ""
           }
          },
          "title": {
           "x": 0.05
          },
          "xaxis": {
           "automargin": true,
           "gridcolor": "white",
           "linecolor": "white",
           "ticks": "",
           "title": {
            "standoff": 15
           },
           "zerolinecolor": "white",
           "zerolinewidth": 2
          },
          "yaxis": {
           "automargin": true,
           "gridcolor": "white",
           "linecolor": "white",
           "ticks": "",
           "title": {
            "standoff": 15
           },
           "zerolinecolor": "white",
           "zerolinewidth": 2
          }
         }
        },
        "title": {
         "text": "avgP* em funcao do p"
        },
        "xaxis": {
         "anchor": "y",
         "domain": [
          0,
          1
         ],
         "title": {
          "text": "p"
         }
        },
        "yaxis": {
         "anchor": "x",
         "domain": [
          0,
          1
         ],
         "range": [
          1,
          2
         ],
         "title": {
          "text": "avgP*"
         }
        }
       }
      }
     },
     "metadata": {},
     "output_type": "display_data"
    }
   ],
   "source": [
    "linePlot(data,x=\"p\",y=\"avgP*\",y_range=[1,2])"
   ]
  },
  {
   "attachments": {},
   "cell_type": "markdown",
   "metadata": {},
   "source": [
    "# Desempenho quanto ao número médio de acessos\n"
   ]
  },
  {
   "cell_type": "code",
   "execution_count": 77,
   "metadata": {},
   "outputs": [
    {
     "data": {
      "text/html": [
       "<div>\n",
       "<style scoped>\n",
       "    .dataframe tbody tr th:only-of-type {\n",
       "        vertical-align: middle;\n",
       "    }\n",
       "\n",
       "    .dataframe tbody tr th {\n",
       "        vertical-align: top;\n",
       "    }\n",
       "\n",
       "    .dataframe thead th {\n",
       "        text-align: right;\n",
       "    }\n",
       "</style>\n",
       "<table border=\"1\" class=\"dataframe\">\n",
       "  <thead>\n",
       "    <tr style=\"text-align: right;\">\n",
       "      <th></th>\n",
       "      <th>p</th>\n",
       "      <th>maxAlpha</th>\n",
       "      <th>avg_accesses</th>\n",
       "      <th>type</th>\n",
       "    </tr>\n",
       "  </thead>\n",
       "  <tbody>\n",
       "    <tr>\n",
       "      <th>0</th>\n",
       "      <td>1</td>\n",
       "      <td>0.2</td>\n",
       "      <td>0.01450</td>\n",
       "      <td>S</td>\n",
       "    </tr>\n",
       "    <tr>\n",
       "      <th>1</th>\n",
       "      <td>1</td>\n",
       "      <td>0.2</td>\n",
       "      <td>1.27050</td>\n",
       "      <td>C</td>\n",
       "    </tr>\n",
       "    <tr>\n",
       "      <th>2</th>\n",
       "      <td>1</td>\n",
       "      <td>0.3</td>\n",
       "      <td>0.01950</td>\n",
       "      <td>S</td>\n",
       "    </tr>\n",
       "    <tr>\n",
       "      <th>3</th>\n",
       "      <td>1</td>\n",
       "      <td>0.3</td>\n",
       "      <td>1.26650</td>\n",
       "      <td>C</td>\n",
       "    </tr>\n",
       "    <tr>\n",
       "      <th>4</th>\n",
       "      <td>1</td>\n",
       "      <td>0.4</td>\n",
       "      <td>0.02300</td>\n",
       "      <td>S</td>\n",
       "    </tr>\n",
       "    <tr>\n",
       "      <th>...</th>\n",
       "      <td>...</td>\n",
       "      <td>...</td>\n",
       "      <td>...</td>\n",
       "      <td>...</td>\n",
       "    </tr>\n",
       "    <tr>\n",
       "      <th>75</th>\n",
       "      <td>50</td>\n",
       "      <td>0.7</td>\n",
       "      <td>22.49581</td>\n",
       "      <td>C</td>\n",
       "    </tr>\n",
       "    <tr>\n",
       "      <th>76</th>\n",
       "      <td>50</td>\n",
       "      <td>0.8</td>\n",
       "      <td>47.56692</td>\n",
       "      <td>S</td>\n",
       "    </tr>\n",
       "    <tr>\n",
       "      <th>77</th>\n",
       "      <td>50</td>\n",
       "      <td>0.8</td>\n",
       "      <td>24.50298</td>\n",
       "      <td>C</td>\n",
       "    </tr>\n",
       "    <tr>\n",
       "      <th>78</th>\n",
       "      <td>50</td>\n",
       "      <td>0.9</td>\n",
       "      <td>137.97664</td>\n",
       "      <td>S</td>\n",
       "    </tr>\n",
       "    <tr>\n",
       "      <th>79</th>\n",
       "      <td>50</td>\n",
       "      <td>0.9</td>\n",
       "      <td>69.75575</td>\n",
       "      <td>C</td>\n",
       "    </tr>\n",
       "  </tbody>\n",
       "</table>\n",
       "<p>80 rows × 4 columns</p>\n",
       "</div>"
      ],
      "text/plain": [
       "     p  maxAlpha  avg_accesses type\n",
       "0    1       0.2       0.01450    S\n",
       "1    1       0.2       1.27050    C\n",
       "2    1       0.3       0.01950    S\n",
       "3    1       0.3       1.26650    C\n",
       "4    1       0.4       0.02300    S\n",
       "..  ..       ...           ...  ...\n",
       "75  50       0.7      22.49581    C\n",
       "76  50       0.8      47.56692    S\n",
       "77  50       0.8      24.50298    C\n",
       "78  50       0.9     137.97664    S\n",
       "79  50       0.9      69.75575    C\n",
       "\n",
       "[80 rows x 4 columns]"
      ]
     },
     "execution_count": 77,
     "metadata": {},
     "output_type": "execute_result"
    }
   ],
   "source": [
    "\n",
    "data = []\n",
    "\n",
    "for p in test_ps:\n",
    "    for alpha in test_alphas:\n",
    "        S_avg_accesses = []\n",
    "        C_avg_accesses = []\n",
    "\n",
    "        for _ in range(10):\n",
    "            linear_hashing = LinearHashing(p, alpha)\n",
    "\n",
    "            size = p * 1000\n",
    "            sample_size = ceil(size * 0.20)\n",
    "\n",
    "            random_keys = generate_keys(size+sample_size)\n",
    "\n",
    "            keys = random_keys[sample_size:]\n",
    "            \n",
    "            for key in keys:\n",
    "                linear_hashing.insert(key)\n",
    "\n",
    "            S_sample = random_keys[:sample_size]\n",
    "            C_sample = sample(keys, sample_size)\n",
    "\n",
    "            S_sample_search_accesses = []\n",
    "            C_sample_search_accesses = []\n",
    "            for i in range(sample_size):\n",
    "                S_sample_search_accesses.append(linear_hashing.search(S_sample[i])[1])\n",
    "                C_sample_search_accesses.append(linear_hashing.search(C_sample[i])[1])\n",
    "\n",
    "            S_avg_accesses.append(average(S_sample_search_accesses))\n",
    "            C_avg_accesses.append(average(C_sample_search_accesses))\n",
    "            \n",
    "\n",
    "        data.append([p,alpha, average(S_avg_accesses), \"S\"])\n",
    "        data.append([p,alpha, average(C_avg_accesses), \"C\"])\n",
    "\n",
    "\n",
    "data = pd.DataFrame(data, columns=['p', 'maxAlpha','avg_accesses','type']) \n",
    "data\n"
   ]
  },
  {
   "cell_type": "code",
   "execution_count": 79,
   "metadata": {},
   "outputs": [
    {
     "data": {
      "application/vnd.plotly.v1+json": {
       "config": {
        "plotlyServerURL": "https://plot.ly"
       },
       "data": [
        {
         "hovertemplate": "type=C<br>p=%{x}<br>avg_accesses=%{y}<extra></extra>",
         "legendgroup": "C",
         "line": {
          "color": "#636efa",
          "dash": "solid"
         },
         "marker": {
          "symbol": "circle"
         },
         "mode": "markers+lines",
         "name": "C",
         "orientation": "v",
         "showlegend": true,
         "type": "scatter",
         "x": [
          1,
          5,
          10,
          20,
          50
         ],
         "xaxis": "x",
         "y": [
          1.5938124999999999,
          3.7386375,
          6.59629375,
          12.19791875,
          22.094455
         ],
         "yaxis": "y"
        },
        {
         "hovertemplate": "type=S<br>p=%{x}<br>avg_accesses=%{y}<extra></extra>",
         "legendgroup": "S",
         "line": {
          "color": "#EF553B",
          "dash": "solid"
         },
         "marker": {
          "symbol": "circle"
         },
         "mode": "markers+lines",
         "name": "S",
         "orientation": "v",
         "showlegend": true,
         "type": "scatter",
         "x": [
          1,
          5,
          10,
          20,
          50
         ],
         "xaxis": "x",
         "y": [
          0.604625,
          5.4687125000000005,
          11.18855,
          22.607856249999998,
          42.65982625
         ],
         "yaxis": "y"
        }
       ],
       "layout": {
        "legend": {
         "title": {
          "text": "type"
         },
         "tracegroupgap": 0
        },
        "template": {
         "data": {
          "bar": [
           {
            "error_x": {
             "color": "#2a3f5f"
            },
            "error_y": {
             "color": "#2a3f5f"
            },
            "marker": {
             "line": {
              "color": "#E5ECF6",
              "width": 0.5
             },
             "pattern": {
              "fillmode": "overlay",
              "size": 10,
              "solidity": 0.2
             }
            },
            "type": "bar"
           }
          ],
          "barpolar": [
           {
            "marker": {
             "line": {
              "color": "#E5ECF6",
              "width": 0.5
             },
             "pattern": {
              "fillmode": "overlay",
              "size": 10,
              "solidity": 0.2
             }
            },
            "type": "barpolar"
           }
          ],
          "carpet": [
           {
            "aaxis": {
             "endlinecolor": "#2a3f5f",
             "gridcolor": "white",
             "linecolor": "white",
             "minorgridcolor": "white",
             "startlinecolor": "#2a3f5f"
            },
            "baxis": {
             "endlinecolor": "#2a3f5f",
             "gridcolor": "white",
             "linecolor": "white",
             "minorgridcolor": "white",
             "startlinecolor": "#2a3f5f"
            },
            "type": "carpet"
           }
          ],
          "choropleth": [
           {
            "colorbar": {
             "outlinewidth": 0,
             "ticks": ""
            },
            "type": "choropleth"
           }
          ],
          "contour": [
           {
            "colorbar": {
             "outlinewidth": 0,
             "ticks": ""
            },
            "colorscale": [
             [
              0,
              "#0d0887"
             ],
             [
              0.1111111111111111,
              "#46039f"
             ],
             [
              0.2222222222222222,
              "#7201a8"
             ],
             [
              0.3333333333333333,
              "#9c179e"
             ],
             [
              0.4444444444444444,
              "#bd3786"
             ],
             [
              0.5555555555555556,
              "#d8576b"
             ],
             [
              0.6666666666666666,
              "#ed7953"
             ],
             [
              0.7777777777777778,
              "#fb9f3a"
             ],
             [
              0.8888888888888888,
              "#fdca26"
             ],
             [
              1,
              "#f0f921"
             ]
            ],
            "type": "contour"
           }
          ],
          "contourcarpet": [
           {
            "colorbar": {
             "outlinewidth": 0,
             "ticks": ""
            },
            "type": "contourcarpet"
           }
          ],
          "heatmap": [
           {
            "colorbar": {
             "outlinewidth": 0,
             "ticks": ""
            },
            "colorscale": [
             [
              0,
              "#0d0887"
             ],
             [
              0.1111111111111111,
              "#46039f"
             ],
             [
              0.2222222222222222,
              "#7201a8"
             ],
             [
              0.3333333333333333,
              "#9c179e"
             ],
             [
              0.4444444444444444,
              "#bd3786"
             ],
             [
              0.5555555555555556,
              "#d8576b"
             ],
             [
              0.6666666666666666,
              "#ed7953"
             ],
             [
              0.7777777777777778,
              "#fb9f3a"
             ],
             [
              0.8888888888888888,
              "#fdca26"
             ],
             [
              1,
              "#f0f921"
             ]
            ],
            "type": "heatmap"
           }
          ],
          "heatmapgl": [
           {
            "colorbar": {
             "outlinewidth": 0,
             "ticks": ""
            },
            "colorscale": [
             [
              0,
              "#0d0887"
             ],
             [
              0.1111111111111111,
              "#46039f"
             ],
             [
              0.2222222222222222,
              "#7201a8"
             ],
             [
              0.3333333333333333,
              "#9c179e"
             ],
             [
              0.4444444444444444,
              "#bd3786"
             ],
             [
              0.5555555555555556,
              "#d8576b"
             ],
             [
              0.6666666666666666,
              "#ed7953"
             ],
             [
              0.7777777777777778,
              "#fb9f3a"
             ],
             [
              0.8888888888888888,
              "#fdca26"
             ],
             [
              1,
              "#f0f921"
             ]
            ],
            "type": "heatmapgl"
           }
          ],
          "histogram": [
           {
            "marker": {
             "pattern": {
              "fillmode": "overlay",
              "size": 10,
              "solidity": 0.2
             }
            },
            "type": "histogram"
           }
          ],
          "histogram2d": [
           {
            "colorbar": {
             "outlinewidth": 0,
             "ticks": ""
            },
            "colorscale": [
             [
              0,
              "#0d0887"
             ],
             [
              0.1111111111111111,
              "#46039f"
             ],
             [
              0.2222222222222222,
              "#7201a8"
             ],
             [
              0.3333333333333333,
              "#9c179e"
             ],
             [
              0.4444444444444444,
              "#bd3786"
             ],
             [
              0.5555555555555556,
              "#d8576b"
             ],
             [
              0.6666666666666666,
              "#ed7953"
             ],
             [
              0.7777777777777778,
              "#fb9f3a"
             ],
             [
              0.8888888888888888,
              "#fdca26"
             ],
             [
              1,
              "#f0f921"
             ]
            ],
            "type": "histogram2d"
           }
          ],
          "histogram2dcontour": [
           {
            "colorbar": {
             "outlinewidth": 0,
             "ticks": ""
            },
            "colorscale": [
             [
              0,
              "#0d0887"
             ],
             [
              0.1111111111111111,
              "#46039f"
             ],
             [
              0.2222222222222222,
              "#7201a8"
             ],
             [
              0.3333333333333333,
              "#9c179e"
             ],
             [
              0.4444444444444444,
              "#bd3786"
             ],
             [
              0.5555555555555556,
              "#d8576b"
             ],
             [
              0.6666666666666666,
              "#ed7953"
             ],
             [
              0.7777777777777778,
              "#fb9f3a"
             ],
             [
              0.8888888888888888,
              "#fdca26"
             ],
             [
              1,
              "#f0f921"
             ]
            ],
            "type": "histogram2dcontour"
           }
          ],
          "mesh3d": [
           {
            "colorbar": {
             "outlinewidth": 0,
             "ticks": ""
            },
            "type": "mesh3d"
           }
          ],
          "parcoords": [
           {
            "line": {
             "colorbar": {
              "outlinewidth": 0,
              "ticks": ""
             }
            },
            "type": "parcoords"
           }
          ],
          "pie": [
           {
            "automargin": true,
            "type": "pie"
           }
          ],
          "scatter": [
           {
            "fillpattern": {
             "fillmode": "overlay",
             "size": 10,
             "solidity": 0.2
            },
            "type": "scatter"
           }
          ],
          "scatter3d": [
           {
            "line": {
             "colorbar": {
              "outlinewidth": 0,
              "ticks": ""
             }
            },
            "marker": {
             "colorbar": {
              "outlinewidth": 0,
              "ticks": ""
             }
            },
            "type": "scatter3d"
           }
          ],
          "scattercarpet": [
           {
            "marker": {
             "colorbar": {
              "outlinewidth": 0,
              "ticks": ""
             }
            },
            "type": "scattercarpet"
           }
          ],
          "scattergeo": [
           {
            "marker": {
             "colorbar": {
              "outlinewidth": 0,
              "ticks": ""
             }
            },
            "type": "scattergeo"
           }
          ],
          "scattergl": [
           {
            "marker": {
             "colorbar": {
              "outlinewidth": 0,
              "ticks": ""
             }
            },
            "type": "scattergl"
           }
          ],
          "scattermapbox": [
           {
            "marker": {
             "colorbar": {
              "outlinewidth": 0,
              "ticks": ""
             }
            },
            "type": "scattermapbox"
           }
          ],
          "scatterpolar": [
           {
            "marker": {
             "colorbar": {
              "outlinewidth": 0,
              "ticks": ""
             }
            },
            "type": "scatterpolar"
           }
          ],
          "scatterpolargl": [
           {
            "marker": {
             "colorbar": {
              "outlinewidth": 0,
              "ticks": ""
             }
            },
            "type": "scatterpolargl"
           }
          ],
          "scatterternary": [
           {
            "marker": {
             "colorbar": {
              "outlinewidth": 0,
              "ticks": ""
             }
            },
            "type": "scatterternary"
           }
          ],
          "surface": [
           {
            "colorbar": {
             "outlinewidth": 0,
             "ticks": ""
            },
            "colorscale": [
             [
              0,
              "#0d0887"
             ],
             [
              0.1111111111111111,
              "#46039f"
             ],
             [
              0.2222222222222222,
              "#7201a8"
             ],
             [
              0.3333333333333333,
              "#9c179e"
             ],
             [
              0.4444444444444444,
              "#bd3786"
             ],
             [
              0.5555555555555556,
              "#d8576b"
             ],
             [
              0.6666666666666666,
              "#ed7953"
             ],
             [
              0.7777777777777778,
              "#fb9f3a"
             ],
             [
              0.8888888888888888,
              "#fdca26"
             ],
             [
              1,
              "#f0f921"
             ]
            ],
            "type": "surface"
           }
          ],
          "table": [
           {
            "cells": {
             "fill": {
              "color": "#EBF0F8"
             },
             "line": {
              "color": "white"
             }
            },
            "header": {
             "fill": {
              "color": "#C8D4E3"
             },
             "line": {
              "color": "white"
             }
            },
            "type": "table"
           }
          ]
         },
         "layout": {
          "annotationdefaults": {
           "arrowcolor": "#2a3f5f",
           "arrowhead": 0,
           "arrowwidth": 1
          },
          "autotypenumbers": "strict",
          "coloraxis": {
           "colorbar": {
            "outlinewidth": 0,
            "ticks": ""
           }
          },
          "colorscale": {
           "diverging": [
            [
             0,
             "#8e0152"
            ],
            [
             0.1,
             "#c51b7d"
            ],
            [
             0.2,
             "#de77ae"
            ],
            [
             0.3,
             "#f1b6da"
            ],
            [
             0.4,
             "#fde0ef"
            ],
            [
             0.5,
             "#f7f7f7"
            ],
            [
             0.6,
             "#e6f5d0"
            ],
            [
             0.7,
             "#b8e186"
            ],
            [
             0.8,
             "#7fbc41"
            ],
            [
             0.9,
             "#4d9221"
            ],
            [
             1,
             "#276419"
            ]
           ],
           "sequential": [
            [
             0,
             "#0d0887"
            ],
            [
             0.1111111111111111,
             "#46039f"
            ],
            [
             0.2222222222222222,
             "#7201a8"
            ],
            [
             0.3333333333333333,
             "#9c179e"
            ],
            [
             0.4444444444444444,
             "#bd3786"
            ],
            [
             0.5555555555555556,
             "#d8576b"
            ],
            [
             0.6666666666666666,
             "#ed7953"
            ],
            [
             0.7777777777777778,
             "#fb9f3a"
            ],
            [
             0.8888888888888888,
             "#fdca26"
            ],
            [
             1,
             "#f0f921"
            ]
           ],
           "sequentialminus": [
            [
             0,
             "#0d0887"
            ],
            [
             0.1111111111111111,
             "#46039f"
            ],
            [
             0.2222222222222222,
             "#7201a8"
            ],
            [
             0.3333333333333333,
             "#9c179e"
            ],
            [
             0.4444444444444444,
             "#bd3786"
            ],
            [
             0.5555555555555556,
             "#d8576b"
            ],
            [
             0.6666666666666666,
             "#ed7953"
            ],
            [
             0.7777777777777778,
             "#fb9f3a"
            ],
            [
             0.8888888888888888,
             "#fdca26"
            ],
            [
             1,
             "#f0f921"
            ]
           ]
          },
          "colorway": [
           "#636efa",
           "#EF553B",
           "#00cc96",
           "#ab63fa",
           "#FFA15A",
           "#19d3f3",
           "#FF6692",
           "#B6E880",
           "#FF97FF",
           "#FECB52"
          ],
          "font": {
           "color": "#2a3f5f"
          },
          "geo": {
           "bgcolor": "white",
           "lakecolor": "white",
           "landcolor": "#E5ECF6",
           "showlakes": true,
           "showland": true,
           "subunitcolor": "white"
          },
          "hoverlabel": {
           "align": "left"
          },
          "hovermode": "closest",
          "mapbox": {
           "style": "light"
          },
          "paper_bgcolor": "white",
          "plot_bgcolor": "#E5ECF6",
          "polar": {
           "angularaxis": {
            "gridcolor": "white",
            "linecolor": "white",
            "ticks": ""
           },
           "bgcolor": "#E5ECF6",
           "radialaxis": {
            "gridcolor": "white",
            "linecolor": "white",
            "ticks": ""
           }
          },
          "scene": {
           "xaxis": {
            "backgroundcolor": "#E5ECF6",
            "gridcolor": "white",
            "gridwidth": 2,
            "linecolor": "white",
            "showbackground": true,
            "ticks": "",
            "zerolinecolor": "white"
           },
           "yaxis": {
            "backgroundcolor": "#E5ECF6",
            "gridcolor": "white",
            "gridwidth": 2,
            "linecolor": "white",
            "showbackground": true,
            "ticks": "",
            "zerolinecolor": "white"
           },
           "zaxis": {
            "backgroundcolor": "#E5ECF6",
            "gridcolor": "white",
            "gridwidth": 2,
            "linecolor": "white",
            "showbackground": true,
            "ticks": "",
            "zerolinecolor": "white"
           }
          },
          "shapedefaults": {
           "line": {
            "color": "#2a3f5f"
           }
          },
          "ternary": {
           "aaxis": {
            "gridcolor": "white",
            "linecolor": "white",
            "ticks": ""
           },
           "baxis": {
            "gridcolor": "white",
            "linecolor": "white",
            "ticks": ""
           },
           "bgcolor": "#E5ECF6",
           "caxis": {
            "gridcolor": "white",
            "linecolor": "white",
            "ticks": ""
           }
          },
          "title": {
           "x": 0.05
          },
          "xaxis": {
           "automargin": true,
           "gridcolor": "white",
           "linecolor": "white",
           "ticks": "",
           "title": {
            "standoff": 15
           },
           "zerolinecolor": "white",
           "zerolinewidth": 2
          },
          "yaxis": {
           "automargin": true,
           "gridcolor": "white",
           "linecolor": "white",
           "ticks": "",
           "title": {
            "standoff": 15
           },
           "zerolinecolor": "white",
           "zerolinewidth": 2
          }
         }
        },
        "title": {
         "text": "avg_accesses em funcao do p"
        },
        "xaxis": {
         "anchor": "y",
         "domain": [
          0,
          1
         ],
         "title": {
          "text": "p"
         }
        },
        "yaxis": {
         "anchor": "x",
         "domain": [
          0,
          1
         ],
         "range": [
          0,
          60
         ],
         "title": {
          "text": "avg_accesses"
         }
        }
       }
      }
     },
     "metadata": {},
     "output_type": "display_data"
    }
   ],
   "source": [
    "linePlot(data,x=\"p\",y=\"avg_accesses\",y_range=[0,60], color=\"type\")"
   ]
  },
  {
   "cell_type": "code",
   "execution_count": 78,
   "metadata": {},
   "outputs": [
    {
     "data": {
      "application/vnd.plotly.v1+json": {
       "config": {
        "plotlyServerURL": "https://plot.ly"
       },
       "data": [
        {
         "hovertemplate": "type=C<br>maxAlpha=%{x}<br>avg_accesses=%{y}<extra></extra>",
         "legendgroup": "C",
         "line": {
          "color": "#636efa",
          "dash": "solid"
         },
         "marker": {
          "symbol": "circle"
         },
         "mode": "markers+lines",
         "name": "C",
         "orientation": "v",
         "showlegend": true,
         "type": "scatter",
         "x": [
          0.2,
          0.3,
          0.4,
          0.5,
          0.6,
          0.7,
          0.8,
          0.9
         ],
         "xaxis": "x",
         "y": [
          2.8201,
          3.8293909999999998,
          4.71406,
          5.491365,
          7.548784,
          8.758906999999999,
          11.936786000000001,
          28.854395
         ],
         "yaxis": "y"
        },
        {
         "hovertemplate": "type=S<br>maxAlpha=%{x}<br>avg_accesses=%{y}<extra></extra>",
         "legendgroup": "S",
         "line": {
          "color": "#EF553B",
          "dash": "solid"
         },
         "marker": {
          "symbol": "circle"
         },
         "mode": "markers+lines",
         "name": "S",
         "orientation": "v",
         "showlegend": true,
         "type": "scatter",
         "x": [
          0.2,
          0.3,
          0.4,
          0.5,
          0.6,
          0.7,
          0.8,
          0.9
         ],
         "xaxis": "x",
         "y": [
          3.6684010000000002,
          5.663776,
          7.333337,
          9.000364999999999,
          13.050521,
          15.513630000000001,
          21.940704,
          55.876577999999995
         ],
         "yaxis": "y"
        }
       ],
       "layout": {
        "legend": {
         "title": {
          "text": "type"
         },
         "tracegroupgap": 0
        },
        "template": {
         "data": {
          "bar": [
           {
            "error_x": {
             "color": "#2a3f5f"
            },
            "error_y": {
             "color": "#2a3f5f"
            },
            "marker": {
             "line": {
              "color": "#E5ECF6",
              "width": 0.5
             },
             "pattern": {
              "fillmode": "overlay",
              "size": 10,
              "solidity": 0.2
             }
            },
            "type": "bar"
           }
          ],
          "barpolar": [
           {
            "marker": {
             "line": {
              "color": "#E5ECF6",
              "width": 0.5
             },
             "pattern": {
              "fillmode": "overlay",
              "size": 10,
              "solidity": 0.2
             }
            },
            "type": "barpolar"
           }
          ],
          "carpet": [
           {
            "aaxis": {
             "endlinecolor": "#2a3f5f",
             "gridcolor": "white",
             "linecolor": "white",
             "minorgridcolor": "white",
             "startlinecolor": "#2a3f5f"
            },
            "baxis": {
             "endlinecolor": "#2a3f5f",
             "gridcolor": "white",
             "linecolor": "white",
             "minorgridcolor": "white",
             "startlinecolor": "#2a3f5f"
            },
            "type": "carpet"
           }
          ],
          "choropleth": [
           {
            "colorbar": {
             "outlinewidth": 0,
             "ticks": ""
            },
            "type": "choropleth"
           }
          ],
          "contour": [
           {
            "colorbar": {
             "outlinewidth": 0,
             "ticks": ""
            },
            "colorscale": [
             [
              0,
              "#0d0887"
             ],
             [
              0.1111111111111111,
              "#46039f"
             ],
             [
              0.2222222222222222,
              "#7201a8"
             ],
             [
              0.3333333333333333,
              "#9c179e"
             ],
             [
              0.4444444444444444,
              "#bd3786"
             ],
             [
              0.5555555555555556,
              "#d8576b"
             ],
             [
              0.6666666666666666,
              "#ed7953"
             ],
             [
              0.7777777777777778,
              "#fb9f3a"
             ],
             [
              0.8888888888888888,
              "#fdca26"
             ],
             [
              1,
              "#f0f921"
             ]
            ],
            "type": "contour"
           }
          ],
          "contourcarpet": [
           {
            "colorbar": {
             "outlinewidth": 0,
             "ticks": ""
            },
            "type": "contourcarpet"
           }
          ],
          "heatmap": [
           {
            "colorbar": {
             "outlinewidth": 0,
             "ticks": ""
            },
            "colorscale": [
             [
              0,
              "#0d0887"
             ],
             [
              0.1111111111111111,
              "#46039f"
             ],
             [
              0.2222222222222222,
              "#7201a8"
             ],
             [
              0.3333333333333333,
              "#9c179e"
             ],
             [
              0.4444444444444444,
              "#bd3786"
             ],
             [
              0.5555555555555556,
              "#d8576b"
             ],
             [
              0.6666666666666666,
              "#ed7953"
             ],
             [
              0.7777777777777778,
              "#fb9f3a"
             ],
             [
              0.8888888888888888,
              "#fdca26"
             ],
             [
              1,
              "#f0f921"
             ]
            ],
            "type": "heatmap"
           }
          ],
          "heatmapgl": [
           {
            "colorbar": {
             "outlinewidth": 0,
             "ticks": ""
            },
            "colorscale": [
             [
              0,
              "#0d0887"
             ],
             [
              0.1111111111111111,
              "#46039f"
             ],
             [
              0.2222222222222222,
              "#7201a8"
             ],
             [
              0.3333333333333333,
              "#9c179e"
             ],
             [
              0.4444444444444444,
              "#bd3786"
             ],
             [
              0.5555555555555556,
              "#d8576b"
             ],
             [
              0.6666666666666666,
              "#ed7953"
             ],
             [
              0.7777777777777778,
              "#fb9f3a"
             ],
             [
              0.8888888888888888,
              "#fdca26"
             ],
             [
              1,
              "#f0f921"
             ]
            ],
            "type": "heatmapgl"
           }
          ],
          "histogram": [
           {
            "marker": {
             "pattern": {
              "fillmode": "overlay",
              "size": 10,
              "solidity": 0.2
             }
            },
            "type": "histogram"
           }
          ],
          "histogram2d": [
           {
            "colorbar": {
             "outlinewidth": 0,
             "ticks": ""
            },
            "colorscale": [
             [
              0,
              "#0d0887"
             ],
             [
              0.1111111111111111,
              "#46039f"
             ],
             [
              0.2222222222222222,
              "#7201a8"
             ],
             [
              0.3333333333333333,
              "#9c179e"
             ],
             [
              0.4444444444444444,
              "#bd3786"
             ],
             [
              0.5555555555555556,
              "#d8576b"
             ],
             [
              0.6666666666666666,
              "#ed7953"
             ],
             [
              0.7777777777777778,
              "#fb9f3a"
             ],
             [
              0.8888888888888888,
              "#fdca26"
             ],
             [
              1,
              "#f0f921"
             ]
            ],
            "type": "histogram2d"
           }
          ],
          "histogram2dcontour": [
           {
            "colorbar": {
             "outlinewidth": 0,
             "ticks": ""
            },
            "colorscale": [
             [
              0,
              "#0d0887"
             ],
             [
              0.1111111111111111,
              "#46039f"
             ],
             [
              0.2222222222222222,
              "#7201a8"
             ],
             [
              0.3333333333333333,
              "#9c179e"
             ],
             [
              0.4444444444444444,
              "#bd3786"
             ],
             [
              0.5555555555555556,
              "#d8576b"
             ],
             [
              0.6666666666666666,
              "#ed7953"
             ],
             [
              0.7777777777777778,
              "#fb9f3a"
             ],
             [
              0.8888888888888888,
              "#fdca26"
             ],
             [
              1,
              "#f0f921"
             ]
            ],
            "type": "histogram2dcontour"
           }
          ],
          "mesh3d": [
           {
            "colorbar": {
             "outlinewidth": 0,
             "ticks": ""
            },
            "type": "mesh3d"
           }
          ],
          "parcoords": [
           {
            "line": {
             "colorbar": {
              "outlinewidth": 0,
              "ticks": ""
             }
            },
            "type": "parcoords"
           }
          ],
          "pie": [
           {
            "automargin": true,
            "type": "pie"
           }
          ],
          "scatter": [
           {
            "fillpattern": {
             "fillmode": "overlay",
             "size": 10,
             "solidity": 0.2
            },
            "type": "scatter"
           }
          ],
          "scatter3d": [
           {
            "line": {
             "colorbar": {
              "outlinewidth": 0,
              "ticks": ""
             }
            },
            "marker": {
             "colorbar": {
              "outlinewidth": 0,
              "ticks": ""
             }
            },
            "type": "scatter3d"
           }
          ],
          "scattercarpet": [
           {
            "marker": {
             "colorbar": {
              "outlinewidth": 0,
              "ticks": ""
             }
            },
            "type": "scattercarpet"
           }
          ],
          "scattergeo": [
           {
            "marker": {
             "colorbar": {
              "outlinewidth": 0,
              "ticks": ""
             }
            },
            "type": "scattergeo"
           }
          ],
          "scattergl": [
           {
            "marker": {
             "colorbar": {
              "outlinewidth": 0,
              "ticks": ""
             }
            },
            "type": "scattergl"
           }
          ],
          "scattermapbox": [
           {
            "marker": {
             "colorbar": {
              "outlinewidth": 0,
              "ticks": ""
             }
            },
            "type": "scattermapbox"
           }
          ],
          "scatterpolar": [
           {
            "marker": {
             "colorbar": {
              "outlinewidth": 0,
              "ticks": ""
             }
            },
            "type": "scatterpolar"
           }
          ],
          "scatterpolargl": [
           {
            "marker": {
             "colorbar": {
              "outlinewidth": 0,
              "ticks": ""
             }
            },
            "type": "scatterpolargl"
           }
          ],
          "scatterternary": [
           {
            "marker": {
             "colorbar": {
              "outlinewidth": 0,
              "ticks": ""
             }
            },
            "type": "scatterternary"
           }
          ],
          "surface": [
           {
            "colorbar": {
             "outlinewidth": 0,
             "ticks": ""
            },
            "colorscale": [
             [
              0,
              "#0d0887"
             ],
             [
              0.1111111111111111,
              "#46039f"
             ],
             [
              0.2222222222222222,
              "#7201a8"
             ],
             [
              0.3333333333333333,
              "#9c179e"
             ],
             [
              0.4444444444444444,
              "#bd3786"
             ],
             [
              0.5555555555555556,
              "#d8576b"
             ],
             [
              0.6666666666666666,
              "#ed7953"
             ],
             [
              0.7777777777777778,
              "#fb9f3a"
             ],
             [
              0.8888888888888888,
              "#fdca26"
             ],
             [
              1,
              "#f0f921"
             ]
            ],
            "type": "surface"
           }
          ],
          "table": [
           {
            "cells": {
             "fill": {
              "color": "#EBF0F8"
             },
             "line": {
              "color": "white"
             }
            },
            "header": {
             "fill": {
              "color": "#C8D4E3"
             },
             "line": {
              "color": "white"
             }
            },
            "type": "table"
           }
          ]
         },
         "layout": {
          "annotationdefaults": {
           "arrowcolor": "#2a3f5f",
           "arrowhead": 0,
           "arrowwidth": 1
          },
          "autotypenumbers": "strict",
          "coloraxis": {
           "colorbar": {
            "outlinewidth": 0,
            "ticks": ""
           }
          },
          "colorscale": {
           "diverging": [
            [
             0,
             "#8e0152"
            ],
            [
             0.1,
             "#c51b7d"
            ],
            [
             0.2,
             "#de77ae"
            ],
            [
             0.3,
             "#f1b6da"
            ],
            [
             0.4,
             "#fde0ef"
            ],
            [
             0.5,
             "#f7f7f7"
            ],
            [
             0.6,
             "#e6f5d0"
            ],
            [
             0.7,
             "#b8e186"
            ],
            [
             0.8,
             "#7fbc41"
            ],
            [
             0.9,
             "#4d9221"
            ],
            [
             1,
             "#276419"
            ]
           ],
           "sequential": [
            [
             0,
             "#0d0887"
            ],
            [
             0.1111111111111111,
             "#46039f"
            ],
            [
             0.2222222222222222,
             "#7201a8"
            ],
            [
             0.3333333333333333,
             "#9c179e"
            ],
            [
             0.4444444444444444,
             "#bd3786"
            ],
            [
             0.5555555555555556,
             "#d8576b"
            ],
            [
             0.6666666666666666,
             "#ed7953"
            ],
            [
             0.7777777777777778,
             "#fb9f3a"
            ],
            [
             0.8888888888888888,
             "#fdca26"
            ],
            [
             1,
             "#f0f921"
            ]
           ],
           "sequentialminus": [
            [
             0,
             "#0d0887"
            ],
            [
             0.1111111111111111,
             "#46039f"
            ],
            [
             0.2222222222222222,
             "#7201a8"
            ],
            [
             0.3333333333333333,
             "#9c179e"
            ],
            [
             0.4444444444444444,
             "#bd3786"
            ],
            [
             0.5555555555555556,
             "#d8576b"
            ],
            [
             0.6666666666666666,
             "#ed7953"
            ],
            [
             0.7777777777777778,
             "#fb9f3a"
            ],
            [
             0.8888888888888888,
             "#fdca26"
            ],
            [
             1,
             "#f0f921"
            ]
           ]
          },
          "colorway": [
           "#636efa",
           "#EF553B",
           "#00cc96",
           "#ab63fa",
           "#FFA15A",
           "#19d3f3",
           "#FF6692",
           "#B6E880",
           "#FF97FF",
           "#FECB52"
          ],
          "font": {
           "color": "#2a3f5f"
          },
          "geo": {
           "bgcolor": "white",
           "lakecolor": "white",
           "landcolor": "#E5ECF6",
           "showlakes": true,
           "showland": true,
           "subunitcolor": "white"
          },
          "hoverlabel": {
           "align": "left"
          },
          "hovermode": "closest",
          "mapbox": {
           "style": "light"
          },
          "paper_bgcolor": "white",
          "plot_bgcolor": "#E5ECF6",
          "polar": {
           "angularaxis": {
            "gridcolor": "white",
            "linecolor": "white",
            "ticks": ""
           },
           "bgcolor": "#E5ECF6",
           "radialaxis": {
            "gridcolor": "white",
            "linecolor": "white",
            "ticks": ""
           }
          },
          "scene": {
           "xaxis": {
            "backgroundcolor": "#E5ECF6",
            "gridcolor": "white",
            "gridwidth": 2,
            "linecolor": "white",
            "showbackground": true,
            "ticks": "",
            "zerolinecolor": "white"
           },
           "yaxis": {
            "backgroundcolor": "#E5ECF6",
            "gridcolor": "white",
            "gridwidth": 2,
            "linecolor": "white",
            "showbackground": true,
            "ticks": "",
            "zerolinecolor": "white"
           },
           "zaxis": {
            "backgroundcolor": "#E5ECF6",
            "gridcolor": "white",
            "gridwidth": 2,
            "linecolor": "white",
            "showbackground": true,
            "ticks": "",
            "zerolinecolor": "white"
           }
          },
          "shapedefaults": {
           "line": {
            "color": "#2a3f5f"
           }
          },
          "ternary": {
           "aaxis": {
            "gridcolor": "white",
            "linecolor": "white",
            "ticks": ""
           },
           "baxis": {
            "gridcolor": "white",
            "linecolor": "white",
            "ticks": ""
           },
           "bgcolor": "#E5ECF6",
           "caxis": {
            "gridcolor": "white",
            "linecolor": "white",
            "ticks": ""
           }
          },
          "title": {
           "x": 0.05
          },
          "xaxis": {
           "automargin": true,
           "gridcolor": "white",
           "linecolor": "white",
           "ticks": "",
           "title": {
            "standoff": 15
           },
           "zerolinecolor": "white",
           "zerolinewidth": 2
          },
          "yaxis": {
           "automargin": true,
           "gridcolor": "white",
           "linecolor": "white",
           "ticks": "",
           "title": {
            "standoff": 15
           },
           "zerolinecolor": "white",
           "zerolinewidth": 2
          }
         }
        },
        "title": {
         "text": "avg_accesses em funcao do maxAlpha"
        },
        "xaxis": {
         "anchor": "y",
         "domain": [
          0,
          1
         ],
         "title": {
          "text": "maxAlpha"
         }
        },
        "yaxis": {
         "anchor": "x",
         "domain": [
          0,
          1
         ],
         "range": [
          0,
          60
         ],
         "title": {
          "text": "avg_accesses"
         }
        }
       }
      }
     },
     "metadata": {},
     "output_type": "display_data"
    }
   ],
   "source": [
    "linePlot(data,x=\"maxAlpha\",y=\"avg_accesses\",y_range=[0,60], color=\"type\")"
   ]
  },
  {
   "attachments": {},
   "cell_type": "markdown",
   "metadata": {},
   "source": [
    "# Desempenho durante a inclusão dos n registros\n"
   ]
  },
  {
   "cell_type": "code",
   "execution_count": 9,
   "metadata": {},
   "outputs": [
    {
     "name": "stdout",
     "output_type": "stream",
     "text": [
      "avg i alphas: [0.049999999999999996, 0.09999999999999999, 0.14999999999999997, 0.19999999999999998, 0.25, 0.29999999999999993, 0.35000000000000003, 0.39999999999999997, 0.45000000000000007, 0.5, 0.5499999999999999, 0.5999999999999999, 0.6500000000000001, 0.6766666666666667, 0.725, 0.72, 0.7649999999999999, 0.5999999999999999, 0.6333333333333332, 0.6500000000000001, 0.6825000000000001, 0.6783333333333333, 0.6708333333333334, 0.6799999999999999, 0.6875, 0.6500000000000001, 0.6749999999999999, 0.7000000000000001, 0.7104999999999999, 0.735, 0.7595000000000002, 0.784, 0.792, 0.7989999999999998, 0.7000000000000001, 0.7079999999999999, 0.7276666666666668, 0.7473333333333332, 0.7280000000000002, 0.7466666666666667, 0.7653333333333334, 0.7699999999999999, 0.7166666666666667, 0.7228571428571429, 0.7285714285714285, 0.7338095238095239, 0.7077976190476192, 0.7228571428571429, 0.7262500000000001, 0.7410714285714286, 0.7467857142857144, 0.7150000000000001, 0.7003571428571427, 0.7039285714285713, 0.7093253968253969, 0.7222222222222222, 0.7351190476190477, 0.73765873015873, 0.7503769841269841, 0.7416666666666666, 0.7540277777777779, 0.7577777777777779, 0.7629999999999999, 0.7751111111111111, 0.7781944444444445, 0.781, 0.7928333333333335, 0.8046666666666665, 0.759, 0.7544444444444445, 0.7429898989898989, 0.7454545454545454, 0.7502777777777778, 0.7605555555555557, 0.7640151515151514, 0.7742020202020201, 0.7501666666666665, 0.7549090909090911, 0.7574055944055944, 0.7597202797202797, 0.7618531468531471, 0.7501375291375292, 0.7529976689976691, 0.7557062937062937, 0.7569755244755243, 0.7382167832167834, 0.7412237762237763, 0.7430769230769231, 0.7466308691308692, 0.7482017982017982, 0.744621212121212, 0.7528038628038628, 0.7490634365634367, 0.7332344322344322, 0.7297252747252747, 0.7374065934065934, 0.7404688644688646, 0.7427179487179487, 0.7502967032967034, 0.757875457875458, 0.7589798534798534, 0.7616373626373626, 0.7394871794871795, 0.7466666666666666, 0.7538461538461538, 0.7552014652014651, 0.7564468864468863, 0.7530824175824175, 0.7600554029304029, 0.7670283882783883, 0.7618035714285714, 0.7486666666666667, 0.7553511904761904, 0.7566071428571428, 0.7522916666666666, 0.7539999999999999, 0.7556250000000001, 0.7620833333333333, 0.7685416666666667, 0.7699999999999999, 0.7764166666666665, 0.7828333333333334, 0.7841249999999998, 0.7905000000000001, 0.796875, 0.8032499999999999, 0.8049558823529412, 0.7952941176470587, 0.8015073529411765, 0.8029411764705883, 0.8043014705882351, 0.8104411764705883, 0.8068014705882354, 0.8128676470588235, 0.8090073529411764, 0.8099999999999999, 0.7969281045751633, 0.7937254901960784, 0.7994771241830064, 0.7878912968696249, 0.7935190918472652, 0.7949948400412796, 0.796830237358101, 0.7939071207430339, 0.785204678362573, 0.7863508771929825, 0.787438596491228, 0.7884678362573099, 0.7937953216374268, 0.7947368421052632, 0.7916461988304093, 0.7884444444444443, 0.7899887218045112, 0.7906491228070177, 0.7876253132832082, 0.7927067669172934, 0.790312030075188, 0.7840061517429938, 0.7889682159945318, 0.7939302802460697, 0.7954074960127591, 0.7837012987012987, 0.7885389610389609, 0.7933766233766233, 0.7942857142857143, 0.7958189346884998, 0.7966368341803124, 0.7974071146245059, 0.7847780444193487, 0.7829087144739317, 0.7793712027103331, 0.7839289290419724, 0.7775785055524185, 0.7820731789949181, 0.7831093544137022, 0.7809175983436851, 0.7815234613212874, 0.7859388481084133, 0.7864797760210804, 0.7876126482213439, 0.7856926218708826, 0.7900334650856389, 0.7913243083003954, 0.7956484848484847, 0.7999726613965744, 0.8042968379446641, 0.8086210144927536, 0.7912347826086956, 0.7954434782608697, 0.7967290969899665, 0.800922408026756, 0.8051157190635451, 0.8058126532887403, 0.8064733556298773, 0.8076304347826089, 0.7975692307692307, 0.7953243589743589, 0.7932410256410256, 0.7972472934472935, 0.8012535612535612, 0.8021675213675215, 0.8061584045584047, 0.8067659544159543, 0.807340170940171, 0.8044643874643874, 0.8052193732193732, 0.809128205128205, 0.813037037037037, 0.8169458689458688, 0.8150854700854702, 0.8189668294668294, 0.8195866503866502, 0.8103449328449328, 0.8019556369556369, 0.8000152625152624, 0.8037362637362637, 0.807457264957265, 0.8084935371142267, 0.8061857395478086, 0.8009129440163922, 0.8016301769750045, 0.7961986863711001, 0.7942925561029008, 0.7948914431673051, 0.798440065681445, 0.8019886881955847, 0.8055373107097246, 0.8064652435686919, 0.810002371829958, 0.8074548440065682, 0.8081206896551725, 0.8116190476190475, 0.812247947454844, 0.8128522167487683, 0.8136247947454842, 0.8170870279146142, 0.8205492610837439, 0.8212758620689653, 0.8104022988505747, 0.8056952169076752, 0.8035120504263998, 0.8068461253244346, 0.8101802002224696, 0.8135142751205043, 0.814032258064516, 0.8120645161290323, 0.8153655913978494, 0.8108333333333333, 0.8114254032258064, 0.809643817204301, 0.8128823924731183, 0.8161209677419354, 0.816639112903226, 0.8173064516129033, 0.8205241935483871, 0.8104789833822093, 0.8136449169110458, 0.8168108504398827, 0.8124605938416423, 0.8155975073313784, 0.8137771692254614, 0.8168950894140646, 0.8147105902478294, 0.8102941176470588, 0.8108539438502673, 0.8116784759358289, 0.8074421313980137, 0.8079283804430866, 0.8083956900942196, 0.8114008785332315, 0.8098399435531789, 0.8128282828282828, 0.8106461675579322, 0.8136155674390968, 0.8141339869281046, 0.8146345811051692, 0.8151173499702911, 0.8132461590696884, 0.8138269671504965, 0.8143909685086154, 0.8147950513538748, 0.8153249299719887, 0.8182161531279177, 0.8211073762838467, 0.8218589598001362, 0.8224728341787164, 0.8231939586645469, 0.8236420622302975, 0.8240733590733591, 0.8196138996138995, 0.8201306306306305, 0.8206314886314887, 0.8211164736164737, 0.8239189189189189, 0.8267213642213642, 0.8295238095238096, 0.8300965250965252, 0.8210660660660659, 0.8194499762920817, 0.8221906116642957, 0.8226714872767505, 0.8232566777303619, 0.8238276434329066, 0.822102102102102, 0.8248063853327011, 0.8275106685633, 0.8145572090308931, 0.817210489842069, 0.8198637706532443, 0.82251705146442, 0.8251703322755954, 0.8278236130867709, 0.8282507203559835, 0.8308968887916256, 0.8246963562753038, 0.8251821862348179, 0.8277935222672065, 0.8261133603238866, 0.8287112010796222, 0.8291497975708502, 0.8317408906882591, 0.8321592442645074, 0.8347435897435898, 0.8307692307692307, 0.83125, 0.829628205128205, 0.830076923076923, 0.8326153846153845, 0.831141651031895, 0.8336679174484052, 0.8319505941213258, 0.825951219512195, 0.8244747386759581, 0.8229744483159116, 0.8215408327256031, 0.8182172949002217, 0.8148406891211769, 0.8135647881634096, 0.8140031434631115, 0.8125472708504349, 0.8090752663737817, 0.8114479211138809, 0.8098368360165814, 0.8102931144500604, 0.8087348343658609, 0.8091631572041693, 0.8096677409908317, 0.8100741671211967, 0.8103752533277305, 0.8126972454576096, 0.8150192375874885, 0.8153921710241224, 0.8137994344718308, 0.81431693651815, 0.8147409454942316, 0.8170359904111167, 0.8175280050249716, 0.8161062495531656, 0.8164884129464515, 0.8169445721114073, 0.8173058287628561, 0.8157431953508798, 0.8142446916076846, 0.8112073257150383, 0.8115924829257661, 0.8101134471448995, 0.8088564226912978, 0.8057218998495594, 0.8009227251702968, 0.8013058078472047, 0.7983858440357052, 0.7988171983956311, 0.7977887386819162, 0.799927582485353, 0.8001724868948505, 0.8023062801932367, 0.8012905428282938, 0.8034159819339391, 0.8023186319239383, 0.8026779358058362, 0.8047902461632201, 0.8052092941092566, 0.798671631002077, 0.7991895885828891, 0.8012708114698238, 0.8017108778941735, 0.802208257243693, 0.802561288641266, 0.8013049954301794, 0.8001067702751776, 0.7988334961644232, 0.7990634125990821, 0.7996199392195503, 0.7985607610965827, 0.7957911970612288, 0.7961221848502239, 0.7981325944079265, 0.8001430039656292, 0.8021534135233317, 0.8006900931635353, 0.8011192693768365, 0.8031170730411177, 0.8051148767053992, 0.8040521004983189, 0.8028508686493465, 0.803241059610427, 0.805219485865625, 0.8056594505823617, 0.8045356477633788, 0.8048292581990062, 0.8067922563897353, 0.8087552545804645, 0.8090986449280567, 0.8094341921383938, 0.8113893471918681, 0.8103752013936887, 0.8059426984779925, 0.8078754147812971, 0.8082281914164267, 0.808510078157137, 0.8089075259553618, 0.8091740195431649, 0.811091493523125, 0.8115274860216036, 0.8120615958115958, 0.8091496874687774, 0.8094389942999822, 0.8097816606462555, 0.8116736738720645, 0.8135656870978736, 0.8138938396560483, 0.8111892857420049, 0.8130670387182596, 0.8117918688579066, 0.8093088629620409, 0.8080639300013679, 0.8084459071676054, 0.808765499479005, 0.8106119960531579, 0.8111275791366876, 0.8129710509074529, 0.8148145226782182, 0.8134431903851228, 0.81383784682028, 0.8156708149437492, 0.8145481891558152, 0.8163745303871061, 0.8166924541099798, 0.8185154283379038, 0.8187660755218028, 0.819009734585506, 0.8177819496494634, 0.8165951700044258, 0.8169237823747807, 0.8158149018924881, 0.8146439767129422, 0.81203123993369, 0.8138081135440484, 0.8140947274141466, 0.8144272515143658, 0.8161977455393972, 0.8165707803992742, 0.8183382496209175, 0.8171455912508543, 0.818906680887171, 0.8206677705234874, 0.8196515779712816, 0.81988724001705, 0.8202205030401837, 0.821969374048798, 0.8223418569802649, 0.8226600985221675, 0.8244030224597145, 0.8247607915170745, 0.8236708900392419, 0.8254049340182718, 0.8212619736073087, 0.8229836968224186, 0.8232565392147816, 0.8249752376265033, 0.8266939360382253, 0.8270956945592367, 0.8288116607305215, 0.8305276269018063, 0.8278425041438714, 0.8267089517203055, 0.8270342927313781, 0.8287325150983831, 0.8304307374653879, 0.8293128678783699, 0.8281356762574534, 0.8284324764541875, 0.8287692877651198, 0.829006761137353, 0.8306849124756877, 0.8323630638140223, 0.8340412151523571, 0.8357193664906918, 0.836078110108244, 0.8349287585858678, 0.8365986161030395, 0.8325961572360303, 0.8315504142429049, 0.8318265468006345, 0.8334769962982549, 0.8351274457958754, 0.8340074034902166, 0.8356523885069628, 0.8359942501238112, 0.8362881821157865, 0.8310350196838827, 0.8326613113075304, 0.832931177759311, 0.8345548252793098, 0.8361784727993085, 0.8350734053536805, 0.8366917646663813, 0.83702540175686, 0.833152121735791, 0.8334261392729134, 0.8350288818484382, 0.8352952188940093, 0.8355982782898106, 0.8345948393004845, 0.8348434915219188, 0.835129106108945, 0.8341007707570208, 0.8303186813186814, 0.8305792506105005, 0.8321493437118438, 0.8324024725274726, 0.8300523504273505, 0.8303313492063493, 0.8318891941391939, 0.8321201541514041, 0.8323461538461538, 0.8326472902097901, 0.8341978438228439, 0.8357483974358972, 0.837298951048951, 0.8388495046620047, 0.8390971736596736, 0.8406453234265735, 0.8409254079254078, 0.8334178756566816, 0.8324016282225237, 0.8339261733291584, 0.8354507184357931, 0.8344158229829872, 0.8346536548029084, 0.8336791218731519, 0.8351921511324496, 0.8316995237715169, 0.833203501210525, 0.834707478649533, 0.8337337377284699, 0.832786520779039, 0.8330923908705715, 0.8334280380903467, 0.8349189648132274, 0.8351412348196904, 0.8315462275760401, 0.8317901140988517, 0.8332675388130593, 0.8347449635272669, 0.8362223882414742, 0.8364553002252167, 0.8355409652504739, 0.8370119880766194, 0.8322637873275458, 0.8325069341882496, 0.8315615534640065, 0.8317941047821454, 0.8307990346169085, 0.8322464196946383, 0.8336938047723681, 0.8327519558956468, 0.834195200186627, 0.8319716560230953, 0.8334085673461056, 0.8336425801183915, 0.8338724521039278, 0.8305450675064883, 0.8284771624918592, 0.8287514215729157, 0.8278426938442248, 0.8280400737759894, 0.8283319827641649, 0.827370489298041, 0.8287751930150155, 0.8278663326993927, 0.8259172814665773, 0.827312412009595, 0.8264753004513569, 0.8232428493996601, 0.8222933134948569, 0.8236730002624659, 0.8240035642230572, 0.824209743866047, 0.8255857200661569, 0.8246425760656114, 0.8248693358102154, 0.8240368109277266, 0.824285268397453, 0.8256499791067202, 0.8236168618510362, 0.8249759655834638, 0.8263350693158913, 0.8276941730483187, 0.8290532767807461, 0.8292498995390488, 0.8295043979812545, 0.8274239813714219, 0.8276371597264169, 0.8267980475067714, 0.8281424345758881, 0.8294868216450049, 0.8308312087141214, 0.8310297238839415, 0.8312845404885779, 0.8292366998577526, 0.8294513039355145, 0.8296623044096728, 0.8309940256045518, 0.8312577358629991, 0.8303901005585216, 0.8305868725868726, 0.8319115725431516, 0.8310292549555708, 0.8290047846889953, 0.8303206652996128, 0.8283955202692045, 0.8275418003049582, 0.8267368563038117, 0.8280408576544485, 0.8282580510761723, 0.8295603436093109, 0.8308626361424496, 0.8311009926116523, 0.8324016201431258, 0.8337022476745994, 0.83390581437217, 0.8341873280228542, 0.8354846644583486, 0.835708074819917, 0.8349029365696031, 0.8328785412118744, 0.8341658341658341, 0.8332919549586215, 0.8345759179092512, 0.8348034056894816, 0.8350276477702637, 0.8363083650214452, 0.8375890822726266, 0.8334711027564403, 0.8336789883034607, 0.8338836281510332, 0.8330962860783535, 0.8333702188237666, 0.8335637362134737, 0.833831529397329, 0.835092999184617, 0.8353054183389934, 0.8322550169805496, 0.8314039827107133, 0.8326542142636617, 0.8328751248289559, 0.8330668511467112, 0.8343139572113019, 0.835561063275893, 0.8368081693404837, 0.8338283649503161, 0.833017351701295, 0.8342551189400783, 0.83447662601626, 0.8357128876844323, 0.8369491493526044, 0.8381854110207769, 0.8394216726889491, 0.8406579343571213, 0.8356389786789435, 0.8337856575352903, 0.8340285843334623, 0.8352497096399535, 0.8364708349464445, 0.8366840260772085, 0.8359071702080121, 0.8371239200918664, 0.8362659936734023, 0.8364659210731016, 0.8366870832376442, 0.8378979183798114, 0.8370723150853052, 0.8373082228483518, 0.836542808650772, 0.8367238402745143, 0.8379260297001961, 0.8360515220938474, 0.8342415583773437, 0.8334954422151079, 0.8317636042272099, 0.8319432582107151, 0.8331283625671407, 0.8333037136246562, 0.8325355564298936, 0.8288366680491543, 0.8290204615855237, 0.82922451438839, 0.8303957354539102, 0.8315669565194307, 0.831765537366073, 0.8319613822346026, 0.8311783141265547, 0.832344062112707, 0.8315070089784109, 0.8326699558441151, 0.833832902709819, 0.8349958495755232, 0.8351752123099002, 0.8353744816436451, 0.8365347239792614, 0.8376949663148775, 0.8349217212218415, 0.8351088673422273, 0.8362623326286116, 0.8345489174017642, 0.8347488517897499, 0.8349240601686472, 0.8351187395203032, 0.8362643070642269, 0.8354780564263324, 0.8356426332288402, 0.8367842215256008, 0.8351142674321675, 0.8362520252897045, 0.8364500487243609, 0.8357254186577123, 0.8349943257052905, 0.835160498322548, 0.83343365124264, 0.8345599129335083, 0.8338124372506395, 0.8349361736889825, 0.8360599101273258, 0.8362535591749076, 0.8373760471738001, 0.8347879957121531, 0.8339954040965278, 0.8332395083069241, 0.8334156480223897, 0.8345268688864194, 0.8338010310809529, 0.8349098090478158, 0.835077263668861, 0.8352422214110049, 0.8363485024989666, 0.8346812125072995, 0.8330871037953788, 0.8332795698924732, 0.8343774349384446, 0.8354752999844163, 0.8347521590144311, 0.8358476342887282, 0.8351762270468368, 0.8362693896476833, 0.8327064498967754, 0.8337935340350219, 0.8339830024649935, 0.8332515953703027, 0.8334351942607441, 0.8336356284192068, 0.8347168678853796, 0.8357981073515525, 0.8332204350810182, 0.8342969472710454, 0.8344664935891697, 0.8337636015825126, 0.8348366564108041, 0.8350555445724289, 0.8352352585718121, 0.8354126847652014, 0.8364823552962708, 0.8357217312971861, 0.8358922443376802, 0.8369584334248454, 0.8362453355850162, 0.8364463223518646, 0.8375091512239763, 0.8376884414622692, 0.8379017828159577, 0.835362157896661, 0.8355313434386581, 0.836586307256131, 0.8367521333356421, 0.8369157197734959, 0.8371310780751271, 0.8381827502837641, 0.8383774637295145, 0.838533325212885, 0.8360367044267518, 0.834535232155063, 0.834697712896961, 0.834048490534756, 0.8350871561518606, 0.8361258217689647, 0.8362807154562445, 0.8373182845821207, 0.8356979589711548, 0.8341259241903571, 0.8351569821930646, 0.834481749432044, 0.8329303156751611, 0.8322801488214779, 0.8324475623582765, 0.8334702252112965, 0.8336686456400741, 0.8320582107632181, 0.8330766418657435, 0.8340950729682687, 0.8351135040707941, 0.8353026422440266, 0.8363200632455416, 0.8364717152590495, 0.8374880842933863, 0.8334343638445478, 0.8335932164645035, 0.8337996524742509, 0.8348078745449573, 0.835816096615664, 0.8351959101002235, 0.8353456458049212, 0.8347195026732361, 0.8348641854476708, 0.8341643825490488, 0.8351645796504265, 0.8344926095350825, 0.8346453518909858, 0.8356425386913335, 0.8341783239183647, 0.8351725769862053, 0.8353966835338996, 0.8330211886734891, 0.83401052500208, 0.8341642177663144, 0.8326913989473518, 0.8336768325555735, 0.8330950538969504, 0.8332554960578868, 0.8342381086711625, 0.832695968809191, 0.8329253025378863, 0.8330770392965576, 0.8324149176848117, 0.8325935483708496, 0.8311265553832433, 0.8320986332257967, 0.8330707110683502, 0.8323932647351852, 0.8317276969731306, 0.83028698449011, 0.8304788495664148, 0.8314434010757836, 0.8324079525851522, 0.8333725040945209, 0.833513716559534, 0.8344773162318571, 0.8346156731857336, 0.8339418202668636, 0.8333251641970225, 0.833471938187935, 0.83442995190999, 0.8353879656320451, 0.8355905276407045, 0.8357473097110606, 0.8367035423308675, 0.8352220282313739, 0.8354165649165649, 0.8355651200651201, 0.834922086299445, 0.8358719407776011, 0.8360450363067186, 0.8346446284942715, 0.8347975862940876, 0.8349334731145683, 0.8342570888727779, 0.8344471188827232, 0.8353889327866539, 0.8363307466905849, 0.8357618120504569, 0.8359458953140795, 0.8368851603649942, 0.837037968000991, 0.833233303498066, 0.8341663755064624, 0.8335638896843094, 0.8329445363975397, 0.832292430379199, 0.8332202926204243, 0.8333983633687391, 0.8335608655877238, 0.8329559032269314, 0.8299477881379623, 0.8308679076370066, 0.8317880271360509, 0.8327081466350951, 0.8336282661341393, 0.8338188167786148, 0.8331810711113207, 0.8333405396334209, 0.8319370757329473, 0.8328512922996868, 0.8337655088664263, 0.8339182575432575, 0.832556615735799, 0.8319687376896925, 0.8314301151942388, 0.8323377899924859, 0.8325070478023159, 0.8311133648863611, 0.831250425897939, 0.8313858188528034, 0.8307644249958349, 0.8316654710099302, 0.8303364285284502, 0.8312350610268575, 0.8321336935252651, 0.8308196290024877, 0.8309558417969345, 0.8311040032283298, 0.8312369546445153, 0.8306462644786519, 0.830052385283051, 0.830205799683195, 0.8303306769264829, 0.8304809019086145, 0.8298759367611963, 0.8300351848255927, 0.830921028139174, 0.831051562572446, 0.8304641704325288, 0.8298993936276015, 0.830781327095856, 0.8316632605641106, 0.8310530578080446, 0.8319334106235192, 0.8328137634389938, 0.8315136101562967, 0.830932637729974, 0.8318091489512082, 0.8319735162444062, 0.832849277840453, 0.8329860237557047, 0.832381080535652, 0.8332545129391523, 0.8334120532886793, 0.8335680943878317, 0.8344400275409571, 0.8353119606940824, 0.8354523911774899, 0.8356162229157358, 0.8342742623290242, 0.835142393715423, 0.8360105251018215, 0.8361683706055203, 0.8363247424870561, 0.8364796407464283, 0.8366079568178124, 0.8374731149944596, 0.8376364044183905, 0.8362811586384122, 0.8364154181058101, 0.8372768140049922, 0.8381382099041744, 0.8389996058033565, 0.8383992325870964, 0.8385400016202244, 0.8386792970311889, 0.8373630655337261, 0.8382192649872369, 0.839075464440748, 0.839931663894259, 0.8400765783991966, 0.8402200442586182, 0.8403620614725231, 0.8412160879577595, 0.8413436187164999, 0.8400152107779226, 0.8387314247732991, 0.839580343219426, 0.8390071543610926, 0.8391368324817975, 0.8392771380607871, 0.8401231835628644, 0.8402613526940546, 0.8403859849024355, 0.8405212932630681, 0.8413651901438544, 0.8422090870246406, 0.8430529839054268, 0.8424844514076817, 0.8419130940511798, 0.8413505098635616, 0.8414758953168041, 0.841599856471514, 0.8424381033405096, 0.8418673866240709, 0.8427042329328425, 0.8428468643655809, 0.8429764393360649, 0.8431163043729889, 0.8432662064419318, 0.840556880278192, 0.8406898116786342, 0.8415197127760466, 0.840963001851601, 0.8411032832046244, 0.8405529986352567, 0.8406898926379862, 0.8408366559712203, 0.8402905705219912, 0.8383461709971659, 0.8391672740049986, 0.8392953814837701, 0.839422134132573, 0.8402418823104367, 0.8403889318258301, 0.8412080243519761, 0.8399606156549199, 0.8386865179089653, 0.8388151758651379, 0.8389425010210969, 0.8397562182868787, 0.8405699355526608, 0.8413836528184426, 0.8408505031167257, 0.8396678577127272, 0.8404783479228746, 0.8385751347364281, 0.83875377124769, 0.8381972859068426, 0.837638177959124, 0.8384428255844449, 0.8392474732097659, 0.8393676204416958, 0.8394974188669119, 0.8389291422855715, 0.8397311777944486, 0.8405332133033261, 0.8399817004251062, 0.8407824456114028, 0.8409051262815703, 0.8417052263065766, 0.8425053263315829, 0.8433054263565889, 0.8413829457364341, 0.8421804651162791, 0.842306873385013, 0.8417602657807308, 0.8405902223760492, 0.8407109649755318, 0.8408810703242248, 0.8416736066770278, 0.8397664604901486, 0.8398915402750229, 0.8400257693068662, 0.8408145258977646, 0.8409469094571671, 0.8410676343176566, 0.841187109334377, 0.8413157824200885, 0.8407634761750916, 0.8388793051631905, 0.8383519474257202, 0.8391332633133489, 0.8399145792009779, 0.8406958950886064, 0.8395101805559827, 0.8396368115186892, 0.839751940467113, 0.8379033920987589, 0.8380245531853273, 0.8387997840393379, 0.8389191282654412, 0.8396937534992966, 0.8398213900629077, 0.839947834020675, 0.8407212666486867, 0.8408558266988944, 0.8403096314301711, 0.8397912484580334, 0.8405616991446923, 0.8400298242499558, 0.8401473232371511, 0.8383364423020023, 0.839102746179792, 0.8385916607801926, 0.8374338600330967, 0.838197245502589, 0.8389606309720813, 0.839087884126052, 0.8392235552715664, 0.8399857928331211, 0.8407480303946757, 0.8395752869067452, 0.8397063573228699, 0.8398168304174731, 0.8405761584739085, 0.8413354865303437, 0.8414725499700134, 0.8409758029123235, 0.8417334387708031, 0.841204930747719, 0.8419614100019885, 0.8407948912685754, 0.8415496443128022, 0.8416687172476648, 0.8424229006860585, 0.8412761309273484, 0.842028614049824, 0.8421431386396037, 0.842256524017718, 0.8411191910123568, 0.8393386118696409, 0.8394646816045089, 0.8395896457561814, 0.8403359476635204, 0.841082249570859, 0.8405906234711743, 0.8413358279246061, 0.8408409094632004, 0.8384305677494879, 0.8385643287783211, 0.8393051099874892, 0.839437260883218, 0.8401775053813516, 0.8396802771126003, 0.8385609878111451, 0.8386786827607894, 0.8394156587561856, 0.8388922699091271, 0.8383942933356565, 0.838516158372796, 0.8374365088808974, 0.8381691742429977, 0.8383134531713882, 0.8384394478832473, 0.8391710704381191, 0.838026875999527, 0.8387568645674708, 0.838869635445419, 0.8395990873023281, 0.8397102480471718, 0.8404391631930462, 0.8405576901023817, 0.8406839493215852, 0.838992234638639, 0.8378550824661938, 0.8379755532020863, 0.8374990279511423, 0.8382216328070105, 0.8377508368397283, 0.8384724137879107, 0.839193990736093, 0.836854897210816, 0.8375738447170107, 0.8382927922232059, 0.83722080633998, 0.837938219198883, 0.83744548713025, 0.8375606314933908, 0.8382764952809918, 0.8389923590685932, 0.8391054479332756, 0.8386306114926964, 0.8387497095230907, 0.8388592225163478, 0.8383714564939118, 0.8384784074030975, 0.8391901887336605, 0.8399019700642232, 0.8400154737858703, 0.838930213927517, 0.8384582686317776, 0.8385839456717491, 0.8392922091393771, 0.8394081241902638, 0.8383204060947543, 0.838441608735885, 0.8391473676657976, 0.8398531265957099, 0.8387738186421508, 0.8388827336549841, 0.8395864943375806, 0.8402902550201772, 0.8404136932474511, 0.841116968304562, 0.8418202433616729, 0.8425235184187837, 0.8408398037799445, 0.8415410880199612, 0.8410757298863784, 0.841184099465911, 0.8418839198481622, 0.8408214258624653, 0.8415197825284638, 0.8410545519982622, 0.8411657938712732, 0.8400862683739396, 0.8396393598191627, 0.8403338506047865, 0.8404483605474986, 0.839965216228763, 0.8406582568362124, 0.8413512974436621, 0.8420443380511115, 0.8409739619985925, 0.8411061665113388, 0.8400472972972974, 0.8401611764693365, 0.8385292413339179, 0.838063041253346, 0.8387494155705066, 0.8382961011354542, 0.838981543573014, 0.8390803001868188, 0.8386226195925905, 0.8375836410576947, 0.8382662683120202, 0.8378189364874056, 0.8385006443283229, 0.8380579972769662, 0.8387387917507899, 0.8377103594354862, 0.837255367969265, 0.8373584212685248, 0.8374605426881836, 0.838138099761556, 0.8382542565084272, 0.8389313601081916, 0.8390461564342395, 0.8391600458130718, 0.8386866682338546, 0.8393619393032858, 0.8400372103727172, 0.8401554344622829, 0.8408302581044215, 0.8409617739738167, 0.8416361619240764, 0.8411850204930829, 0.839560290714991, 0.8391267177675659, 0.8392297335729593, 0.8382394275599617, 0.8389084135356681, 0.838439180755706, 0.8391072597841965, 0.8397753388126873, 0.8404434178411778, 0.8394139516734656, 0.8389531655952386, 0.8396190014409491, 0.8397349941357358, 0.8398352936184267, 0.839942188949822, 0.8394897023827627, 0.8384912183717621, 0.8380197529495019, 0.8375615266341653, 0.8365778398523135, 0.8361519825374725, 0.8357026963946325, 0.8363602122847935, 0.8364630924133651, 0.8365651011581793, 0.8372217456645827, 0.8373150347625978, 0.8368798780909092, 0.8369784122474447, 0.8365402560005325, 0.8366439184615556, 0.8367538745085934, 0.8368558225677472, 0.8364334715768603, 0.8359883464183874, 0.836086882105433, 0.8351071936541328, 0.8352174066570601, 0.8353197283314131, 0.8343481076082945, 0.8349953908570207, 0.8345748494572774, 0.8341525211997782, 0.8331725529251847, 0.8322113327221439, 0.8323324124653875, 0.8329751401970208, 0.8336178679286546, 0.834260595660288, 0.8343729461258753, 0.8339398633246405, 0.8334911472956238, 0.8336135306827531, 0.8326843147208598, 0.8317327191715866, 0.8323705510114422, 0.8324885197830707, 0.8331259535654467, 0.8337633873478227, 0.8338524340334246, 0.8334396432444804, 0.8340758567126059, 0.8336405686956256, 0.8337533159999625, 0.8343883147174035, 0.8339562897412385, 0.8345904770338173, 0.8346799993139893, 0.8347686944643019, 0.8354020546270213, 0.8355099789168008, 0.8356104085702146, 0.8357031994596404, 0.83528196426183, 0.8338117941720251, 0.834441561388167, 0.8350713286043092, 0.8346441464984263, 0.8347575892689132, 0.8343542193166812, 0.8339363045552185, 0.834053010706824, 0.8341689500460682, 0.8347952030115684, 0.8343784946428621, 0.8344657895305945, 0.8350908575377336, 0.8357159255448725, 0.8363409935520115, 0.8369660615591504, 0.8375911295662897, 0.8361075826762386, 0.8362228604343371, 0.8368459773199067, 0.836431336735162, 0.8370536814797566, 0.8371535106964009, 0.8372590191170939, 0.8373701022166081, 0.8374927748510542, 0.8370966508034063, 0.8361366337284896, 0.8356992444905972, 0.8363173652335636, 0.8369354859765299, 0.8375536067194964, 0.8366373142420714, 0.8372543034118667, 0.8373570155234173, 0.8374714086965019, 0.8375970645204662, 0.8366279291870162, 0.8372426447852434, 0.8373347777594384, 0.8363866286219548, 0.8359722633576439, 0.8360673905774876, 0.8361553295194932, 0.8362794050679729, 0.8368907204225551, 0.8375020357771368, 0.8375941509499416, 0.8366652447295371, 0.8372750590478532, 0.8373708826434398, 0.8379803228782604, 0.8380686694222532, 0.8381688617756626, 0.8387775537595228, 0.8383669161840457, 0.8384648911606088, 0.839072474415073, 0.8396800576695373, 0.8397887591694383, 0.8403959816995681, 0.841003204229698, 0.8400549875858039, 0.8406610878654475, 0.8407542539248395, 0.8403515996198923, 0.8394279620859109, 0.8400318670946059, 0.8406357721033008, 0.8412396771119959, 0.8413525987450919, 0.8394209343101974, 0.8395309819475987, 0.8391183931166012, 0.839214757900827, 0.8383126834405411, 0.8389119062307058, 0.8395111290208709, 0.8401103518110353, 0.8396851131189076, 0.839294176613761, 0.8398919644888421, 0.8395105756122219, 0.8401076670600256, 0.83972367676562, 0.8393271187126914, 0.8399228086479027, 0.840518498583114, 0.8400955029978, 0.8406904714843424, 0.8412854399708845, 0.8413820286321242, 0.839981094130378, 0.8400752168686738, 0.8406680716441635, 0.8412609264196531, 0.8398292588113385, 0.8399201947701928, 0.840511271613803, 0.8401343213136885, 0.840724717885237, 0.8413151144567858, 0.8414032568722339, 0.841993301231892, 0.8420803870116682, 0.8401711852283554, 0.839775195007989, 0.8403624503891134, 0.840949705770238, 0.8415369611513626, 0.8416309244788234, 0.8422178358626997, 0.8413052693489081, 0.8403964644144917, 0.8409812914600131, 0.841071106465631, 0.8416555895139046, 0.8417501364816667, 0.8418382355010126, 0.840972582641139, 0.8415553772237038, 0.8416525554599857, 0.8397707510940042, 0.8403515054170292, 0.8409322597400543, 0.8410371519941133, 0.8416175779099137, 0.8421980038257132, 0.8417910776403301, 0.8418990703148168, 0.840534394815796, 0.8411124789937983, 0.8407391158954252, 0.8413165466068919, 0.8414096241192354, 0.8414964013471199, 0.8415991378140445, 0.841690225769027, 0.8413056900893592, 0.8404061419384592, 0.8409805822268657, 0.8410739059307071, 0.8416480178118884, 0.841761706618561, 0.8413657276024837, 0.8419388650191066, 0.8420236627905231, 0.8406417806071195, 0.8412132570045412, 0.841300989559598, 0.8418721375497948, 0.8419588848831768, 0.8420449754021092, 0.8411602941640629, 0.8417298001181344, 0.8422993060722064, 0.8428688120262784, 0.8424766296686617, 0.8425750996790542, 0.842667585980716, 0.8427539859957829, 0.8428451846020893, 0.8424639032936259, 0.8425693226924785, 0.8412034787798447, 0.8408182163643652, 0.8413829028763627, 0.8410115901444458, 0.8406391100666738, 0.8412025411055926, 0.8412863881691643, 0.8399827277125598, 0.839584137091488, 0.8392103743713915, 0.8392955041530552, 0.8398557815256542, 0.8399556537417148, 0.8390863726064136, 0.8386919216621866, 0.837373813731071, 0.8379309486703466, 0.8375433845951221, 0.8376427246851611, 0.8377259511393745, 0.8378138086762427, 0.8379163166063218, 0.8370708152634914, 0.8376251667967782, 0.8381795183300653, 0.8387338698633524, 0.8388286257436738, 0.8384525696546028, 0.8390060036939788, 0.8390938146517097, 0.8382541020610266, 0.8374328840237876, 0.8379841894115583, 0.8380634277602228, 0.8386144227817616, 0.8391654178033001, 0.8397164128248388, 0.8402674078463773, 0.8399019689154956, 0.8404523633905386, 0.8410027578655814, 0.8415531523406244, 0.841179717452385, 0.8398699825456942, 0.8399534988262733, 0.840041493917599, 0.8401338947955825, 0.8397496290983509, 0.84029669726063, 0.84038730308031, 0.8404722956014329, 0.8400994666272641, 0.8406453402248127, 0.8407285344252557, 0.8403531808774147, 0.8408981569999032, 0.8400674277466864, 0.8401576350774498, 0.839323939049527, 0.8398668393982007, 0.8399549806399416, 0.8404975872165823, 0.841040193793223, 0.8411320593062195, 0.8416743752696665, 0.8417604632660158, 0.8418409744096751, 0.8414689880716022, 0.8410958265418292, 0.8411887312250936, 0.8417289937371202, 0.8422692562491465, 0.8428095187611729, 0.8433497812731993, 0.8434457384034986, 0.8430771804176498, 0.8436165772061448, 0.843236467531655, 0.8437752767760841, 0.8434033042710221, 0.8430350429119858, 0.8435726928118022, 0.8436540799972911, 0.8437397688796816, 0.8438199967205581, 0.8434425087811377, 0.8426259241451618, 0.8427132614448413, 0.8428047736360547, 0.8433395482386157, 0.8429717833765231, 0.8430568450559164, 0.8431365053109975, 0.8432251849805041, 0.8424083225154959, 0.8420450256340842, 0.8403335999573402, 0.8408641135936771, 0.8413946272300136, 0.8419251408663504, 0.8424556545026869, 0.8425389656173531, 0.8430691978172382, 0.8431516646225493, 0.8432335685549572, 0.8428759457125603, 0.8425125608446375, 0.8421574322783554, 0.8417918136472219, 0.8414390470968506, 0.8419659344150079, 0.8415975249806454, 0.8416920734591997, 0.8422181310051118, 0.842302744627078, 0.8419404133708508, 0.8420189690906442, 0.8421016479746599, 0.842183775742666, 0.8413932603045436, 0.841473743157213, 0.8419970477238529, 0.8416468476923866, 0.8417393442323153, 0.8422618391697656, 0.8419226657952693, 0.8411467964934205, 0.8412453994839005, 0.8399897260837894, 0.8405095217063663, 0.8405881087774594, 0.841107631712427, 0.8416271546473943, 0.8417046509680514, 0.8413438860240255, 0.841862593721944, 0.8410618745515652, 0.841141244319559, 0.841237757093199, 0.8408993481876648, 0.8401071721914372, 0.8397485307029406, 0.8402640301079147, 0.8407795295128888, 0.8408723623893227, 0.8400700928364762, 0.8401525941223558, 0.8402300880053326, 0.8407439901998313, 0.8403924416938278, 0.8396198317537372, 0.8401324201736114, 0.8397868191638675, 0.8390058522369612, 0.8395171294168742, 0.840028406596787, 0.8405396837766999, 0.8410509609566127, 0.8415622381365255, 0.841646963985246, 0.8417223490828883, 0.8422331029354873, 0.8418715332353501, 0.8419541711284417, 0.8420319028810216, 0.842541607422717, 0.84219451691835, 0.8422706840845212, 0.8423463279644547, 0.8428549912059793, 0.8429298501565565, 0.8430085925816482, 0.8435167351932102, 0.8435990458814786, 0.8441069321222262, 0.8446148183629736, 0.8442694369080469, 0.8443584686591846, 0.8444341187813651, 0.8436457887937354, 0.8441518750497605, 0.8442300784159735, 0.8438881710506075, 0.8443934933087217, 0.8444701635645797, 0.8441344625614949, 0.8446390258983516, 0.8434259047764072, 0.8435040835111789, 0.8440073675705527, 0.8445106516299271, 0.8446004092620317, 0.8446813364753561, 0.8451841229851629, 0.8456869094949695, 0.8453396960047763, 0.8432861246283633, 0.843367734131472, 0.8434570897646825, 0.8431096221802097, 0.8436093907766414, 0.8436890101193416, 0.8433560586527223, 0.8434344391401938, 0.8422327151250528, 0.8427304885973488, 0.8432282620696447, 0.8433085684220949, 0.8425487164965302, 0.8426233629928686, 0.8426975119767693, 0.842775347971162, 0.8416006588527392, 0.84168496755673, 0.8421797852919187, 0.8422633695682071, 0.8423382620680748, 0.8424126619813705, 0.8429067456540867, 0.843400829326803, 0.8426575307247066, 0.8423090594830309, 0.8423849139619207, 0.8424602807073083, 0.8429526595972601, 0.8430272947423937, 0.8426956883262093, 0.843187342753471, 0.8436789971807324, 0.8437560374864832, 0.8429946686832848, 0.842659208006163, 0.8427381246863759, 0.8432280887123562, 0.8437180527383367, 0.8442080167643171, 0.8442857378443387, 0.8443669853645362, 0.8436061112581428, 0.8436819146318248, 0.8437572397654302, 0.8434306318387843, 0.8435087845912351, 0.8435864637467173, 0.84325347605573, 0.8433299711851439, 0.8434059927175885, 0.8426517941203052, 0.8431374723878096, 0.8432118316877555, 0.8432857173907324, 0.842955294276455, 0.8430319815228545, 0.8435164826616607, 0.8435924663763311, 0.8436639932460954, 0.8437429691925262, 0.8442267667666042, 0.8443050459460336, 0.8439692313104089, 0.8444523276076673, 0.844525264906755, 0.844195231858803, 0.8442709494611668, 0.8443422519509476, 0.8448241824600521, 0.8449026348683102, 0.8445769190763469, 0.8450581594860772, 0.8455393998958073, 0.8460206403055371, 0.846093342996947, 0.8449392712550605, 0.8454193503864555, 0.8454979713269186, 0.845170588183746, 0.8448422892896577, 0.8453212248278039, 0.844995366236823, 0.845075064745681, 0.84475137754151, 0.8440083923012638, 0.8436789408956044, 0.8433637156772849, 0.8430438765883741, 0.8431156705271438, 0.8435912010801765, 0.843669923978734, 0.843740582994563, 0.8425999965334947, 0.842275424342532, 0.8427491450536359, 0.842828676731167, 0.8433021759877578, 0.8433773027146156, 0.8434481861810823, 0.8439212362013748, 0.8435961463136324, 0.8432626106275496, 0.8425362912519379, 0.8426080582574406, 0.8422906539490078, 0.841583322102263, 0.8420534803827671, 0.8425236386632713, 0.842203371974634, 0.8422720342427494, 0.842741528130287, 0.8424229397881111, 0.8424940411167823, 0.8425684208001168, 0.8430370350497276, 0.8423172457338792, 0.8423900876536312, 0.8424661683059307, 0.8421461602210039, 0.8426132407313871, 0.84268801522134, 0.8427623550231816, 0.8424471559164125, 0.8429133690630183, 0.8429936375091629, 0.842676494352741, 0.8419501436143786, 0.8420284678423723, 0.8421099139827065, 0.8421909373436891, 0.8422643833133824, 0.8423480629604958, 0.8420541962504847, 0.8425176272885972, 0.8426035157779344, 0.84188004071725, 0.8419504933051446, 0.8424128494244773, 0.8428752055438101, 0.8429447968052619, 0.8426385974693089, 0.8427247516378843, 0.8420096590889804, 0.8416904826699755, 0.8417607144010273, 0.8422209444253035, 0.8426811744495796, 0.8427505527926815, 0.8424391535240071, 0.8428987493524435, 0.842966853458743, 0.8430451649563813, 0.8419366662183801, 0.8416214675666532, 0.8420793682562978, 0.8417664107387832, 0.8422238924837501, 0.8426813742287168, 0.8427492648013164, 0.8428167325945646, 0.8424937636567424, 0.8417973974193285, 0.8422534090105632, 0.8419456737847794, 0.8420175028942669, 0.8420889168937501, 0.8421702060186256, 0.8422477056672765, 0.8427024830461466, 0.8416109239280484, 0.8420648672527129, 0.8425188105773775, 0.8422053826753638, 0.8422732755744937, 0.8423407533636192, 0.8424147562027834, 0.8428676673620321, 0.8425579950810761, 0.8418780449799474, 0.842329938723898, 0.8416583030987377, 0.8417258017361616, 0.8417928890202333, 0.8414990860159838, 0.8411977874346638, 0.8408923567415025, 0.8405723896760001, 0.8406400953511118, 0.8407108172518724, 0.8404091745534785, 0.8408576319571891, 0.8409271453945116, 0.8409962548403989, 0.8414443082526739, 0.8407601295515719, 0.84009812808586, 0.8401650348473122, 0.8398746515219491, 0.8399439567222403, 0.8396323016060329, 0.8389688777939664, 0.8386816691698824, 0.8391263572235248, 0.8392094425804693, 0.8392857273416366, 0.8397300289442526, 0.8401743305468686, 0.8402594143784576, 0.8403245623144192, 0.8400168865618622, 0.8397083723957754, 0.8390195001498455, 0.8387158609353497, 0.8384241641643694, 0.8384924537031972, 0.8378290444530064, 0.8382700071079817, 0.8383335888105762, 0.837680635198559, 0.8381208247073337, 0.8381863829476721, 0.8386263757996133, 0.8383228843739557, 0.8383938344449421, 0.8380922015550594, 0.8381556085852482, 0.8378591082760976, 0.8368385790946252, 0.836919299913613, 0.8362473538126529, 0.8363174907341113, 0.8356658319134104, 0.8361019831826763, 0.8358066317822243, 0.8358904336503251, 0.8363260201191369, 0.836050704374734, 0.8357463628982769, 0.8361811945126879, 0.8366160261270993, 0.8370508577415106, 0.8371200162972544, 0.8368385274640087, 0.8372727975872387, 0.8373343573000813, 0.8373955305842975, 0.8370897375762271, 0.8371627366497278, 0.8375960506956129, 0.8373011746895813, 0.8373792096071524, 0.837080002814011, 0.8371446173144422, 0.8375768034875524, 0.8376440357739696, 0.8373457082837051, 0.837052967937769, 0.8374842162468559, 0.8379154645559428, 0.8372584501294448, 0.8376891386325976, 0.8377629069934228, 0.8367462050348848, 0.8368217205982493, 0.836539402080193, 0.8366170119952645, 0.8363333392832615, 0.8367620083449138, 0.8368293854130776, 0.8365380050546285, 0.8369661207173994, 0.8366579292090808, 0.83637993457445, 0.8368073131817948, 0.8368784451988509, 0.8373056419549505, 0.8373731673857133, 0.8363819676605354, 0.8368082581639301, 0.8365016034516211, 0.8369275207649876, 0.8366382429235701, 0.8367091264226115, 0.8364247605675448, 0.836849773149134, 0.8369255321052224, 0.8373503674007072, 0.8374103958292393, 0.8371143813519119, 0.8371796920316357, 0.8372476827055653, 0.8369649954171011, 0.837035095776492, 0.8371048385588251, 0.8375280462628488, 0.837597252679595, 0.8376569420257415, 0.8380797875290359, 0.83850263303233, 0.8375064224919477, 0.8372187242132967, 0.8365900821543679, 0.8370113259016762, 0.8374325696489846, 0.8378538133962928, 0.8379162399780766, 0.8383373034152515, 0.8377018227890647, 0.8377749011603879, 0.8378476308566765, 0.8379170891607262, 0.8379891200419237, 0.8377096511261699, 0.8381291351778104, 0.8378515813794319, 0.8382707167378008, 0.8383438977393235, 0.8387628602069592, 0.8391818226745951, 0.8392484768548991, 0.8396672635199962, 0.8400860501850935, 0.8394372842975845, 0.8398555390481064, 0.8399235497261041, 0.8403416301391087, 0.8400555049321582, 0.8401165355264432, 0.8401801979663273, 0.8402493731774753, 0.8396125601401356, 0.840029241311421, 0.839754245242557, 0.8401705834900743, 0.8405869217375918, 0.8403076676986077, 0.840723661593508, 0.8411396554884083, 0.8412116368675789, 0.8405599876974937, 0.8399306877290732, 0.8392945300272094, 0.8397087918880324, 0.8397753290480562, 0.8401894194469953, 0.8402583069754787, 0.8403210862449043, 0.8403835197328637, 0.8407970942996614, 0.8412106688664591, 0.8416242434332567, 0.8416944327204217, 0.8417642846939518, 0.841495688558022, 0.841908591251132, 0.8419745905670355, 0.8413316295318415, 0.8413937197637511, 0.8414667890867156, 0.8411918045558844, 0.8405768448652093, 0.8409878848871484, 0.8410479424324919, 0.8414588109925469, 0.8415269227777606, 0.8412655149498629, 0.8403141749007469, 0.8407238843960666, 0.8411335938913862, 0.8408615681926843, 0.8409214916445394, 0.8409810749950447, 0.8410623037179425, 0.840774121824263, 0.8411826612420594, 0.8415912006598554, 0.8416521383775905, 0.8420605091385696, 0.8424688798995487, 0.8425291429900156, 0.8425919118389078, 0.8423030566947503, 0.8427107542052514, 0.842426581525053, 0.8421445535651977, 0.8422053136601886, 0.842612176130556, 0.8426914600263327, 0.8427542121838997, 0.8424696937259037, 0.8421927714175101, 0.8419097475017041, 0.8419816370775953, 0.8417191004612745, 0.8417820079524203, 0.841502233274071, 0.8415670798322843, 0.8413048504170277, 0.8410177125289954, 0.8410784881126618, 0.8411444357525022, 0.8408722238690466, 0.8399261060800145, 0.8396412906379623, 0.8396996172912987, 0.8394299643682516, 0.8398316054995283, 0.8398889524996045, 0.8399542041547381, 0.8403555200669001, 0.8407568359790618, 0.8408214450639144, 0.8408884170665738, 0.840946915912103, 0.8403441146424449, 0.8397214726336921, 0.8397891765917602, 0.8398539057822321, 0.8395777604761314, 0.8399769890831102, 0.8397236562702638, 0.8394563827534659, 0.8395245063244351, 0.8396000350807984, 0.8393152725177094, 0.8397132408783152, 0.840111209238921, 0.8405091775995268, 0.8405730853770684, 0.8409708956399063, 0.8410447169321562, 0.8411024543300052, 0.8404797098001433, 0.8408767243064258, 0.8409387296430377, 0.8406678379719466, 0.8403936968650199, 0.8404544386245194, 0.8408505057492246, 0.8412465728739296, 0.8413039945803084, 0.8413610975615873, 0.8414232303014904, 0.8411539049677236, 0.8415491840584037, 0.8419444631490844, 0.8420158426775078, 0.8424109697740245, 0.8428060968705416, 0.8418517014223168, 0.8419139624593432, 0.8419785192452066, 0.8420478924179904, 0.8421092246165498, 0.8418373583899299, 0.8419031056149286, 0.8416327349359147, 0.8416898691883858, 0.8414132111727955, 0.8418058444957881, 0.8421984778187804, 0.8425911111417728, 0.8423181628170864, 0.8423814420170066, 0.8424418227396228, 0.84283383847845, 0.8422294678202096, 0.8416371204660591, 0.8417035091192137, 0.8420944536195012, 0.8424853981197888, 0.8428763426200764, 0.842934262571962, 0.8429918737389164, 0.8433825094542726, 0.8431087750908887, 0.8431731900371451, 0.8435633673578471, 0.8439535446785493, 0.8443437219992512, 0.8447338993199534, 0.8447922751700669, 0.8448580049104327, 0.8436051634968136, 0.8439942802696443, 0.8440535697078445, 0.8437825758289239, 0.8438411052963073, 0.8442296140924842, 0.8446181228886612, 0.845006631684838, 0.8450720041578788, 0.8447985818663584, 0.8448581611131607, 0.8442627206415099, 0.8439976658336986, 0.8440558912176414, 0.8441163561305631, 0.8445032105559207, 0.8448900649812785, 0.8446178538620399, 0.8450044066555693, 0.8447413908616795, 0.8451276466416804, 0.8451888355966144, 0.844601759994703, 0.8449874228988102, 0.8453730858029174, 0.8454305633788393, 0.8448310716931406, 0.8448901781660402, 0.8446303493963405, 0.8443649619799922, 0.844749288316806, 0.8451336146536201, 0.8451986654556473, 0.8449341295124466, 0.8436953875728553, 0.8434317373933722, 0.8438145933794787, 0.8435525145175811, 0.8439350780162286, 0.8439924131034406, 0.8440519372507518, 0.844434207149869, 0.844495750261769, 0.8442287264742806, 0.844289540610921, 0.8443476034843321, 0.844729143296119, 0.8444702135265967, 0.8445274022996998, 0.8449085067231203, 0.8446433689951196, 0.8434163734248912, 0.8431521058419555, 0.8428921414423645, 0.8432716516366202, 0.8436511618308762, 0.8433924626844332, 0.8437716859140576, 0.8441509091436818, 0.8445301323733062, 0.8445860165613375, 0.844325450501862, 0.8443830640865937, 0.8447617112005339, 0.8448188927078375, 0.8448806132736244, 0.8449444240766649, 0.8450007468151945, 0.8453788232119799, 0.8447976371730876, 0.8448577929105919, 0.8442775848741674, 0.8446546628486532, 0.8443934974875275, 0.844770290659097, 0.8448312661966941, 0.845207918566822, 0.8446314481023451, 0.8440565690867077, 0.8438019197475157, 0.8441774435213242, 0.843914862599431, 0.8436588603602345, 0.8430829609407458, 0.8431427794758974, 0.8435171768024853, 0.8432662620278691, 0.8433299041671554, 0.8437038863862982, 0.8434446624557383, 0.8438183641227548, 0.8441920657897711, 0.8439411129515356, 0.844314538222753, 0.84373248490987, 0.8434753275216906, 0.8435363350048692, 0.8435993686297468, 0.8439718186821221, 0.8443442687344971, 0.8447167187868722, 0.8447790690715831, 0.8438824462381372, 0.8433184148121455, 0.842758202356783, 0.8431291346641585, 0.8428807859257821, 0.8429405261261383, 0.8433110494343257, 0.8436815727425129, 0.8434224664210708, 0.8425351655546587, 0.842904860668987, 0.8432745557833158, 0.8433369356638583, 0.8433944829888033, 0.8434494361614128, 0.8435087320220477, 0.8438778824518168, 0.8433023819109124, 0.8433584228279256, 0.8437270235372036, 0.8437826544501169, 0.8441511184913615, 0.8435867375997612, 0.8436437191033728, 0.843700429280742, 0.8434478021978021, 0.8431923271721404, 0.843559571217076, 0.8436196042248737, 0.8433675053613937, 0.8437343463815596, 0.8437890265595287, 0.8435402403521767, 0.8432908947035502, 0.8433467873474741, 0.8434024106528936, 0.8437683119156498, 0.8441342131784058, 0.844189297806816, 0.8442486277712554, 0.8439966311061202, 0.8440530486545084, 0.8441091988303666, 0.8444742979648089, 0.844839397099251, 0.8452044962336933, 0.8455695953681353, 0.8456271961615025, 0.8459921625819435, 0.8463571290023845, 0.8464119432878559, 0.8461562043795621, 0.8465207697412078, 0.8465770404777704, 0.8463246184472462, 0.846688785666888, 0.8467442601194424, 0.8468017070097996, 0.8468566515680449, 0.8472204216073781, 0.8469657444005272, 0.8473292490118576, 0.8476927536231884, 0.8477488801054018, 0.848112252964427, 0.848475625823452, 0.8485312252964426, 0.8488944664031621, 0.8471014492753624, 0.8471578245173441, 0.8472139381572751, 0.8475759953958037, 0.8476317166326582, 0.8467699806565043, 0.846824787227195, 0.8471860606005854, 0.8472404747681997, 0.8463780744357582, 0.8467386956860503, 0.846491421280118, 0.846245793463218, 0.8463005971705359, 0.8466605719034879, 0.8470205466364401, 0.8470770222332173, 0.8462135867342993, 0.8465729130980929, 0.8466283535383676, 0.8469875509730466, 0.8467384608442279, 0.8470974004206772, 0.8468497110145984, 0.8472083936537407, 0.8475670762928826, 0.8467066052227343, 0.8467620327700974, 0.8471200716845878, 0.8474781105990784, 0.8475351835755923, 0.8478930953929806, 0.848251007210369, 0.8483097090128663, 0.8465420466058763, 0.8462957333232378, 0.8466523686933696, 0.8470090040635017, 0.8473656394336337, 0.8477222748037656, 0.8477766732648991, 0.8481331815379292, 0.8475843618283232, 0.8464295449382903, 0.8464865644383359, 0.8465412080701394, 0.8462968749038481, 0.8460541433138511, 0.8461077800461266, 0.8464623935331534, 0.8465177813980469, 0.8459678249685064, 0.8460224583347011, 0.8460810386239264, 0.8461372832826051, 0.8464910196050479, 0.8468447559274903, 0.8469005029004084, 0.846953886748382, 0.8473073733455223, 0.8458601040250553, 0.8456158656108744, 0.8456697409676582, 0.8460221033597282, 0.8460756054521912, 0.846130956840167, 0.8458890510005667, 0.8456487288256339, 0.8448071194928126, 0.8445655626804627, 0.8446189372772025, 0.8443806590903173, 0.8441418918759857, 0.8444921582211627, 0.8442526574656608, 0.8443107464670717, 0.8440765184876792, 0.8438396564260847, 0.8441890724328862, 0.8445384884396882, 0.8442987159819804, 0.8446478883210962, 0.8449970606602119, 0.8447563135317606, 0.8451052422031905, 0.8445623784565122, 0.8446176754280204, 0.8446706787920519, 0.8447315217784478, 0.8447840411568567, 0.8451321186357017, 0.8454801961145467, 0.8458282735933919, 0.8461763510722367, 0.8453392722439743, 0.8453945469496646, 0.8454475434844024, 0.8457948925162366, 0.8455608434289774, 0.8453203213211413, 0.8453742743682643, 0.845430008063414, 0.84459990498186, 0.8446527758595265, 0.8447094324369422, 0.8450553412954342, 0.8454012501539259, 0.8451636755327666, 0.8452174951332232, 0.8452690485297, 0.8450342951296974, 0.8442065752375442, 0.8439706318918068, 0.8440226624987378, 0.8443670209901691, 0.8444207052310972, 0.8447649452250763, 0.8451091852190556, 0.8445783219377899, 0.8437555770907089, 0.8432331452249298, 0.8435762018340529, 0.8436277547105064, 0.8436830449658025, 0.8440258661949638, 0.8432171407490806, 0.8435594944400059, 0.8436137327445176, 0.842802939402219, 0.8425718536575925, 0.8423461517271494, 0.8426874589199077, 0.8424513665147417, 0.8427924399424803, 0.8431335133702194, 0.8434745867979581, 0.8432392524080884, 0.8432927765579393, 0.8436335009121041, 0.8434030075373004, 0.8437435012827738, 0.8440839950282472, 0.8438564436051909, 0.8441967083001931, 0.8442488440917566, 0.8434300898937744, 0.8431950046003875, 0.8432498696524409, 0.84330256892751, 0.8430663282614729, 0.8431242066518724, 0.8434630829407197, 0.8432392664397076, 0.8432887430575609, 0.8430583859553608, 0.8433966918887295, 0.8437349978220985, 0.8440733037554674, 0.8441257645216353, 0.8444639559337033, 0.8448021473457713, 0.844854150026735, 0.8443274742367688, 0.8443787874527576, 0.8447164039211513, 0.844773106380881, 0.8448238492807395, 0.8445913509270178, 0.8449285131429569, 0.8449785704573841, 0.8438891527832292, 0.8439402326763721, 0.8439948982296517, 0.844045524641527, 0.844381663838915, 0.8444338674839111, 0.8447698936946093, 0.8451059199053071, 0.8451614555920364, 0.8443616272067151, 0.844697090705804, 0.845032554204893, 0.8450851957695695, 0.8451357075918187, 0.8446292984162882, 0.8438446518270342, 0.84417911264821, 0.8428113284654193, 0.8431451151301582, 0.8426374950385258, 0.8424054006381677, 0.8424566908232662, 0.8422219208376245, 0.8422800406895359, 0.8414912128499659, 0.841543045938024, 0.8418752776971784, 0.841930478441973, 0.8417046373975211, 0.8417629203574941, 0.8418117718216267, 0.8413110323205188, 0.8413648101646072, 0.8411351290005431, 0.8414661542382451, 0.840959752095225, 0.8410105861968302, 0.8410630482802034, 0.8413935249199993, 0.8403377648898225, 0.8406676972670859, 0.8404495990285941, 0.8404969243809994, 0.8408265310180116, 0.8411561376550237, 0.8414857442920358, 0.841541698298597, 0.8413182572489696, 0.8410942756175451, 0.8411475657040564, 0.8414765244704638, 0.8412515691584815, 0.8407446852300765, 0.8410731011227444, 0.8411252012259389, 0.8414535092670107, 0.8415106552453896, 0.8418388575290265, 0.8418974426983862, 0.8422255399091026, 0.8417190560635394, 0.8417715684509247, 0.8418202253583598, 0.8413338003729922, 0.8416610402797883, 0.8419882801865844, 0.8420379100847526, 0.8418132367183304, 0.8413138520356768, 0.8416404490279266, 0.8416926213751827, 0.8417481288565277, 0.8420745143271973, 0.8424008997978666, 0.8424594707264761, 0.8427857524734653, 0.8431120342204548, 0.8426019268388851, 0.8429278850310858, 0.8429766547522697, 0.8433025057977865, 0.8433527612630518, 0.843678505859909, 0.8437302329433347, 0.8435181514929102, 0.843010088825158, 0.8433351987707134, 0.8431114102150834, 0.843159967918188, 0.8434847598935032, 0.8435329982506286, 0.8438576837772839, 0.8441823693039394, 0.8445070548305946, 0.8442831250742883, 0.8446075997572532, 0.8446566820801348, 0.8449810510056647, 0.8447542121812901, 0.8450783695919505, 0.844316895407309, 0.8440959032774901, 0.8435913549142311, 0.8436402245970378, 0.8439633346026284, 0.844011889066673, 0.8437943646362331, 0.8441171627864381, 0.8438972110905653, 0.8439535271700009, 0.8442760160989924, 0.8440481330698445, 0.8435551268144087, 0.8438770944200629, 0.8439270985364526, 0.8442489624184268, 0.8437560412373237, 0.8438035576508568, 0.8433147718560692, 0.8428201789448666, 0.8428719009679965, 0.8429268312904161, 0.8427070670994908, 0.8430274880375516, 0.8430818084802121, 0.8434021283162609, 0.8434492399788835, 0.842688372172085, 0.8427347623851402, 0.8422409029733557, 0.8425602965656853, 0.8420775281068023, 0.8421297084232368, 0.8424486969491547, 0.8422334462403998, 0.8425522325561607, 0.842326044018265, 0.842106360701529, 0.8418879635190013, 0.8413981397945334, 0.8414499846686958, 0.841228691720626, 0.8412817113630323, 0.8413311547261465, 0.8408526035848694, 0.8411696671608816, 0.8406868352196042, 0.8410035974031835, 0.8407866404355865, 0.8403124592398342, 0.8406287228677002, 0.8406795430582784, 0.840735126920545, 0.841051192757733, 0.8410981250391634, 0.8414140897743396, 0.8414657845255865, 0.8415189383629935, 0.8413073327934594, 0.8416229019355423, 0.8414090744896846, 0.841198170932501, 0.8407202214762334, 0.8407684565868461, 0.840826324990702, 0.8411410055015519, 0.8411920871085945, 0.8412379328544886, 0.8410248066000289, 0.8410751962681265, 0.8411203444241927, 0.8409028978914762, 0.841216784751458, 0.8415306716114397, 0.8413107633914121, 0.8416244512226543, 0.8419381390538963, 0.8419920602397563, 0.8420408694778606, 0.8420927770922851, 0.8416177519389632, 0.8419308537812024, 0.841980436814664, 0.842026492298592, 0.8423393969780042, 0.8423917610332026, 0.842704568965261, 0.8424826865019066, 0.8427952960330762, 0.8431079055642456, 0.8431627082689808, 0.8432189069557104, 0.8432651640205708, 0.8435774844516896, 0.8438898048828083, 0.844202125313927, 0.8434498866866675, 0.8434968251753956, 0.8432849964745953, 0.8433411338519248, 0.843131875447475, 0.843443223998231, 0.8434987915201999, 0.8435477636102273, 0.8430731688345376, 0.843384036522161, 0.842916704873289, 0.8432272858257109, 0.8432734586784443, 0.8433210797181326, 0.8436314665711757, 0.8436771532684556, 0.8437226452616855, 0.8432508977911342, 0.8427723943027704, 0.8428312035049498, 0.842878818565463, 0.8431882454445253, 0.8434976723235874, 0.8438070992026498, 0.8438525993001094, 0.843371493665561, 0.8434244413980286, 0.8429472659354342, 0.8424727427305196, 0.8427811148911092, 0.8428282402527841, 0.8431365168585826, 0.8431833555558843, 0.8427101550904224, 0.8427547966100791, 0.8428008714516029, 0.8428499627581145, 0.8431575722335737, 0.843204782848634, 0.8435122973573315, 0.8435576095192033, 0.843604344712426, 0.8436492752431628, 0.8437050159889832, 0.8434918165841891, 0.8432907343315869, 0.8433395281641479, 0.8431300571573507, 0.8431783819502797, 0.843484769443721, 0.8435312230060628, 0.8430542209435172, 0.8433602297351482, 0.8436662385267792, 0.8434532165021318, 0.8435033658150332, 0.843289686549244, 0.8435952262907473, 0.84364325130114, 0.8436879144193755, 0.8439932665418579, 0.8435251922673339, 0.8438302646696005, 0.8441353370718673, 0.844440409474134, 0.8444950205717225, 0.8442834668542261, 0.8445882623296248, 0.8446346107251399, 0.8449393129656612, 0.8449900556712562, 0.8450375123845222, 0.8450832103876103, 0.8453876351752138, 0.8451740469845225, 0.8452191855783469, 0.8447549941941626, 0.8445434429252812, 0.8445908860783418, 0.8443802496963381, 0.8446836561820357, 0.8449870626677332, 0.8450338605138435, 0.8453371748930658, 0.8456404892722883, 0.8451684496593689, 0.84495908463483, 0.8444953756658575, 0.8447979537295144, 0.845100531793171, 0.8454031098568275, 0.8457056879204844, 0.8460082659841411, 0.8455379786153578, 0.8453340565959724, 0.8453814727976908, 0.8454271627866762, 0.8457291010590999, 0.846031039331524, 0.8458212945079273, 0.8458739386470431, 0.8459218879565901, 0.845452796988168, 0.8449968695649689, 0.8450423779762074, 0.8453433189940054, 0.845391612154365, 0.8454412343763803, 0.8457419961104169, 0.845533875468101, 0.8445571704174137, 0.8448572973436461, 0.8449027117260088, 0.8452027482003436, 0.8455027846746782, 0.8455493640991483, 0.8458493106632133, 0.8461492572272784, 0.8461954770106702, 0.8454739508358543, 0.8455210549411524, 0.8455664639023837, 0.8456116930430759, 0.8456567423632292, 0.84570312987026, 0.8457493386303069, 0.8457968741611195, 0.8455866703683356, 0.8458853587012103, 0.8459308519317524, 0.8459761664153108, 0.8460243050813206, 0.8460707718398057, 0.8458635083189774, 0.8459095303379437, 0.8462075957115649, 0.8459980196516359, 0.845795589287572, 0.8460932998082648, 0.8463910103289572, 0.84668872084965, 0.8467366640183153, 0.84703428674732, 0.8473319094763246, 0.8463644291491814, 0.8466616076706523, 0.8467070905583803, 0.8470041807655937, 0.8470523662582796, 0.8470974086152347, 0.847394323234448, 0.8471869634436004, 0.8472314759150107, 0.8462739818488105, 0.8465701925529926, 0.8458638983194751, 0.8461597583748508, 0.846455618430227, 0.8465002186748813, 0.8467959909385694, 0.8463404238092774, 0.8458858028208927, 0.8459323957053104, 0.8459773432229886, 0.8460221161931809, 0.8458177991204859, 0.8461126118772375, 0.8461597965504979, 0.845959081566076, 0.8462536355638358, 0.8455493039525954, 0.8458435103909924, 0.8458881940114127, 0.8461823136894416, 0.8459785051847006, 0.8462724518508526, 0.8463194468269286, 0.8466133077459659, 0.8464070819046352, 0.8462063387214078, 0.8460052652640003, 0.8462986096694316, 0.8463459308535445, 0.8463901819042026, 0.8466833548109929, 0.8467316806095051, 0.8470247687647868, 0.8458260747403756, 0.846118646886602, 0.8464112190328283, 0.8464556390293744, 0.846501334982985, 0.8467937361349651, 0.8468377278959215, 0.8471300433007871, 0.8464280351646399, 0.8462270115250157, 0.8462715120144928, 0.8465632291851284, 0.8461154066744143, 0.8459146198175326, 0.8457163609949327, 0.8460074853877023, 0.8462986097804717, 0.8458460381986104, 0.8461369068499852, 0.8461825783325031, 0.8457389238475669, 0.8457840902517046, 0.8460745380848955, 0.8463649859180864, 0.8461627646339409, 0.8452244802605273, 0.8452685507738205, 0.8455583240171436, 0.8456049728747328, 0.8456486230569435, 0.8459382287497714, 0.8459858588885893, 0.8460305128747645, 0.8463199519828297, 0.8458742449584455, 0.8454350996759945, 0.8457240385343937, 0.8455280325453319, 0.845816805780491, 0.8461055790156496, 0.8463943522508087, 0.8464375026326543, 0.8447745551847692, 0.8450625792404066, 0.8453506032960441, 0.8456386273516816, 0.8449551381751984, 0.8447562303667597, 0.8445639173631843, 0.8448512817447298, 0.8441712975166722, 0.8439682528546868, 0.8440128037845991, 0.8442995903302274, 0.84410277341486, 0.8443893957487871, 0.844437495031691, 0.8447240364280371, 0.8442931358164403, 0.8438465510915168, 0.8441326007698532, 0.8444186504481893, 0.8447047001265252, 0.8445125241308468, 0.844798411918298, 0.845084299705749, 0.8446452697143728, 0.8444479696308032, 0.8435249112657794, 0.843809982205714, 0.8438581011122303, 0.8434305916549881, 0.8437153420235417, 0.8440000923920948, 0.844046222492814, 0.8443308923823564, 0.8434092018078362, 0.8434532423644814, 0.8437374247237687, 0.8437798488412976, 0.8440639498005036, 0.8438722833702605, 0.8436789788860407, 0.8437300628049534, 0.8435349032335149, 0.8428629793181266, 0.8431461994052631, 0.8431897529974215, 0.8429933870806223, 0.8432763657268396, 0.8433194364410452, 0.8433609787418954, 0.8431649914585044, 0.8432061304355445, 0.8425318242368428, 0.8428140794543427, 0.8428573020059119, 0.8424261350594195, 0.8424688788023506, 0.8422815021731763, 0.8420911708037402, 0.8423727124857207, 0.8424226695189855, 0.8427041338255407, 0.8427525640990119, 0.8430339505978761, 0.8430847276784579, 0.8428915500203997, 0.8429367305117845, 0.8432178031128222, 0.8425436076869159, 0.8428243619713836, 0.842871459761243, 0.8429197004596233, 0.8432002995609746, 0.8434808986623261, 0.8435288298590038, 0.8435713392412044, 0.8431334719815313, 0.8427096284045856, 0.842526225035155, 0.8423425031784735, 0.8423928759861653, 0.8426724620717897, 0.842721335434927, 0.8427621996436411, 0.8425733118214052, 0.8421361762079853, 0.8424152140397307, 0.8424644297933368, 0.842286121522332, 0.8423271513848031, 0.8418936343260015, 0.8419432683538256, 0.8422216887467997, 0.8420445920541197, 0.841608340148935, 0.8416533791904154, 0.8412293520526127, 0.8415070771605866, 0.8417848022685602, 0.8418266144589014, 0.8421042617591846, 0.8423819090594679, 0.8417199608278289, 0.8415338118734013, 0.8411034038438144, 0.8404566267449116, 0.8402744781284355, 0.840550975159738, 0.8403683736344588, 0.8406447196961603, 0.8406957518140163, 0.8400285848361811, 0.8400790848899906, 0.8403549729310054, 0.8406308609720202, 0.8409067490130349, 0.8411826370540497, 0.8414585250950646, 0.8414996485931431, 0.8410784045813324, 0.841129158132237, 0.8411809800898306, 0.8409914447470939, 0.8410328782529698, 0.841084178512976, 0.8409038258456796, 0.8409434306292589, 0.8409867519878214, 0.8403207495107292, 0.8403622561415032, 0.8406367049514776, 0.8406891440811343, 0.8407289816295214, 0.8400751081771242, 0.8403491052769863, 0.8406231023768482, 0.840200170624209, 0.8404739406374461, 0.8400665290014487, 0.8401075824257139, 0.8399258934700671, 0.8399665717323227, 0.8402398204544219, 0.8402925705456769, 0.8403354159725682, 0.8403742822755644, 0.8406473083581751, 0.8409203344407856, 0.8411933605233965, 0.841466386606007, 0.8415136015115872, 0.8415531513895461, 0.8411332267976274, 0.8411723250588358, 0.8412138217919422, 0.8414863238398178, 0.8417588258876935, 0.8415822130981983, 0.8416219188907335, 0.8414325527585895, 0.841471883445658, 0.8412794594363413, 0.8408600756206009, 0.8409012680953895, 0.8409532316420419, 0.8407768326198661, 0.8410482260455019, 0.8406310060276262, 0.8406750477513002, 0.8407201678000288, 0.8405266372689713, 0.8407975127563281, 0.8408384836115328, 0.840651780269863, 0.8409224344167626, 0.8409629618014302, 0.8410082716386162, 0.8412787792846885, 0.8406390072870421, 0.8404532616656282, 0.8407233301944409, 0.8407689759955881, 0.8410389724554455, 0.8410782498061922, 0.8408964330936781, 0.8411662105826399, 0.8412124070476736, 0.8412523496858784, 0.8415219818492391, 0.8417916140125999, 0.8416074338916368, 0.8416541756440272, 0.8419235911932091, 0.842193006742391, 0.8422321436300905, 0.8425014855372316, 0.8418624609248584, 0.8419083396207787, 0.8417186661452503, 0.8410843791344037, 0.8411246882713217, 0.8411636142618955, 0.8412048594677763, 0.8414731863766974, 0.8415236963157531, 0.840894296033159, 0.8411622674468088, 0.8409812473044868, 0.8412490757271952, 0.8415169041499035, 0.8415618247711937, 0.8416135621540122, 0.8414279372154685, 0.8412371151470733, 0.8410569184896961, 0.8411032722367342, 0.841144727260081, 0.8414118421305987, 0.8414530821032656, 0.8412777486385687, 0.8413198386433793, 0.8404606179140444, 0.8404997148734402, 0.8407661173187251, 0.8410325197640098, 0.8410713284475833, 0.8404483422327296, 0.8402765330267477, 0.8398872604328588, 0.8394825292517447, 0.839520066141224, 0.8395610879051161, 0.839826435910143, 0.838974959530413, 0.8390165364153235, 0.8392814611189596, 0.8391063080556188, 0.8389261160401705, 0.838963452933591, 0.8387816685001883, 0.838597205410073, 0.838413663149943, 0.8382345326664125, 0.8384985435428426, 0.8385442669146352, 0.8383633695983235, 0.8379578707610467, 0.8375610825131684, 0.8376035944002831, 0.837866908953694, 0.8381302235071051, 0.8381736181820797, 0.838214543719902, 0.8384777194008188, 0.8380895474699332, 0.8381264194836622, 0.837945237486492, 0.8379966451573984, 0.8378274380728481, 0.8376431797039855, 0.8376815385051971, 0.8377197569614407, 0.8375406402716561, 0.8375796935478628, 0.8378417647911505, 0.8381038360344384, 0.8379351670964386, 0.8379749123290313, 0.8380179914695042, 0.8380597850578498, 0.8381037306728569, 0.8381486720012458, 0.837750692412975, 0.8377906416592197, 0.8378372767603451, 0.8378792629502338, 0.837918800622858, 0.8379616554175799, 0.8380020790621977, 0.8382630575981871, 0.8383032751167384, 0.8381359599518625, 0.8383967365417666, 0.838216732720084, 0.8382586358501838, 0.8382969391184967, 0.8376895646164286, 0.8377353538275111, 0.8377765117096143, 0.8380366099746592, 0.8378561248049852, 0.8376765139444075, 0.8379363391658542, 0.8381961643873008, 0.8382377130935963, 0.8378447008405573, 0.8381042562001733, 0.8383638115597891, 0.8386233669194054, 0.8386665642171398, 0.8384965408004579, 0.8385427265016411, 0.8385831985104544, 0.8381822997557625, 0.8384413177717562, 0.8382667815276854, 0.8385256656479841, 0.8387845497682831, 0.8390434338885818, 0.8393023180088806, 0.838907663315501, 0.8391663459128849, 0.8392154600469317, 0.8392522142973687, 0.8390771599887481, 0.8386866423530606, 0.8387360943067863, 0.8389942463825963, 0.8390381080358896, 0.8392961941964667, 0.8395542803570437, 0.8398123665176207, 0.8400704526781977, 0.839668921359665, 0.8397132171587736, 0.839971035156059, 0.8402288531533445, 0.8400456538346125, 0.8400850371570115, 0.8403426529304421, 0.839955905597033, 0.8399992770720525, 0.8400357829302718, 0.8398580189908204, 0.8401151708643633, 0.8403723227379061, 0.8404117676933105, 0.8406688529694477, 0.8407125267940481, 0.8409695468266969, 0.8407927840218337, 0.8404033136434675, 0.8402281820988499, 0.8398313253885277, 0.8398727848193, 0.8399096405941776, 0.8401658668420711, 0.8402102642579937, 0.8400382227256484, 0.83986269285886, 0.8401185925215227, 0.8401656022775625, 0.8404214383318491, 0.8404606769304639, 0.8407164470695175, 0.8407532449397307, 0.84079103577897, 0.8406129165241426, 0.8406526045392434, 0.8404838968574925, 0.8407392078832695, 0.8407849929186639, 0.8408252630407989, 0.8406545889332786, 0.8409096419032223, 0.8411646948731656, 0.8412011725906774, 0.8414561593056185, 0.8412857566920919, 0.841116143860771, 0.8413708731593358, 0.8412019801382116, 0.8414565812217886, 0.8412830770531123, 0.8408880127472201, 0.8409253556670955, 0.8405329750178832, 0.84035834933659, 0.8406122340342748, 0.8408661187319597, 0.8411200034296444, 0.841157671205778, 0.8409800270024899, 0.8410206468421206, 0.841060053521877, 0.8411004160146559, 0.8411417270794492, 0.8409641472568676, 0.8410051367074083, 0.8412583752309576, 0.8410877049503265, 0.8413408159057735, 0.8411633612339543, 0.8414163426959795, 0.8414566275718904, 0.8412861677531426, 0.8415389580679724, 0.8415831017662606, 0.8416250146452631, 0.8418776790147152, 0.8419150917082655, 0.8421676914957568, 0.8424202912832481, 0.8424617598478743, 0.8427142963466295, 0.8427523497765679, 0.842575727372798, 0.8426198416802284, 0.842440586406774, 0.8422717655627292, 0.8421006353018248, 0.8421398285741588, 0.842391664647297, 0.8424285036119088, 0.8426802754300832, 0.8427233190687067, 0.8429750285427415, 0.8428015841390215, 0.8430531667014509, 0.8433047492638807, 0.8431329812584547, 0.8431700148525556, 0.8432069205857694, 0.8432436984580957, 0.8430753353462865, 0.8431117964265006, 0.8431492114713199, 0.8431864992993875, 0.8430173042812965, 0.8432681276387145, 0.8435189509961324, 0.8435557957768511, 0.8435935889296878, 0.8438442853899938, 0.843880812448473, 0.8437051323755773, 0.8439556386500356, 0.8439939309725288, 0.8442443742754879, 0.8442814079610909, 0.8443225473951724, 0.8443603995374641, 0.8443970550626549, 0.8444357179606182, 0.8446858470239951, 0.8445147475675177, 0.8447647519332866, 0.8448061220509411, 0.8450560646906011, 0.8450941025683566, 0.8453439825513748, 0.8449566988599095, 0.8452063905557898, 0.8452439268631993, 0.844654115558247, 0.8444862605149879, 0.8447355185611849, 0.8447755250981785, 0.8450247214182663, 0.8448488550817128, 0.8450979260885175, 0.8453469970953224, 0.8455960681021271, 0.8458451391089318, 0.8458824270733425, 0.8461314357360077, 0.8463804443986728, 0.8464206232453538, 0.845610463280378, 0.8458590991119808, 0.8458976809949641, 0.8461462551004576, 0.8459723778716007, 0.8460095402080097, 0.8460507275791059, 0.8462990547665374, 0.8457077065604215, 0.8459557874365025, 0.8457889502388412, 0.8458283775094321, 0.8460762756271081, 0.8461134408089663, 0.846361277200533, 0.8463982572040647, 0.8466460318695228, 0.8460519683465776, 0.8460915662901647, 0.84613001294183, 0.8461672997311623, 0.8457892152546755, 0.8456200225252841, 0.8454546423362921, 0.8457015625005256, 0.845113891038967, 0.8453605675979391, 0.8453977343170387, 0.8454358111709391, 0.8456823657965357, 0.8459289204221324, 0.8461754750477292, 0.8464220296733258, 0.8464617865921247, 0.8458685303553419, 0.8459088739679894, 0.8459460388608042, 0.8461921680545375, 0.8464382972482705, 0.8466844264420036, 0.8469305556357366, 0.8469683842763418, 0.8459591418124044, 0.8462048458907698, 0.8460335857590678, 0.8460706261804936, 0.8458999649920884, 0.8459377259847216, 0.8459753665360582, 0.8462206478832707, 0.846465929230483, 0.8462933991254016, 0.8463346405095148, 0.8465797417665403, 0.8464107457377157, 0.8466557271402447, 0.8464843429793494, 0.8465219792414109, 0.8467667802764719, 0.8461811767580295, 0.8462183333140911, 0.846256382039293, 0.8460898093298844, 0.8459189636038994, 0.8461631665379652, 0.8461996653634927, 0.8460292937850653, 0.846067513423078, 0.8461035936402433, 0.8461405683651314, 0.8461784310684886, 0.8462171752844523, 0.8460516945696253, 0.8462953028893976, 0.8465389112091699, 0.8463679450164493, 0.8461967402883357, 0.8464401100727155, 0.8466834798570952, 0.8465158155008805, 0.8465524918945697, 0.8461807739736817, 0.84601140514355, 0.8462543024749147, 0.8460855750993911, 0.8459156145590316, 0.8457464217412527, 0.845783976085331, 0.8458233868612146, 0.8456556007898455, 0.8452863580768192, 0.845528491092596, 0.8457706241083729, 0.8451943547437819, 0.8452308537779517, 0.845472693793339, 0.8455129450797093, 0.8455511304522233, 0.8453894395982315, 0.8452216414660656, 0.8454631333636273, 0.8457046252611893, 0.8455353718841389, 0.8451668547123846, 0.8452030629604004, 0.8452420975163687, 0.845280042489879, 0.8453159012249462, 0.8453516429886362, 0.8455925525477663, 0.8456281188543908, 0.8458689699278328, 0.8461098210012745, 0.8463506720747166, 0.8465915231481583, 0.8468323742216001, 0.8470732252950421, 0.8471122474010357, 0.8469492614790102, 0.8457596957773228, 0.845594016922553, 0.8458341742690235, 0.846074331615494, 0.8461113437857974, 0.8459459961139627, 0.8455810134012589, 0.8456165285466504, 0.8454475719589558, 0.8454837778862908, 0.8453202304712499, 0.8455596979586357, 0.8455955591003285, 0.8458349689415232, 0.8458716318893238, 0.8459101092607039, 0.8457475136547117, 0.8455789064905748, 0.8458179731873491, 0.8458540061388706, 0.8458928118683952, 0.8461317646401092, 0.8459671948492009, 0.8462060336958551, 0.8462425224494421, 0.8456725775327326, 0.8457086668650966, 0.8457446420044056, 0.8457833763719176, 0.8458200888663008, 0.8458557225082046, 0.8460939917258126, 0.846129454078134, 0.8459657613088044, 0.8460009392544905, 0.846036969569764, 0.845874616910633, 0.8459103641710716, 0.8459497990106936, 0.8461875589317195, 0.8462277605841552, 0.8460617212258897, 0.8454925526731566, 0.8455331207652712, 0.8451704832910911, 0.844810308989598, 0.8448465642105655, 0.8446800202156866, 0.8449168242583598, 0.8449565004358023, 0.8447913625163828, 0.8448260419601636, 0.8446624042782183, 0.844898871916594, 0.844934171043977, 0.845170582395696, 0.8452066643467226, 0.845443019677916, 0.8452784921256205, 0.8449132362896921, 0.8449497040405707, 0.8447901356249907, 0.8450260446268407, 0.8450631190004998, 0.8452989725084542, 0.8449407649699456, 0.8449811496312666, 0.8452167829691449, 0.8448494113660129, 0.8448857090507482, 0.8451211188331531, 0.8453565286155579, 0.8451932636142905, 0.8452291728399086, 0.8450645830140393, 0.8450992712427613, 0.8451338479589271, 0.8451711246549772, 0.8452073605837624, 0.8452444171224813, 0.8452794944515295, 0.8453144607927865, 0.8455492051584607, 0.8455858758361051, 0.8454243013664445, 0.8450624515006352, 0.8452968654955034, 0.8453339125092603, 0.8453689898200555, 0.8452074139111841, 0.8454416082625036, 0.8456758026138228, 0.845909996965142, 0.8457450750502365, 0.8457804805255806, 0.8458157760516114, 0.8458509616283285, 0.8458869664301867, 0.846120830673048, 0.8463546949159098, 0.8463904808467049, 0.8464270810390774, 0.846068107810231, 0.846103456760607, 0.8461396207378442, 0.8461756757897387, 0.8464091035623703, 0.8466425313350021, 0.8468759591076335, 0.8467150160913064, 0.8463552173803247, 0.8463906191281559, 0.846426831989817, 0.8462641532554992, 0.8461030977621, 0.8463359274532838, 0.8461754613451395, 0.8464081828691616, 0.846442769195049, 0.846283640390767, 0.8463188777285253, 0.8465513829147145, 0.8465864576244033, 0.8462310238271293, 0.8462666911887491, 0.8461064722975304, 0.8459478660124192, 0.8459821852971485, 0.846214151895804, 0.8460523344335952, 0.846284193116641, 0.8465160517996868, 0.8463592385869456, 0.8465909908428566, 0.846432945678415, 0.8464718779810291, 0.845916212137839, 0.8455601673273263, 0.8457913842174893, 0.8458287878760199, 0.846059951797276, 0.8460953989278384, 0.8461298306919092, 0.8461659661481045, 0.8458075202908747, 0.8454532735549648, 0.8456839565763987, 0.8459146395978324, 0.8457558453024976, 0.8459864221414566, 0.846216998980416, 0.8464475758193754, 0.8466781526583345, 0.8461232962580498, 0.8463536592573033, 0.846388462396615, 0.8462284454057357, 0.8460691094750077, 0.8457165355522639, 0.8457516021854307, 0.8455952016415065, 0.8454350196543692, 0.845472329054126, 0.8453171097216521, 0.8453523860220346, 0.8453893292244258, 0.8450392391745363, 0.8450776175863209, 0.8451114729261869, 0.8449551612664832, 0.8444120976258199, 0.8446409355926562, 0.8446795035120797, 0.8445215114219596, 0.8443624367327729, 0.8445910134617206, 0.8444351008438625, 0.8444686457788322, 0.8445082053507029, 0.8445424336374596, 0.8445809305388435, 0.8446175928388872, 0.8448458061846962, 0.845074019530505, 0.8449178290449156, 0.844758803410469, 0.8447940707358501, 0.844249875074434, 0.8440928128740077, 0.8435601471212791, 0.8434034217596468, 0.8434368731487829, 0.8436641533625122, 0.8438914335762412, 0.843736736849975, 0.8435766183541272, 0.8436104336488406, 0.8436450236106857, 0.8438719929471427, 0.8439055484435107, 0.8439424818093004, 0.8437892255859278, 0.8438250415143356, 0.843858132446431, 0.8435098922609544, 0.8435444279490216, 0.843770882829008, 0.8438052639097776, 0.8440316672539983, 0.8438754560139234, 0.8437172939959268, 0.8439434916618774, 0.8435952879939397, 0.8438213317474217, 0.8438549409513257, 0.8440809331690419, 0.8441169837521209, 0.844151207416202, 0.8443770974904371, 0.8444120332527509, 0.8446378722560282, 0.8442887796330091, 0.8443224907267567, 0.8441666686267693, 0.8443922007316658, 0.8444256047032572, 0.8444597736969544, 0.8444947025436887, 0.8447200814341459, 0.8441838951230938, 0.8442192743372161, 0.8442562492779041, 0.8442914264947854, 0.8445164508621881, 0.8441706147132526, 0.8443954870133892, 0.8446203593135261, 0.8448452316136628, 0.8448799024764069, 0.8451047241641335, 0.8453295458518602, 0.8455543675395866, 0.8455913296875242, 0.8458161014391689, 0.8458495080107353, 0.8460742289214712, 0.8462989498322073, 0.8465236707429437, 0.8465610706228173, 0.8465949836459998, 0.8466296510891438, 0.846663361889647, 0.8468878814764649, 0.8471124010632826, 0.8473369206501001, 0.8467989006524365, 0.846454999943458, 0.8462994068524139, 0.8463331171898686, 0.8461788702343892, 0.8460244230867255, 0.846248239071669, 0.8462840380346591, 0.8459359798488565, 0.8457825203809634, 0.8460060358461803, 0.8460404933056447, 0.8458857372850688, 0.8461091029405438, 0.8461449407563755, 0.8458013153971857, 0.8456508924170916, 0.8449313391426451, 0.8451541585886216, 0.8451916843191511, 0.84541445492651, 0.84545018439073, 0.8454866431422108, 0.8457093154211528, 0.8459319877000946, 0.8455853886463423, 0.8456189495357471, 0.8458414222927939, 0.845688277127411, 0.8459106511156117, 0.845572202787441, 0.845794429384757, 0.8458282372738324, 0.8460504143784486, 0.8458938729020913, 0.8459273833930687, 0.8459616313362476, 0.846183610247645, 0.8462177103711641, 0.8462508748522023, 0.8462839403478408, 0.8459458345779172, 0.8456007775911154, 0.8456341878779516, 0.8456699810152347, 0.8457048550398542, 0.8457379707717232, 0.8457718212414301, 0.8459931116185212, 0.8462144019956119, 0.8464356923727028, 0.8460914247305773, 0.8461256618981782, 0.8461606249754535, 0.8463816700707969, 0.8464148337619847, 0.8466358298021316, 0.8464833402038963, 0.8463339435476355, 0.8461785902658013, 0.8462128231176356, 0.8464334783518254, 0.8466541335860149, 0.8466881719439711, 0.846724558431078, 0.8469451170553111, 0.8467904974185897, 0.8468249681443549, 0.8461110589554377, 0.8463312283696857, 0.846551397783934, 0.8465845613341916, 0.8466184498550374, 0.8468385222360759, 0.8468730827605497, 0.8470931069441716, 0.846380146210247, 0.8465999281230516, 0.8464482953730519, 0.8466679808896294, 0.8467018653651426, 0.8467348347267103, 0.8469544236361315, 0.8471740125455522, 0.8472067882681596, 0.847052605574734, 0.8472720492549348, 0.8471216439585497, 0.8471548052521761, 0.8473741049687827, 0.847221653897884, 0.8470681950052932, 0.8471017383979138, 0.8469487582100802, 0.8469828722004638, 0.8468327889787064, 0.8468658531296223, 0.8463454354889013, 0.8463789763532974, 0.8464156162200691, 0.8462638311625936, 0.846297845312446, 0.8463301447996724, 0.8465484399105312, 0.8465822157988537, 0.8466158965496551, 0.8468340965229929, 0.8464983054393425, 0.8467163627050404, 0.8469344199707383, 0.8464140151781863, 0.8466318823635601, 0.8466656536883678, 0.8465135788290377, 0.846547912021977, 0.8467655895514244, 0.846798981772546, 0.8470166119400536, 0.8468654820431493, 0.8465273192249396, 0.8465602372061996, 0.8465930604635796, 0.8466265897323506, 0.8466623964841903, 0.8468796007931909, 0.8470968051021913, 0.8471292504834663, 0.8469775966138406, 0.8468265556755246, 0.8468602219159738, 0.8468929970829583, 0.8471098710898938, 0.8473267450968294, 0.8473601294191905, 0.8475769564738013, 0.8472453913041769, 0.8469127319794969, 0.8467627167540895, 0.8464279960527046, 0.8464613302633512, 0.8464953598729114, 0.846344641983866, 0.8461953102007742, 0.8464113416815506, 0.8462601556850613, 0.8462928353973787, 0.8463262117176488, 0.8465420561990864, 0.8465776339795476, 0.8466107781565796, 0.8466430383246193, 0.846675996108144, 0.8463448401613667, 0.8460102549306499, 0.845861433359419, 0.8458945732268235, 0.846109813576245, 0.8463250539256666, 0.8461772872143103, 0.8462101030449929, 0.8462436089207264, 0.8460922386173804, 0.846124729812011, 0.8463396459232154, 0.846373560113658, 0.8458634600851085, 0.8457175064064758, 0.8459321010541302, 0.845965509976077, 0.846180058672495, 0.8456663480266361, 0.8457001634275993, 0.8459144817660251, 0.8461288001044507, 0.8459786346180576, 0.8461928606587306, 0.8462247524892416, 0.8464389323810384, 0.8464706857649207, 0.8465039047766053, 0.8465362556241157, 0.8467502976609358, 0.846783287701929, 0.8466366330262198, 0.8468505381886822, 0.8468832540907261, 0.8469158784830425, 0.8465835157381706, 0.8466158650121864, 0.8468294950563479, 0.8468617070657724, 0.846894601398261, 0.8469281736985597, 0.8471416670622347, 0.8471743337898591, 0.8468459248286226, 0.8468806133083262, 0.8470938796425769, 0.8467656598527752, 0.846618217007473, 0.8464721241972967, 0.8465069816411017, 0.8467198858115346, 0.8467553606994453, 0.8464251449804397, 0.8466378680628676, 0.8468505911452955, 0.8470633142277233, 0.8472760373101511, 0.8471310740425727, 0.8473437073442902, 0.8473762801138669, 0.8465066833237144, 0.8465388491452011, 0.8467511206720679, 0.8466066803856014, 0.8468188625110115, 0.8466711456100959, 0.8468832375804392, 0.8467367647080426, 0.8465878327199212, 0.8467997445679112, 0.8468318640520159, 0.8468638935724664, 0.8470757154568018, 0.8467522724170389, 0.8467847491761527, 0.8468186442847395, 0.8468516987979797, 0.8463428241102793, 0.8465541984419751, 0.8465861375065339, 0.8467974670466004, 0.847008796586667, 0.8472201261267335, 0.847255583102043, 0.8474668687836144, 0.8474992086930697, 0.8468117057292931, 0.8468436878726964, 0.8468763348301136, 0.8470872629334337, 0.8471205262866432, 0.8469737379685778, 0.8471845328262105, 0.8472167800489334, 0.8467101417084024, 0.8469207137406599, 0.8471312857729177, 0.8471661081174545, 0.847022805874515, 0.8470544321992624, 0.8470867212008054, 0.8471181700528312, 0.8471495300751879, 0.8468243218339968, 0.8468561679935132, 0.8468916176953327, 0.8471016602592455, 0.8473117028231579, 0.8473432845290431, 0.8471977695902456, 0.8474076798403921, 0.8470818094624974, 0.8467586650357422, 0.8467903778488484, 0.8464682782292993, 0.8466777482313356, 0.8467098983382819, 0.8465653282372466, 0.8464249953370176, 0.8464567960284539, 0.8463095221164428, 0.8465186423344109, 0.8465501795063188, 0.8465816289612367, 0.8467906614622146, 0.8469996939631927, 0.846853951710688, 0.8470628966778015, 0.8469161492508551, 0.8464186178713599, 0.8464530356944735, 0.8464844411811541, 0.8466930376427559, 0.846901634104358, 0.8467554992131591, 0.846436187992572, 0.8466445671624372, 0.8463248478961551, 0.846356296494234, 0.8465645022252289, 0.8465965558425719, 0.8464508560480798, 0.8466589314797532, 0.8466907248601447, 0.8467224316154498, 0.8464005734058462, 0.8466084320928321, 0.8462876570551259, 0.8463188873702029, 0.8465265729867356, 0.8467342586032682, 0.8467675007449621, 0.8466254380782475, 0.8464839326488363, 0.8463378872224393, 0.8461931357807384, 0.8462243231249351, 0.8460836147620135, 0.8462907850888406, 0.846322444475228, 0.8463547433824935, 0.8465618279783786, 0.8462434088912427, 0.8462746822133804, 0.8464815953386159, 0.8466885084638515, 0.8468954215890871, 0.8471023347143227, 0.8471369399659932, 0.8473438110136037, 0.8473746986243615, 0.8463572584657106, 0.8465637878113587, 0.8467703171570069, 0.8468014191631958, 0.8466612407576282, 0.8466942878496111, 0.846900647656545, 0.8469314090171295, 0.8466108023781244, 0.8468169910781679, 0.846673175518179, 0.846879279017575, 0.8467416134362219, 0.8467725033625182, 0.8469784806194782, 0.8470099637947278, 0.8470406408947151, 0.8465460531977518, 0.8465771538466373, 0.8466088869505537, 0.8466398180736141, 0.8464973466100864, 0.8465287837832152, 0.8467342519346193, 0.8469397200860229, 0.846620433241881, 0.8464772896538566, 0.8466825460286513, 0.8467134756696855, 0.8467443208091519, 0.8469494926823791, 0.8471546645556064, 0.8471867665974615, 0.8472180738971027, 0.8469001365645674, 0.8471050978754494, 0.8471375288244936, 0.8473424484008902, 0.847374046712746, 0.8474048492498077, 0.8474383901565812, 0.847295578084117, 0.8466314145432348, 0.846835914884912, 0.8470404152265891, 0.8465539744726005, 0.8464117038256864, 0.8466159537542157, 0.8466478773183909, 0.8465073498247497, 0.846537650928938, 0.8463961181848136, 0.8466001182132988, 0.8466308783936973, 0.8464882735225541, 0.8465209301546714, 0.846551398700566, 0.8467551905635176, 0.8466155922333556, 0.8463009464409641, 0.8463324083872606, 0.8463630848323318, 0.8460492630951901, 0.8462526403218955, 0.84628302615245, 0.8463140322400484, 0.8463449555365955, 0.8465482084077618, 0.8465797071273095, 0.846782918770883, 0.8468135938622072, 0.8470167641102547, 0.8468781801017405, 0.8467380355375631, 0.8465977348679166, 0.8466293123664939, 0.8463145411966574, 0.8465172998313474, 0.8465478920384907, 0.846579098987433, 0.8464393570148203, 0.846471741237588, 0.8466742948966541, 0.8463625180882566, 0.8462215129775871, 0.8460803436221763, 0.8461108121374533, 0.8461425829295077, 0.8460051491818442, 0.846207252657521, 0.8460675120689423, 0.8462695339199616, 0.8461274672770044, 0.8461600777782827, 0.8461926074734387, 0.8460549549761174, 0.8459171405367873, 0.8457791476531659, 0.8454687394975509, 0.8454985980952504, 0.8457000511803339, 0.8459015042654172, 0.8455938417574164, 0.8454550144356073, 0.8456562653316884, 0.8456863285444847, 0.8455491545691383, 0.8455803893731094, 0.8457814786452552, 0.845811906854248, 0.8458415642277357, 0.8458718300089194, 0.8457332771832002, 0.8459341639473766, 0.8461350507115533, 0.846165719380007, 0.84602536221735, 0.8460565112683123, 0.8462572364192654, 0.8461158281243824, 0.8459756319213276, 0.8460064178285908, 0.8460364398831949, 0.8460684194578756, 0.8460996436695349, 0.8461328026872593, 0.8463331656526126, 0.846362825685512, 0.8463930892543156, 0.8464239527378077, 0.8466241949788149, 0.8463159361496733, 0.8461769759157987, 0.8462081155584678, 0.8462398484369759, 0.846439810593979, 0.8461306623441667, 0.8463305042578048, 0.8461928082224249, 0.8462241026076974, 0.8462566535033085, 0.8462891255071907, 0.846488769084805, 0.8466884126624195, 0.846207976079713, 0.8462380780991614, 0.845931278891243, 0.8459618170096542, 0.8459922756058351, 0.8461915201361239, 0.8463907646664124, 0.8465900091967014, 0.8466209408948195, 0.8461440237522257, 0.8463430696293729, 0.8463730114834902, 0.8464035463552746, 0.8460989705179334, 0.8457954878788219, 0.8456597059990196, 0.8456903970715397, 0.8457196665994964, 0.8459182389560589, 0.8461168113126213, 0.8456455383647434, 0.8456764618052365, 0.8458748377052612, 0.8460732136052856, 0.8461026430248306, 0.8461326638180335, 0.8461619349826559, 0.8458576727241685, 0.845888708591767, 0.8460868089919054, 0.846119694287547, 0.8461505349438049, 0.8460133655100794, 0.8457133481457312, 0.8454051642797588, 0.8456028736259421, 0.8458005829721256, 0.8459982923183087, 0.8461960016644919, 0.8458910968059904, 0.8457568317967199, 0.8457880523044604, 0.8458198487260175, 0.8455128827407314, 0.8457102019665752, 0.8459075211924191, 0.8461048404182628, 0.8463021596441067, 0.8461663319128387, 0.8461956479938483, 0.8463928504287104, 0.8462540453497777, 0.8462837895157879, 0.8459831968588821, 0.8461801661713053, 0.8460421416035846, 0.8459052802964481, 0.8461020939959122, 0.846131293815388, 0.846163677328911, 0.8458599713409912, 0.8460565915109914, 0.8460880606890878, 0.8462846424875753, 0.8463146942673443, 0.8463440116235071, 0.846043280509398, 0.8462396693860249, 0.8459359925458714, 0.8459674919757589, 0.8459976185127014, 0.8458660392074666, 0.8455616410876752, 0.845594636601518, 0.8457906029135925, 0.8459865692256671, 0.846018777677895, 0.8458812955359338, 0.8457481655424198, 0.8459439405807396, 0.8458067289862928, 0.8458403784891964, 0.8460360389977526, 0.8460663909813579, 0.8460960181031008, 0.8461249160907107, 0.8463204614838447, 0.8461863591411662, 0.8463818283855972, 0.846245572752577, 0.8462753893275495, 0.8461439789034253, 0.8463392579200196, 0.8465345369366138, 0.8460643004319314, 0.8460962213263633, 0.8462913092261388, 0.8463205534982237, 0.8463541700669648, 0.8458893459732776, 0.8460842064538058, 0.8461137175800457, 0.8454841322226627, 0.8453491974591472, 0.8452134709193473, 0.8450782363606555, 0.8452726412919555, 0.8451365349148894, 0.8453308638491077, 0.8451958148617148, 0.8452256617628164, 0.8450903404093941, 0.8451193570206306, 0.84531345884815, 0.8453430032354523, 0.8453731100343329, 0.8454018616152643, 0.8452696631091339, 0.8453001413305316, 0.8451670569462089, 0.8450332023329838, 0.8447343682218594, 0.8449279814165014, 0.8449592315875083, 0.8449916530012018, 0.8448577927275276, 0.8450512568431054, 0.8450803121380313, 0.844946118032975, 0.8448142644821347, 0.8448430198829966, 0.8450362593660439, 0.8452294988490913, 0.8454227383321384, 0.8454519426090924, 0.8453213792542759, 0.8451862832384262, 0.8452151886336822, 0.8450810980863821, 0.8451104504085123, 0.8453033539580235, 0.845333851993973, 0.8453636487315336, 0.8453939984103984, 0.8455867906563299, 0.8454513227484203, 0.8454839245701959, 0.8456766055010461, 0.8458692864318962, 0.8460619673627463, 0.8459285347033836, 0.8459583653338912, 0.8459868609656466, 0.8456908319500849, 0.8457197369549846, 0.8455868977843493, 0.845456377290547, 0.8453232428216765, 0.845353618105295, 0.8453845386793553, 0.8455766278724205, 0.8456061967642896, 0.8451461300660853, 0.8451748135829614, 0.8450432844150374, 0.8452350781700113, 0.8454268719249851, 0.8456186656799591, 0.8458104594349329, 0.845841298334624, 0.845383474725263, 0.845575084760332, 0.8454408421451725, 0.8453077006453835, 0.8453361631705913, 0.8455275889321788, 0.8457190146937664, 0.8459104404553539, 0.8451328990422056, 0.8451621677475825, 0.8447085203526393, 0.8447375333500353, 0.8444423740864064, 0.844471167307608, 0.8446620082493721, 0.8448528491911367, 0.8448845560980555, 0.8447527534352975, 0.8446220261879518, 0.8446516170852526, 0.8445206427957496, 0.844711193482301, 0.8449017441688526, 0.8449310807514416, 0.8451215950875749, 0.845150205843366, 0.8451805838350944, 0.845211496252763, 0.8454019020865664, 0.8454333100971467, 0.8453031883520395, 0.8453313637163591, 0.8453613088045134, 0.8452308258938755, 0.8452587470753852, 0.8452872134436614, 0.8453186462689825, 0.8453494066873866, 0.8455394155448126, 0.8455712678446574, 0.8456000244392305, 0.8457899615516384, 0.8459798986640459, 0.8455232993133175, 0.8455523420987516, 0.8455819217697694, 0.8456114295645294, 0.8454800011205628, 0.8456696131414464, 0.845699511293968, 0.8457299406709211, 0.8452754535207362, 0.844984155685974, 0.84501237037739, 0.845201622867956, 0.8452303397366485, 0.8452595918049246, 0.8454487725551049, 0.8450008114395864, 0.8450303818063759, 0.8448979502615263, 0.8446070547589288, 0.8447958781559238, 0.8448256922077888, 0.8450144800719691, 0.8450441875253902, 0.8449153061498474, 0.844943020669746, 0.8448120747515866, 0.845000648875415, 0.8450305636389785, 0.8450604076040769, 0.844930239060789, 0.8446435661299686, 0.8448318924546354, 0.8450202187793021, 0.8452085451039688, 0.8452361550970778, 0.8454244456194875, 0.8454525549527542, 0.8454823931284121, 0.8456706127172653, 0.8458588323061184, 0.8458873318935503, 0.8455992286327267, 0.8454665163688391, 0.8454946965549132, 0.845364142130944, 0.8455520425848517, 0.8454242550795794, 0.8456120853961935, 0.8453229003883065, 0.8455106247721369, 0.8455400690511266, 0.8450950657389618, 0.8451236689017078, 0.8451516027333739, 0.8453390809061185, 0.8455265590788634, 0.8452409178958051, 0.845112411070749, 0.8448263820162346, 0.8448537882811522, 0.8448829128492769, 0.8447527043381955, 0.8447816536280168, 0.8446547399543543, 0.8443671545371594, 0.8443945986289954, 0.8442649113675337, 0.844135084092701, 0.8443217570436282, 0.8443512549757944, 0.8443818490159742, 0.8444112082357753, 0.844597777216826, 0.8446276170195283, 0.8446573875955616, 0.8448438873499434, 0.8450303871043253, 0.845059433900037, 0.8450895788644788, 0.845276009391473, 0.8453066301198, 0.845493026289617, 0.8452094528376168, 0.8452392529495005, 0.8454255110484317, 0.8451350286244186, 0.8451640025627274, 0.8453501210393984, 0.8452229097231856, 0.8450955312855168, 0.8449709273434083, 0.8449983097576418, 0.8451841870805099, 0.844894856513417, 0.8450806293490618, 0.8449543297839099, 0.8451400340322142, 0.8451675904720745, 0.8453532599778899, 0.8453824668986714, 0.8452521862730211, 0.8452823749113255, 0.8453095850794006, 0.845495082025874, 0.8455256721746606, 0.8453977944570596, 0.8452709122978032, 0.8454562380843187, 0.8456415638708343, 0.8456689143989615, 0.8456961957004197, 0.8458814522602663, 0.8459121007061494, 0.8460973234126759, 0.846128437916288, 0.845846034364554, 0.8455651489154563, 0.8457501336340988, 0.8459351183527414, 0.8453326018292892, 0.8452076281832589, 0.8452363137884482, 0.8451088250740794, 0.844982350142731, 0.8451669247058902, 0.8453514992690495, 0.8453786836033899, 0.8454057992233757, 0.8454362908906436, 0.8456207631339101, 0.8454919239107286, 0.8456763278199786, 0.8453976879063276, 0.8454278086593637, 0.845454995795237, 0.8453301462573686, 0.8448902620522066, 0.8447628113840467, 0.8449467754109161, 0.8449769200700722, 0.8445403108997349, 0.8445718957663111, 0.8445994601749012, 0.8444718607951213, 0.8443418342465149, 0.8445254267305866, 0.8445571960831622, 0.844740755569379, 0.8447690600636906, 0.8446447783197376, 0.8446723426801919, 0.8446992639524797, 0.8447284003791381, 0.8445986145025758, 0.8443160858354665, 0.8441921898089483, 0.8442220470308431, 0.8440968366683249, 0.8441242662495189, 0.844153889939433, 0.8441862060485938, 0.8442128613767655, 0.8443957497782769, 0.8444284446649737, 0.8444588834500981, 0.8446417063302564, 0.8448245292104144, 0.8448520272930458, 0.8450348165676654, 0.8450655765937517, 0.8446254845641932, 0.8446526470709059, 0.8448352351917601, 0.8447067704511024, 0.8445820881136419, 0.8446100836985384, 0.844481819409196, 0.8443539900873315, 0.8443822812334426, 0.8444105059016843, 0.8445927265546628, 0.844774947207641, 0.8448024753773996, 0.8449846626699117, 0.8451668499624233, 0.8453490372549352, 0.8453758314944306, 0.8452476994830418, 0.8452760192697584, 0.8453031471119203, 0.8453346393740334, 0.8455166274557071, 0.8450824521926409, 0.845109813111766, 0.8451376694723223, 0.8450092062646359, 0.8451909286745855, 0.8453726510845346, 0.8452472924146616, 0.8451223551538604, 0.8449972740169395, 0.8451787986730117, 0.8453603233290842, 0.8455418479851566, 0.8455685124441885, 0.8454419036692595, 0.8454711886919819, 0.8453487660659965, 0.8455300935576451, 0.8457114210492938, 0.8457382527634957, 0.8457655791449981, 0.8456382775172114, 0.8456654387892273, 0.845692534065533, 0.8457201216794015, 0.8455973568626727, 0.8457783881957626, 0.8459594195288525, 0.8461404508619422, 0.8460195576279256, 0.8458919284369566, 0.8457658417316208, 0.8457928721719098, 0.8459736744105101, 0.845848402249487, 0.8460291390875746, 0.8459042124690269, 0.8460848840223095, 0.8459581086518664, 0.8461387145674625, 0.8460156037446203, 0.8460437072103796, 0.8462242157888328, 0.8460975068187366, 0.8461248630073251, 0.8463052734258767, 0.846334721507794, 0.8462076201282747, 0.8462358167087155, 0.8462639484761422, 0.84629091367066, 0.8463178135829302, 0.8464979962130309, 0.8465264474454848, 0.8465537373437702, 0.8461206244247087, 0.8459958580375437, 0.8461757805934853, 0.8462032629394327, 0.8462317724848892, 0.846258574877254, 0.8462858628992634, 0.8463125353146264, 0.8461870913510854, 0.845911602806372, 0.8459390829933826, 0.8456659961553742, 0.8456943714014571, 0.8457237591249547, 0.8459031659470007, 0.8459319210951393, 0.8458088223844971, 0.8458352392365042, 0.845862140382526, 0.846041386438975, 0.8460681907145577, 0.8460949304098477, 0.845971276855124, 0.8459984022942819, 0.8460270864072978, 0.8462061397589185, 0.845780060674452, 0.8459589860099024, 0.8458336057656665, 0.8455570008395984, 0.8451317521577277, 0.8450069799943254, 0.8450343581624621, 0.8452128991212963, 0.8453914400801305, 0.8452700681129534, 0.8454485457455784, 0.8456270233782035, 0.8456541146065353, 0.8456822186954117, 0.8458606326656006, 0.8460390466357894, 0.8456162195622241, 0.845642417464164, 0.8458206726111841, 0.8458489306026513, 0.8458760527950775, 0.8460542445062202, 0.8460807303650759, 0.8462588901314192, 0.8462858212244753, 0.8464639491599046, 0.8464907847602181, 0.8466688808647331, 0.8468469769692482, 0.8464205992557664, 0.846447687464402, 0.8466256247541782, 0.8468035620439542, 0.8469814993337301, 0.8465580569361526, 0.8467358679121947, 0.8466131438184504, 0.8467908916966405, 0.8468206839397855, 0.8467008391375017, 0.8467283669295288, 0.8469059898300806, 0.8464801705567376, 0.8463598388220651, 0.8465372727505395, 0.8462649127800062, 0.8462914019620253, 0.8464687100286421, 0.8464956395507344, 0.8466729161244622, 0.8467013403290785, 0.8462787571146858, 0.8464558769885064, 0.8466329968623271, 0.8468101167361477, 0.8468377009772091, 0.8468646922981385, 0.847041749520028, 0.8472188067419177, 0.8464936314367384, 0.8465208081583174, 0.8466976455947408, 0.8468744830311641, 0.8464547719154518, 0.8463318478656344, 0.84620985588349, 0.8463864439168545, 0.8462642565928162, 0.8459909474347789, 0.8461673793320541, 0.8463438112293297, 0.8465202431266048, 0.8465471371299369, 0.8467235378669926, 0.8468999386040481, 0.8470763393411037, 0.84650177850963, 0.8466780228940791, 0.8467061157045144, 0.8467336250803239, 0.8467621135867083, 0.846788447136286, 0.846964567861564, 0.8468414550229142, 0.847017513537472, 0.8467437431216354, 0.8469197081555345, 0.8466529745524799, 0.8465329569118731, 0.8465592293226744, 0.8462868248405965, 0.8463160249655655, 0.84634204972781, 0.8463680123890537, 0.846543607412371, 0.8467192024356882, 0.8467486680846681, 0.8467754954124503, 0.8466524451811648, 0.8468279171905287, 0.8468540352554879, 0.8468806155952215, 0.8466103723265134, 0.8464883671066874, 0.8463662387716779, 0.8463934904796154, 0.846271146854462, 0.8462982451527022, 0.8461787892605921, 0.8460587028129838, 0.8459353764701278, 0.8458145228484548, 0.845989350157849, 0.8458667614227536, 0.845893308601058, 0.8459192743716468, 0.8459456989730473, 0.8461203728733103, 0.846295046773573, 0.8461729744114936, 0.8460528380723942, 0.8459331035620808, 0.8461075947138058, 0.8458396968008304, 0.8460140967383151, 0.8460399412032513, 0.8460657244334504, 0.846240063136198, 0.8464144018389455, 0.846441097778803, 0.8464672165705289, 0.8464937907873047, 0.8465208180529998, 0.8465472707587562, 0.8465736626561255, 0.8466005079196754, 0.8464778887585915, 0.8466519537161812, 0.8468260186737708, 0.8470000836313604, 0.8468807569831933, 0.8470547616589655, 0.847082265034911, 0.8472562396221022, 0.8469864328582741, 0.8470132148893639, 0.8471870681764923, 0.8470665951261317, 0.8469480394627954, 0.8468278329361395, 0.8470015055844037, 0.8470294192280601, 0.8467631581223604, 0.8466409979562253, 0.8468144899640034, 0.8468405785901385, 0.8470140404046796, 0.8468935943091707, 0.8469210277751362, 0.8469473867253778, 0.8468266399495741, 0.8465591981911824, 0.8464407178782786, 0.8461744707552231, 0.8462018690697898, 0.846228197088314, 0.8462539557142839, 0.8461339213300267, 0.8463068134267431, 0.8463344150017666, 0.8462146134459985, 0.8460936882544567, 0.8461195370339978, 0.8462922497380259, 0.8460266231905539, 0.8461992464558448, 0.8460803654389881, 0.8459613707138667, 0.8459873092829137, 0.8460136935924801, 0.8456036575253638, 0.8456308373983328, 0.8456584561543826, 0.8453960906950753, 0.8452757883988502, 0.8451558679019098, 0.8453279273212709, 0.8452093370374113, 0.8453813373094986, 0.8455533375815861, 0.845436997263446, 0.8451751003694443, 0.8450579917930936, 0.8452297864651392, 0.845401581137185, 0.8452802425830978, 0.8453073843114266, 0.8453339703123477, 0.8455056465857661, 0.8455326413582094, 0.8455600721266949, 0.8455874443540257, 0.8456152504452368, 0.8456405101521833, 0.8452297016662704, 0.8452572433020755, 0.8452842337918927, 0.8453096717387577, 0.8451920717119086, 0.8453633365693985, 0.8455346014268882, 0.8457058662843778, 0.8455850053485617, 0.8453229044508606, 0.8453503812106714, 0.8455214701362351, 0.8456925590617989, 0.845574699225876, 0.8453129599810396, 0.8454839029456467, 0.8453657319536972, 0.8453907894054747, 0.84556164445588, 0.8457324995062854, 0.8459033545566907, 0.8457857802717765, 0.8459565770771625, 0.8459833547187552, 0.8461541224528526, 0.8457431373141657, 0.8457701714448014, 0.845798120669623, 0.8455376682984724, 0.8454212257841057, 0.8455916736118849, 0.845762121439664, 0.845932569267443, 0.8459601722850009, 0.8455532154029746, 0.8454357542177355, 0.845464511635303, 0.845634727965409, 0.8455174903946533, 0.8455431645709011, 0.8457132939802715, 0.8458834233896418, 0.845618355459378, 0.8457883973567155, 0.8456706482453239, 0.8456993657795883, 0.845725125771868, 0.8458950524597867, 0.8459202332016968, 0.8460901308183268, 0.846260028434957, 0.8461402597318379, 0.846169109476666, 0.8463389206565729, 0.84650873183648, 0.846678543016387, 0.8468483541962941, 0.847018165376201, 0.8471879765561081, 0.8466349261893521, 0.8468045925072257, 0.8468301196753817, 0.8469997571192269, 0.8471693945630723, 0.847051555783424, 0.84707737002744, 0.8469593298132491, 0.8471288233753489, 0.8465780759914502, 0.8467474254765452, 0.8467728654338575, 0.846798734939728, 0.8469680269699038, 0.8469942952656855, 0.8471635587139801, 0.8471897412641173, 0.8469267295764746, 0.846667895187521, 0.8468369582656334, 0.8468628261180635, 0.8470318606142946, 0.8470581258657329, 0.847086242867678, 0.846684843837586, 0.8465670292584188, 0.8463085841015344, 0.8461919637482301, 0.8462172047994775, 0.8460999014196856, 0.8459834470570426, 0.8460122645920624, 0.8458956120663791, 0.8460640500616131, 0.8458045906931906, 0.8455454453812818, 0.845429772767033, 0.8455979840230551, 0.8453408217176893, 0.8452257815670752, 0.8451087328087039, 0.8451358244719673, 0.8451619117557216, 0.8451865017704104, 0.8453544307395682, 0.8455223597087258, 0.8455477993589235, 0.8454316188985198, 0.8454588162770955, 0.8453424314901046, 0.8455101914487251, 0.8452514781305854, 0.8452769731262009, 0.8454446202846947, 0.8454705071877727, 0.8454977533979088, 0.8456653446275221, 0.8456901353025698, 0.8457172419219546, 0.8456009730822809, 0.8453426367391639, 0.8455100313206966, 0.8455349635481598, 0.8454197118120558, 0.8454445035111642, 0.8453276469486608, 0.8453546622317338, 0.845242315377505, 0.8451274903208542, 0.8451523957800481, 0.8450355107171946, 0.8452025137825541, 0.8453695168479131, 0.8455365199132722, 0.8455616766231078, 0.8455867773114761, 0.8454708671965581, 0.8453538952452251, 0.8455207304327612, 0.8456875656202971, 0.8458544008078333, 0.8460212359953694, 0.8461880711829053, 0.8460730581621124, 0.8459602808729046, 0.845706164793399, 0.8455931208012475, 0.8457597073104675, 0.8456469543778488, 0.8455308457885232, 0.8456973216392397, 0.845863797489956, 0.8457474663055619, 0.8459138865075111, 0.8457969176347669, 0.8459632820953557, 0.8461296465559449, 0.8462960110165338, 0.846462375477123, 0.8463464857869629, 0.8463716411511394, 0.8465379224165914, 0.8462791619458164, 0.8464453597388146, 0.8466115575318126, 0.8466364630341839, 0.8468026330956233, 0.8466870468373078, 0.8467122558205886, 0.8468783429637468, 0.846764373436614, 0.8465060296267662, 0.8465309623051634, 0.846556307512323, 0.8464405259881074, 0.8464652653738611, 0.8464913467692984, 0.8466571304251481, 0.8466822001534045, 0.8468479562615002, 0.8470137123695961, 0.8471794684776919, 0.8473452245857876, 0.8472315863673273, 0.8473972878315104, 0.8474220825338215, 0.8475877564502504, 0.847472440174154, 0.8473560803672427, 0.8475216442750909, 0.8474069826889871, 0.8472922093387616, 0.8474576637830771, 0.8474833860723585, 0.8475081259492023, 0.8476735256615265, 0.8474166987585828, 0.8475820161012979, 0.8477473334440134, 0.8477727549789659, 0.8479380450462264, 0.8479629213430311, 0.8479886676217087, 0.8481539031376132, 0.8478990352384519, 0.8476426192260375, 0.8476676040809823, 0.847555176699936, 0.8475818591057933, 0.8476066539259477, 0.8476318561254652, 0.8476570039538125, 0.8478218856896523, 0.8472858413047242, 0.8474505867531595, 0.8474768358759878, 0.8475016573847947, 0.8476663487290204, 0.8476910886810721, 0.8478557528397127, 0.8478808717802833, 0.8479059365285361, 0.8476503660913159, 0.8478148945008834, 0.8479794229104509, 0.8478659593335578, 0.8476131389187938, 0.8474998848010802, 0.847386981993853, 0.8472726056840564, 0.847017848256794, 0.8470426149821846, 0.8470673276932285, 0.8469534604582369, 0.8469798539474779, 0.8468653434384592, 0.846752545866557, 0.8467787252343459, 0.846804851290979, 0.8465508218958645, 0.84643806674046, 0.8463256602443762, 0.8462126912275771, 0.8463763054370178, 0.8462645325663738, 0.8461521994940702, 0.8461772862761103, 0.846062051761465, 0.8460870044777644, 0.8461114496063777, 0.8462748231243553, 0.8463000940929936, 0.846463440955393, 0.8466267878177931, 0.8467901346801927, 0.8468148199677608, 0.8462860338755747, 0.8463105054779971, 0.8460578926530513, 0.8462209724318974, 0.8463840522107434, 0.8464087628844705, 0.8462968145512786, 0.8464598147081646, 0.8463477140327094, 0.8462350607523204, 0.8463979548929851, 0.8461479474567171, 0.8460350025219361, 0.8460591818117711, 0.8459469474654263, 0.8461096295707081, 0.8461345504938176, 0.8460207294801743, 0.8459090308298348, 0.8456598466795286, 0.845684897860243, 0.8458473421356676, 0.8457361635884579, 0.8456231057165458, 0.8453742045387391, 0.8453998025692376, 0.8454257897901665, 0.8455879973476856, 0.8457502049052049, 0.8453617798687703, 0.845252057316892, 0.8452763973233821, 0.8451638390639467, 0.8451889382043237, 0.8453508828178904, 0.8453776601097946, 0.8455395788341982, 0.8457014975586012, 0.845454597657116, 0.8453432633624818, 0.8453675512837494, 0.8453926745660028, 0.8454164100874826, 0.8454423082970708, 0.8453305554881618, 0.845492186569517, 0.8455161595229388, 0.8455405254354597, 0.8457021039803546, 0.8455913050366191, 0.8457528315514301, 0.8457765683842864, 0.8458011424468499, 0.8459626165099363, 0.8461240905730227, 0.8458745487946284, 0.8458997956630514, 0.8460611653302896, 0.8462225349975279, 0.846109241970977, 0.8459984878256893, 0.846023034310137, 0.8461842736915569, 0.8462087420062196, 0.8462327154985557, 0.8463939026824601, 0.846283582384691, 0.8458994165587285, 0.8460604482390174, 0.8459498173495819, 0.8457021359464226, 0.8458630381792892, 0.8454816055888017, 0.8456424046769699, 0.8458032037651382, 0.8459640028533066, 0.8457161071448086, 0.8456056251794077, 0.845631751937298, 0.8457923962670734, 0.8456825516776295, 0.8458431446422473, 0.8458677913247431, 0.8458928222031096, 0.8459164876318941, 0.8456684854893428, 0.8454216303241271, 0.8455819910279063, 0.8456066868347847, 0.8456304564787421, 0.8456546128394793, 0.8456800207253419, 0.8455683063185553, 0.8455922823665867, 0.8457524627572603, 0.8457780960628236, 0.8458041069882732, 0.8458292077509375, 0.845717902398699, 0.8458779549918857, 0.8459015967940138, 0.8456544939900829, 0.8458144437714313, 0.8458387781681646, 0.8459987023084876, 0.845888587226551, 0.8460484603294101, 0.8459381962711842, 0.8460980183373608, 0.8462578404035369, 0.8462814316593251, 0.8463062732758159, 0.8463314938104132, 0.8463553674843615, 0.8462458830140355, 0.846271353593836, 0.8464309973126805, 0.8463212781968936, 0.8463453056261052, 0.8462328217093683, 0.8459884934738391, 0.8460135830973735, 0.8460386220895352, 0.8459287766628304, 0.8460881152909453, 0.8461125734346997, 0.8462718866663762, 0.8460268268762043, 0.8461860639977692, 0.8462098877966, 0.8460999348837296, 0.846124063031815, 0.8461481403870236, 0.8461734493826741, 0.8463325344455399, 0.8463573423741284, 0.845978312813835, 0.8460025161349336, 0.8461614495401815, 0.8461851469109309, 0.846210077609852, 0.8462345319171339, 0.8463933895352902, 0.8464169095331939, 0.8461722208520952, 0.846196874279767, 0.846355605638664, 0.8465143369975607, 0.8466730683564577, 0.8468317997153546, 0.8469905310742518, 0.8470154332690731, 0.846905150177302, 0.8465248684004741, 0.8465490938640994, 0.8467076236569581, 0.8467326221441992, 0.8467575706384396, 0.8467811928916745, 0.8464052202719141, 0.846430365108272, 0.8461838950110451, 0.8462088893885035, 0.8463671184254122, 0.8462570351467908, 0.8461472735085825, 0.8460378317535383, 0.8461959105711303, 0.8462197339372592, 0.8463777876791226, 0.8462680708758465, 0.846159106951365, 0.8459182146192796, 0.8460760940919595, 0.8460995676588038, 0.8461242592846976, 0.8462820888424826, 0.8463071248579507, 0.8460618360085508, 0.846087139682578, 0.8462448446480362, 0.8462696570269543, 0.8461606559920434, 0.8461840803055015, 0.8460757501187255, 0.8457004906456932, 0.8457253486910801, 0.845616680715772, 0.8455087650967084, 0.8456660983243036, 0.8455592786616496, 0.8457165627536625, 0.8457398397391627, 0.8457647435841288, 0.8459219781525584, 0.8456803041854638, 0.8458374646211049, 0.8457292971059074, 0.8456201958206069, 0.8457772575211677, 0.845802206447557, 0.8458266914423087, 0.8459837040080117, 0.8461407165737148, 0.8458965008348285, 0.8460534389611428, 0.8460772846632599, 0.8459712769168071, 0.8457295353280478, 0.8457535770962812, 0.8459103432829534, 0.8460671094696256, 0.8460902154770278, 0.8462469569026438, 0.8464036983282603, 0.8465604397538767, 0.8465846759425683, 0.8464754991327739, 0.8466321668172332, 0.8466566699868252, 0.8466823558201403, 0.846043577360146, 0.8459359745134215, 0.8460923975856318, 0.846248820657842, 0.8462721010107026, 0.8464284994769772, 0.8461869877000963, 0.8463433126562574, 0.8462339874317664, 0.8463902633297226, 0.8465465392276785, 0.8467028151256345, 0.8467286321666403, 0.8464897596328331, 0.8465137963945881, 0.8465369551256888, 0.846693085143233, 0.8465831254143575, 0.8466086030710581, 0.8467646599564167, 0.8466561380738973, 0.8468121462069496, 0.8468354029706745, 0.8467282918724128, 0.8466210838699968, 0.8466441459204909, 0.8464031167967624, 0.8465589060691343, 0.8465846595966303, 0.8466079171430702, 0.8467636581138468, 0.8466575589814809, 0.8468132518021836, 0.8469689446228864, 0.8468593780832148, 0.8470150221519674, 0.84717066622072, 0.8471940208857471, 0.8473496406544625, 0.847240996042338, 0.8471322543812304, 0.8472877771009628, 0.8470460671089566, 0.8470699036638913, 0.8472253293342883, 0.8473807550046853, 0.8470102393343488, 0.8471655685548394, 0.8471891637645301, 0.8470809506066296, 0.8469734581175915, 0.8467328348437848, 0.8467561403362849, 0.8469112522872534, 0.8470663642382217, 0.8469597037376284, 0.8468537561094326, 0.8467452788000773, 0.8465071754083496, 0.8461361080457876, 0.8462909079191953, 0.8463156881993065, 0.8464704642944417, 0.8466252403895769, 0.84651942876918, 0.8466741572335866, 0.8466995462202668, 0.8465931199454035, 0.8463523560134021, 0.8461130783260795, 0.8462675913060516, 0.8462922477019296, 0.8463156485046351, 0.8463394061239955, 0.8461044600020241, 0.846258830456321, 0.8461500190160732, 0.8461731333704965, 0.8460677752524942, 0.8458306780636867, 0.8458555853495853, 0.8457479426821346, 0.8455108923451604, 0.8454058341948507, 0.8455598243285836, 0.8455824149570986, 0.8456061690044911, 0.8452391661918174, 0.8453930138740511, 0.8454157721979929, 0.8455695960284512, 0.8455950728691575, 0.8454901595847654, 0.8452523726122909, 0.8452760536802426, 0.8453000863327531, 0.8453232721784423, 0.8454768835308281, 0.8455023762833255, 0.8455250411949313, 0.845678605495911, 0.8454440583522539, 0.8454665576875451, 0.8456200277470274, 0.8457734978065095, 0.8459269678659919, 0.8460804379254737, 0.8462339079849561, 0.8462582398865128, 0.8464116865301914, 0.8463035710072229, 0.8463273654905457, 0.8460914509723271, 0.8462447561817804, 0.8463980613912335, 0.846292755196955, 0.8464460135734848, 0.8464695262740873, 0.846236218926365, 0.8459976078868978, 0.8461507019165552, 0.846175142064254, 0.8461979507416737, 0.846221111336692, 0.8461162831744691, 0.8460105724550286, 0.8460339431402659, 0.8457969065635998, 0.8459497430122017, 0.8458429220434945, 0.8458664541710084, 0.8460192203718699, 0.8457836764118714, 0.8456788950895767, 0.845831544709629, 0.8457258404846749, 0.8456188540628806, 0.8453855026360767, 0.845408939673373, 0.8451745738895775, 0.8453269674297668, 0.8454793609699559, 0.8453738624028334, 0.8453974367757657, 0.8454197795113858, 0.8454428675209016, 0.8455951446944464, 0.8454889020961669, 0.8456411327231198, 0.8456656215925887, 0.8458178292278646, 0.8459700368631404, 0.8459936550270697, 0.8460164409083518, 0.846168602138731, 0.8463207633691102, 0.8464729245994894, 0.8464959883060166, 0.8465197887497615, 0.8462872072087185, 0.8461832566650918, 0.846206849762537, 0.8461031221177351, 0.8462550530069641, 0.8462785079424826, 0.8464304157701514, 0.8465823235978203, 0.8467342314254888, 0.8468861392531574, 0.8470380470808262, 0.8468017574477533, 0.8469535956685614, 0.8465911802044548, 0.8467429262485855, 0.8467663557433068, 0.8469180787957604, 0.8470698018482141, 0.8469651423102575, 0.8467304176664658, 0.8468820256194947, 0.8467771097073802, 0.8469286717459891, 0.847080233784598, 0.8469743582253436, 0.8471258742107148, 0.846892067300986, 0.8469164677321291, 0.8469388857265047, 0.8465796027209358, 0.8466030281460313, 0.8467543153204676, 0.8469056024949042, 0.8469304700166053, 0.8470817346120715, 0.8471042228245886, 0.8469978656791252, 0.847020628713488, 0.8470441203138102, 0.846940616147006, 0.8469632192756267, 0.8467314355263479, 0.8467542899652966, 0.8469052803879009, 0.846801016716681, 0.846439816929507, 0.8464628072077731, 0.8464857519181959, 0.8465082640443233, 0.8465311175501208, 0.8466818799931396, 0.8468326424361582, 0.8469834048791769, 0.8468773468862544, 0.8467723580216904, 0.8466676639069586, 0.8468182897144496, 0.8464587679120952, 0.8464823188674359, 0.8466328313707905, 0.8465296662017033, 0.8465526990645904, 0.8464486018301377, 0.8465990013684872, 0.8466215137927693, 0.8466443654776766, 0.8466679361986321, 0.8466922195117131, 0.84684252879975, 0.8468656055921334, 0.8467598454895191, 0.846654764727955, 0.8466784221853294, 0.8467008894120018, 0.8468510403056729, 0.8470011911993442, 0.8468965609961291, 0.8467918387509121, 0.8468144636220145, 0.8467118661786234, 0.8468618594232964, 0.8466297246572607, 0.8466532662294328, 0.8466760032814715, 0.8468258839688996, 0.8467213423179475, 0.8468711779828417, 0.8470210136477361, 0.8471708493126305, 0.8473206849775249, 0.8473443354250085, 0.847241352469338, 0.8473911211369124, 0.847540889804487, 0.8476906584720616, 0.8477133724035312, 0.8476082010409861, 0.8476308026183181, 0.8476537393439914, 0.8476762512129488, 0.8476987181941704, 0.8478483296869685, 0.8479979411797665, 0.8481475526725646, 0.8477888981190137, 0.8476846226324746, 0.8478340997304524, 0.8479835768284303, 0.8480064671294512, 0.8481559219174543, 0.848178745288551, 0.848201524039698, 0.8483509342077513, 0.8479927906197562, 0.8480161444847735, 0.8479119571681994, 0.8479344458884812, 0.8477044468473782, 0.8474739380593308, 0.847623036218736, 0.8476456579673487, 0.8476686117130973, 0.8475657516285982, 0.8474624263503134, 0.847611391445471, 0.8476348941308507, 0.8476579792590723, 0.8474281328155836, 0.8475769872214883, 0.847725841627393, 0.847369403937936, 0.8473922011558219, 0.8475409447403676, 0.8475633000274181, 0.8477120214346876, 0.8477350599745973, 0.8476323478471095, 0.8475299217233836, 0.8471732864106285, 0.8473218090765489, 0.8470922036855889, 0.8468639569099002, 0.8467610457756999, 0.8465329315332243, 0.8464301937051595, 0.8465784301664039, 0.8466011143691581, 0.8464974323510788, 0.846394781887796, 0.846542908380951, 0.8465661364796928, 0.8465889507430475, 0.8464871492786503, 0.8465098540944578, 0.8465325150794522, 0.8463047399505317, 0.8462018679015859, 0.84610038865075, 0.8462482307595481, 0.8462717142114631, 0.846168186995816, 0.8459423864216399, 0.8460900976817101, 0.8459885502134827, 0.8460106426858877, 0.845907465173109, 0.845929819238424, 0.8458283329686997, 0.8457256559233601, 0.845873149061819, 0.8458960446009973, 0.8460435160174201, 0.8458181624627568, 0.8459655689044545, 0.8459893861789368, 0.8458869902621986, 0.8457859747259509, 0.8458092554271135, 0.8455840398238644, 0.8456064584323559, 0.8457536484164174, 0.8456522458450971, 0.8455507728924619, 0.8454499431957719, 0.8455970035442142, 0.8457440638926567, 0.8455199218259487, 0.8455430485669012, 0.8456900228496348, 0.8457116175077012, 0.8456092397868034, 0.8455071400068626, 0.8455314718312869, 0.8455535872041627, 0.8455767535624592, 0.8453535850387659, 0.8452532753690963, 0.8450295159469647, 0.8451761460902836, 0.8453227762336025, 0.8452196446165472, 0.8453662314435704, 0.8453886262293919, 0.8455351915252013, 0.8455571563200175, 0.8455787108503602, 0.8456005892034056, 0.8456227899547146, 0.8457692688720806, 0.8459157477894468, 0.845690224748908, 0.8457126176731163, 0.8458590107175465, 0.8460054037619766, 0.8461517968064068, 0.8461733518098937, 0.846319723259783, 0.8463437435705774, 0.8464900938634308, 0.8466364441562841, 0.8465361650370642, 0.846433270436188, 0.8465795350414128, 0.8466011554499457, 0.8466234613016917, 0.8467696829703104, 0.846915904638929, 0.8468162799774847, 0.8469624592075862, 0.8469849563614508, 0.8468826191105187, 0.8470287341241678, 0.8469259042981196, 0.8469496428620898, 0.8468481146771506, 0.8467457776096206, 0.84689174309447, 0.8466675772061981, 0.8468134789082841, 0.8468354851051842, 0.8466096133332781, 0.8467554296635112, 0.8469012459937444, 0.8468012536392827, 0.8468237469010204, 0.8469694996973887, 0.8467452641531044, 0.8468909532900886, 0.8470366424270729, 0.8469344755294129, 0.84683330434037, 0.8468554791317044, 0.8467545198502476, 0.8467762281082954, 0.8466761942660315, 0.8468216712753556, 0.8469671482846796, 0.8468647906022542, 0.846517694426435, 0.8465408731188095, 0.8464421677939491, 0.8464662967514688, 0.8464907328400567, 0.8462660052447439, 0.8462874821388582, 0.8463089165955358, 0.8463310265110456, 0.8464761449998163, 0.846621263488587, 0.846519837716642, 0.8466649139527543, 0.8468099901888669, 0.8467091109143627, 0.8468541450203775, 0.8466299331608852, 0.8465312899939018, 0.8466762191652757, 0.8468211483366492, 0.8468427946916732, 0.8468643988554524, 0.8470092858355818, 0.8471541728157108, 0.8472990597958402, 0.8471975278342775, 0.8473423726843089, 0.8474872175343403, 0.8473865874373303, 0.8474086318930583, 0.847553413822307, 0.8475750388974719, 0.8475973333993991, 0.8473724766120908, 0.8471513798963265, 0.8471741709131486, 0.8473187645589778, 0.8474633582048069, 0.8474864168020178, 0.8476309897151537, 0.847652928931628, 0.847797480931787, 0.8474499085165847, 0.8475943766223667, 0.8476161273795793, 0.8476378363108383, 0.84766091139576, 0.8476828912586585, 0.847827276012748, 0.8478488388533834, 0.8476246742152039, 0.8476482162722764, 0.8477924968197268, 0.8478142265076325, 0.8478362677228939, 0.8478586191207886, 0.8478802238729848, 0.84802442118997, 0.8480459633843, 0.8475788584545338, 0.8476005877777544, 0.8474999114886559, 0.8475218890357684, 0.8475441758455572, 0.8474439949042656, 0.8474658273818431, 0.847609733958067, 0.847264738312395, 0.8471656474182279, 0.8470664695608964, 0.8472102106892795, 0.8471098645673395, 0.8471313243297193, 0.8472750033195986, 0.8472971021383012, 0.8470766460138055, 0.8469759483857313, 0.8471195036312205, 0.8472630588767098, 0.8471646333479047, 0.8473081476005472, 0.8473299373854377, 0.847110616782922, 0.8471319328900782, 0.84703142134186, 0.8471747915892097, 0.8471977216490719, 0.8473410715173714, 0.8473629018155113, 0.8475062311290795, 0.8475283475761296, 0.8474291881780239, 0.847451893541793, 0.8469870143550843, 0.8470085161268704, 0.8467887236915631, 0.8468104506513017, 0.8468324833515959, 0.8469755052200897, 0.8469971297587918, 0.8471401311313663, 0.8469177721589503, 0.846939600074975, 0.8468399078028123, 0.8469827861405552, 0.8470051813264314, 0.8470278786967075, 0.8470508769636662, 0.8470721127185634, 0.8470953699575825, 0.8468736260002945, 0.8468953918111024, 0.8469171168638094, 0.8470597915802622, 0.8470814554958184, 0.8472241098332208, 0.8473667641706234, 0.8473890349665897, 0.8469255130286493, 0.8470680450907544, 0.8470897891861373, 0.847232300927252, 0.8472539840596637, 0.8473964754797881, 0.8475389668999125, 0.8475609126731755, 0.8477033838301218, 0.8473624649862339, 0.8473839043801699, 0.8475262739877605, 0.8475479966325989, 0.8475696787510814, 0.847591663205392, 0.8477339720810141, 0.8478762809566364, 0.8475349062437646, 0.8475567085014305, 0.8474573383928583, 0.8475995053679283, 0.8477416723429982, 0.8478838393180685, 0.8479058217347891, 0.8476863270509902, 0.8477078463720279, 0.8476090773630451, 0.8476304957128538, 0.8476528959143372, 0.8476745758759403, 0.8478165411373496, 0.8478381606540782, 0.8478597398742241, 0.8478819594245592, 0.8475415530419641, 0.8476833772643605, 0.847825201486757, 0.8478465590747243, 0.8478682176884392, 0.8475293380163441, 0.847551534526041, 0.8476932181660487, 0.8474749016426022, 0.8471355400067744, 0.8471568171135534, 0.847178394309754, 0.8473198972986149, 0.8473417533348868, 0.8473639069809785, 0.8475053700706248, 0.8476468331602709, 0.8476678896037437, 0.8478093326021758, 0.8477112405264027, 0.8477325174325762, 0.847753754269991, 0.8478951172438561, 0.8479162939781346, 0.8480576369176207, 0.8480790931711019, 0.8479812778593271, 0.8480029726343579, 0.8481442358315316, 0.8481658708422728, 0.8483071141180167, 0.8483283508410473, 0.8482298596577863, 0.8481316258813691, 0.8479132459326895, 0.8480543296674536, 0.847836447866516, 0.8478583577709621, 0.8479993619881201, 0.8481403662052779, 0.8481615231002747, 0.8483025073960027, 0.8480851796130254, 0.8478670572170474, 0.8480079223204229, 0.8481487874237983, 0.8482896525271737, 0.8484305176305493, 0.8484523859103339, 0.8485932312599207, 0.8487340766095073, 0.8482766175348206, 0.8484173636137214, 0.8483192475464681, 0.8484599540065023, 0.8484818595462282, 0.8486225463078843, 0.8485245481510402, 0.8485466682752503, 0.8486872958304831, 0.8484692141683867, 0.8486097822953198, 0.8482732569157184, 0.8482947875201606, 0.8484352569335603, 0.8483380610612155, 0.8484784911325715, 0.8483805117575006, 0.8481633950717239, 0.8480655731449216, 0.8480867688205903, 0.8477525731755364, 0.847892767085438, 0.8480329609953398, 0.8481731549052414, 0.848194487806504, 0.8482164450946525, 0.8479988969739134, 0.8480200726736979, 0.8481601486685235, 0.8480642943827726, 0.8482043314194938, 0.8483443684562149, 0.8484844054929359, 0.8483866999076227, 0.8480504679502955, 0.8480716431816605, 0.8480927792365153, 0.8481148673475405, 0.847898983383717, 0.8480387853595429, 0.8481785873353689, 0.8480819901519183, 0.8479846536825637, 0.8475325144822126, 0.8471991033597526, 0.8472207045428133, 0.8473602336443522, 0.8473821047482849, 0.8474032792367829, 0.8475427694885092, 0.8475635544232059, 0.8475843002908245, 0.8476063237208754, 0.8476273229510293, 0.8476482832230786, 0.8476692045370235, 0.8478085779675626, 0.8479479513981012, 0.8478509250974792, 0.8479902596784319, 0.8475387213434231, 0.8476779588530903, 0.8478171963627574, 0.8477211520267975, 0.8477420344879969, 0.8477628780996103, 0.8479020381255623, 0.8480411981515144, 0.8477074390110959, 0.8477284372913854, 0.8477503769386303, 0.847889420792483, 0.8477944650722076, 0.8479334705591846, 0.8479555999949284, 0.8480945863250373, 0.8482335726551463, 0.847782992002547, 0.8476860217549387, 0.8478248728641533, 0.8477277867148297, 0.8477489385336436, 0.8478877317455844, 0.8479084983773981, 0.8478118353791825, 0.8477144403193695, 0.8477357062769775, 0.847874383801315, 0.8480130613256531, 0.8480339240865449, 0.8478194066771166, 0.8479580072013405, 0.8477449437536407, 0.8477659215602495, 0.8476686232430625, 0.8475735224482085, 0.8477119696096669, 0.8478504167711254, 0.8479888639325838, 0.8480096305872051, 0.8481480585386558, 0.8479352754843605, 0.8476033436129624, 0.847155774418008, 0.8470597201345564, 0.8471978802585387, 0.8473360403825207, 0.8473573401521497, 0.8473792444542768, 0.8474007901579798, 0.84753889328545, 0.8473252122821646, 0.847229666401279, 0.847367674165801, 0.8472723337776659, 0.8471766003643324, 0.8469656841619122, 0.8467543332456133, 0.8466596107953366, 0.8465625653074115, 0.8467003073453723, 0.8468380493833333, 0.8468599282035791, 0.8468811304308381, 0.8469016504541219, 0.8470393356517247, 0.8470604430417403, 0.8471981092928441, 0.8471012546828316, 0.8472388828314397, 0.8472595355834486, 0.8472801503379275, 0.8471849934007555, 0.8472071099732382, 0.8473446435949871, 0.8473660690450722, 0.8472694050458301, 0.8470571648527363, 0.8471945848989485, 0.8472161397141257, 0.8471198548522076, 0.8472572182144343, 0.847161461876554, 0.8472987874498845, 0.8472035575128818, 0.8469909918418962, 0.8471282230460183, 0.8470337405482944, 0.8471709342218526, 0.8473081278954109, 0.847445321568969, 0.8475825152425273, 0.8476039170752969, 0.847275294784318, 0.8470642695254187, 0.8468528111833686, 0.8469897980502699, 0.8471267849171712, 0.847032277306643, 0.8470529856943809, 0.8470742913652833, 0.8470946052448891, 0.8469985840155164, 0.8470191232837292, 0.8470405759337709, 0.8471773939883555, 0.8473142120429402, 0.8473355901434474, 0.8473572455702539, 0.8474940264008545, 0.8475143594797967, 0.8476511215194094, 0.8477878835590221, 0.8475786173961843, 0.8477153236247966, 0.8478520298534089, 0.8479887360820211, 0.8481254423106334, 0.8481471325055843, 0.8477023311514541, 0.8477229264020198, 0.8476287253287784, 0.847649227340189, 0.8476700086319002, 0.8476916950344207, 0.8478281773553086, 0.8478485488018048, 0.8477527533087837, 0.8477733482254131, 0.8477951608346481, 0.8479315500175366, 0.8479523677182181, 0.8480887383145059, 0.8479948315042798, 0.8481311650784763, 0.8482674986526731, 0.8478239300358593, 0.8478444874213278, 0.8477505577102626, 0.8475395820137761, 0.8475602872563162, 0.8474670739409179, 0.8474892428136795, 0.847625298238758, 0.8476455405558221, 0.8477815773943, 0.847917614232778, 0.8479380974928764, 0.8480741157953295, 0.8482101340977828, 0.8480002634776375, 0.8479052850833215, 0.8478105456225858, 0.8475997543971866, 0.8475070273539554, 0.8476428240255391, 0.8476650748586515, 0.8478008533425306, 0.847823355352002, 0.8478436542951824, 0.8479793961546598, 0.8476531445210875, 0.847446607631897, 0.847582220787223, 0.8477178339425488, 0.8477381884110716, 0.8477585060086135, 0.8477790991892604, 0.847684029101526, 0.8475888852718294, 0.8476090185644264, 0.8476297390246691, 0.8476507329852515, 0.8476710686677489, 0.8475790320340776, 0.8475992762323464, 0.8477346322330224, 0.8478699882336983, 0.8475446028562683, 0.847679885314825, 0.8478151677733814, 0.8477233611245734, 0.8474012700334939, 0.847536443309939, 0.847671616586384, 0.8475774075712004, 0.8474834350182572, 0.8471590012369932, 0.8471799003287422, 0.8472004545422915, 0.8473354450544874, 0.8474704355666836, 0.8474912254830503, 0.8476261978075421, 0.8477611701320337, 0.8473242181017169, 0.8474590993844455, 0.8474793802367844, 0.8476142432826524, 0.8475204492613793, 0.8476552759316405, 0.8476760461613768, 0.847696472220018, 0.847717476546664, 0.8475080645352501, 0.8474139080065196, 0.8475485891743528, 0.8474546316577849, 0.8474747849000674, 0.8474970335524169, 0.8476316423569837, 0.8475377742622795, 0.8475577824392382, 0.8476923367784094, 0.8478268911175807, 0.8479614454567518, 0.8479816712741945, 0.848003986735856, 0.8480241403355449, 0.84804425765774, 0.8480643387024414, 0.8478561589572242, 0.8477623091671506, 0.847670506427461, 0.8476909846459174, 0.847711732083036, 0.8477327476576171, 0.8476388975955981, 0.8476592135375934, 0.8473370298212609, 0.8473581323313406, 0.8474922716589222, 0.8475130172865919, 0.8475340302641928, 0.8476681337499942, 0.8476893951575878, 0.8478234807942784, 0.8478434724712371, 0.8474084974913476, 0.8475424751194094, 0.8473367371577766, 0.847245049467562, 0.8473789377497155, 0.8473989299957388, 0.8473088910510258, 0.8473290989896473, 0.8470074209926255, 0.8470275031725608, 0.846934172604142, 0.8469544691150432, 0.8469750326696683, 0.8468815229881193, 0.84678794162301, 0.8469215254598332, 0.8468281395980621, 0.8469616876408942, 0.8469820187741925, 0.846889078237937, 0.8469096221324447, 0.8470430988262402, 0.8470629838986481, 0.8471964426955442, 0.84732990149244, 0.8472363731239408, 0.847145174832191, 0.8471660883672619, 0.8472994583433904, 0.8469803826455806, 0.8466635544394652, 0.846570790865921, 0.8467039832496317, 0.8466108103835083, 0.8467439671640026, 0.8467651051760694, 0.8467865047472248, 0.8468066747282862, 0.8468271096515995, 0.8469601957917303, 0.8470932819318611, 0.847113043639415, 0.8470194275098526, 0.8470394021007481, 0.846946566018404, 0.8469670522496424, 0.8471000141102781, 0.8471201476852237, 0.8471414376114238, 0.8472743642452876, 0.8474072908791509, 0.8474270173354732, 0.8475599262152309, 0.8475802005268781, 0.8474874872849106, 0.8471708507293725, 0.8473036361291733, 0.8474364215289742, 0.8473440578111479, 0.847025544393016, 0.8471582238329273, 0.8471796113030784, 0.8472000769938919, 0.8472216879665245, 0.8471310268692772, 0.8472636189849243, 0.8471707821824606, 0.8469664853816102, 0.8468731905931988, 0.847005659417005, 0.8470275569703223, 0.8471600085038595, 0.8472924600373967, 0.8474249115709338, 0.847557363104471, 0.8475770913490244, 0.8473736589390451, 0.8472834681889532, 0.8473036350484188, 0.8473234692624274, 0.8472319440771298, 0.8471409396880226, 0.8470510216757973, 0.8470706635812959, 0.8472028531355376, 0.8468864203668705, 0.8469071066836762, 0.8469268713653995, 0.8470589560303038, 0.8471910406952079, 0.8472107352973908, 0.8472306918415278, 0.8472503164104582, 0.847157463317242, 0.8470663146611843, 0.8470860965143563, 0.84699482260285, 0.8469040666851754, 0.8469243002953725, 0.8470561583524011, 0.8470763398178864, 0.8469844951148824, 0.8467796888630372, 0.8468000076411151, 0.8469317437966287, 0.8470634799521422, 0.8471952161076557, 0.8472148586287356, 0.8472350559643422, 0.8472549243308535, 0.8469389077094853, 0.8467384260617237, 0.8466470983869738, 0.8467786265986232, 0.8467982348767398, 0.8469297457068183, 0.8468385221358286, 0.8465241611603703, 0.8466555682018422, 0.8465635499082559, 0.8464726345247551, 0.8463807725720234, 0.8464006054611236, 0.8464209878561875, 0.8464419154501861, 0.8463507080519866, 0.8464819252160256, 0.8465012916068868, 0.8462995147352043, 0.8464306629631191, 0.8463400538976069, 0.8461386233554957, 0.8462696857197083, 0.846290541425104, 0.8463107847781541, 0.8461084784425825, 0.8460180654174143, 0.8460390203258523, 0.8460596535998317, 0.8460793830299733, 0.8458790046022697, 0.8459000755049955, 0.8458081452305477, 0.8456075081657648, 0.8456281387421578, 0.8455380314100337, 0.8455574181889741, 0.8456880869292288, 0.8458187556694838, 0.8458398055865917, 0.8456406846275527, 0.8455516875028526, 0.8454611915466724, 0.8453714696545171, 0.8452819849255133, 0.8448595336891668, 0.844659821554791, 0.8446809649426532, 0.8448112767237305, 0.8449415885048077, 0.8448520038084671, 0.8447611945501314, 0.8446723266048386, 0.8448025366135644, 0.8448231592006092, 0.8448448786740638, 0.8447543741009127, 0.8447740185196315, 0.8449041439075735, 0.844923448291744, 0.8448344414763721, 0.8446328178459463, 0.8444342363836226, 0.8444541841355215, 0.8445841401503162, 0.8447140961651108, 0.8447348305916312, 0.8447560955909947, 0.8447756211169442, 0.8449055266407204, 0.8449252884442972, 0.8450551770359105, 0.8451850656275239, 0.845314954219137, 0.845334631361899, 0.8454645030213495, 0.8454844157190852, 0.8453951713136675, 0.8454152850262739, 0.8454356493098656, 0.8454571062285483, 0.8453665037047612, 0.8451671874763722, 0.8451867968383405, 0.8453164664911235, 0.8452256252485825, 0.8452448464458687, 0.8453744653457991, 0.8453956206607609, 0.8453054364195103, 0.8453250954569451, 0.8454546471957126, 0.8454748242486787, 0.845495250452337, 0.8455142186277588, 0.8455337261955469, 0.8456632106865415, 0.8456832367053968, 0.845812704439124, 0.8459421721728511, 0.8460716399065783, 0.8462011076403053, 0.8462201773195511, 0.8462406342499493, 0.8463700684246589, 0.8460619732743415, 0.8461913405485426, 0.8459932372900717, 0.8460143173685483, 0.8460348052734743, 0.84594501348946, 0.8459640007868992, 0.8460932345175417, 0.846002730436871, 0.846022470838357, 0.8461516542970285, 0.8462808377556998, 0.8461935274420365, 0.8463226778583126, 0.8463417162472778, 0.8464708498628175, 0.8465999834783571, 0.8466192396900668, 0.8467483565483389, 0.8466599007402159, 0.8467889844268661, 0.8469180681135168, 0.8469371906099991, 0.8467368909585054, 0.8467561972218581, 0.8467757532242306, 0.8467955580001366, 0.846706963458864, 0.8466171889967141, 0.8467460892995456, 0.8467654622205316, 0.8467845183740981, 0.8466951098738523, 0.8468239435789456, 0.8468440273295309, 0.8469728444921912, 0.8471016616548516, 0.847120834739826, 0.8471408191074117, 0.8472696030568047, 0.8471789988258193, 0.8471983214322135, 0.8471092897434145, 0.847129091801835, 0.8470396625191547, 0.8469504455763271, 0.8470790637153669, 0.8469897507606008, 0.8468995289893517, 0.8470280808304247, 0.8470473370725115, 0.8469580877439485, 0.8469783789194423, 0.8471068647172153, 0.8470169077725613, 0.846928279693438, 0.8468387518100343, 0.846967138521952, 0.8468775115113634, 0.8467892122212388, 0.8467011232975439, 0.8466121363196629, 0.8467403914531759, 0.8467596973372725, 0.8466713950513546, 0.8464740395976605, 0.846493476886395, 0.8466216169828054, 0.8467497570792155, 0.8467694070741778, 0.8467893017483951, 0.8468097155952439, 0.8469378066125781, 0.8469573418664268, 0.8468671549702529, 0.8468866079776494, 0.8469071328390699, 0.8468184534698086, 0.846838069665558, 0.8469660294826727, 0.8469850396272948, 0.8467891338396681, 0.8468080456989048, 0.8468274818257673, 0.8469553434416248, 0.846758608210856, 0.8467776516658561, 0.8467983157521578, 0.8468192194564084, 0.8467301782771279, 0.8468579094851952, 0.8468776214319179, 0.8470053363499442, 0.8470263654290558, 0.8470476324714171, 0.8471753152619617, 0.8473029980525059, 0.847213616235505, 0.84734126632082, 0.8470346553076524, 0.8470537974715777, 0.8471813658145706, 0.8472004589833857, 0.8473280109946748, 0.8473492402931667, 0.8472605574471601, 0.8473880609170543, 0.8475155643869486, 0.8472098799185902, 0.8473373182278439, 0.8473569787052957, 0.8474844008073568, 0.8472886651002257, 0.8473087591630211, 0.8472198799667001, 0.8472390708480655, 0.8471495264740966, 0.847276802544781, 0.8474040786154653, 0.847315231977524, 0.8471205583787255, 0.847139522148597, 0.8469436042650352, 0.8469635664351166, 0.8469829506225292, 0.8466776885316085, 0.8466966847963553, 0.8465011822152023, 0.8466281510440931, 0.8466489350741764, 0.8466680607243882, 0.8464739089537103, 0.8464940267707982, 0.8466208993767292, 0.8466398800621061, 0.8467667365020315, 0.8468935929419569, 0.8469127829237653, 0.8468264201643951, 0.8469532285531587, 0.8470800369419227, 0.8472068453306865, 0.8469021160138162, 0.8468157631269209, 0.8469424750471852, 0.8469619369634389, 0.847088632840322, 0.8472153287172048, 0.8472344541296437, 0.8472532739646091, 0.847058733489253, 0.8470777304277372, 0.8468825145355174, 0.8469019591662622, 0.8469216423036305, 0.8468341546597496, 0.8469606422108562, 0.8468752013942739, 0.8464681234670305, 0.8464867523276245, 0.8465061643778705, 0.8466325085815092, 0.8464403065704416, 0.846566603244057, 0.8466928999176725, 0.8468191965912878, 0.8468395231628204, 0.8466429951589556, 0.8466618810070919, 0.8466834004920318, 0.8465948438275396, 0.8467210129547867, 0.8467403126309018, 0.8467598496954013, 0.8468859870184604, 0.8469052071239463, 0.8468163786936882, 0.8468352486122785, 0.8468567457829363, 0.8469828036492334, 0.8471088615155304, 0.8469146826860323, 0.8469336642325469, 0.8469523432783962, 0.8468636591859091, 0.8469896055956632, 0.8471155520054173, 0.8471343901318334, 0.8470468806930402, 0.84717277945652, 0.8470883594762395, 0.8472142269887918, 0.8471257187131975, 0.8470374167838166, 0.8470568080819122, 0.84686568081789, 0.8469914218246928, 0.8467980400162383, 0.8468167204627353, 0.8469423982188147, 0.8468550602057239, 0.8467665846815979, 0.8467853917244907, 0.8468041670832115, 0.8469297497863233, 0.8470553324894352, 0.8471809151925471, 0.84720041399079, 0.8472206751031145, 0.847346226477611, 0.8471509756088682, 0.8469564358428088, 0.8469759955021965, 0.8471014362598241, 0.8471201484058405, 0.8471390968128233, 0.8471580136945513, 0.8472834071246422, 0.8469821682333045, 0.8468957504131271, 0.8468079386619296, 0.8466150853307575, 0.8466345172393718, 0.8465481047901011, 0.8465677226937782, 0.8466928805475178, 0.846607116342341, 0.8466255773223692, 0.8466450702621341, 0.8466637357603789, 0.8467888153490568, 0.8469138949377347, 0.8469327640691052, 0.8467420470761476, 0.8467613527470835, 0.8464626220256782, 0.8464823447470531, 0.8465017736614092, 0.8465203771395313, 0.8465392150507324, 0.8466640917604316, 0.8466836744200752, 0.8467034879882318, 0.846722745591245, 0.8463169024753331, 0.8463355060668432, 0.8463548706351016, 0.8462696024256438, 0.8462883621279136, 0.8462019306427155, 0.8462214022044593, 0.8462400529003249, 0.8461521492500115, 0.8460660256949166, 0.8460845516618475, 0.8462090857436346, 0.8462278293702239, 0.8463523478854343, 0.8463710448122935, 0.8463899742103702, 0.8464088725528358, 0.8464272114870568, 0.8465516677745862, 0.8465715336451375, 0.8465900595706944, 0.8465028876457072, 0.8465229043599912, 0.8464377136376433, 0.8464576535562373, 0.8464759935283679, 0.8466003107546168, 0.8467246279808656, 0.8466387060801684, 0.8467629924433628, 0.8465729915109211, 0.8463816035353748, 0.8465057974610586, 0.84652492534479, 0.846332805128989, 0.8462488147027691, 0.8461626907733297, 0.8461811098573749, 0.8462000220402285, 0.8463240619144645, 0.8463431885143431, 0.8464672130144182, 0.8463797792392448, 0.8463982908537275, 0.8465222689247476, 0.8465409960055237, 0.8466649586641861, 0.8467889213228486, 0.8465972484098329, 0.846721164868909, 0.8468450813279856, 0.846968997787062, 0.8468832351447576, 0.8470071209310573, 0.8470269133103454, 0.8470456399870873, 0.8471694951764404, 0.8472933503657938, 0.8473122759172019, 0.8471212692981833, 0.8472450631414242, 0.8472643994162606, 0.8473881779990824, 0.8475119565819045, 0.8476357351647262, 0.8477595137475482, 0.8477779793278275, 0.8477974512332656, 0.8476051679665468, 0.8477288698299394, 0.8476436340774705, 0.8475573073408317, 0.8474706593990236, 0.8473852442269768, 0.8471938187942056, 0.8473173524510725, 0.8472307348204566, 0.8472495361079154, 0.8471643617464151, 0.847287819100211, 0.8474112764540067, 0.8474297117172126, 0.8473441135281558, 0.8474675251380491, 0.8474863866573671, 0.8475046997611158, 0.8476280808500313, 0.8476466075996468, 0.8476656201089423, 0.8475804885950806, 0.847599167477496, 0.8477224725644147, 0.8478457776513328, 0.8476542450328081, 0.8476738278789648, 0.8477970721109914, 0.8478155835790169, 0.8478345796493768, 0.8478532883385732, 0.8476639478134975, 0.8475777718842684, 0.8474923076835579, 0.8474065237556283, 0.8474255184841951, 0.8474439693207817, 0.8474629035319088, 0.8474820630132225, 0.8473968079290385, 0.8474156364020965, 0.8474339206103009, 0.8472433137747173, 0.8472627853540361, 0.8471780253102057, 0.8471964006460901, 0.8472160199484915, 0.8472351023580572, 0.8472544086799421, 0.847169151926941, 0.8472919122735465, 0.8471014869328899, 0.8471198775252242, 0.8472425773916097, 0.8472616880867087, 0.847280259358303, 0.8474029291511739, 0.847214946084706, 0.8471300126078292, 0.8470442586787428, 0.8470639018545457, 0.8470822475721457, 0.8471008185814721, 0.8471198676595885, 0.8470338738251311, 0.8471563483586513, 0.847174799074055, 0.8472972585708856, 0.8474197180677162, 0.8474393731321175, 0.847353904640722, 0.8474763192469977, 0.8473922759306239, 0.8474112935620186, 0.8472219949822468, 0.8473443198443581, 0.847362470521458, 0.8472791824096916, 0.8471938183806523, 0.8472126118537462, 0.847127396305343, 0.8470423733101183, 0.847060793890229, 0.8470789302061099, 0.8469942636545149, 0.8471163793211318, 0.8472384949877487, 0.8471539599503691, 0.8472760458359362, 0.8472945257377017, 0.8474165966966035, 0.8474352845887078, 0.8473515495217223, 0.8471633263614649, 0.8471831310110052, 0.847201402517458, 0.8472201491510061, 0.8472391172209729, 0.8472572993489352, 0.8473792068740214, 0.8475011143991076, 0.8474157048510229, 0.8474337825287348, 0.8473497777137402, 0.8472664615161374, 0.8472854279798666, 0.8474072168871514, 0.8473240149040635, 0.8474457743544018, 0.8474646374520098, 0.8469653908616817, 0.8470870463329346, 0.8472087018041872, 0.8473303572754401, 0.8472458195508394, 0.8471612244575855, 0.8470758155897384, 0.8471973821533993, 0.8472164185611322, 0.846925036092854, 0.8470465287102822, 0.8470656954050456, 0.8469819872050017, 0.847001080454406, 0.8471225143010661, 0.8471410656081186, 0.8471590857917102, 0.8469717476195096, 0.8470931076635873, 0.8472144677076653, 0.8473358277517431, 0.8474571877958208, 0.8475785478398988, 0.8476999078839766, 0.8476152365101817, 0.8476335370630416, 0.8474449664823019, 0.8474631784517873, 0.8474823550093837, 0.8476035971202579, 0.8477248392311321, 0.8477432128512733, 0.8478644402519384, 0.8478830188889379, 0.8475923283175766, 0.8476108040538308, 0.8476290011865648, 0.847750125650867, 0.8477687763996771, 0.847787149413666, 0.8477027406879658, 0.8476180247360492, 0.8477390611525472, 0.8476540075425669, 0.8477750145386471, 0.8477936931140931, 0.847710246364854, 0.8476272342633642, 0.8475434230208009, 0.8476643279313603, 0.8476825834572012, 0.8474947350097498, 0.8475129025945112, 0.8476337342030933, 0.847549398016235, 0.8475677259239175, 0.8476885136859131, 0.8477070450770995, 0.8475205107927035, 0.8475392011734695, 0.8474553123279787, 0.8474736834296873, 0.8473904350201034, 0.8474087333844507, 0.8474267550704229, 0.8475473680443868, 0.8474641902431612, 0.847584774220145, 0.8476026938904273, 0.8476213248239898, 0.8472313708931754, 0.8473518531700373, 0.8473701074759079, 0.847286825766035, 0.847305007509437, 0.8472213800092263, 0.8473417752600447, 0.8474621705108631, 0.8474812302634535, 0.8476016111200249, 0.8477219919765965, 0.8476381479915635, 0.8475544897376699, 0.8474722405883511, 0.8473879764438641, 0.8474063167429275, 0.8474243824780313, 0.8473414428715443, 0.8474616501978135, 0.8475818575240825, 0.8477020648503519, 0.8478222721766212, 0.8478406984058362, 0.8478588507821053, 0.8475710463785162, 0.8475890975433638, 0.8476073648804896, 0.8476253582257638, 0.8477454354829144, 0.8478655127400649, 0.84788466564332, 0.8478013919652427, 0.8477173300633517, 0.8476339446391006, 0.8477539211351571, 0.8478738976312133, 0.8479938741272699, 0.8479113144080767, 0.8479297386812465, 0.8478473189624879, 0.8479672238301109, 0.8475773410661631, 0.8476971738586228, 0.8477156543317973, 0.8478354727988409, 0.8478539102957668, 0.8478718319577835, 0.8476876264800728, 0.847807373284209, 0.8476220728772175, 0.847741776601674, 0.8476587871946109, 0.8476781848547367, 0.8476970751997348, 0.8477149686008915, 0.8477328332825087, 0.8475490349486785, 0.8476686101511259, 0.8474834828789941, 0.847502399292595, 0.8476219173294434, 0.8476410305194543, 0.8475575282267871, 0.8476770034915498, 0.8477964787563124, 0.8478147715390321, 0.8476291871351478, 0.847748605166584, 0.8474638357754222, 0.8475831968790526, 0.8474998082139239, 0.8476191407692906, 0.8476369487409595, 0.8477562670051404, 0.8477745159772614, 0.8474887587485724, 0.8474072460260317, 0.8473244799266728, 0.8472411763078253, 0.8471592477876341, 0.8471777076172866, 0.8472968270924859, 0.8473147634908891, 0.8472309905241044, 0.8472488557390758, 0.8472666925078627, 0.8473857407996299, 0.8475047890913971, 0.84752328973742, 0.8476423239073269, 0.847559246720176, 0.8474768329889495, 0.847393159887624, 0.8472088142169131, 0.8472280382574062, 0.8473469307690898, 0.8474658232807736, 0.847584715792457, 0.8476031583220329, 0.8476210939901365, 0.8476387606871756, 0.8477576107657911, 0.8476759168964809, 0.8477947388640864, 0.8479135608316917, 0.8476308913742502, 0.8477496570869268, 0.8478684227996037, 0.8479871885122805, 0.8478031806508041, 0.8479219039641569, 0.8480406272775092, 0.8481593505908618, 0.8479758497461555, 0.8480945307608154, 0.8481125222913066, 0.8480295425872502, 0.8477445921033695, 0.8477638621891515, 0.847782161344738, 0.8479007156953664, 0.847918496031687, 0.8477368038281726, 0.8478553021233679, 0.8477733589768193, 0.8476913581251766, 0.8474076089707028, 0.8474253755142975, 0.8473431940632816, 0.8472607192171917, 0.8471786630996719, 0.8470970242276221, 0.8471148328186402, 0.8471330875392994, 0.8469491658681259, 0.8469668622518796, 0.8469852408912033, 0.8470028812872276, 0.8469216091726797, 0.8470397293413232, 0.8470582317576717, 0.8468774322922077, 0.8469954969000832, 0.8471135615079589, 0.8471312442282187, 0.8471505409328806, 0.8470677580629615, 0.8471857669453886, 0.8473037758278158, 0.8473215700742452, 0.847339572797809, 0.8473570739945797, 0.8473750209617485, 0.8474929740548669, 0.8474122330653782, 0.8475301585083319, 0.8476480839512857, 0.847666155515092, 0.8476841992992682, 0.8478020969625921, 0.8473201288800192, 0.8472385944212306, 0.8471586322308671, 0.8472763912845551, 0.8471965760867111, 0.8472145778983702, 0.8472320806736657, 0.8472504950612111, 0.8468688493892866, 0.846786428948961, 0.8468044573166944, 0.8466246842337577, 0.8465444150872516, 0.8463635734026168, 0.8464810423232831, 0.8464984073481345, 0.8464175006247189, 0.8464350320644014, 0.8465524457184539, 0.8465711015489858, 0.8465899607632131, 0.8467073470583829, 0.8467250029325945, 0.8465443117267817, 0.8463625987274709, 0.8462808097730905, 0.846299218213918, 0.8461182360838233, 0.8460358164722104, 0.8461529959481761, 0.8461714980453363, 0.8462886638578601, 0.8463073553140656, 0.8463246250038472, 0.8464417633602489, 0.8465589017166508, 0.8463774385238727, 0.8463950661454691, 0.8463131822433896, 0.8463323551269047, 0.8464493973555214, 0.8465664395841381, 0.8465837096584818, 0.8466023436850378, 0.8466197927803005, 0.8467367938572465, 0.8467555889104916, 0.8466738281026707, 0.8466914006796544, 0.8468083470057153, 0.846925293331776, 0.8466456838533574, 0.8467625754292035, 0.8467802435365421, 0.8467978842529993, 0.8468161908306548, 0.846737043314165, 0.8466569171467592, 0.8464767648339114, 0.8463944432903485, 0.8463129958746212, 0.8463317438843155, 0.8464484310129361, 0.8464666814598834, 0.8465833550203878, 0.8466017937486103, 0.8467184537725527, 0.8468351137964948, 0.8468523449203179, 0.8469689912488192, 0.8470856375773208, 0.8471030463258911, 0.8471208901873775, 0.8471389368898233, 0.8469581692433381, 0.8468777545067704, 0.8468952178265123, 0.8469131150241578, 0.8469305238811173, 0.8469479054749659, 0.8469661792553869, 0.8469841973347061, 0.8470014973606524, 0.8471179396891317, 0.8471358899906466, 0.8471531219538088, 0.8471714749137943, 0.8470905800429719, 0.8471081787400777, 0.8472245397536409, 0.8471444388091198, 0.8471626432742653, 0.8472789638349235, 0.8469989867997508, 0.8468195958927692, 0.846739680502731, 0.846462400749332, 0.8465785454256147, 0.8466946901018977, 0.8466154952246671, 0.846731613109076, 0.846651425351063, 0.8466685504802797, 0.846686336624872, 0.8467038672062486, 0.8467213707773883, 0.8466405156622333, 0.8465593770808694, 0.8465776828499718, 0.8463983057367772, 0.8462195278061333, 0.8463354165390568, 0.846353120823945, 0.8463707982237159, 0.8463882206051917, 0.8464058442035028, 0.8465216791349665, 0.8465399423460758, 0.8464592329286722, 0.8463786980301228, 0.8462983369513243, 0.846414077971148, 0.8464324057558775, 0.8465481334569652, 0.8466638611580528, 0.8467795888591407, 0.8468953165602284, 0.8470110442613162, 0.8471267719624039, 0.8472424996634917, 0.8471622811655072, 0.8472779821053005, 0.8472956847577888, 0.8472148939076469, 0.8473305546440164, 0.8472505913565704, 0.8473662253938784, 0.8473837942417198, 0.8473030304619951, 0.8472231192633595, 0.8473386864600944, 0.8472591461122096, 0.8472772321605719, 0.8473927594624755, 0.8473115140936782, 0.8474270145726986, 0.847542515051719, 0.8475607189930591, 0.8474800082845826, 0.8473032735611417, 0.8472233425660113, 0.8472409371685545, 0.8472582789768692, 0.8472753671131976, 0.8472931071473191, 0.8474084478915536, 0.8475237886357881, 0.8473468397215829, 0.8474621406931057, 0.8475774416646285, 0.8474977978887237, 0.8472222372824595, 0.847141792297883, 0.847062636758937, 0.8471778050304202, 0.8471949873611612, 0.8473101423139082, 0.8473277355796697, 0.8474428772749517, 0.8475580189702333, 0.8474770555966709, 0.8475921706544808, 0.8476094325292717, 0.8477245342990338, 0.8477417563096822, 0.8478568447913967, 0.8479719332731109, 0.847989327493187, 0.8477144680063647, 0.8478294903222411, 0.8478467786040824, 0.8478640403709932, 0.8479790361719388, 0.8478991578879667, 0.8479163402014118, 0.8477383450138543, 0.847562281016001, 0.8475793311492156, 0.8474022451483556, 0.8475170693008145, 0.847534251825296, 0.8473576624530412, 0.8473747658274668, 0.8474895240568584, 0.84760428228625, 0.8475247390946639, 0.8475424208827057, 0.8474625665998892, 0.8475772590571363, 0.8475944153226631, 0.8475148884520876, 0.8476295414402439, 0.8477441944284004, 0.8477614822663023, 0.8475844317811303, 0.847407524778361, 0.8474249042523272, 0.8475394520901552, 0.8476539999279835, 0.8477685477658113, 0.8477856382889428, 0.8478031483130423, 0.8478201862310012, 0.8478378656009115, 0.8479523609237475, 0.8480668562465837, 0.8480844833118191, 0.8481023054149771, 0.8481201014255062, 0.8482345575795446, 0.8483490137335832, 0.8480739557163048, 0.8480914126109889, 0.8481090647227209, 0.8480301599160013, 0.8476600191733927, 0.8477743052754789, 0.847791579282109, 0.8479058523080267, 0.8478256042186653, 0.8479398510323317, 0.8479570334458675, 0.8478782158859177, 0.8478953330672703, 0.847912866733477, 0.848027048374567, 0.8480443219921735, 0.8480624491142009, 0.8478855798567446, 0.8479029702804498, 0.8480170737618493, 0.8481311772432489, 0.8481487360223996, 0.8482628265168873, 0.8483769170113751, 0.8483939820655498, 0.8482169440538405, 0.8482343727262627, 0.8482515548252637, 0.84836556713102, 0.8484795794367761, 0.8485935917425321, 0.8487076040482882, 0.8488216163540441, 0.8489356286598001, 0.8485651900764408, 0.8486791373290362, 0.8487930845816314, 0.8489070318342264, 0.849020979086822, 0.849134926339417, 0.849152082138439, 0.8491692119636376, 0.8488958635328228, 0.849009732863947, 0.849026979142887, 0.8491408355166488, 0.8491580429235015, 0.849175224415629, 0.8491928186761311, 0.8492099483976056, 0.8492270522043546, 0.8489539888352129, 0.8489712217738589, 0.8490849486622413, 0.8491021428171454, 0.8491193111162216, 0.84913645355947, 0.8491537893784844, 0.8491713179155246, 0.8487056153042859, 0.8488192001029079, 0.84893278490153, 0.8489503894431945, 0.8489677503860277, 0.8489853035378705, 0.8490988497868391, 0.8491161464122351, 0.8491331985206039, 0.8486677539825997, 0.8486849088407672, 0.8486059549819973, 0.8487193594928863, 0.8487364371642994, 0.848657803277711, 0.8485791180885505, 0.8486924584275499, 0.8483241254802587, 0.8481495349427679, 0.8480714862577298, 0.8481846983103607, 0.8482025652602916, 0.8483157645883658, 0.8484289639164402, 0.8485421632445144, 0.8484630548802808, 0.8482876196326501, 0.8482094777072333, 0.8483225873855511, 0.8483398180342914, 0.8482609141114581, 0.8483739854143255, 0.8483913558588952, 0.8485044144084499, 0.8483289922028658, 0.848346056596491, 0.8482677760879277, 0.8482847766571844, 0.848301968353009, 0.8483189178224542, 0.8482404701440325, 0.8483533882044885, 0.8484663062649442, 0.8482919133392898, 0.8483097994243177, 0.8482320068381174, 0.8483448486642237, 0.8482667688535181, 0.8483795852877318, 0.8483964840573325, 0.8483178587777965, 0.8481428074957711, 0.8482555474675237, 0.8483682874392766, 0.8483852623979612, 0.8484024276231578, 0.8485151421744561, 0.8486278567257546, 0.8487405712770529, 0.8487574571925002, 0.8482955418462023, 0.8483125291854398, 0.8484251420261654, 0.848442520984609, 0.848364625254997, 0.8484772001787307, 0.8484940734255899, 0.8486066356534255, 0.8484320166752528, 0.8484490164383749, 0.84837045382247, 0.848482939960606, 0.8485000784666343, 0.8485174057471593, 0.8486298666359264, 0.8487423275246933, 0.8488547884134603, 0.8485847464394094, 0.8485063097281837, 0.848523258565675, 0.8485401821254269, 0.8484618333047018, 0.8484786936984758, 0.8483054106795566, 0.8484176946518505, 0.8483393835346726, 0.8482614493752964, 0.8483736829621413, 0.8482952457965179, 0.8481220494049421, 0.8482342200238289, 0.848346390642716, 0.8484585612616028, 0.8483810002134902, 0.8484931457521832, 0.8486052912908765, 0.848527205538181, 0.8485440910807954, 0.8486561989009938, 0.8486738958073851, 0.8485956593210432, 0.8487077295348995, 0.8485339064359568, 0.848550842011018, 0.8486628619241549, 0.8484905755740607, 0.8486025579649243, 0.8487145403557882, 0.8487313630843054, 0.8486532014015765, 0.8486701743292739, 0.8484965145866816, 0.8486084091553993, 0.8487203037241169, 0.848737388699394, 0.8488492707701424, 0.848866105856015, 0.8489779754008036, 0.8489949853602747, 0.8486314195933128, 0.8487432140103319, 0.8486652142689021, 0.8486822859645242, 0.8485101220858473, 0.848621841654259, 0.8483548283751263, 0.8484664980905897, 0.8483886469454163, 0.8484053071556342, 0.8484221544169299, 0.8484389767380819, 0.8484559855125264, 0.848472757981195, 0.8484903470800512, 0.8485072812559409, 0.8485244013453608, 0.8482566688604962, 0.8483681642165506, 0.8482904991367153, 0.8483074824440431, 0.848135441005436, 0.8481525600856663, 0.8481692331120223, 0.8481860922735969, 0.8482035555353141, 0.8480310299832128, 0.8480482099786393, 0.8481595316129237, 0.8482708532472081, 0.8482875635440227, 0.8483044595206268, 0.8484157563534162, 0.8482433180069251, 0.8482599166279655, 0.8483711638301463, 0.8483883550451523, 0.848499589915356, 0.8484220348820706, 0.8485332450059249, 0.8484560351440752, 0.8482846575559938, 0.8483014665755576, 0.8481289169660089, 0.8481456517465229, 0.8480684043259614, 0.8481794661913789, 0.8482905280567961, 0.8482131819804202, 0.8483242191818838, 0.848341236681169, 0.847887440568247, 0.8479983915549741, 0.8479210202948423, 0.847938086071802, 0.8480490001445388, 0.8480656115905644, 0.847988510091415, 0.848099387250161, 0.848116550240795, 0.8479451947198259, 0.8479618676884726, 0.84807268340563, 0.8481834991227875, 0.8482001228729015, 0.8482169306610843, 0.8482335052199182, 0.8483442840504288, 0.848361030424457, 0.8481900789031386, 0.8482067516672085, 0.848223607994413, 0.8480529004343615, 0.8480694751151102, 0.8480866477718004, 0.8481035891870803, 0.8478391533300416, 0.847856216059189, 0.8477793081612301, 0.8477023513706884, 0.8476255526715614, 0.847549118471067, 0.847566010345911, 0.8476764711839596, 0.8476935328772643, 0.8471490646981559, 0.8472594280468659, 0.847369791395576, 0.8473862932080809, 0.8472160550893133, 0.8472328975194581, 0.8472495090158596, 0.8472663027420323, 0.8473765807978364, 0.8473004344780163, 0.8474106882756061, 0.8474271901675454, 0.8474442858905077, 0.8473679926102975, 0.8473848222808522, 0.8473086482046943, 0.8472332456451213, 0.8472497721812463, 0.8472664806131073, 0.8472837794708512, 0.8473006450198021, 0.847317486337255, 0.8472406250662585, 0.847164331608955, 0.8472743672410642, 0.8473844028731735, 0.8472144899703737, 0.8472309558461927, 0.8473409429883251, 0.8471718950400771, 0.8471884820054554, 0.8472984208170313, 0.8473153812568148, 0.8474253080058102, 0.8474416163487714, 0.8473657017851508, 0.8474755922924502, 0.8475854827997497, 0.8476025266184284, 0.8477124050896, 0.8476363365831379, 0.8473738385081144, 0.8473905456318713, 0.847406818223963, 0.8475166001669899, 0.8475340598850044, 0.84755169729146, 0.8476614553460173, 0.8477712134005746, 0.8477890041038393, 0.8478057591310856, 0.8475422521721754, 0.8476519379819555, 0.8477616237917358, 0.8477780658529485, 0.8477946882973578, 0.8478118962532433, 0.8478286745210829, 0.8477523413582257, 0.8477696673717237, 0.8475993207665209, 0.8475230466261839, 0.8476325881857842, 0.8477421297453844, 0.8478516713049847, 0.8479612128645846, 0.8479777748503873, 0.8479941086639036, 0.8478242070393944, 0.8479336884710886, 0.8478581284918288, 0.8478749529203672, 0.8477997132255393, 0.8478160713326657, 0.8477401424345542, 0.8478495282593844, 0.8478658144128017, 0.8477889648655216, 0.8478983146610671, 0.8479153399505579, 0.8479317339547976, 0.8479481039920731, 0.8478716854176959, 0.8477024423597994, 0.8476271283361492, 0.8475507569372958, 0.8476599633226762, 0.8477691697080564, 0.8477865466001313, 0.8478957411579108, 0.8478198213779151, 0.8477440547212298, 0.8475765677617929, 0.8476856790604235, 0.8476091769509339, 0.8477182643610949, 0.8477346226329256, 0.8478436981119059, 0.8478600205901937, 0.847785164291564, 0.8477098546882393, 0.8477262844537086, 0.8476506927005927, 0.847667063017488, 0.8477760316590894, 0.8478850003006908, 0.847716232949287, 0.8476404538331274, 0.84774936305243, 0.8476739146107708, 0.8476903085297263, 0.8477064767175346, 0.8477236245227434, 0.847556094382292, 0.8476649088763711, 0.8477737233704502, 0.8478825378645294, 0.8479913523586085, 0.8478246122016346, 0.8475641965332708, 0.8475817150183926, 0.8475980143759753, 0.8474300270491935, 0.8475386997892613, 0.8475549162504811, 0.8474796394416622, 0.8474965970199904, 0.8476052225771576, 0.847528840749676, 0.8476374426001053, 0.8475617922757295, 0.8476703705222419, 0.8476865988610097, 0.8477037998885557, 0.8478123546074554, 0.8479209093263552, 0.8476610693086783, 0.8476779666023674, 0.8477864624383589, 0.8478027262958772, 0.8479112103299521, 0.8479276389022894, 0.8478523756752224, 0.8478685452452446, 0.84797698219949, 0.8476241054268419, 0.8477324833971049, 0.8477497269105516, 0.847766154984057, 0.8476906089096705, 0.8477079670582126, 0.8476327370108219, 0.8477410330037964, 0.8475727386641841, 0.8474973801305069, 0.8473301514359957, 0.8473465204233761, 0.8473628659600294, 0.847471044546262, 0.8473044123479644, 0.8473208745677507, 0.8474290063792067, 0.8474450354322801, 0.8475531554929374, 0.8476612755535948, 0.847769395614252, 0.8478775156749094, 0.8478029008397951, 0.8479109976013458, 0.8479275060142882, 0.8477605876349227, 0.8477770259734916, 0.8477938356778939, 0.8479018624153657, 0.847826792154583, 0.8478429387757395, 0.8479509304887412, 0.8480589222017428, 0.8478015186434492, 0.8478175602410852, 0.8479254937306129, 0.8480334272201407, 0.847957880469169, 0.8480657906092134, 0.8480819372795245, 0.8480990442499612, 0.8482069311656526, 0.8480402109889098, 0.8481480629806418, 0.8480736484716725, 0.8479984040038525, 0.848014562510035, 0.8481223564038333, 0.8482301502976313, 0.8482466567484988, 0.8481712493877035, 0.8480050688786006, 0.8478384323211895, 0.847854590800894, 0.8478709231092456, 0.8479785892582118, 0.8479948867683005, 0.8479199773578902, 0.8478452181412726, 0.8476786141508683, 0.84778618757906, 0.8478937610072517, 0.8479098962000398, 0.8480174580288109, 0.8480337551145928, 0.8481413053688875, 0.8482488556231822, 0.8481738063105964, 0.8480987106999457, 0.8481148920408075, 0.8482223844225615, 0.8482385310399951, 0.8483460118472734, 0.8484534926545516, 0.8485609734618299, 0.8483044516229867, 0.8481384589504094, 0.8481546402033662, 0.8479895097217026, 0.8480968637550893, 0.8481131601320726, 0.8482205026406324, 0.8483278451491925, 0.848252807298714, 0.8483601267328359, 0.8481023972042887, 0.8481191278042359, 0.8482263896137472, 0.8482426969591408, 0.848076658544602, 0.8481838743042157, 0.8481999056343315, 0.8482161094045134, 0.8483233021391785, 0.8482494200005843, 0.848265554892847, 0.8482818617451764, 0.8482068926963626, 0.8483140165777338, 0.8484211404591047, 0.8484373669337085, 0.8484535704573194, 0.8483786355641139, 0.8483949761922126, 0.8485020426960228, 0.8486091091998332, 0.8486255979807128, 0.8485508921923384, 0.8485675171516924, 0.8484929252118707, 0.8483270812519091, 0.8483432157625177, 0.8483597149565384, 0.8483759978400597, 0.848482927005404, 0.8484993691645727, 0.8484250952909058, 0.8484416733997364, 0.8484582287530049, 0.8482923393063869, 0.848308439438817, 0.8484152658384442, 0.8485220922380712, 0.8486289186376983, 0.8486449616377183, 0.8487517766108634, 0.8485871400861136, 0.8483306501853145, 0.8483467500614212, 0.8484534737688136, 0.8484699254225084, 0.8484865464614643, 0.8485033363456649, 0.8486100260648082, 0.8487167157839515, 0.8487332688706426, 0.8484770414599223, 0.8484931298599945, 0.8485997512635961, 0.848615805530325, 0.848631837041492, 0.8487384356895312, 0.8487550101442046, 0.8488615974869328, 0.8486056887265508, 0.8485319212981267, 0.8485479867844223, 0.8485640295636235, 0.8486705260532776, 0.8486873012081666, 0.8487937864404383, 0.8487202074802669, 0.8488266701254602, 0.8485710000295212, 0.8484976675577947, 0.8485136990293854, 0.8484404766599404, 0.848546837506958, 0.8486531983539758, 0.8487595592009936, 0.8488659200480113, 0.8485201249119776, 0.8485361788124509, 0.8486424717072036, 0.8485684104437601, 0.8485855375579637, 0.848511205661992, 0.8485273271051608, 0.8485434259857121, 0.8484706937921107, 0.8479464012944418, 0.8478725759770255, 0.8477988962662131, 0.8476366927199412, 0.847652914746633, 0.8475802271082904, 0.8476862276369431, 0.8476136589303799, 0.8475391587596931, 0.8475550553427667, 0.8475713104591476, 0.8475875431560151, 0.8476934651184189, 0.8476197497892564, 0.8476374162185524, 0.8475636237466168, 0.8476694898000451, 0.8475049085076263, 0.8476107407889085, 0.8477165730701905, 0.8476444898788899, 0.8477502999512753, 0.8476768422629973, 0.8476926044406834, 0.8477983809074218, 0.8476340134052183, 0.847650266941994, 0.8475762388828934, 0.8473229540358936, 0.8473389062694242, 0.8472669862821702, 0.847193147661871, 0.8472093891145205, 0.8471360397257774, 0.8471516567052019, 0.847257220774573, 0.8471835831365386, 0.847289124881043, 0.8473946666255475, 0.8474105740290483, 0.8475161046111191, 0.8476216351931901, 0.8475476403454714, 0.8475634695883135, 0.84766896665946, 0.847686444277825, 0.8475237375034471, 0.847539655901584, 0.8476450975109271, 0.8477505391202704, 0.8478559807296138, 0.8477820751431248, 0.8477979044066395, 0.8479033125757812, 0.8478302497389748, 0.8478462011426549, 0.8478623186222469, 0.8478780366609499, 0.8478052050786008, 0.8477311995465161, 0.8478365077700623, 0.847853064858317, 0.8479583620596157, 0.8480636592609146, 0.8480794218421603, 0.84818470792805, 0.8482899940139399, 0.8483952800998296, 0.8480526707772729, 0.8480684996999599, 0.8481737191167961, 0.8481902634680226, 0.848206037023537, 0.8483112343492252, 0.848059914514516, 0.8479868827961246, 0.8477354017929482, 0.8478404886160291, 0.8479455754391099, 0.847872388469433, 0.8477987825501936, 0.8475488614938202, 0.8474766305851069, 0.8475816072518461, 0.8475983221346807, 0.847613897202066, 0.8476296379508662, 0.8475574336159166, 0.8475731192987535, 0.8476780299460239, 0.8476940565440273, 0.8477102473113913, 0.847815135983417, 0.8476521509444439, 0.8475787767412818, 0.8474175282440555, 0.8475223288288001, 0.8476271294135443, 0.8475537989974612, 0.8475695945192923, 0.8475853680428438, 0.8476013059661046, 0.8476168485076462, 0.8475439013012422, 0.8476486139156852, 0.8477533265301282, 0.8478580391445713, 0.8478736807243692, 0.8478893003058872, 0.8479939909220505, 0.8479206600793872, 0.8480253287203053, 0.8479524901512946, 0.8480571368858559, 0.8478072323738921, 0.8479118353636977, 0.8480164383535032, 0.8480327883135566, 0.8480496664339802, 0.847887756017356, 0.847904018762156, 0.8480085563060797, 0.8481130938500028, 0.8482176313939261, 0.8483221689378496, 0.8483379965575413, 0.8484425231712128, 0.8480135441221097, 0.8480292623019393, 0.848044958621265, 0.8479718685045963, 0.8479880644410054, 0.848003684316811, 0.8480194677128357, 0.8480352292939942, 0.8480513381752404, 0.8480668707229114, 0.8481712224973329, 0.848098979153375, 0.8478498877110188, 0.8478654859525182, 0.8478816155956972, 0.8478086451286057, 0.847912888168705, 0.8476633101857276, 0.8476789519312098, 0.8477831405929515, 0.8478873292546932, 0.8479031120248812, 0.8479186884849268, 0.8479351604804842, 0.8476861125825945, 0.8477017760055426, 0.8477176018047878, 0.8477335894739596, 0.8477497385087902, 0.8477654993391506, 0.8478695579496007, 0.8478851020484068, 0.8479891497968483, 0.8480053949057169, 0.8477561614587156, 0.847860155099719, 0.8479641487407223, 0.8480681423817253, 0.8480839136452245, 0.8481878964693592, 0.8482918792934944, 0.848308155454976, 0.8483244101170918, 0.8480747138665917, 0.8481786318562827, 0.8482825498459734, 0.8483864678356641, 0.8484022495222655, 0.848418556550205, 0.8483466819616726, 0.8481869631891252, 0.8479373538761978, 0.8480411532829641, 0.8481449526897309, 0.8481612688769609, 0.8482650575784877, 0.8481932889919689, 0.8482970562159708, 0.8483131159983571, 0.8481522581112848, 0.8480794289863794, 0.8480950272775282, 0.84811060402466, 0.8482142850275972, 0.8482300121251743, 0.8479818220585351, 0.8479974739081243, 0.8479258450746363, 0.8478530808489937, 0.8479566543990609, 0.8480602279491277, 0.8480759546010305, 0.8481795174236705, 0.8482830802463109, 0.8482985816667623, 0.8482263535582761, 0.8481542649062004, 0.8479063091681642, 0.8480097754658052, 0.8481132417634463, 0.8482167080610872, 0.8483201743587282, 0.8484236406563694, 0.8485271069540101, 0.8485425868969381, 0.8482945984492805, 0.8483103668471706, 0.8484137688909114, 0.8483420204847695, 0.8483580861714968, 0.8481985732311657, 0.8483019112639669, 0.8481423050424117, 0.8479826342039575, 0.8478236196912035, 0.8477522840119528, 0.8477677536339417, 0.8478709637329963, 0.8477997118326396, 0.8479029006972736, 0.8479188376056929, 0.8476720605583996, 0.8475122936374605, 0.8476153973228179, 0.8477185010081751, 0.8475593286164514, 0.8475747237524256, 0.8475906382885328, 0.8476061716665304, 0.8476216837663479, 0.8474626380812605, 0.8474782667398578, 0.8475812535264344, 0.847597030148275, 0.8477000063395213, 0.8478029825307676, 0.8478185368909757, 0.8479215024650456, 0.847937204897727, 0.8477777971597302, 0.8477932559869933, 0.8478961684968243, 0.8478248283212293, 0.8475791725715045, 0.8475945148714409, 0.8476973533226507, 0.8475388645789362, 0.8476416713310686, 0.8477444780832009, 0.84776062027039, 0.8477762058591487, 0.8477917703008041, 0.847720618604584, 0.8477359505476155, 0.8478386939666613, 0.8479414373857074, 0.8480441808047532, 0.8479734264090736, 0.8479888535676483, 0.8480042595791198, 0.8479334005143, 0.8479487537878819, 0.8479649771081256, 0.847980467554964, 0.848083116201321, 0.8480113851376003, 0.8479397907391487, 0.8478688642773792, 0.8478842282313422, 0.8478997500191892, 0.8480023144016761, 0.848104878784163, 0.8482074431666499, 0.8482227332793768, 0.8481516104966336, 0.8479927944135357, 0.8480090560547808, 0.847938162753322, 0.8478670495129375, 0.8479694984072721, 0.8478109757568996, 0.8476532772709499, 0.8477556632206141, 0.8478580491702786, 0.8477870797665977, 0.8478027577309108, 0.8478180588995604, 0.8478340486876714, 0.847850193704633, 0.8478654320141361, 0.8477940871243032, 0.8478963788819195, 0.8479986706395358, 0.8479286568150417, 0.8477700505650507, 0.847785320516882, 0.8477139451917945, 0.8478161532874292, 0.8477454186995719, 0.8477605944380452, 0.8477761045751706, 0.8477045618842769, 0.8476338624426601, 0.8476492890466745, 0.8474910999154694, 0.8475931826786489, 0.8475221603165289, 0.8473640030291932, 0.8474660336135436, 0.8473952495788637, 0.8474972593597206, 0.847512841297269, 0.8476148406764118, 0.8476309179984703, 0.8477329070392594, 0.8478348960800487, 0.8477639248773541, 0.84786589311465, 0.8478813606966378, 0.847811349824446, 0.8478271174163, 0.8476701519668547, 0.8475993156356347, 0.8476144610709838, 0.8474562826894525, 0.8475581159365915, 0.8473148454122029, 0.8470716661889017, 0.8470869882510064, 0.8471022895520521, 0.8472040191412861, 0.8471331816896026, 0.8471485966801499, 0.8471641663669989, 0.8472658545396511, 0.8471954186334194, 0.8472112756665264, 0.8473129328870289, 0.8472429274238815, 0.8471723573497046, 0.8471884690535239, 0.8470317876035353, 0.8468757407852783, 0.8469772846390893, 0.846992761058622, 0.8468367592090587, 0.8468518229654697, 0.8469533152740706, 0.846968698878945, 0.8468981164475521, 0.846999577824867, 0.8470154221316821, 0.8469443980281767, 0.8470458284950066, 0.8471472589618362, 0.847248689428666, 0.8472647975108811, 0.8472810573815142, 0.8472960801592443, 0.8473116069410997, 0.8474129963879037, 0.8474283179400197, 0.8473578890263027, 0.8473729841613113, 0.8474743324431151, 0.8475756807249187, 0.8475056606723699, 0.8473491209103432, 0.847278312486002, 0.8473795888800358, 0.8474808652740695, 0.8475821416681033, 0.8475115791185462, 0.8474416667400998, 0.8475429021560286, 0.8473860249925785, 0.8474872295817333, 0.847588434170888, 0.8476040916815736, 0.8475336513686014, 0.8475494304396276, 0.847564495130815, 0.8475797135811426, 0.8476808567450546, 0.8477819999089663, 0.8477115592950465, 0.847727398308723, 0.8476567122331955, 0.8476718077710768, 0.8477728895511591, 0.847788818811994, 0.8477190479173039, 0.8476488919862397, 0.8475792109845702, 0.847508800512778, 0.8475238963694007, 0.8475398342473286, 0.8474693211779429, 0.8473989408407242, 0.84749986972839, 0.8474299464302544, 0.8474448993401049, 0.8475457976493489, 0.8476466959585929, 0.8477475942678367, 0.8477635305435731, 0.8476934439680042, 0.8477943118218795, 0.8478100161264832, 0.8476534560584339, 0.847754283161569, 0.8477693994736457, 0.8476142595580674, 0.8474595726294389, 0.8474747602276557, 0.8475755061573071, 0.8476762520869585, 0.8476064864820163, 0.8474507252633213, 0.8475514204540611, 0.8476521156448005, 0.8476680283757105, 0.8477687134960782, 0.8478693986164458, 0.8477999454160994, 0.8478151025058176, 0.8476588581521849, 0.8476739542906848, 0.8477745684098885, 0.8478751825290921, 0.8479757966482957, 0.8480764107674995, 0.8480067228885595, 0.8481073168058652, 0.8480377405530113, 0.8477972466541223, 0.8477279082959874, 0.8475734127725951, 0.8475884282028234, 0.847688900989476, 0.8477893737761291, 0.8478043486812327, 0.8479048113366044, 0.847834580977529, 0.8479350234110056, 0.8479500993743047, 0.8479654974777413, 0.8480659197299296, 0.8480809451791897, 0.8481813573204613, 0.8481963524369712, 0.8482114988720808, 0.8480557506327724, 0.8480708364835936, 0.84800078737109, 0.848016334563804, 0.8481166559094285, 0.848216977255053, 0.8482321435370931, 0.8480776364775104, 0.8480925712109393, 0.8481078277017968, 0.8481230640922728, 0.8482233150454753, 0.8483235659986776, 0.8481693281797178, 0.8481846545484162, 0.8482848654007968, 0.8482998204858753, 0.8482294895925367, 0.8482445652193598, 0.8482599610356596, 0.848360121616724, 0.8484602821977887, 0.8484758074142178, 0.8484058179554934, 0.8482523173393057, 0.848096891822261, 0.8481969622519745, 0.8482130204718212, 0.8483130809909282, 0.8482432216703562, 0.8482582071545085, 0.8483582376034654, 0.8483733631475173, 0.848303213416294, 0.8483181186799454, 0.8482487467370945, 0.8483487171256314, 0.8484486875141686, 0.8484636929377407, 0.8485636533162676, 0.8486636136947947, 0.8485935840833317, 0.8485235144318288, 0.8484537444606257, 0.8485536448190928, 0.8483999610754752, 0.848499831582959, 0.848599702090443, 0.8486995725979269, 0.8487994431054107, 0.848814568019167, 0.8484898031819554, 0.8485896137693194, 0.8484354354275133, 0.8485352161443694, 0.8485502014171488, 0.8485653358533061, 0.8484958041282663, 0.8484264002315347, 0.8483564505983642, 0.8483714755623801, 0.8484711666875931, 0.848486161801041, 0.8485013057510862, 0.8484318826850481, 0.8485315340689669, 0.8486311854528855, 0.8484774416162582, 0.8483229649458558, 0.8483384634915702, 0.8483539422947667, 0.8484535143537213, 0.8484691304535961, 0.8483997559630823, 0.8484146518900628, 0.8484296964267338, 0.8483598863322376, 0.848374881276353, 0.8484743740500456, 0.8485738668237381, 0.8485891577578226, 0.8486040932776472, 0.8485346197889948, 0.8484649385716694, 0.8485643719407742, 0.848579218284845, 0.8485942129924655, 0.8485252508912057, 0.8485401962030673, 0.8486395801567103, 0.8487389641103533, 0.8486698944996679, 0.8487692587303783, 0.8486151289994857, 0.8486301235202518, 0.8486450982985001, 0.8486600533342301, 0.8487593582784537, 0.8488586632226772, 0.8488739131540797, 0.8488888090013689, 0.8489041860495844, 0.8487503719538376, 0.8487655234463855, 0.8487808218175603, 0.8487957669423943, 0.8488106923638818, 0.8488255980820233, 0.8488404840968178, 0.8488556841852436, 0.8486177070205958, 0.8487168446031917, 0.8487317993550736, 0.8487469011608082, 0.8488460190985826, 0.848945137036357, 0.8489603658730548, 0.849059474017565, 0.8490745071539794, 0.8487523472071468, 0.8487674681041198, 0.8488665074819617, 0.8489655468598034, 0.8490645862376451, 0.8490794917313356, 0.8491785212965011, 0.849193729810229, 0.8489560963127663, 0.8490550768533183, 0.84915405739387, 0.8492530379344216, 0.8493520184749735, 0.8492829074289187, 0.849381868382942, 0.8494808293369653, 0.8494958812743614, 0.84900656954947, 0.8491054522153852, 0.8491203965429435, 0.8492192694349491, 0.8491503923154815, 0.8490816414286722, 0.8491804752828717, 0.8490280093186076, 0.8487069948570797, 0.8488057506163138, 0.8488206557225737, 0.8488357067247515, 0.8489344429939993, 0.8490331792632473, 0.8491319155324953, 0.8491470828508003, 0.8489947424016998, 0.8485902571972858, 0.8486054625377706, 0.8486208125809489, 0.8487194320827015, 0.8486511243869863, 0.8485824505658387, 0.8485977133923146, 0.8486124628270464, 0.8484595301956986, 0.8484743864221975, 0.8484063584396777, 0.8482547593434381, 0.8483532333113212, 0.8484517072792039, 0.8484664568371025, 0.8485649210887953, 0.8486633853404882, 0.8485105889165172, 0.8485254256332311, 0.8485402429558178, 0.8486386586648129, 0.8487370743738077, 0.8485850715087615, 0.8485998113119916, 0.8485313682165596, 0.8482128690645411, 0.8481441555742053, 0.848159415276676, 0.8482576956260706, 0.8483559759754655, 0.8482882998065089, 0.8483039789099139, 0.8484022304710571, 0.8485004820322001, 0.848347967096235, 0.8482793210840469, 0.8482950558334492, 0.8481432158420683, 0.848241380566124, 0.8482560723845847, 0.8482709087370276, 0.8482866989791541, 0.8482178311116984, 0.8483159476913527, 0.8482473497255627, 0.8482620801124284, 0.8483601677720157, 0.8483748692388143, 0.8483064826352388, 0.8484045414125635, 0.8485026001898881, 0.8482674502089006, 0.8483654704827867, 0.8484634907566724, 0.8485615110305584, 0.8486595313044443, 0.8485910962088038, 0.8486890972592956, 0.8487870983097874, 0.8485527191224849, 0.8485674973026596, 0.8484992249843823, 0.8485149249982451, 0.8482801590225278, 0.8482949849877557, 0.8483928614138533, 0.8484086260641238, 0.8483399895903242, 0.8484378373399887, 0.8484527396067959, 0.8484674602464652, 0.8482331048896151, 0.848248886293144, 0.8482635208488934, 0.8483612921168566, 0.8483763842689662, 0.8483909709633461, 0.8484887231203875, 0.848586475277429, 0.8486842274344705, 0.8487819795915122, 0.8487147369118547, 0.8488124700690302, 0.8488271238368956, 0.8488417584752679, 0.8485239799089334, 0.8484557545867337, 0.848470446389412, 0.8485680839551646, 0.8485829090209169, 0.8486805370592304, 0.8486125019877878, 0.8486271079317561, 0.8483926570269951, 0.8484073581429079, 0.8483402942728894, 0.8484378270728747, 0.8485353598728602, 0.8486328926728456, 0.848647679312036, 0.8486622853013251, 0.8485941070572072, 0.8485257290711659, 0.848623204743661, 0.848472621768946, 0.8484872657378786, 0.8485847034119413, 0.8486821410860038, 0.8487795787600667, 0.8487941751846642, 0.8485605225360724, 0.8485752137992962, 0.8485082989246464, 0.8485239014417603, 0.8486212538857073, 0.8487186063296545, 0.8488159587736013, 0.8489133112175482, 0.8489278983255654, 0.8486113671477673, 0.8487086626496186, 0.8488059581514701, 0.8489032536533212, 0.8488355666299725, 0.8488501820796299, 0.8488647785855165, 0.8488793561476319, 0.8484811084323951, 0.84841370267006, 0.8483459400272537, 0.8481960605285112, 0.8481282129325983, 0.8481430635448264, 0.8482401606328109, 0.8481722280657011, 0.848187022122068, 0.8482014769808058, 0.8482167104510591, 0.84823192519686, 0.8481643217158, 0.8480965210107261, 0.8481118188119654, 0.848126462326114, 0.8482234464841844, 0.8480728436740417, 0.848169799526754, 0.8481845273176012, 0.8481168391664932, 0.8481313602436173, 0.8482282784655626, 0.848160824650472, 0.8481754490387807, 0.8481906891102675, 0.8480406868827052, 0.8480552361547901, 0.8481520792787087, 0.848084597076378, 0.8481814214395559, 0.848278245802734, 0.8483750701659121, 0.8484718945290901, 0.8482398792460689, 0.8482546061731033, 0.8482691553266994, 0.8483659234256414, 0.8482164270599168, 0.8480670327035877, 0.848163744647105, 0.8481786574001277, 0.8481111091173708, 0.8481254990220306, 0.8482221735346285, 0.8482371693855091, 0.848169983721176, 0.8481846167810854, 0.8482812539711029, 0.8482143014676993, 0.8482293522879164, 0.8480801239668736, 0.8480125848461363, 0.848027077887912, 0.84804171069486, 0.8481382546054581, 0.8481527009445973, 0.8481671285954657, 0.8481821689158668, 0.8482786848659026, 0.8482118777205008, 0.8482263893775592, 0.8483228774209419, 0.8484193654643246, 0.8485158535077073, 0.84861234155109, 0.8487088295944728, 0.8487237492853008, 0.848574075071108, 0.8485886238075624, 0.8486850652922548, 0.8485363747669321, 0.8485508584182032, 0.8485653234532547, 0.8486617184689825, 0.848594513048815, 0.8486090802039996, 0.8485414943067024, 0.8486378428356349, 0.8486523542139007, 0.8485850005709761, 0.8486813212293836, 0.8487776418877914, 0.8487106853677673, 0.8488069874993194, 0.8486577685936298, 0.8485905538203353, 0.848605055756267, 0.8486196963842894, 0.8486343185033902, 0.8485672973174022, 0.8486635067615426, 0.8486783866115564, 0.8487745868367448, 0.8486256451825032, 0.8487218176264267, 0.8486550997546308, 0.8486698780539333, 0.8487660228231702, 0.8486995345170529, 0.848713943978422, 0.8487283349308701, 0.8485792365814742, 0.8486753166580799, 0.8487713967346856, 0.8487860273707895, 0.8488004829177214, 0.848733452112886, 0.8486666973195559, 0.8485997489813191, 0.8483697722458665, 0.8482213828036128, 0.8480729389828419, 0.8480876421431752, 0.8478586650635596, 0.8478736144181106, 0.8478071518976348, 0.8477406517840524, 0.8477550612963191, 0.847769295975537, 0.8478650999416321, 0.8479609039077272, 0.8480567078738221, 0.8480713646144868, 0.8480053117111164, 0.8478569685561018, 0.847791142332429, 0.8478868730395579, 0.8479010988598901, 0.8478348803762215, 0.8479305836023615, 0.8478640001262704, 0.8478786106325782, 0.8479742863954571, 0.8479079289931069, 0.8479223292577899, 0.8478552889739868, 0.8479509189411617, 0.8478842898702365, 0.8478987630953408, 0.8479130625681959, 0.8480086559236149, 0.848104249279034, 0.8481191314518657, 0.8481335315233623, 0.848067182150095, 0.8481627390156895, 0.8480961824347435, 0.8481917210381494, 0.8482060297111758, 0.848301559166037, 0.8483970886208979, 0.848492618075759, 0.8484256144815016, 0.8485211256392727, 0.8485355072472605, 0.8486310092739624, 0.8485642156768206, 0.8485790058102616, 0.848512458141939, 0.8486079146002744, 0.8484605918235408, 0.8482315565622214, 0.8483269492249027, 0.8482605370376233, 0.8482753080008554, 0.8482085234643337, 0.848222941152468, 0.8483182792373452, 0.8481709275697469, 0.8481854358046288, 0.8481999258816282, 0.8482952185370468, 0.8483905111924657, 0.8484048106810004, 0.8485000942401516, 0.8485146746141276, 0.8486099491116139, 0.848462905782141, 0.8483154988905353, 0.8483301330139638, 0.8482636930874972, 0.8482779744349811, 0.8482922376245826, 0.848306636661408, 0.8484018023150608, 0.8484164809300518, 0.8484306806360229, 0.8485258281834754, 0.848540308396179, 0.8483935709931254, 0.8484886823800082, 0.8484222511270211, 0.8484369470250643, 0.8483710647750954, 0.8484661310082615, 0.8483186977586833, 0.8483331504855753, 0.8484281805237165, 0.8484426061688325, 0.8485376271797147, 0.8486326481905971, 0.8486471907275792, 0.848661715244303, 0.8485951122323148, 0.848529085690269, 0.8486240525717117, 0.8485581241863077, 0.8486530730644756, 0.8487480219426435, 0.8487622671279402, 0.8486963928539701, 0.8487112030533573, 0.8484839544674962, 0.8484188747007553, 0.8485137336983737, 0.8486085926959923, 0.8487034516936112, 0.8487178408943826, 0.8485711012388147, 0.8484244595970255, 0.8482779155888984, 0.8483726846555489, 0.8483876970988273, 0.848401933501972, 0.8484170606030441, 0.8485118028767017, 0.8484455962400033, 0.8484602172454994, 0.8483944029443293, 0.8481667895348591, 0.848101038133063, 0.8481158449051961, 0.8482104795676492, 0.8482246532219161, 0.8482394153845589, 0.8483340321626274, 0.8484286489406963, 0.8481215384151117, 0.8482161103975399, 0.8482303198616915, 0.8482451165557077, 0.8481000402809176, 0.8481141783086702, 0.8481292038831871, 0.8482237134891468, 0.8483182230951065, 0.8479304853772055, 0.847784094839772, 0.8477989867188779, 0.8478132585474274, 0.8479076698234349, 0.847921763190033, 0.8479359903756517, 0.8479509519026746, 0.8479649917341959, 0.8480593673593194, 0.8480735321353163, 0.8480876790608963, 0.8481025607465089, 0.8480365858219727, 0.8480506703716587, 0.8479847840184493, 0.8479997262383641, 0.8479345289420392, 0.8477887160856146, 0.8478829671935729, 0.8479772183015314, 0.8479922121272093, 0.8479265736756092, 0.8479415233098191, 0.847955705957968, 0.8478895265243451, 0.8479036646810287, 0.8479978448059515, 0.8480124073780555, 0.848026501126952, 0.8481206635188159, 0.8480556847922056, 0.8480707724109747, 0.8480849461321297, 0.8477799598735984, 0.8477942131582019, 0.8478882870833193, 0.8477429690280648, 0.8478370163953851, 0.8478511988315247, 0.8479452373407119, 0.8477212367159783, 0.8475751136514214, 0.8475896392036011, 0.8475243868580076, 0.847618337017287, 0.8475540728955668, 0.8474894794752217, 0.8475047872192155, 0.8475187400543142, 0.847612637543795, 0.8475465925757109, 0.8476404723489248, 0.8477343521221388, 0.847749718938237, 0.8476847730563997, 0.8476993588372936, 0.8477932035576343, 0.8478074650877767, 0.8474223999957184, 0.8475161829085114, 0.8475309505830255, 0.8476247247532605, 0.8477184989234955, 0.8477333792308892, 0.8478271446748922, 0.8478411067372015, 0.84777523894318, 0.8477093358496417, 0.8476445868649514, 0.8476586017762218, 0.8476725990708479, 0.8477662852555377, 0.8478599714402268, 0.8478740829375975, 0.8478088910194387, 0.8477430673815833, 0.8476783956317175, 0.8476128006625496, 0.8474678500769348, 0.8475614308907685, 0.8475756733191181, 0.8475102536263588, 0.8476038081305675, 0.847618146317666, 0.8474744578446032, 0.8473299784319408, 0.8474234717540672, 0.8472806845584456, 0.8473741518154293, 0.8473890863107313, 0.8474825449063317, 0.8474967172443592, 0.8473516872919605, 0.8474451108517501, 0.8475385344115398, 0.8475529325800784, 0.8475668689015567, 0.8475014489922549, 0.8475948375816756, 0.847530105295814, 0.8475449945771556, 0.8474793124553269, 0.8474938655123181, 0.8475872018411191, 0.8476012865315701, 0.8475357968273715, 0.8474707166532915, 0.8475640093345612, 0.8474197374026071, 0.8475130039376502, 0.8475272619737158, 0.8473834653563375, 0.8473982574189787, 0.8474121503751704, 0.8475053647795676, 0.8474403276261189, 0.8475335246268475, 0.8475475046173893, 0.8474823883127927, 0.8475755591998105, 0.8475897819419969, 0.8476829441514868, 0.8477761063609771, 0.847711612434427, 0.8476470818134608, 0.8477402093768328, 0.8475167461335615, 0.8475309770277765, 0.8475450435898015, 0.84763811903935, 0.8477311944888986, 0.8476664768588924, 0.8477595349856747, 0.8477733846579912, 0.8477873644608405, 0.847801912943298, 0.8478949450856159, 0.8479088815651356, 0.8478441374515441, 0.8477793587246184, 0.8478723475760743, 0.8478869380616967, 0.8479009265009049, 0.8477571895270823, 0.8478501351678593, 0.8479430808086365, 0.8479569999888877, 0.8480499369682816, 0.8481428739476751, 0.8482358109270691, 0.8480925904050636, 0.8481855015126889, 0.8480419106272681, 0.848056002335429, 0.8480699301765261, 0.8481627981058051, 0.8480980268603519, 0.848190877531127, 0.8482053291355512, 0.8482981712249925, 0.8481545958750754, 0.8481691323790438, 0.8482619400311258, 0.848354747683208, 0.8484475553352903, 0.8483830076177472, 0.8483971847621529, 0.8484899666065058, 0.8483465641277552, 0.8482025254584074, 0.8482952555912879, 0.8483879857241685, 0.8484021966520239, 0.8484160986281332, 0.8485088115664599, 0.8486015245047869, 0.8485371287645564, 0.8483934086164012, 0.8482508009769504, 0.8482648659578279, 0.8483575016317341, 0.8482936690900102, 0.8483862876803683, 0.8483222564329953, 0.8483360898759227, 0.8483503425593006, 0.8482853564185427, 0.8482992756428349, 0.848313177704459, 0.8484057276911166, 0.8484982776777745, 0.8485122909871443, 0.8486048324083446, 0.848618965222467, 0.848475374110931, 0.848490032455078, 0.8485039515913474, 0.8485179988611572, 0.8486104803869186, 0.8487029619126801, 0.8487954434384415, 0.8488093026323428, 0.8488231446953295, 0.848601341555322, 0.8486937717199614, 0.8486291794794549, 0.8485649876516244, 0.8485790003832138, 0.8485146038300313, 0.8486069742419439, 0.8486993446538567, 0.8484776101475899, 0.8485699463767931, 0.8486622826059962, 0.8487546188351993, 0.8486909176310344, 0.8487047768003357, 0.8486407281865087, 0.848733021903549, 0.8488253156205895, 0.8486036324506708, 0.8486175341158247, 0.8486314187447974, 0.8487236612903132, 0.8488159038358288, 0.8489081463813445, 0.8489219884198637, 0.8490142224472887, 0.8487149457562433, 0.8488071372558907, 0.8488993287555386, 0.8489133659494431, 0.8489272419580915, 0.8488632169449695, 0.8488770504885172, 0.8488125345158506, 0.8485918784106049, 0.8486839765089782, 0.8487760746073514, 0.8487899505061336, 0.8488820401177758, 0.8487402735574996, 0.8486758424828127, 0.8486120950126651, 0.8486261483604615, 0.8485616240407376, 0.8486536289875053, 0.8487456339342735, 0.8487594843644966, 0.84877346153445, 0.8487872780957808, 0.8488792576447726, 0.8489712371937642, 0.849063216742756, 0.8486862513559126, 0.848778180109309, 0.8487920303681982, 0.8488839506660504, 0.8489758709639027, 0.8489898308420498, 0.849081742699887, 0.8490955337854965, 0.8487192345899282, 0.8488110873209441, 0.8489029400519603, 0.8489947927829766, 0.8489307496694165, 0.8489447007665945, 0.848958777807004, 0.8490505968398621, 0.8491424158727204, 0.8488440696386228, 0.8489358464868916, 0.8490276233351605, 0.8490414564424331, 0.8490554156010429, 0.8490692150256438, 0.8490829976011867, 0.8490969062743983, 0.8487991402064636, 0.8488132663543416, 0.8489049506561729, 0.8487633158030661, 0.8488549749084445, 0.8487914339226666, 0.8488053255772373, 0.848741725537646, 0.8488333427359983, 0.8485357939685911, 0.8484718006298083, 0.8484857087259166, 0.8484996000653748, 0.8485911417203609, 0.8486048655317177, 0.8486189986110393, 0.8486331149948944, 0.8484141113687208, 0.8485055944516807, 0.8485193601925131, 0.848378225724703, 0.8483919412568115, 0.8482510054957236, 0.8483424217049592, 0.8484338379141946, 0.8485252541234299, 0.8483834845479142, 0.848397233470536, 0.8484886161971052, 0.8485799989236747, 0.8485937143942642, 0.8485300212664029, 0.8485441194544295, 0.8485577764602116, 0.8485714167399776, 0.8485853237739736, 0.8486766480662438, 0.8486906712919021, 0.8485496351148253, 0.8486409260922448, 0.8485775650325891, 0.8485912221523485, 0.8485276608026359, 0.8483864322346303, 0.8484001559989073, 0.8484913720139593, 0.8485050707807362, 0.8485187528825129, 0.8486099522325647, 0.8485469130050722, 0.8486380957810236, 0.848574160735424, 0.8486653268463755, 0.8486016246702265, 0.8485380302857919, 0.8486291631426587, 0.848566081725639, 0.8486571980234727, 0.8487483143213064, 0.8488394306191402, 0.8486982109746904, 0.8487893023357479, 0.8488030258796257, 0.8488167328191863, 0.8488304231544295, 0.848844237727436, 0.8489352958949675, 0.848949226094925, 0.8488080231000771, 0.8488990480891493, 0.8489900730782219, 0.8490037964634185, 0.8490948131654406, 0.8491858298674628, 0.8491226150370625, 0.8492136152101454, 0.8491502101692194, 0.8487777875036535, 0.8487915025262172, 0.8488824282361824, 0.8488961184427977, 0.8488329688951343, 0.8488466177868735, 0.8489375104539455, 0.8490284031210177, 0.8486563349601652, 0.8487471780703087, 0.8488380211804522, 0.8488518430708168, 0.8489426779389893, 0.8490335128071616, 0.8489699756168749, 0.8488294909285742, 0.84884322211226, 0.8487795858834108, 0.8487163366760033, 0.8488070890644417, 0.8488978414528802, 0.8489116300089721, 0.8489255415531479, 0.8489391573790058, 0.849029885086324, 0.8488892029715209, 0.8489799059529262, 0.8489935957398265, 0.8489306658670056, 0.8489444541099103, 0.8490351242427853, 0.8489717021704388, 0.8486773633834288, 0.8486910530063442, 0.8486277950423096, 0.8487183829794407, 0.8486553542859727, 0.8485920142304414, 0.8486057446389926, 0.8486962915601024, 0.8487099973768772, 0.8486471154335321, 0.8485073428849452, 0.8485211139832854, 0.8486116035976593, 0.848625350148693, 0.8485627447095438, 0.8484995519075623, 0.8484367424321627, 0.8484502599488355, 0.8485406841479135, 0.8484775236540752, 0.848491546284152, 0.8485051374572874, 0.8485955289708123, 0.8486859204843371, 0.848776311997862, 0.8488667035113865, 0.8489570950249113, 0.848816913686121, 0.8488306922209914, 0.8488443159390409, 0.848934666584697, 0.8488716529097127, 0.8488084680383732, 0.8488987860281624, 0.8488355521509078, 0.8489258538053918, 0.848939363191049, 0.8490296566778808, 0.8491199501647125, 0.8491337038215349, 0.8492239891701603, 0.8491610239931935, 0.8492512930507032, 0.849265127693636, 0.8488187711789486, 0.8487560733906632, 0.8488462610512084, 0.8489364487117536, 0.848950023298433, 0.8489635816087, 0.8489771236425545, 0.8490672868884811, 0.8489277894547917, 0.848864896642468, 0.8489550192559772, 0.8490451418694864, 0.8489823222275437, 0.8489958804644143, 0.8490094224541993, 0.8490995125881609, 0.8491131680516283, 0.8489735081616269, 0.8489108015409746, 0.8488483371755157, 0.8488620328771486, 0.8487993743496315, 0.8488893753436247, 0.8489793763376181, 0.8490693773316108, 0.8489305419094852, 0.8487909713704338, 0.8488809237836781, 0.848970876196922, 0.8489847003979649, 0.8490746447459255, 0.8489357441067298, 0.8490256642152044, 0.8489631256593043, 0.8486713623827464, 0.8487612259323424, 0.8486988560616597, 0.8487129196655031, 0.8488027590769208, 0.8488162525569976, 0.848906083888626, 0.8488438743070779, 0.848781768193073, 0.8484896761119893, 0.8485031856929991, 0.8485166791434414, 0.8485302932621005, 0.8485438912791263, 0.8485574731945181, 0.8484187332890436, 0.8484321300428448, 0.8483692050176381, 0.8484588751587456, 0.8484726331182862, 0.8484103179183731, 0.8484237629984255, 0.8484377360825333, 0.848527366099022, 0.8486169961155106, 0.8485547051392588, 0.8482636591035273, 0.8482773924367771, 0.8483669582051687, 0.8483808030944848, 0.8483943604459784, 0.8484839101990336, 0.8483452738311158, 0.8484347995037448, 0.8483719873908807, 0.8483854564571729, 0.8483991812025922, 0.848412618209549, 0.8484264462972785, 0.8484402584268818, 0.8484540545983595, 0.8483917468746943, 0.8484811924990353, 0.8482664912089201, 0.848204087421977, 0.8482934849859968, 0.8483828825500168, 0.8483965508276843, 0.8483347361307502, 0.8483482290402424, 0.848437594702208, 0.848223236449652, 0.8481613017618864, 0.8480238269993526, 0.8481131208634147, 0.8481268916952978, 0.8481402409095626, 0.8481537097526763, 0.8482429796937092, 0.8482569635587444, 0.847967868310648, 0.8479812495257801, 0.8479948850684955, 0.8478570607607967, 0.8479462431591095, 0.8479598230189455, 0.8478977761277238, 0.8479869346741093, 0.8478497491999646, 0.8479388839507216, 0.8478013605355548, 0.8478904714626658, 0.8479795823897771, 0.8480686933168882, 0.8480065901063212, 0.8479443210567071, 0.8480334001953832, 0.8480466462131211, 0.8479851109755268, 0.847998587327518, 0.848087634748218, 0.8481013559530226, 0.8480398588845777, 0.8481288825943073, 0.8481421527035943, 0.8480041533034957, 0.8480183128070987, 0.8479565495593284, 0.847819238137762, 0.8478326589190258, 0.8478463320548795, 0.8479352607660242, 0.8480241894771693, 0.8480375627524739, 0.8479750874368076, 0.8479133861147965, 0.8480022752421803, 0.8480161126097299, 0.8479540722000476, 0.8478928012428112, 0.8479060400624936, 0.8479196652645833, 0.8479328724370128, 0.8479461982263622, 0.8478091611475476, 0.847897955571631, 0.847911627439754, 0.8480004139976011, 0.848089200555448, 0.8481029740784749, 0.8481917527840206, 0.8481294045619269, 0.8482181674509445, 0.8481560402669406, 0.8481693344367945, 0.8482580736431599, 0.8482720102236083, 0.84828526499205, 0.8482986379285922, 0.8482369024817518, 0.848175136634913, 0.8481891112577884, 0.8482026724745987, 0.8482160846718692, 0.8482297474404408, 0.8483184002150479, 0.8483316393969261, 0.8484202842913249, 0.8482073455131307, 0.8482210545557003, 0.8483096601186958, 0.8481727072639057, 0.8482612892698864, 0.8483498712758667, 0.8483636422231202, 0.8483768657415718, 0.8483900735275507, 0.8484786319903405, 0.848491949701571, 0.8485805003120597, 0.8486690509225483, 0.8487576015330369, 0.8487712785990527, 0.848859821398823, 0.8488730763332258, 0.8485852659591073, 0.8484483837181461, 0.8483117200041417, 0.8483249827628659, 0.8483382298447832, 0.8483515942324628, 0.8484400194559601, 0.8483786736826826, 0.8483167660064039, 0.8482552250617953, 0.8482687606573134, 0.8483571311918124, 0.8484455017263116, 0.8484591381731317, 0.8485475009244514, 0.8485608495383715, 0.848499160231151, 0.8484374396809852, 0.8483756882395317, 0.8484639963157512, 0.8484027272521022, 0.8482662342555212, 0.8481303545926242, 0.848218600389585, 0.8482322898174948, 0.8480208202524459, 0.8480345864119709, 0.8478236763944352, 0.8477625359959771, 0.8478506884901016, 0.8478639745824988, 0.8478773770454275, 0.8478908955715703, 0.8479790247572652, 0.8480671539429604, 0.8481552831286555, 0.8481686312190112, 0.8481820954409749, 0.8481207475170989, 0.8481343042968608, 0.8481477142282875, 0.8482357968655532, 0.8480244355213193, 0.8479628161037229, 0.8480508521103782, 0.8479901054125211, 0.8480036615246238, 0.8480169396071148, 0.848104944685945, 0.8481180676663982, 0.8482060649757639, 0.8482940622851295, 0.8481582630368305, 0.8480971996860284, 0.8481105008377006, 0.8481240486031523, 0.8481374500488801, 0.8482253855024882, 0.8481638124341723, 0.8482517323898511, 0.8482652106390413, 0.8482044852628849, 0.8482181858739729, 0.8482313478570216, 0.8483192292647977, 0.8483327610584157, 0.8482723108024912, 0.8482111763445728, 0.8480752451489174, 0.8481630648905712, 0.8481762346962942, 0.848189389044944, 0.8482771933295243, 0.8482908469090512, 0.8483786435191639, 0.8482435492170586, 0.8479586247550779, 0.8478972140177128, 0.8479103529963599, 0.8478494096213035, 0.8479371060848557, 0.8479508498169747, 0.8480385386328813, 0.8479771200581672, 0.8478427361998941, 0.8479303866430037, 0.8480180370861135, 0.847883172274785, 0.8479707997212789, 0.8480584271677728, 0.8480721623493264, 0.8479380821253464, 0.8479519004846215, 0.8476666635018469, 0.8477542142830392, 0.847693772793952, 0.8477076279583853, 0.8477206905453942, 0.8477339982653274, 0.8476731982307211, 0.8476862070960701, 0.8476252243434577, 0.8476381948227933, 0.8477256613582203, 0.8477393866976295, 0.847826845625381, 0.8479143045531329, 0.8480017634808845, 0.8480892224086365, 0.848027827364621, 0.8478919669623843, 0.8479793875177986, 0.848066808073213, 0.8480799012295342, 0.8480929790637782, 0.8478836622409865, 0.8479710368970295, 0.8480584115530725, 0.8479983481112446, 0.8478627175058332, 0.8478758030137048, 0.8479631318635363, 0.8478283084397222, 0.8479156144132001, 0.8477816255307502, 0.8477947492558702, 0.8478083734317619, 0.8478213368832584, 0.8479085972102329, 0.8477000001504067, 0.8477872300331141, 0.8478003841482, 0.8478876064099434, 0.8479008668530875, 0.8478403973595716, 0.8479275968244856, 0.8479405528472524, 0.8479543936063472, 0.8480415778952233, 0.8479808761876624, 0.8479941591482343, 0.8478601496143231, 0.8478732580881692, 0.8479603892420166, 0.8478249958754128, 0.8479121041663689, 0.8477775453952864, 0.8477906916289711, 0.8478777695553914, 0.8479648474818118, 0.8479780920794475, 0.847843896532653, 0.8479309441606336, 0.8477960362173581, 0.8478090686138634, 0.847748856611609, 0.8476883577549774, 0.8477753447593648, 0.8477888223154462, 0.847802412310992, 0.8478893842449591, 0.8478282649608111, 0.847841682090625, 0.8479286312939982, 0.8479417696221299, 0.8480287112574855, 0.8478945573685556, 0.8479814763390697, 0.8478473847647736, 0.8479342810838023, 0.8478732074971717, 0.847813255716883, 0.847900121829149, 0.8479869879414152, 0.8480738540536812, 0.8481607201659476, 0.8482475862782135, 0.848187402424208, 0.8480525029966746, 0.8480661726723147, 0.8480795734298775, 0.8480925757227338, 0.8481056910631605, 0.8481186631496639, 0.8482054538438051, 0.848218914055604, 0.8483056972471383, 0.8481712949616902, 0.8482580555278689, 0.8482713283497709, 0.8481368290473019, 0.8482235594726057, 0.8482366519847364, 0.8483233748813712, 0.8482634287525611, 0.8480553666663214, 0.8479949637357136, 0.848008078611867, 0.8479478778091739, 0.8477407743054861, 0.8477541952966388, 0.847767727753601, 0.8478543230271203, 0.8478677066477849, 0.8478805661874205, 0.8479671464555902, 0.8479801112139231, 0.8479930609410129, 0.8480796261779403, 0.8480930614244067, 0.8481061011500455, 0.8480461071732128, 0.8480592366573501, 0.8480726046392517, 0.8480857041907409, 0.8481722170647787, 0.8481852941473875, 0.8482717995317982, 0.8482849811131506, 0.8482251954338622, 0.8483116784268713, 0.8481773596912798, 0.8481903394472774, 0.8482767924428384, 0.8482165077829869, 0.8481564466756522, 0.8482428697902511, 0.8483292929048505, 0.848269044990154, 0.8482088933199693, 0.848295286566386, 0.8483082588129014, 0.8481744859723694, 0.8482608493249784, 0.8483472126775873, 0.8484335760301962, 0.8485199393828052, 0.8485329637594727, 0.8485458463116518, 0.848632194723813, 0.84864556057041, 0.8486586593334622, 0.8485252435177365, 0.8486115547010871, 0.8484779451815065, 0.8484912143075769, 0.8483576569375693, 0.8483708814352602, 0.8483842168001671, 0.8483242355091971, 0.8484104648480372, 0.8484238811314373, 0.8484369053079392, 0.8482306747253772, 0.848316859512486, 0.8483296977632889, 0.8483432750670634, 0.8482831012816969, 0.8483692563803441, 0.8484554114789915, 0.8485415665776388, 0.8486277216762863, 0.8485675846078984, 0.8485071656938779, 0.8485201302949182, 0.848533080045503, 0.8486191905671229, 0.8486322440025174, 0.8485727187690533, 0.8486588071041219, 0.8485987364670322, 0.8486848099771718, 0.848624443141593, 0.8487105018012766, 0.8487965604609604, 0.848809502734835, 0.8487496833123526, 0.8488357197729011, 0.8489217562334499, 0.8488617518756787, 0.8487283131926479, 0.8486684931798847, 0.8486814353834861, 0.8486948629136221, 0.848708399987235, 0.8487214234471658, 0.8485886640565894, 0.8485285637625826, 0.8486144820051669, 0.8484083990768049, 0.8484213117190602, 0.8484342095873426, 0.8484474676339101, 0.8483878371366804, 0.8484736889720514, 0.8484867781987461, 0.8484269576974827, 0.8483667319382846, 0.8484525469020655, 0.8483925276107248, 0.8484783278258959, 0.8485641280410668, 0.8485045482707937, 0.848590333787756, 0.8486032904411365, 0.8486163571976411, 0.8485561905085162, 0.8485695931045972, 0.8485096252304581, 0.8485953592534174, 0.8485359684601039, 0.848404041063791, 0.8484897384416762, 0.8485754358195615, 0.8485153282371627, 0.8486010108917359, 0.8486866935463089, 0.8485548452600504, 0.848495141101359, 0.8485079728381175, 0.8485207898767966, 0.8485337169245597, 0.8484740420863618, 0.848341618339154, 0.8484272056694948, 0.848367450192978, 0.8484530228629591, 0.8485385955329402, 0.8485517850400173, 0.8486373504111013, 0.8486501454778104, 0.8485174951025917, 0.8483852981959366, 0.848398144511082, 0.8483383010785216, 0.8484237931979489, 0.8485092853173762, 0.8484497557807138, 0.8485352332898597, 0.8485483710059984, 0.8485611221853799, 0.8485742307182902, 0.8485874480570932, 0.8486004037490721, 0.8486135919669238, 0.8485542574432248, 0.8485672858375406, 0.8486526977435132, 0.8484474967361184, 0.8484603429568086, 0.8484731745797047, 0.8484138116723197, 0.8484269773481807, 0.8484400053009805, 0.8484527713332868, 0.8483933131566008, 0.8484061666012008, 0.8483462867600327, 0.8484315819829125, 0.8485168772057922, 0.8485298032227906, 0.8486150911716519, 0.8486278717393481, 0.848713152401768, 0.8485813608635701, 0.8483769967803626, 0.8484622265369209, 0.8484752826010655, 0.8485605051083576, 0.8486457276156498, 0.8485860662308186, 0.8486712741900746, 0.8486841490904868, 0.8485525744623281, 0.8485654058176404, 0.8486505774934223, 0.8486633870638558, 0.848604304530016, 0.848617201035926, 0.8485578223596983, 0.8486429505521501, 0.8485837742142792, 0.8484519170805452, 0.848392552619227, 0.8484054561154375, 0.8483461636114399, 0.8483592759408731, 0.8483722514805171, 0.848385334948188, 0.8484703690601405, 0.8483389964080092, 0.8482796816651685, 0.8483646796292632, 0.8483774384849484, 0.8483901828667595, 0.8484751663569792, 0.8485601498471995, 0.8485731105693969, 0.8485141490747111, 0.8485268284100103, 0.8485396161087617, 0.8484807044166693, 0.8484937008274217, 0.8485786266307276, 0.8485916014410622, 0.8486045618511179, 0.8485452975834107, 0.8486301945616583, 0.8483545791513407, 0.8483675750857163, 0.8484524288139703, 0.8483935238268524] avg p*: [1.0, 1.0, 1.0, 1.0, 1.0, 1.0, 1.0, 1.0, 1.0, 1.0, 1.0, 1.0, 1.0, 1.05, 1.05, 1.15, 1.15, 1.3, 1.3, 1.3333333333333335, 1.3333333333333335, 1.4166666666666667, 1.4833333333333334, 1.5333333333333334, 1.5833333333333335, 1.6, 1.6, 1.6, 1.6333333333333335, 1.6333333333333335, 1.6333333333333335, 1.6333333333333335, 1.6666666666666667, 1.7, 1.5416666666666665, 1.5749999999999997, 1.5749999999999997, 1.5749999999999997, 1.65, 1.65, 1.65, 1.6833333333333331, 1.5899999999999999, 1.6149999999999998, 1.64, 1.6600000000000001, 1.7549999999999997, 1.7549999999999997, 1.775, 1.775, 1.8, 1.7149999999999999, 1.7850000000000001, 1.81, 1.83, 1.83, 1.83, 1.85, 1.85, 1.8199999999999998, 1.8199999999999998, 1.8399999999999999, 1.86, 1.86, 1.8850000000000002, 1.9049999999999998, 1.9049999999999998, 1.9049999999999998, 1.6360714285714288, 1.6721825396825398, 1.7157936507936509, 1.7357936507936507, 1.7469047619047617, 1.7469047619047617, 1.7669047619047618, 1.7669047619047618, 1.6894444444444445, 1.7005555555555556, 1.7130555555555556, 1.7330555555555556, 1.7455555555555555, 1.7891666666666666, 1.800277777777778, 1.812777777777778, 1.8327777777777778, 1.8111111111111111, 1.823611111111111, 1.836111111111111, 1.847222222222222, 1.863888888888889, 1.896388888888889, 1.896388888888889, 1.92, 1.853611111111111, 1.8786111111111112, 1.8786111111111112, 1.8897222222222219, 1.9022222222222218, 1.9022222222222218, 1.9022222222222218, 1.922222222222222, 1.9347222222222222, 1.9064285714285716, 1.9064285714285716, 1.9064285714285716, 1.9189285714285718, 1.933214285714286, 1.9609920634920635, 1.9609920634920635, 1.9609920634920635, 1.8652777777777778, 1.9152777777777779, 1.9152777777777779, 1.9319444444444442, 1.9587301587301589, 1.9730158730158731, 1.985515873015873, 1.985515873015873, 1.985515873015873, 1.998015873015873, 1.998015873015873, 1.998015873015873, 2.010515873015873, 2.010515873015873, 2.010515873015873, 2.010515873015873, 2.0216269841269843, 1.9952380952380953, 1.9952380952380953, 2.0077380952380954, 2.020238095238095, 2.020238095238095, 2.0470238095238096, 2.0470238095238096, 2.070634920634921, 2.083134920634921, 2.0845238095238097, 2.108134920634921, 2.108134920634921, 2.1567460317460316, 2.1567460317460316, 2.169246031746032, 2.1817460317460315, 2.2085317460317464, 2.1246428571428573, 2.135753968253968, 2.1468650793650794, 2.15797619047619, 2.15797619047619, 2.166309523809524, 2.188531746031746, 2.2096428571428572, 2.222142857142857, 2.1550000000000002, 2.1733333333333333, 2.1733333333333333, 2.1916666666666664, 2.2222222222222223, 2.2222222222222223, 2.2222222222222223, 2.232222222222222, 2.186540404040404, 2.186540404040404, 2.186540404040404, 2.195631313131313, 2.2039646464646467, 2.2139646464646465, 2.2239646464646468, 2.273409090909091, 2.290833333333333, 2.2619444444444445, 2.2619444444444445, 2.292146464646465, 2.292146464646465, 2.302146464646465, 2.321237373737374, 2.3323484848484854, 2.3323484848484854, 2.3142929292929297, 2.324292929292929, 2.3433838383838386, 2.3433838383838386, 2.353383838383839, 2.353383838383839, 2.353383838383839, 2.353383838383839, 2.353383838383839, 2.3074747474747475, 2.3074747474747475, 2.3165656565656567, 2.3165656565656567, 2.3165656565656567, 2.3265656565656565, 2.33489898989899, 2.34489898989899, 2.252878787878788, 2.2728787878787875, 2.291212121212121, 2.291212121212121, 2.291212121212121, 2.299545454545455, 2.299545454545455, 2.308636363636364, 2.3169696969696973, 2.2965501165501165, 2.304242424242424, 2.304242424242424, 2.304242424242424, 2.304242424242424, 2.321934731934732, 2.321934731934732, 2.330268065268066, 2.27977022977023, 2.3141292041292045, 2.330795870795871, 2.330795870795871, 2.330795870795871, 2.339129204129205, 2.358220113220114, 2.3819380619380626, 2.3902713952713954, 2.357890442890443, 2.3755827505827503, 2.382249417249417, 2.382249417249417, 2.382249417249417, 2.382249417249417, 2.390582750582751, 2.390582750582751, 2.350897435897436, 2.3575641025641025, 2.3575641025641025, 2.3658974358974363, 2.373589743589744, 2.3835897435897437, 2.3835897435897437, 2.3835897435897437, 2.3912820512820514, 2.311121794871795, 2.3307051282051283, 2.347371794871795, 2.347371794871795, 2.347371794871795, 2.347371794871795, 2.355705128205128, 2.372371794871795, 2.372371794871795, 2.3936217948717946, 2.4002884615384614, 2.4169551282051285, 2.4169551282051285, 2.4169551282051285, 2.425288461538462, 2.431538461538462, 2.431538461538462, 2.3983012820512823, 2.3983012820512823, 2.3983012820512823, 2.419326923076923, 2.419326923076923, 2.434326923076923, 2.434326923076923, 2.4503525641025643, 2.454404761904762, 2.4627380952380955, 2.469404761904762, 2.4920970695970697, 2.499239926739927, 2.50757326007326, 2.50757326007326, 2.5225732600732598, 2.5225732600732598, 2.5174450549450547, 2.5174450549450547, 2.5251373626373623, 2.5334706959706956, 2.5411630036630033, 2.55782967032967, 2.56407967032967, 2.570746336996337, 2.561698717948718, 2.5683653846153844, 2.5683653846153844, 2.5683653846153844, 2.5750320512820513, 2.5816987179487176, 2.5883653846153845, 2.5966987179487178, 2.6043910256410254, 2.428495475113122, 2.4343778280542985, 2.4427111613876322, 2.4485935143288087, 2.4485935143288087, 2.4485935143288087, 2.4485935143288087, 2.454475867269985, 2.2492067942377543, 2.260418915449875, 2.260418915449875, 2.2681112231421827, 2.2726566776876376, 2.278539030628814, 2.2909932430830264, 2.2909932430830264, 2.2909932430830264, 2.2871498191351134, 2.2871498191351134, 2.2871498191351134, 2.2871498191351134, 2.2871498191351134, 2.2871498191351134, 2.2933998191351135, 2.2933998191351135, 2.279930510665805, 2.2846924154277097, 2.2846924154277097, 2.2986347231200175, 2.2986347231200175, 2.306327030812325, 2.306327030812325, 2.3113270308123246, 2.3113270308123246, 2.2777597402597403, 2.28275974025974, 2.2949975024975027, 2.2995429570429566, 2.2995429570429566, 2.3090884115884114, 2.3090884115884114, 2.320100316350316, 2.201581196581196, 2.211126651126651, 2.2228149628149625, 2.232122322122322, 2.2469852369852368, 2.2625425962925965, 2.2716335053835053, 2.27617895992896, 2.285724414474415, 2.2619209956709954, 2.2619209956709954, 2.2733495670995674, 2.277895021645022, 2.2889069264069266, 2.293452380952381, 2.297997835497836, 2.3027597402597406, 2.272402597402597, 2.272402597402597, 2.272402597402597, 2.277958152958153, 2.290458152958153, 2.2954581529581533, 2.3010137085137083, 2.3010137085137083, 2.305559163059163, 2.283045794075206, 2.2892957940752057, 2.2955457940752058, 2.301795794075206, 2.311103153382565, 2.321530960869196, 2.3373264154146502, 2.3428819709702062, 2.3436756217638566, 2.354925621763857, 2.371276631864867, 2.390129445717681, 2.3948913504795857, 2.408982259570495, 2.4135277141159497, 2.423073168661404, 2.423073168661404, 2.414249639249639, 2.414249639249639, 2.4248051948051947, 2.4248051948051947, 2.4349062049062047, 2.4396681096681094, 2.4396681096681094, 2.4442135642135643, 2.4331475468975468, 2.437693001443001, 2.437693001443001, 2.442238455988456, 2.4467839105339104, 2.451545815295815, 2.46234126984127, 2.473136724386724, 2.4824440836940833, 2.4770328282828284, 2.4815782828282824, 2.4906691919191917, 2.5045220057720057, 2.5107720057720053, 2.5107720057720053, 2.5107720057720053, 2.5107720057720053, 2.503920401493931, 2.5086823062558357, 2.5086823062558357, 2.5086823062558357, 2.5177732153467445, 2.5282010228333758, 2.53274647737883, 2.53274647737883, 2.537508382140735, 2.5465992912316446, 2.5528492912316443, 2.5528492912316443, 2.5528492912316443, 2.5573947457770982, 2.561940200322553, 2.561940200322553, 2.5710311094134624, 2.5459802916381866, 2.5459802916381866, 2.550525746183641, 2.5557889040783777, 2.560550808840282, 2.565813966735019, 2.565813966735019, 2.5705758714969242, 2.575121326042379, 2.57242993848257, 2.577693096377307, 2.5829562542720437, 2.5829562542720437, 2.5829562542720437, 2.5875017088174985, 2.6034091244153164, 2.6034091244153164, 2.589318215324407, 2.6038887325265034, 2.6129796416174127, 2.6182427995121498, 2.622788254057604, 2.622788254057604, 2.6273337086030586, 2.6273337086030586, 2.6273337086030586, 2.620441254651781, 2.624986709197236, 2.624986709197236, 2.634294068504595, 2.634294068504595, 2.6388395230500494, 2.6388395230500494, 2.644395078605605, 2.6354477101845526, 2.6445386192754614, 2.6536295283663707, 2.658174982911825, 2.668492443229286, 2.6780378977747406, 2.692684362421205, 2.692684362421205, 2.6972298169666598, 2.701775271512114, 2.701775271512114, 2.7063207260575686, 2.7063207260575686, 2.716129338497759, 2.716129338497759, 2.716129338497759, 2.725220247588669, 2.7302202475886688, 2.7347657021341236, 2.7347657021341236, 2.7393111566795776, 2.7438566112250324, 2.7438566112250324, 2.7484020657704864, 2.7579475203159416, 2.7579475203159416, 2.734925654056089, 2.734925654056089, 2.739925654056089, 2.739925654056089, 2.739925654056089, 2.7444711086015436, 2.7444711086015436, 2.7444711086015436, 2.7438189346885, 2.7531262939958596, 2.7576717485413136, 2.7576717485413136, 2.7576717485413136, 2.7672172030867683, 2.7765650291737245, 2.780912855260681, 2.785260681347638, 2.790260681347638, 2.790260681347638, 2.790260681347638, 2.790260681347638, 2.790260681347638, 2.7946085074345945, 2.8041539619800493, 2.8041539619800493, 2.7343308865047993, 2.7432241671372104, 2.7482241671372103, 2.7482241671372103, 2.7482241671372103, 2.7575315264445703, 2.7575315264445703, 2.7620769809900247, 2.7670769809900246, 2.6932051467051465, 2.6932051467051465, 2.697552972792103, 2.697552972792103, 2.697552972792103, 2.7060185812577116, 2.7060185812577116, 2.710564035803166, 2.653163660815834, 2.6570098146619885, 2.6570098146619885, 2.6611764813286554, 2.6650226351748088, 2.6736306937828678, 2.6773343974865713, 2.681501064153238, 2.6903943447856493, 2.6775086145738323, 2.681212318277536, 2.681212318277536, 2.6849160219812394, 2.6977294565338044, 2.701433160237508, 2.701433160237508, 2.7055998269041748, 2.7003291716335194, 2.704874626178974, 2.704874626178974, 2.704874626178974, 2.704874626178974, 2.704874626178974, 2.70904129284564, 2.70904129284564, 2.712744996549344, 2.6546078076512853, 2.6626593374419456, 2.6626593374419456, 2.6626593374419456, 2.6703974326800415, 2.674397432680042, 2.681947290229899, 2.681947290229899, 2.6620668188494276, 2.6620668188494276, 2.6620668188494276, 2.669912972695582, 2.6771881049707136, 2.6808918086744176, 2.684595512378121, 2.684595512378121, 2.688943338465078, 2.6731811007028403, 2.67718110070284, 2.67718110070284, 2.67718110070284, 2.67718110070284, 2.6811811007028403, 2.688884804406544, 2.688884804406544, 2.653269593530463, 2.657269593530463, 2.6656174196174196, 2.6696174196174196, 2.677188848188848, 2.677188848188848, 2.677188848188848, 2.6847602767602767, 2.6847602767602767, 2.6432601765799526, 2.6432601765799526, 2.646963880283656, 2.650963880283656, 2.665332543878126, 2.6762620540334425, 2.679965757737146, 2.6867629927601877, 2.680637636634832, 2.684341340338535, 2.6923413403385354, 2.6923413403385354, 2.700045044042239, 2.711748747745943, 2.711748747745943, 2.719748747745943, 2.734727583724779, 2.7297845195425845, 2.7297845195425845, 2.733784519542584, 2.737951186209251, 2.737951186209251, 2.744748421232292, 2.748915087898959, 2.7561902201740915, 2.760356886840758, 2.760356886840758, 2.7713357228195936, 2.7713357228195936, 2.7713357228195936, 2.7713357228195936, 2.7713357228195936, 2.7753357228195936, 2.77950238948626, 2.7813094767260504, 2.7850131804297544, 2.792405653548034, 2.792405653548034, 2.792405653548034, 2.792405653548034, 2.796109357251738, 2.799680785823166, 2.7889068394630128, 2.7926105431667168, 2.7963142468704207, 2.7963142468704207, 2.8003142468704203, 2.807466226436193, 2.811466226436193, 2.811466226436193, 2.818618206001966, 2.8103906280346775, 2.8103906280346775, 2.821064710348359, 2.827994220503675, 2.834791455526717, 2.834791455526717, 2.8384951592304204, 2.8384951592304204, 2.8384951592304204, 2.842066587801849, 2.842066587801849, 2.842066587801849, 2.845514863663918, 2.8487406701155313, 2.8487406701155313, 2.8521889459775998, 2.8595814190958793, 2.853603254056535, 2.853603254056535, 2.8605327642118517, 2.8605327642118517, 2.86410419278328, 2.867552468645349, 2.867552468645349, 2.867552468645349, 2.7986169641753627, 2.8018427706269753, 2.8052910464890446, 2.8121875982131823, 2.815413404664795, 2.819117108368499, 2.822565384230568, 2.822565384230568, 2.8262690879342713, 2.800284730512762, 2.8073566908105283, 2.8073566908105283, 2.810804966672597, 2.814376395244026, 2.814376395244026, 2.814376395244026, 2.814376395244026, 2.7990068782616055, 2.805804113284647, 2.805804113284647, 2.809252389146716, 2.809252389146716, 2.809252389146716, 2.809252389146716, 2.809252389146716, 2.809252389146716, 2.791960431115047, 2.802826289394699, 2.8060520958463115, 2.8060520958463115, 2.8060520958463115, 2.809277902297924, 2.815951984611606, 2.815951984611606, 2.8124551940458504, 2.8159034699079193, 2.8191292763595324, 2.8191292763595324, 2.82602582808367, 2.829251634535283, 2.835925716848965, 2.8393739927110344, 2.8393739927110344, 2.767311251530646, 2.7771489797253723, 2.7839462147484135, 2.794068572924164, 2.797516848786233, 2.797516848786233, 2.8004580252568214, 2.806847477589478, 2.7947942157953283, 2.798020022246941, 2.8009611987175296, 2.8009611987175296, 2.8009611987175296, 2.8044094745795984, 2.807350651050186, 2.813740103382843, 2.813740103382843, 2.80040677004951, 2.80040677004951, 2.80040677004951, 2.80040677004951, 2.8037401033828435, 2.8066812798534317, 2.8066812798534317, 2.8066812798534317, 2.7150561332702177, 2.718504409132287, 2.718504409132287, 2.727410497883577, 2.730858773745646, 2.733983773745646, 2.737108773745646, 2.737108773745646, 2.7430802532465375, 2.7271736903989288, 2.7271736903989288, 2.7366881427315866, 2.7366881427315866, 2.739913949183199, 2.7457963021243748, 2.7519632850465765, 2.7549935880768794, 2.7296430478442226, 2.7296430478442226, 2.7359938542958355, 2.7359938542958355, 2.7359938542958355, 2.7392196607474486, 2.7392196607474486, 2.7518449770029827, 2.7573143044235295, 2.755638150090829, 2.758579326561417, 2.758579326561417, 2.7648538363653388, 2.7648538363653388, 2.768302112227407, 2.770741136617651, 2.770741136617651, 2.7791516405087866, 2.7884436234309877, 2.7908826478212316, 2.7908826478212316, 2.7908826478212316, 2.796854127322123, 2.796854127322123, 2.802234328182955, 2.802234328182955, 2.7385187916093403, 2.7385187916093403, 2.7416437916093406, 2.7478107745315423, 2.7507519510021305, 2.7536931274727188, 2.7536931274727188, 2.7536931274727188, 2.7330370643655977, 2.7330370643655977, 2.735814842143376, 2.7410316443113976, 2.7410316443113976, 2.743470668701641, 2.7462484464794192, 2.749026224257197, 2.749026224257197, 2.7376185636856367, 2.7407435636856365, 2.7407435636856365, 2.746462517934003, 2.7492402957117807, 2.7492402957117807, 2.7523652957117806, 2.7551430734895583, 2.7238203398506484, 2.7266774827077915, 2.7266774827077915, 2.7296186591783798, 2.7326489622086823, 2.73542673998646, 2.73542673998646, 2.7378657643767044, 2.740806940847292, 2.737392712543358, 2.745550691181968, 2.748407834039111, 2.753704001286498, 2.753704001286498, 2.753704001286498, 2.7564067039892004, 2.7564067039892004, 2.7258025016202927, 2.734149083496286, 2.734149083496286, 2.739947402824017, 2.748477808229423, 2.7540376537892683, 2.757162653789268, 2.757162653789268, 2.759601678179512, 2.723982558736863, 2.723982558736863, 2.723982558736863, 2.723982558736863, 2.726839701594006, 2.726839701594006, 2.7296968444511487, 2.7296968444511487, 2.73252318610371, 2.7350231861037098, 2.7374622104939537, 2.7374622104939537, 2.7374622104939537, 2.7426039375869005, 2.745306640289603, 2.750866485849449, 2.7538076623200367, 2.7593675078798823, 2.7593675078798823, 2.764570210582585, 2.7672729132852876, 2.7672729132852876, 2.775192418156012, 2.775192418156012, 2.777631442546256, 2.7559403908184397, 2.7559403908184397, 2.7584403908184396, 2.7666235740016227, 2.7666235740016227, 2.7719197412490093, 2.774697519026787, 2.774697519026787, 2.7832876676169356, 2.7857266920071795, 2.7885838348643226, 2.794316840597328, 2.797019543300031, 2.8053571666376547, 2.8053571666376547, 2.8053571666376547, 2.81109017237066, 2.810148437953316, 2.8183316211364993, 2.821109398914277, 2.821109398914277, 2.821109398914277, 2.821109398914277, 2.82396654177142, 2.82396654177142, 2.8264055661616636, 2.831965411721509, 2.837182213889531, 2.840212516919834, 2.840212516919834, 2.840212516919834, 2.8426515413100777, 2.8456818443403806, 2.8456818443403806, 2.818030778640535, 2.8208085564183127, 2.8233726589824153, 2.8286394642492203, 2.8286394642492203, 2.8312035668133233, 2.8389387584509533, 2.8416414611536567, 2.8444986040107993, 2.837201306713502, 2.8399790844912802, 2.8399790844912802, 2.8399790844912802, 2.8449822114456262, 2.847546314009729, 2.847546314009729, 2.8499853383999727, 2.8176637888986757, 2.8176637888986757, 2.822553472858127, 2.82731807864372, 2.8326523602937907, 2.8326523602937907, 2.8354301380715685, 2.8378691624618124, 2.8429397657994246, 2.8021621890916157, 2.8021621890916157, 2.8021621890916157, 2.8021621890916157, 2.8021621890916157, 2.8046012134818596, 2.8097968949933305, 2.812428473940699, 2.798785382345104, 2.798785382345104, 2.798785382345104, 2.801110963740453, 2.8086917152236435, 2.81369484217799, 2.818765445515602, 2.818765445515602, 2.8213295480797047, 2.81540185678616, 2.8178408811764037, 2.8202799055666476, 2.8257603860471283, 2.8257603860471283, 2.833495324167623, 2.833495324167623, 2.833495324167623, 2.8258300604047983, 2.828269084795042, 2.830594666190391, 2.8332973688930942, 2.838325652991146, 2.843328779945492, 2.8457678043357357, 2.8482068287259796, 2.850909531428683, 2.849060952080103, 2.8516925310274717, 2.8516925310274717, 2.854131555417715, 2.859348357585737, 2.8648288380662175, 2.8648288380662175, 2.8648288380662175, 2.856559607296987, 2.856559607296987, 2.856559607296987, 2.863818608458427, 2.868889211796039, 2.868889211796039, 2.871328236186283, 2.871328236186283, 2.8737091885672355, 2.8720251002977815, 2.8720251002977815, 2.8744641246880254, 2.8770957036353932, 2.8770957036353932, 2.8770957036353932, 2.8794766560163456, 2.882108234963714, 2.88317035114211, 2.88317035114211, 2.88317035114211, 2.885551303523062, 2.887990327913306, 2.89042935230355, 2.8929934548676526, 2.8929934548676526, 2.895432479257897, 2.87387532703979, 2.8765780297424923, 2.8765780297424923, 2.8765780297424923, 2.8765780297424923, 2.881431830912083, 2.8841345336147857, 2.8863567558370082, 2.8669699297683895, 2.8669699297683895, 2.8669699297683895, 2.8669699297683895, 2.8696015087157574, 2.8720405331060013, 2.874421485486954, 2.874421485486954, 2.876860509877198, 2.8694641735078195, 2.877020677380113, 2.877020677380113, 2.882287482646918, 2.884726507037162, 2.8871655314274056, 2.8871655314274056, 2.8893877536496277, 2.885234929729362, 2.8876158821103144, 2.8876158821103144, 2.8876158821103144, 2.8876158821103144, 2.8928115636217857, 2.8975180973980867, 2.902371898567677, 2.904810922957921, 2.907249947348165, 2.907249947348165, 2.9125167526149704, 2.9125167526149704, 2.915219455317673, 2.917658479707917, 2.920039432088869, 2.9224203844698216, 2.8730693734153556, 2.8755083978055995, 2.8755083978055995, 2.8802944338416356, 2.8823777671749693, 2.8869809417781434, 2.889203164000366, 2.8912864973336987, 2.8957507830479843, 2.860404985374463, 2.860404985374463, 2.8630365643218316, 2.8654755887120755, 2.8654755887120755, 2.8678565410930283, 2.8678565410930283, 2.874898740086447, 2.8506656327990916, 2.852748966132425, 2.8547897824589556, 2.8547897824589556, 2.8547897824589556, 2.8547897824589556, 2.859254068173241, 2.8657591702140572, 2.8657591702140572, 2.8066672599272264, 2.80875059326056, 2.8134728154827817, 2.817778371038338, 2.817778371038338, 2.817778371038338, 2.820103952433686, 2.822603952433687, 2.8005404603701947, 2.8005404603701947, 2.8005404603701947, 2.80484601592575, 2.80484601592575, 2.8070682381479726, 2.8070682381479726, 2.8070682381479726, 2.8070682381479726, 2.791368983785566, 2.791368983785566, 2.7934523171188994, 2.7982250443916263, 2.804391711058294, 2.8066139332805156, 2.808697266613849, 2.808697266613849, 2.7809468926078553, 2.782946892607855, 2.7850302259411883, 2.7850302259411883, 2.787030225941188, 2.789530225941188, 2.7918029532139155, 2.794075680486643, 2.798584292442063, 2.7842207181501815, 2.788804051483515, 2.788804051483515, 2.788804051483515, 2.788804051483515, 2.79525069179972, 2.7977506917997204, 2.7998783513741885, 2.792823029245337, 2.794783813559063, 2.794783813559063, 2.796957726602541, 2.796957726602541, 2.798918510916267, 2.8010924239597452, 2.8010924239597452, 2.8030532082734707, 2.7905767283197873, 2.7947914576897954, 2.7947914576897954, 2.799172410070748, 2.801672410070748, 2.8105941787782314, 2.8105941787782314, 2.81480890814824, 2.808776601945126, 2.808776601945126, 2.808776601945126, 2.8107373862588516, 2.81291129930233, 2.81291129930233, 2.81291129930233, 2.819118782295527, 2.8212021156288603, 2.8173168242320057, 2.8173168242320057, 2.8173168242320057, 2.8194001575653393, 2.8234834908986723, 2.8234834908986723, 2.827905259606155, 2.827905259606155, 2.811613728099936, 2.811613728099936, 2.8136545444264662, 2.8136545444264662, 2.8197769934060584, 2.8197769934060584, 2.8217769934060586, 2.8237769934060584, 2.8298586260591194, 2.815541904021467, 2.8175827203479975, 2.8195827203479977, 2.8195827203479977, 2.8195827203479977, 2.8236235366745284, 2.8236235366745284, 2.827747686334392, 2.801247018317252, 2.8032878346437826, 2.8032878346437826, 2.8053711679771163, 2.8053711679771163, 2.8094119843036474, 2.815906041599995, 2.818033701174463, 2.818033701174463, 2.8128802801719854, 2.816698461990167, 2.8188261215646353, 2.824950271224499, 2.824950271224499, 2.82699108755103, 2.82899108755103, 2.82899108755103, 2.796122329953108, 2.796122329953108, 2.79794051177129, 2.79794051177129, 2.799792363623142, 2.799792363623142, 2.801792363623142, 2.803792363623142, 2.811855208382795, 2.7629777716373463, 2.7651054312118144, 2.769146247538345, 2.769146247538345, 2.773146247538345, 2.773146247538345, 2.773146247538345, 2.7828996145417113, 2.7828996145417113, 2.7828996145417113, 2.788717796359893, 2.788717796359893, 2.792845455934361, 2.7948454559343614, 2.7948454559343614, 2.7948454559343614, 2.7966636377525433, 2.7784713300602357, 2.780471330060236, 2.7825546633935696, 2.7865610736499797, 2.7885610736499795, 2.7885610736499795, 2.7885610736499795, 2.7906887332244477, 2.7829786942380927, 2.7869786942380927, 2.7889786942380925, 2.7889786942380925, 2.7910195105646234, 2.7969653519572732, 2.798965351957273, 2.798965351957273, 2.798965351957273, 2.795261731763703, 2.797079913581885, 2.797079913581885, 2.797079913581885, 2.799079913581885, 2.799079913581885, 2.799079913581885, 2.799079913581885, 2.7819587701507364, 2.7819587701507364, 2.7859995864772666, 2.788127246051735, 2.788127246051735, 2.7941139037709153, 2.7941139037709153, 2.7979320855890975, 2.799750267407279, 2.7975049410701915, 2.8013231228883733, 2.8013231228883733, 2.8033639392149037, 2.8069263604002757, 2.8069263604002757, 2.8069263604002757, 2.8069263604002757, 2.787179129478268, 2.789179129478268, 2.7950168487765135, 2.7970168487765137, 2.8045251113545353, 2.8082477889501645, 2.8082477889501645, 2.8117053150306406, 2.8117053150306406, 2.8135921074834713, 2.8171646752665653, 2.822882954481085, 2.822882954481085, 2.8267011362992664, 2.8267011362992664, 2.830560134443979, 2.830560134443979, 2.8020118275623784, 2.8055742487477504, 2.807535033061476, 2.809618366394809, 2.809618366394809, 2.811257710657104, 2.811257710657104, 2.813257710657104, 2.8151807875801813, 2.809581763281466, 2.809581763281466, 2.809581763281466, 2.811221107543761, 2.811221107543761, 2.813039289361943, 2.813039289361943, 2.8167619669575714, 2.7851600147488815, 2.788938980880789, 2.7908997651945144, 2.79680128034603, 2.79680128034603, 2.8004014089220504, 2.8004014089220504, 2.8004014089220504, 2.8004014089220504, 2.797285006057909, 2.8009124570383013, 2.8009124570383013, 2.802551801300596, 2.8045125856143214, 2.806473369928047, 2.809779380857009, 2.815340293746755, 2.8028842857025116, 2.8066592144774405, 2.811789754853882, 2.8153898834299027, 2.8192417352817545, 2.8192417352817545, 2.8212417352817547, 2.822908401948421, 2.822908401948421, 2.7849538564938756, 2.7884113825743526, 2.790334459497429, 2.794113425629337, 2.7959316074475185, 2.7977834592993704, 2.7997442436130955, 2.803201769693573, 2.8069430284348313, 2.8086096951014983, 2.8140176205094236, 2.8159406974325, 2.817901481746226, 2.823452009649695, 2.823452009649695, 2.8267580205786573, 2.8305369867105643, 2.8304208479473667, 2.8358728283752397, 2.8375121726375343, 2.8375121726375343, 2.8375121726375343, 2.8375121726375343, 2.8394729569512593, 2.8427789678802218, 2.8407509958522494, 2.8423903401145445, 2.8475145328616884, 2.85293284325589, 2.85293284325589, 2.8547510250740724, 2.8547510250740724, 2.8547510250740724, 2.8566741019971493, 2.860131628077626, 2.860131628077626, 2.86397778192378, 2.8659008588468566, 2.8659008588468566, 2.869463280032229, 2.869463280032229, 2.8714240643459545, 2.8580712378352335, 2.8580712378352335, 2.8597379045019, 2.861660981424977, 2.8634153673898894, 2.8669002158747374, 2.8745253358527987, 2.8745253358527987, 2.8745253358527987, 2.8665087422682567, 2.868175408934923, 2.871765152524667, 2.875327573710039, 2.8769669179723345, 2.8788899948954114, 2.8788899948954114, 2.882443454014908, 2.8794186506271284, 2.8794186506271284, 2.8794186506271284, 2.8794186506271284, 2.8794186506271284, 2.8794186506271284, 2.886686046083512, 2.8883253903458077, 2.8883253903458077, 2.891688872539137, 2.891688872539137, 2.8933282168014323, 2.8949675610637273, 2.8966069053260224, 2.8982462495883174, 2.901703775668794, 2.9074744293584267, 2.9064097314547404, 2.9064097314547404, 2.9064097314547404, 2.9064097314547404, 2.9116025348365318, 2.9116025348365318, 2.9135256117596087, 2.9151649560219037, 2.9168043002841992, 2.8955463370909342, 2.8955463370909342, 2.897364518909116, 2.9029287742499355, 2.906738643625843, 2.908556825444025, 2.910223492110692, 2.911862836372987, 2.911862836372987, 2.911862836372987, 2.913617222337899, 2.919093758380473, 2.919093758380473, 2.9209119401986543, 2.9209119401986543, 2.9225786068653212, 2.924501683788398, 2.924501683788398, 2.9278076947173597, 2.9294743613840266, 2.9294743613840266, 2.9294743613840266, 2.9311137056463217, 2.9311137056463217, 2.9311137056463217, 2.8987141908600655, 2.8987141908600655, 2.900468576824978, 2.90403099801035, 2.909270232460111, 2.909270232460111, 2.909270232460111, 2.909270232460111, 2.910909576722406, 2.9095020997949814, 2.911141444057276, 2.914590745276425, 2.9162856605306624, 2.9215147483827013, 2.9215147483827013, 2.9215147483827013, 2.9215147483827013, 2.8944347199949587, 2.8979971411803302, 2.8979971411803302, 2.9013314006968627, 2.9013314006968627, 2.9046948828901917, 2.908029142406724, 2.908029142406724, 2.908029142406724, 2.900996537935209, 2.900996537935209, 2.900996537935209, 2.9026914531894463, 2.909523600833533, 2.9111629450958283, 2.9111629450958283, 2.9111629450958283, 2.907254260465709, 2.9090086464306215, 2.9090086464306215, 2.912287334955212, 2.912287334955212, 2.912287334955212, 2.913982250209449, 2.913982250209449, 2.915648916876116, 2.902595455010523, 2.905901465939485, 2.905901465939485, 2.905901465939485, 2.905901465939485, 2.9075681326061513, 2.9075681326061513, 2.912995025309608, 2.9087963310531673, 2.9087963310531673, 2.9105507170180798, 2.9105507170180798, 2.912305102982992, 2.9140908172687063, 2.9191552200790105, 2.9191552200790105, 2.920909606043923, 2.9065735346815074, 2.9065735346815074, 2.9065735346815074, 2.9082128789438024, 2.9082128789438024, 2.9082128789438024, 2.911442045610469, 2.9130813898727643, 2.8786155799865694, 2.8786155799865694, 2.8818174242488643, 2.8818174242488643, 2.8833799242488642, 2.8851656385345783, 2.886804982796874, 2.888590697082588, 2.89189670801155, 2.870385988529794, 2.870385988529794, 2.871948488529794, 2.871948488529794, 2.873587832792089, 2.876888698592955, 2.876888698592955, 2.8785553652596216, 2.8561186303450645, 2.8561186303450645, 2.8577852970117315, 2.8577852970117315, 2.8593237585501927, 2.860990425216859, 2.8658115876609727, 2.8658115876609727, 2.8658115876609727, 2.8658115876609727, 2.869013431923268, 2.870652776185563, 2.872215276185563, 2.873730427700715, 2.8753697719630096, 2.8786757828919716, 2.880315127154266, 2.811557889767997, 2.8147123855454437, 2.8147123855454437, 2.81786688132289, 2.8210213771003367, 2.8210213771003367, 2.8225598386387984, 2.82891617867854, 2.8321957485710128, 2.8274625438137, 2.8290754470395063, 2.8290754470395063, 2.830714791301802, 2.835390507742224, 2.838515507742224, 2.844730414159337, 2.844730414159337, 2.847905817385143, 2.8495451616474385, 2.8510836231858994, 2.852554211421194, 2.8541935556834885, 2.8588933105854495, 2.8588933105854495, 2.8588933105854495, 2.8588933105854495, 2.8603638988207436, 2.8634175118743572, 2.8634175118743572, 2.8650841785410237, 2.869807014264419, 2.8746482027890092, 2.8746482027890092, 2.876210702789009, 2.876210702789009, 2.876210702789009, 2.876210702789009, 2.876210702789009, 2.8794893913135993, 2.8794893913135993, 2.8794893913135993, 2.8794893913135993, 2.882567042828751, 2.8636545701025176, 2.8651038454648363, 2.866553120827155, 2.868068272342307, 2.871193272342307, 2.871193272342307, 2.872663860577601, 2.874303204839896, 2.8776092157688575, 2.8776092157688575, 2.879171715768858, 2.8823735600311524, 2.8823735600311524, 2.886969148266447, 2.8885316482664467, 2.8934001591954086, 2.8934001591954086, 2.8949626591954085, 2.8949626591954085, 2.8949626591954085, 2.8965251591954084, 2.8965251591954084, 2.8980403107105603, 2.899706977377227, 2.902908821639522, 2.902019161427611, 2.9035816614276113, 2.9035816614276113, 2.9035816614276113, 2.9035816614276113, 2.9035816614276113, 2.9051441614276112, 2.9084501723565728, 2.9084501723565728, 2.9032717943965047, 2.9032717943965047, 2.906476922601633, 2.90942383484432, 2.90942383484432, 2.9110631791066153, 2.91253376734191, 2.914173111604205, 2.900526644846325, 2.9051131751106043, 2.906562450472923, 2.9081249504729234, 2.9081249504729234, 2.9114309614018845, 2.91307030566418, 2.914478756368405, 2.915949344603699, 2.8951957260316314, 2.8980534520981758, 2.9057433207886048, 2.9057433207886048, 2.9057433207886048, 2.9057433207886048, 2.9057433207886048, 2.9072817823270656, 2.9072817823270656, 2.9089484489937325, 2.910356899697958, 2.9132560593618235, 2.9163446789864373, 2.919332415887218, 2.9226111044118075, 2.9254901433513267, 2.9254901433513267, 2.923931003566381, 2.925401591801675, 2.925401591801675, 2.926940053340137, 2.9297770754729338, 2.9313643770602353, 2.9327929484888067, 2.9343554484888066, 2.933850034757781, 2.9354893790200762, 2.9354893790200762, 2.938436291262763, 2.9398447419669886, 2.9398447419669886, 2.9427916542096755, 2.947363203983431, 2.9487716546876563, 2.9174179817790207, 2.9174179817790207, 2.918846553207592, 2.918846553207592, 2.918846553207592, 2.920485897469887, 2.9234296204136103, 2.9234296204136103, 2.918594081883825, 2.9200866191972574, 2.921495069901483, 2.9243942295653484, 2.9289948696919352, 2.932170272917742, 2.932170272917742, 2.932170272917742, 2.933640861153036, 2.9245840611891323, 2.9261969644149386, 2.927646239777258, 2.927646239777258, 2.9305880524530092, 2.934959628705961, 2.934959628705961, 2.938110993470229, 2.933064667991856, 2.933064667991856, 2.933064667991856, 2.933064667991856, 2.933064667991856, 2.933064667991856, 2.9346775712176623, 2.936216032756124, 2.936216032756124, 2.9252046585094553, 2.9266971958228885, 2.9281677840581826, 2.9281677840581826, 2.9312299626463085, 2.9326585340748794, 2.9341969956133407, 2.9341969956133407, 2.9269777442764426, 2.928516205814904, 2.928516205814904, 2.9300546673533656, 2.9300546673533656, 2.9300546673533656, 2.9331315904302886, 2.9345400411345137, 2.9359893164968325, 2.923919334799316, 2.923919334799316, 2.9253277855035416, 2.9282948184705746, 2.9282948184705746, 2.929833280009036, 2.932984644773304, 2.932984644773304, 2.9063674112478366, 2.9077563001367257, 2.9077563001367257, 2.9077563001367257, 2.909294761675187, 2.910683650564076, 2.910683650564076, 2.910683650564076, 2.9136854426787715, 2.8902317290224344, 2.8916206179113235, 2.8931590794497852, 2.896102802393508, 2.896102802393508, 2.8975313738220794, 2.900572848476457, 2.901981299180682, 2.8773697098607425, 2.8773697098607425, 2.8773697098607425, 2.878778160564968, 2.883150865846351, 2.8844666553200353, 2.8858180066713865, 2.887226457375612, 2.8929299823749117, 2.8945428856007185, 2.8945428856007185, 2.8959714570292894, 2.8973228083806406, 2.8987116972695297, 2.8987116972695297, 2.8987116972695297, 2.9029000707536783, 2.8814267195434846, 2.882778070894836, 2.884060122176887, 2.884060122176887, 2.8854490110657762, 2.88824635065889, 2.88824635065889, 2.88824635065889, 2.8895284019409413, 2.846500758198782, 2.849221972563832, 2.8505040238458834, 2.8505040238458834, 2.8505040238458834, 2.8505040238458834, 2.8518929127347725, 2.853321484163344, 2.8282812428141595, 2.8296145761474927, 2.830834088342615, 2.8336515486600753, 2.834871060855197, 2.8361531121372483, 2.838863734847871, 2.840215086199222, 2.8415484195325558, 2.8281183907110776, 2.8281183907110776, 2.8296808907110775, 2.8310142240444107, 2.8339656129332997, 2.8352989462666334, 2.8352989462666334, 2.8366322795999666, 2.833915981813246, 2.835249315146579, 2.835249315146579, 2.836582648479913, 2.8392106113792606, 2.8392106113792606, 2.840561962730612, 2.8431953653640143, 2.8445842542529034, 2.8380050530180974, 2.8380050530180974, 2.839338386351431, 2.842009326522371, 2.842009326522371, 2.842009326522371, 2.842009326522371, 2.8433791895360696, 2.819877326550949, 2.819877326550949, 2.821159377833, 2.8236555018640077, 2.826207181450571, 2.826207181450571, 2.8289294036727934, 2.8300921943704678, 2.8327768790551526, 2.811725983909979, 2.8143760365600317, 2.817008071192066, 2.8195222132410915, 2.8209111021299806, 2.8209111021299806, 2.8222098034286818, 2.8235986923175704, 2.808681533847454, 2.8114217740876937, 2.8114217740876937, 2.812720475386395, 2.812720475386395, 2.8141093642752835, 2.815498253164173, 2.815498253164173, 2.817976833335531, 2.802506339268343, 2.806499659072165, 2.807815448545849, 2.8105030387334393, 2.8145604919347287, 2.8145604919347287, 2.8145604919347287, 2.817128393169296, 2.8144837965178504, 2.8144837965178504, 2.8172425484204373, 2.818593899771789, 2.8199452511231407, 2.8199452511231407, 2.8236583991957334, 2.8250282622094316, 2.826191052907107, 2.82874273249367, 2.82874273249367, 2.8300940838450215, 2.8314639468587197, 2.8340874036488435, 2.8340874036488435, 2.8354762925377326, 2.8380441937723004, 2.826467336926878, 2.8277019048281127, 2.8290907937170013, 2.830325361618236, 2.831624062916937, 2.8330129518058262, 2.8356364085959496, 2.8356364085959496, 2.8368709764971842, 2.818609864818351, 2.819908566117052, 2.819908566117052, 2.819908566117052, 2.821174388901863, 2.8237603081544487, 2.825149197043338, 2.829151094689071, 2.8317831293211055, 2.8331344806724563, 2.8331344806724563, 2.8331344806724563, 2.834504343686155, 2.8371543963362083, 2.8371543963362083, 2.8383171870338826, 2.8396158883325837, 2.8137481955101937, 2.8164153363352296, 2.8164153363352296, 2.818957163877057, 2.818957163877057, 2.818957163877057, 2.8201199545747313, 2.8214898175884295, 2.8029157599642947, 2.8066272519606703, 2.8066272519606703, 2.809096387763139, 2.810259178460814, 2.811493746362049, 2.812728314263283, 2.814027015561984, 2.814027015561984, 2.805206447638618, 2.805206447638618, 2.805206447638618, 2.807603806237527, 2.808853806237527, 2.8101525075362286, 2.811387075437463, 2.811387075437463, 2.8061493816032774, 2.809932650803214, 2.809932650803214, 2.813651786605683, 2.8148145773033573, 2.8161132786020584, 2.818597846503293, 2.821131115703229, 2.8237700045921184, 2.7931718625904676, 2.794334653288142, 2.795633354586843, 2.798102490389312, 2.798102490389312, 2.7992652810869862, 2.800499848988221, 2.800499848988221, 2.797609411391027, 2.801227972480852, 2.802493795265663, 2.804978363166897, 2.806141153864572, 2.8087646106546953, 2.81251500134074, 2.8150153920267846, 2.8150153920267846, 2.8162499599280193, 2.817499959928019, 2.817499959928019, 2.817499959928019, 2.8187345278292537, 2.8200332291279553, 2.8224947211243308, 2.8251494327980295, 2.8186056637488046, 2.8210078501699787, 2.8235082408560235, 2.824644604492387, 2.828412441593557, 2.828412441593557, 2.8298013304824456, 2.8334709633187463, 2.8334709633187463, 2.8347055312199805, 2.8347055312199805, 2.8373444201088693, 2.8386102428936795, 2.8410388563761644, 2.842304679160974, 2.844805069847019, 2.849734074015548, 2.850968641916783, 2.8545023641520553, 2.8556651548497296, 2.8594484240496656, 2.8594484240496656, 2.8618834889847298, 2.863118056885965, 2.863118056885965, 2.8656513260859007, 2.8596555575901323, 2.8596555575901323, 2.8596555575901323, 2.8596555575901323, 2.8608183482878067, 2.8632157068867157, 2.8632157068867157, 2.864481529671526, 2.861724772914769, 2.8642251636008136, 2.865523864899515, 2.865523864899515, 2.86815589953155, 2.869454600830251, 2.871856787251425, 2.873106787251425, 2.873106787251425, 2.874372610036235, 2.876743541573833, 2.8791721550563176, 2.8791721550563176, 2.8791721550563176, 2.882938368527172, 2.882938368527172, 2.8842041913119827, 2.881307115267227, 2.8826058165659285, 2.885137462135549, 2.88643616343425, 2.888807094971848, 2.888807094971848, 2.8900416628730823, 2.8924390214719913, 2.8924390214719913, 2.8731302250290485, 2.8756306157150933, 2.8756306157150933, 2.876865183616328, 2.876865183616328, 2.8780279743140023, 2.8827962644505094, 2.8827962644505094, 2.8783486637496027, 2.8783486637496027, 2.8808339987295346, 2.8819967894272094, 2.8844318543622744, 2.8844318543622744, 2.8856976771470846, 2.8856976771470846, 2.8869024964241934, 2.8893878314041253, 2.8906073435992474, 2.8918419115004825, 2.8943601249943054, 2.895579637189427, 2.896814205090662, 2.896814205090662, 2.897976995788336, 2.89254822186913, 2.89254822186913, 2.89254822186913, 2.897379269587552, 2.8998078830700367, 2.903575720171207, 2.903575720171207, 2.903575720171207, 2.903575720171207, 2.9047521907594422, 2.9047521907594422, 2.908342634492162, 2.909577202393397, 2.9107967145885185, 2.912031282489753, 2.913265850390988, 2.915636781928586, 2.915636781928586, 2.918034140527495, 2.918034140527495, 2.9193328418261966, 2.9193328418261966, 2.9193328418261966, 2.92046920546256, 2.92046920546256, 2.92046920546256, 2.906190719614826, 2.906190719614826, 2.9073535103125008, 2.9073535103125008, 2.909749493095858, 2.9109840609970927, 2.912249883781903, 2.9134126744795767, 2.910514394069276, 2.910514394069276, 2.9130326075630992, 2.9130326075630992, 2.9130326075630992, 2.9154035391006974, 2.9154035391006974, 2.9154035391006974, 2.9166381070019325, 2.9003221204595793, 2.903893549031008, 2.907384157231836, 2.907384157231836, 2.9085469479295107, 2.9085469479295107, 2.909709738627185, 2.9109145579042934, 2.912180380689104, 2.912180380689104, 2.912180380689104, 2.912180380689104, 2.9133167443254675, 2.9146154456241686, 2.9170505105592333, 2.9170505105592333, 2.9182700227543554, 2.9065071820277715, 2.907606083126673, 2.9087424467630365, 2.91114463318421, 2.914766331800506, 2.914766331800506, 2.915889927306124, 2.915889927306124, 2.917109439501246, 2.9195445044363106, 2.924347179346159, 2.924347179346159, 2.924347179346159, 2.9268506999219683, 2.9279496010208694, 2.9290731965264873, 2.930209560162851, 2.908846314485259, 2.908846314485259, 2.908846314485259, 2.9099452155841603, 2.9099452155841603, 2.9099452155841603, 2.9110815792205242, 2.912244369918198, 2.880436152249108, 2.880436152249108, 2.8828383386702816, 2.885042796034623, 2.8862192666228585, 2.8862192666228585, 2.887355630259222, 2.8883972969258886, 2.8907620208096, 2.8863201126114904, 2.8886759884429756, 2.889974689741677, 2.892330565573163, 2.8933722322398294, 2.8957682150231863, 2.8968098816898533, 2.8991090360238916, 2.8866368527244344, 2.8876894843033822, 2.888731150970049, 2.89093560833439, 2.8954122094728, 2.897725043697399, 2.898990866482209, 2.9012090037371108, 2.9012090037371108, 2.899070538086215, 2.9002900502813374, 2.9002900502813374, 2.9002900502813374, 2.9014528409790117, 2.902672353174134, 2.903808716810498, 2.907201716354813, 2.907430306559741, 2.9087290078584425, 2.909891798556117, 2.9120807937714277, 2.9120807937714277, 2.914258824074458, 2.91647696132936, 2.917775662628061, 2.918817329294728, 2.9109917635103013, 2.9109917635103013, 2.9109917635103013, 2.9109917635103013, 2.912211275705423, 2.912211275705423, 2.913347639341787, 2.914458750452898, 2.894627882161639, 2.894627882161639, 2.8956805137405865, 2.8980903261503994, 2.900305748427021, 2.9014685391246955, 2.9014685391246955, 2.9014685391246955, 2.9025554956464346, 2.896486970675471, 2.897649761373145, 2.899921905147214, 2.899921905147214, 2.899921905147214, 2.9009635718138806, 2.9009635718138806, 2.9009635718138806, 2.8524504267123594, 2.853669938907481, 2.8547225704864285, 2.8558589341227925, 2.857021724820467, 2.859226182184808, 2.860388972882482, 2.862577968097794, 2.8636417978850277, 2.8540983402228686, 2.8540983402228686, 2.8540983402228686, 2.8540983402228686, 2.856298533646467, 2.8573623634337006, 2.8585818756288224, 2.8585818756288224, 2.8562160545038453, 2.85946887950639, 2.860532709293624, 2.860532709293624, 2.860532709293624, 2.860532709293624, 2.861574375960291, 2.862873077258992, 2.862873077258992, 2.8547913559793527, 2.8559277196157167, 2.8559277196157167, 2.8559277196157167, 2.8559277196157167, 2.8559277196157167, 2.8569178186256172, 2.8579704502045646, 2.8537778185422082, 2.8537778185422082, 2.854767917552109, 2.857271438127919, 2.8583023659629703, 2.8583023659629703, 2.8583023659629703, 2.8583023659629703, 2.859438729599334, 2.851724871657491, 2.8527557994925425, 2.8562294416895893, 2.858283370486724, 2.8594881897638325, 2.8604782887737334, 2.8604782887737334, 2.8604782887737334, 2.8486121413443835, 2.8486121413443835, 2.8507485049807473, 2.8507485049807473, 2.851748504980747, 2.8549760774580397, 2.8549760774580397, 2.8549760774580397, 2.8560996729636576, 2.839678174592739, 2.8406682736026405, 2.842722202399775, 2.844833313510886, 2.844833313510886, 2.844833313510886, 2.84589714329812, 2.8480637128962565, 2.8359804914243805, 2.8382279661718552, 2.8382279661718552, 2.840569149085327, 2.840569149085327, 2.8416802601964384, 2.8427913713075497, 2.8427913713075497, 2.843902482418661, 2.845975522160873, 2.8470281537398208, 2.848139264850932, 2.848139264850932, 2.8502657274971965, 2.8512861356604615, 2.8512861356604615, 2.853573717359809, 2.853788152544486, 2.855945015289584, 2.858036518557558, 2.858036518557558, 2.858036518557558, 2.8600470257307244, 2.8600470257307244, 2.8600470257307244, 2.8600470257307244, 2.8574796132235525, 2.859654554121898, 2.8608310247101327, 2.8608310247101327, 2.8620215009006094, 2.8631578645369733, 2.8642942281733363, 2.8653468597522838, 2.8653468597522838, 2.868766438109943, 2.869830267897177, 2.8729118701750522, 2.8729118701750522, 2.875043389449428, 2.875043389449428, 2.8760334884593295, 2.8760334884593295, 2.8730564676114647, 2.876364457474076, 2.878587777632179, 2.878587777632179, 2.8808308854016027, 2.882841392574769, 2.885996725629977, 2.887173196218212, 2.887173196218212, 2.8894607779175585, 2.8906372485057936, 2.8906372485057936, 2.8927880348147665, 2.8927880348147665, 2.8927880348147665, 2.8949882282383648, 2.8949882282383648, 2.889438295714748, 2.891448802887914, 2.8925126326751482, 2.893689103263383, 2.893689103263383, 2.893689103263383, 2.893689103263383, 2.8948254668997473, 2.887636137875602, 2.8909252792897435, 2.89420295999899, 2.89420295999899, 2.8963779008973356, 2.8973679999072366, 2.8973679999072366, 2.8973679999072366, 2.8993530628003183, 2.877070745080549, 2.877070745080549, 2.877070745080549, 2.8780608440904496, 2.8791025107571167, 2.880045906983532, 2.8811097367707657, 2.8811097367707657, 2.8662144925167268, 2.867224593526828, 2.867224593526828, 2.8683481890324463, 2.8683481890324463, 2.871444363036639, 2.87245446404674, 2.873578059552358, 2.8755852855660065, 2.877692522988778, 2.877692522988778, 2.878756352776012, 2.880876219590663, 2.880876219590663, 2.8818470933770706, 2.8840945681245453, 2.8862018055473166, 2.8872119065574178, 2.888253573224085, 2.888253573224085, 2.888253573224085, 2.8893771687297027, 2.8904409985169366, 2.892560865331587, 2.893570966341688, 2.894541840128096, 2.894541840128096, 2.894541840128096, 2.894541840128096, 2.894541840128096, 2.8955519411381965, 2.8955519411381965, 2.8955519411381965, 2.8965420401480975, 2.8889985950174144, 2.8889985950174144, 2.8899886940273154, 2.8921360384019588, 2.8921360384019588, 2.8931669662370103, 2.894177067247111, 2.895275968346012, 2.895275968346012, 2.889168389691264, 2.889168389691264, 2.889168389691264, 2.8903047533276274, 2.8903047533276274, 2.8903047533276274, 2.8914036544265285, 2.8914036544265285, 2.8420508144961425, 2.8430409135060435, 2.8441278700277826, 2.8441278700277826, 2.8452267711266837, 2.8492995678621393, 2.850261106323678, 2.850261106323678, 2.851384701829296, 2.849858084570846, 2.849858084570846, 2.85174554895831, 2.85369718642975, 2.8548207819353677, 2.8548207819353677, 2.8548207819353677, 2.8558108809452687, 2.837127484181826, 2.837127484181826, 2.8380534101077517, 2.8380534101077517, 2.8403006011189875, 2.8403006011189875, 2.8422265270449136, 2.8422265270449136, 2.8422265270449136, 2.8325197875948263, 2.8334206884957274, 2.8334206884957274, 2.8334206884957274, 2.8343466144216527, 2.8343466144216527, 2.8343466144216527, 2.835272540347579, 2.7918839631836327, 2.793888975714961, 2.793888975714961, 2.793888975714961, 2.793888975714961, 2.793888975714961, 2.7948693678718235, 2.7948693678718235, 2.7978249539524094, 2.75913309709994, 2.7600854780523214, 2.761065870209184, 2.762884653277967, 2.764837034230348, 2.7657985726918866, 2.7657985726918866, 2.7666914298347436, 2.7464897504532937, 2.7474071816459547, 2.7483595625983357, 2.7492854885242615, 2.7492854885242615, 2.7492854885242615, 2.750202919716922, 2.751244586383589, 2.751244586383589, 2.743605310565046, 2.745566283361355, 2.746630113148589, 2.746630113148589, 2.7476717798152555, 2.748661878825156, 2.750651634538316, 2.752494991656903, 2.753701537942333, 2.7555805075965316, 2.7565328885489127, 2.7583516716176955, 2.760196909712934, 2.760196909712934, 2.762156007572261, 2.763048864715118, 2.7649833885246418, 2.7668471194539066, 2.7668471194539066, 2.7668471194539066, 2.768734583841371, 2.768734583841371, 2.768734583841371, 2.7706043959864126, 2.7706043959864126, 2.7622581941682833, 2.7632998608349504, 2.764352492413898, 2.7652453495567544, 2.766206888018293, 2.766206888018293, 2.766206888018293, 2.766206888018293, 2.766206888018293, 2.7622075912291075, 2.7631335171550337, 2.7640950556165724, 2.7640950556165724, 2.7659313089858446, 2.767927336791207, 2.768969003457874, 2.7700106701245404, 2.768528343925233, 2.769480724877614, 2.77040665080354, 2.77040665080354, 2.77040665080354, 2.772365748662867, 2.773283179855528, 2.7743358114344754, 2.7764301096800894, 2.7725488994586813, 2.7744182216110223, 2.7753706025634033, 2.7753706025634033, 2.776322983515784, 2.776322983515784, 2.776322983515784, 2.7791361918872406, 2.775343023451152, 2.7782408931253375, 2.7782408931253375, 2.7791668190512633, 2.780219450630211, 2.780219450630211, 2.7840322813180416, 2.7840322813180416, 2.7849582072439674, 2.786290085825608, 2.7881003741611257, 2.79004586288293, 2.79004586288293, 2.7919156750279717, 2.7919156750279717, 2.7919156750279717, 2.7919156750279717, 2.793874772887299, 2.7948006988132246, 2.7948006988132246, 2.7967597966725517, 2.7967597966725517, 2.7967597966725517, 2.7987188945318793, 2.7987188945318793, 2.7996712754842603, 2.7983381342961993, 2.800225094687833, 2.8011425258804934, 2.802195157459441, 2.8040471680913535, 2.8049400252342105, 2.8049400252342105, 2.8067503135697285, 2.802807838985052, 2.8046511961036384, 2.8046511961036384, 2.8046511961036384, 2.8046511961036384, 2.805577122029564, 2.805577122029564, 2.805577122029564, 2.8066297536085116, 2.79041811548725, 2.7912801844527673, 2.7912801844527673, 2.792197615645428, 2.793149996597809, 2.7950646971422737, 2.7950646971422737, 2.7959655980431743, 2.793025005214342, 2.7939259061152435, 2.794978537694191, 2.7959044636201167, 2.7959044636201167, 2.796805364521018, 2.796805364521018, 2.796805364521018, 2.797722795713678, 2.784631875351267, 2.784631875351267, 2.784631875351267, 2.7855578012771933, 2.78659946794386, 2.789304894027964, 2.7930827749560736, 2.7930827749560736, 2.783203420171342, 2.783203420171342, 2.7860109778586635, 2.787781443976956, 2.7886510091943473, 2.7904775312960988, 2.7913949624887593, 2.795096659443276, 2.7961383261099426, 2.7961383261099426, 2.79700039507546, 2.7989225918717984, 2.799840023064459, 2.8007491139735494, 2.8035566716608713, 2.8044495288037288, 2.8062763556305557, 2.8062763556305557, 2.8089809376829633, 2.8098900285920547, 2.8107991195011452, 2.8107991195011452, 2.8155979997991674, 2.8155979997991674, 2.8173774999573453, 2.818294931150006, 2.818294931150006, 2.818294931150006, 2.818294931150006, 2.819157000115523, 2.8209589481674713, 2.8227219180338894, 2.8237745496128364, 2.8237745496128364, 2.823090646360126, 2.8259591398536195, 2.8259591398536195, 2.8268519969964765, 2.8268519969964765, 2.827714065961994, 2.827714065961994, 2.8285761349275114, 2.8285761349275114, 2.8216469808930937, 2.8225398380359517, 2.823417031018407, 2.826122457102511, 2.826122457102511, 2.826122457102511, 2.827023358003412, 2.8288333498134035, 2.8284454285040903, 2.8284454285040903, 2.8293463294049914, 2.830272255330917, 2.830272255330917, 2.830272255330917, 2.8311343242964346, 2.8311343242964346, 2.8311343242964346, 2.8247655545443826, 2.8247655545443826, 2.8256276235098996, 2.8256276235098996, 2.826489692475417, 2.826489692475417, 2.8273517614409345, 2.829139756332377, 2.8211081294809888, 2.8211081294809888, 2.8230459688369143, 2.8239388259797713, 2.8239388259797713, 2.8247791621142255, 2.8247791621142255, 2.8247791621142255, 2.8247791621142255, 2.8109069893464897, 2.8109069893464897, 2.8119273975097547, 2.8119273975097547, 2.813826587428747, 2.813826587428747, 2.8174970594489728, 2.819379536577755, 2.8102053774899134, 2.8110387108232464, 2.8110387108232464, 2.8119082760406378, 2.8136962709320805, 2.8136962709320805, 2.8156122958679077, 2.816474364833425, 2.816474364833425, 2.8132600791191393, 2.8160296782872187, 2.8160296782872187, 2.817050086450484, 2.817050086450484, 2.8198807829492667, 2.820750348166658, 2.8235895393987063, 2.8261777988404138, 2.8270952300330743, 2.8280211559590005, 2.8298081523690524, 2.8298081523690524, 2.830725583561713, 2.830725583561713, 2.831558916895046, 2.8351675845000193, 2.8244273676211886, 2.8271059390497597, 2.8271059390497597, 2.8299451302818084, 2.830807199247326, 2.830807199247326, 2.8326609407439243, 2.8326609407439243, 2.8250605610579393, 2.826846275343654, 2.828648662288527, 2.8312431446333752, 2.8321052135988922, 2.83395045169413, 2.8348125206596473, 2.8357053778025048, 2.8385137808572134, 2.8385137808572134, 2.841216926335588, 2.841216926335588, 2.8429264529282237, 2.845539286419735, 2.845539286419735, 2.8464013553852525, 2.8472634243507695, 2.8472634243507695, 2.848110881977888, 2.848110881977888, 2.848972950943405, 2.8498903821360657, 2.85164530824444, 2.85164530824444, 2.85341019706422, 2.855220485399737, 2.855415094787106, 2.856262552414224, 2.8571246213797417, 2.8571246213797417, 2.8580174785225987, 2.8588946715050545, 2.8606208619812454, 2.861482930946763, 2.8568100337505014, 2.8585205600662906, 2.8585205600662906, 2.8585205600662906, 2.860381065431469, 2.860381065431469, 2.860381065431469, 2.861298496624129, 2.8622244225500553, 2.8631172796929123, 2.8657442374782085, 2.8657442374782085, 2.866577570811542, 2.8675979789748074, 2.8675979789748074, 2.8684908361176644, 2.8684908361176644, 2.865125162010956, 2.865125162010956, 2.865125162010956, 2.8660425932036167, 2.866960024396277, 2.8678859503222034, 2.8678859503222034, 2.8678859503222034, 2.8678859503222034, 2.8613643713311534, 2.862226440296671, 2.8639218425955217, 2.8648392737881823, 2.866627268679625, 2.866627268679625, 2.867489337645142, 2.8684152635710682, 2.8620944047636856, 2.8620944047636856, 2.864682664205394, 2.864682664205394, 2.8655447331709114, 2.8663780665042444, 2.8663780665042444, 2.8673681655141454, 2.868230234479663, 2.856430407740378, 2.8590314107619017, 2.859893479727419, 2.8607064878575006, 2.8607064878575006, 2.8607064878575006, 2.8607064878575006, 2.861568556823018, 2.8586437274753673, 2.8595611586680283, 2.862092455883656, 2.8648117820965258, 2.8648117820965258, 2.8657921742533885, 2.8657921742533885, 2.8666255075867215, 2.8694246828123675, 2.8679068519841917, 2.8687689209497087, 2.8697493131065714, 2.8697493131065714, 2.8706421702494285, 2.8706421702494285, 2.8714968711041293, 2.8723589400696468, 2.863441309028122, 2.864303377993639, 2.866084004774266, 2.8678719996657094, 2.868852391822572, 2.870582831145314, 2.8713958392753955, 2.8713958392753955, 2.8722579082409125, 2.8680448598972026, 2.8680448598972026, 2.8680448598972026, 2.869757389171208, 2.870674820363868, 2.872391590184086, 2.872391590184086, 2.8732045983141674, 2.8649939842547063, 2.8649939842547063, 2.8675507597096623, 2.8675507597096623, 2.8675507597096623, 2.8675507597096623, 2.8684128286751793, 2.8700805376599616, 2.8700805376599616, 2.870900209791109, 2.870900209791109, 2.8718176409837697, 2.872637313114917, 2.8734569852460647, 2.8734569852460647, 2.875237612026692, 2.876218004183554, 2.8714508241312267, 2.87319048073814, 2.8740101528692876, 2.875684525855136, 2.875684525855136, 2.875684525855136, 2.876569481607348, 2.876569481607348, 2.876569481607348, 2.8606651911525707, 2.8622978714137997, 2.864921167879399, 2.864921167879399, 2.864921167879399, 2.864921167879399, 2.864921167879399, 2.864921167879399, 2.8513691518281785, 2.8530248715873467, 2.8538378797174278, 2.85472283546964, 2.85472283546964, 2.85472283546964, 2.8564274633530005, 2.8572895323185175, 2.858206963511178, 2.847945364944626, 2.8505327257968096, 2.8513523979279567, 2.8513523979279567, 2.852269829120617, 2.8531872603132777, 2.8531872603132777, 2.8548199405745067, 2.843754862198942, 2.843754862198942, 2.844542263773745, 2.844542263773745, 2.844542263773745, 2.8453296653485483, 2.8453296653485483, 2.8453296653485483, 2.846149337479696, 2.8258531969846628, 2.8266728691158103, 2.827557824868023, 2.8283911582013563, 2.829172408201356, 2.8299598097761596, 2.830793143109493, 2.831626476442826, 2.8282355674586968, 2.8282355674586968, 2.8290830250858154, 2.829896033215897, 2.8307293665492304, 2.831549038680378, 2.83335142562525, 2.834138827200053, 2.834138827200053, 2.821297081817547, 2.8230765819757253, 2.8230765819757253, 2.8230765819757253, 2.8230765819757253, 2.8239099153090583, 2.8239099153090583, 2.8239099153090583, 2.8070878834538258, 2.8070878834538258, 2.8079425843085266, 2.8079425843085266, 2.80877591764186, 2.809595589773008, 2.809595589773008, 2.811146350126437, 2.8120235431088934, 2.809537795844159, 2.809537795844159, 2.8129243697082873, 2.8129243697082873, 2.8129243697082873, 2.8138015626907436, 2.8138015626907436, 2.816293797033011, 2.8188856012115195, 2.8197052733426675, 2.820468632121293, 2.8213458251037493, 2.8229288560135233, 2.8229288560135233, 2.8237621893468563, 2.8254151948113373, 2.8254151948113373, 2.8075513893625144, 2.8075513893625144, 2.8083387909373174, 2.8083387909373174, 2.8101334151124338, 2.8101334151124338, 2.8109530872435813, 2.8109530872435813, 2.8083116000057577, 2.8098856740798315, 2.8115438460132327, 2.8115438460132327, 2.8123635181443807, 2.813225587109898, 2.813225587109898, 2.814058920443231, 2.814058920443231, 2.8073600984460945, 2.8073600984460945, 2.8073600984460945, 2.808173106576176, 2.808913847316917, 2.808913847316917, 2.809677206095543, 2.809677206095543, 2.7975125905475835, 2.79901669006695, 2.799768569766198, 2.799768569766198, 2.802201239436733, 2.8038820303971845, 2.8054535822275803, 2.8054535822275803, 2.8054535822275803, 2.7965002106404335, 2.7965002106404335, 2.7972409513811742, 2.7996061540052204, 2.8003998047988716, 2.8003998047988716, 2.8003998047988716, 2.802080594770158, 2.789642892936408, 2.7904693392174, 2.7904693392174, 2.7912100799581405, 2.7920504160925943, 2.7920504160925943, 2.792791156833335, 2.7935848076269862, 2.7935848076269862, 2.7938636423284184, 2.7962288449524655, 2.7962288449524655, 2.7978421678772634, 2.7978421678772634, 2.7978421678772634, 2.7978421678772634, 2.7986825040117167, 2.79138251170472, 2.79138251170472, 2.79138251170472, 2.79138251170472, 2.7945091190728135, 2.796101334906515, 2.797635726440907, 2.797635726440907, 2.800816236387438, 2.797536199572707, 2.7982880792719547, 2.7982880792719547, 2.799866405252195, 2.799866405252195, 2.800618284951443, 2.800618284951443, 2.8029045561850827, 2.7883725909416404, 2.7883725909416404, 2.7883725909416404, 2.7883725909416404, 2.789933003813529, 2.789933003813529, 2.789933003813529, 2.792351665928223, 2.7939299919084624, 2.782127106511232, 2.782127106511232, 2.78287898621048, 2.7851912787816167, 2.7851912787816167, 2.7851912787816167, 2.7859431584808645, 2.7859431584808645, 2.776478202430074, 2.7772978745612216, 2.7772978745612216, 2.7780441432179375, 2.7780441432179375, 2.7796182172920116, 2.781145290789709, 2.7818860315304503, 2.7835130156574346, 2.7650874184454954, 2.7650874184454954, 2.765907090576643, 2.7674719784059727, 2.7674719784059727, 2.7683053117393057, 2.7690515803960225, 2.7705786538937205, 2.7691141377646877, 2.7721874799191015, 2.7721874799191015, 2.7730071520502495, 2.7753917120107263, 2.7761917120107262, 2.7777261035451177, 2.779277983244366, 2.779277983244366, 2.7800187239851066, 2.7800187239851066, 2.780770603684355, 2.780770603684355, 2.7815113444250956, 2.7830384179227936, 2.7838320687164444, 2.7838320687164444, 2.7780185527971306, 2.7780185527971306, 2.778770432496379, 2.7795223121956267, 2.7795223121956267, 2.7795223121956267, 2.7802741918948746, 2.7810741918948745, 2.7834165727150566, 2.7834969959954803, 2.785000755393976, 2.7865462858868755, 2.7872981655861233, 2.7872981655861233, 2.788050045285371, 2.7888697174165187, 2.790351198898, 2.779268979353449, 2.779268979353449, 2.780020859052697, 2.781513479492686, 2.7823264876227674, 2.784714689551298, 2.7854665692505467, 2.7854665692505467, 2.7869591896905352, 2.779064692034556, 2.7798583428282067, 2.7820982189872407, 2.7820982189872407, 2.7820982189872407, 2.7828228566684, 2.7828228566684, 2.7828228566684, 2.7747960747571883, 2.7763304662915798, 2.778631470881446, 2.781659867961102, 2.7832053984540006, 2.7832053984540006, 2.7846707768759007, 2.7846707768759007, 2.7854115176166414, 2.786505430761979, 2.7872573104612273, 2.7872573104612273, 2.7872573104612273, 2.7872573104612273, 2.7872573104612273, 2.7872573104612273, 2.7880573104612276, 2.7861976561206565, 2.7869383968613977, 2.7876791376021384, 2.7891974260769485, 2.7899974260769485, 2.7907493057761963, 2.792290046516937, 2.793041926216185, 2.793835577009836, 2.777549109149156, 2.778300988848404, 2.778300988848404, 2.7790417295891445, 2.7797770237067914, 2.7828306062992487, 2.7828306062992487, 2.7828306062992487, 2.774019218258485, 2.774019218258485, 2.7762870324969233, 2.7770389121961716, 2.77859079189542, 2.779365985693869, 2.779365985693869, 2.7801067264346107, 2.780900377228261, 2.7733343611547823, 2.7733343611547823, 2.7733343611547823, 2.7733343611547823, 2.7733343611547823, 2.77408624085403, 2.7748325095107464, 2.7771780400036454, 2.7759597059546977, 2.776711585653946, 2.776711585653946, 2.776711585653946, 2.7782459771883374, 2.7790211709867867, 2.7805482444844847, 2.781278171491784, 2.7827543671558, 2.7812941877217074, 2.7820241147290066, 2.7827648554697473, 2.784305596210488, 2.784305596210488, 2.786610717016237, 2.7874043678098874, 2.788198018603538, 2.7857812523839773, 2.7857812523839773, 2.7865331320832256, 2.788025752523214, 2.788025752523214, 2.788766493263955, 2.7895601440576057, 2.7895601440576057, 2.792579837995292, 2.7922497249291895, 2.7922497249291895, 2.7930016046284374, 2.7930016046284374, 2.79370582998055, 2.795257709679798, 2.795257709679798, 2.796051360473449, 2.796755585825562, 2.796755585825562, 2.796755585825562, 2.7982116908769226, 2.799005341670573, 2.799005341670573, 2.799005341670573, 2.7997352686778725, 2.7997352686778725, 2.7984364757924727, 2.799188355491721, 2.8007038549176677, 2.8036587925204928, 2.804405061177209, 2.8051349881845082, 2.8058812568412246, 2.8058812568412246, 2.8066219975819657, 2.809624589531926, 2.809624589531926, 2.8111645089822934, 2.8111645089822934, 2.8111645089822934, 2.8119163886815413, 2.8126571294222815, 2.814130585543625, 2.80750203728734, 2.8089581423387004, 2.8097100220379483, 2.8104562906946646, 2.8104562906946646, 2.8112255214638955, 2.812771051956794, 2.813517320613511, 2.8153914708919165, 2.8161851216855682, 2.8161851216855682, 2.8161851216855682, 2.8169258624263085, 2.8198689768751266, 2.821378948385098, 2.8236407995943176, 2.8259973319508496, 2.821195322494585, 2.8218995478466975, 2.8218995478466975, 2.8256129789053843, 2.8263648586046326, 2.8263648586046326, 2.827927740167514, 2.829473270660413, 2.8281769743641165, 2.829675122720081, 2.8311566854944448, 2.8326545616402083, 2.83421744320309, 2.83421744320309, 2.834969322902338, 2.8365092423527054, 2.838701835153114, 2.84093067113195, 2.841682550831199, 2.841682550831199, 2.841682550831199, 2.842428819487915, 2.8431330448400276, 2.8431330448400276, 2.845413705031136, 2.840182008035791, 2.8416950832898733, 2.8424358240306136, 2.843880790123467, 2.8453688853615624, 2.846088309821994, 2.8467827542664383, 2.848223467367599, 2.848942891828031, 2.848942891828031, 2.848942891828031, 2.8504355122680196, 2.851129956712464, 2.851881836411712, 2.8526337161109603, 2.8533855958102086, 2.8541374755094564, 2.8563032241135806, 2.857096874907232, 2.8578487546064797, 2.85864240540013, 2.8593618298605614, 2.860108098517278, 2.86082752297771, 2.86082752297771, 2.8615219674221546, 2.8630563589565456, 2.8630563589565456, 2.864601889449445, 2.865353769148693, 2.866057994500806, 2.869016035847742, 2.86976791554699, 2.870487340007422, 2.870487340007422, 2.8719852161531856, 2.8734733113912805, 2.8734733113912805, 2.8734733113912805, 2.8742251910905283, 2.8765169902401437, 2.8765169902401437, 2.8765169902401437, 2.8765169902401437, 2.8772688699393916, 2.878772629337888, 2.8795245090371364, 2.8802439334975682, 2.88245387736796, 2.88245387736796, 2.8839002015116524, 2.8839002015116524, 2.8839002015116524, 2.8839002015116524, 2.8839002015116524, 2.886060339073244, 2.886060339073244, 2.886801079813985, 2.887570310583216, 2.889036003700364, 2.8911961412619567, 2.8919368820026974, 2.8919368820026974, 2.8926887617019457, 2.8926887617019457, 2.8926887617019457, 2.8926887617019457, 2.8926887617019457, 2.8888459493308836, 2.8895978290301314, 2.8895978290301314, 2.8895978290301314, 2.8910556322532015, 2.891849283046853, 2.891849283046853, 2.8940728070266517, 2.8948246867258995, 2.8908440319639945, 2.892284745065156, 2.892284745065156, 2.892284745065156, 2.8930783958588067, 2.8930783958588067, 2.893830275558055, 2.893830275558055, 2.895363405257303, 2.8976033801946466, 2.89911861867252, 2.9014568782447974, 2.9022031469015133, 2.902897591345958, 2.902897591345958, 2.9036494710452057, 2.90516470952308, 2.9067217190953567, 2.9067217190953567, 2.9074624598360974, 2.9074624598360974, 2.9081569042805415, 2.9081569042805415, 2.908851348724986, 2.9095457931694306, 2.908723505624596, 2.909486864403223, 2.910985012759187, 2.910985012759187, 2.911736892458435, 2.912500251237061, 2.913935436422246, 2.913935436422246, 2.913935436422246, 2.9123910118545657, 2.9123910118545657, 2.9138373359982586, 2.915272521183444, 2.915272521183444, 2.916718845327136, 2.916718845327136, 2.9181651694708295, 2.916105906024413, 2.9168201917386987, 2.9189724394062138, 2.9204386048197475, 2.9204386048197475, 2.9204386048197475, 2.9204386048197475, 2.9212322556133983, 2.922690058836469, 2.923436327493185, 2.9241307719376293, 2.924825216382074, 2.9255196608265184, 2.927076670398795, 2.9278285500980434, 2.9278285500980434, 2.9293437885759173, 2.9293437885759173, 2.930821433068829, 2.930821433068829, 2.9315677017255455, 2.9330084148267064, 2.9330084148267064, 2.933749155567447, 2.9344436000118916, 2.9344436000118916, 2.9352372508055424, 2.9352372508055424, 2.9352372508055424, 2.9359835194622588, 2.9359835194622588, 2.9366779639067033, 2.9382349734789797, 2.9389757142197204, 2.9300265055336703, 2.9315608970680613, 2.933048992306157, 2.933800872005405, 2.933800872005405, 2.934552751704653, 2.934552751704653, 2.935304631403901, 2.935304631403901, 2.9328883934273184, 2.9328883934273184, 2.9328883934273184, 2.934386541783283, 2.935149900561909, 2.9358443450063536, 2.936534000178767, 2.9379747132799277, 2.9365046201366214, 2.9372679789152474, 2.938014247571964, 2.939460571715657, 2.939460571715657, 2.939460571715657, 2.9401550161601016, 2.9409183749387275, 2.9409183749387275, 2.9397327348820435, 2.9411639350456094, 2.9411639350456094, 2.9418488665524585, 2.9418488665524585, 2.9425433109969026, 2.943295190696151, 2.9440414593528677, 2.942347921045156, 2.9430328525520055, 2.9430328525520055, 2.9445721338260564, 2.9445721338260564, 2.945266578270501, 2.945266578270501, 2.946012846927217, 2.946012846927217, 2.9435754289853806, 2.9435754289853806, 2.944327308684629, 2.9473073030598416, 2.9486866790111352, 2.9486866790111352, 2.949427419751876, 2.949427419751876, 2.942612985454565, 2.942612985454565, 2.942612985454565, 2.942612985454565, 2.942612985454565, 2.943297916961414, 2.943297916961414, 2.943297916961414, 2.944038657702155, 2.936265080490586, 2.936265080490586, 2.936950011997435, 2.936950011997435, 2.938437021394892, 2.939121952901741, 2.9398163973461857, 2.9398163973461857, 2.9224385112968103, 2.9224385112968103, 2.923817887248104, 2.9245697669473523, 2.9245697669473523, 2.9253160356040686, 2.9253160356040686, 2.9260513297217154, 2.9260513297217154, 2.9226474316659017, 2.923388172406642, 2.9240731039134915, 2.924819372570208, 2.926934829864237, 2.928355842713821, 2.9297352186651144, 2.9297352186651144, 2.9240452349304826, 2.9240452349304826, 2.9247751619377818, 2.9254554340466257, 2.9254554340466257, 2.9254554340466257, 2.9254554340466257, 2.9254554340466257, 2.926196174787367, 2.9162646599960964, 2.917005400736837, 2.917746141477578, 2.917746141477578, 2.917746141477578, 2.917746141477578, 2.917746141477578, 2.918431072984427, 2.903621105249818, 2.903621105249818, 2.905042118099402, 2.9057463434515145, 2.9071409012746443, 2.907881642015385, 2.908566573522234, 2.908566573522234, 2.908566573522234, 2.9058458862657046, 2.9065403307101487, 2.9065403307101487, 2.9079953571651753, 2.9079953571651753, 2.909403807869401, 2.9101080332215132, 2.9101080332215132, 2.9001814113803204, 2.9008856367324327, 2.9015898620845455, 2.903034828177399, 2.904500206599299, 2.904500206599299, 2.905185138106148, 2.906640164561175, 2.9073443899132876, 2.9020894117685567, 2.9028140494497165, 2.903538687130876, 2.9042429124829883, 2.905641582279545, 2.905641582279545, 2.905641582279545, 2.9070361401026745, 2.906500373599569, 2.906500373599569, 2.906500373599569, 2.9078942541240957, 2.908574526232939, 2.910673880467386, 2.912094893316971, 2.912094893316971, 2.913549919771997, 2.9149803156851517, 2.916374873508281, 2.9170551456171245, 2.917749590061569, 2.919119517342826, 2.9212188715772736, 2.9212188715772736, 2.9212188715772736, 2.9218007855022643, 2.922536079619911, 2.922536079619911, 2.9232305240643557, 2.923955161745515, 2.925374243871119, 2.9267688016942484, 2.9267688016942484, 2.9267688016942484, 2.924174252920122, 2.9262934484244107, 2.9269831035968243, 2.927663375705668, 2.9283436478145113, 2.9290380922589554, 2.929742317611068, 2.929742317611068, 2.928255628044731, 2.928255628044731, 2.928255628044731, 2.928255628044731, 2.928255628044731, 2.928255628044731, 2.928255628044731, 2.9289802657258903, 2.9303851755158936, 2.9063105470523167, 2.9076804743335734, 2.9076804743335734, 2.9076804743335734, 2.9083701295059874, 2.9097546269669436, 2.911903636099847, 2.9125885676066963, 2.9062158653342975, 2.906900796841147, 2.908299466637704, 2.908299466637704, 2.909029393645003, 2.909029393645003, 2.909733618997116, 2.91041389110596, 2.911793267057254, 2.9071918047367555, 2.9071918047367555, 2.907854056392385, 2.9085343285012284, 2.9085343285012284, 2.909988893189687, 2.909988893189687, 2.910673824696536, 2.905564152955091, 2.9062398286307665, 2.906944053982879, 2.9076243260917227, 2.908309257598572, 2.9089895297074153, 2.9089895297074153, 2.9096517813630447, 2.911061980479187, 2.9117564249236314, 2.912436697032475, 2.9138468961486184, 2.9145091478042473, 2.915203592248692, 2.915203592248692, 2.9158980366931364, 2.9172539844776555, 2.9159006208380744, 2.916595065282519, 2.9187299020798214, 2.9207895501399586, 2.921474481646808, 2.9228311777468816, 2.9228311777468816, 2.923511449855725, 2.9249358213074688, 2.923613982227009, 2.924983909508266, 2.924983909508266, 2.9256461611638955, 2.9256461611638955, 2.9263358163363096, 2.9263358163363096, 2.927745385524318, 2.926038841577905, 2.926723773084754, 2.928093700366012, 2.928093700366012, 2.928773972474855, 2.928773972474855, 2.9308644436998414, 2.931544715808685, 2.931544715808685, 2.9223148814480115, 2.9229998129548607, 2.9229998129548607, 2.9229998129548607, 2.9243743996341243, 2.9251043266414234, 2.926455924814939, 2.927101086105261, 2.9256153181978486, 2.926295590306692, 2.926980521813541, 2.9276701769859548, 2.9283368436526214, 2.9289820049429443, 2.9289820049429443, 2.9296669364497934, 2.9310138752253034, 2.930919195587409, 2.930919195587409, 2.9316088507598232, 2.9323231364741087, 2.9337025124254024, 2.9337025124254024, 2.9337025124254024, 2.9337025124254024, 2.9288417291569235, 2.9295560148712094, 2.9302226815378765, 2.930942105998308, 2.9316563917125937, 2.9316563917125937, 2.9316563917125937, 2.9323758161730256, 2.933095240633457, 2.9316320263311826, 2.932298692997849, 2.9329653596645158, 2.9336598041089603, 2.9336598041089603, 2.9336598041089603, 2.9336598041089603, 2.9350685342676908, 2.93537713559913, 2.936062067105979, 2.9367287337726458, 2.9380425960971053, 2.939412459110804, 2.939412459110804, 2.940798550237902, 2.940798550237902, 2.941488205410316, 2.9428398035838312, 2.9435200756926747, 2.9435200756926747, 2.9441490065102847, 2.9462086545704222, 2.946888926679266, 2.9482635133585293, 2.9496382299118173, 2.9481741974903377, 2.9481741974903377, 2.949583277123183, 2.949583277123183, 2.949583277123183, 2.9509626530744772, 2.9509626530744772, 2.952337369627765, 2.9530318140722094, 2.9498665478863795, 2.951927095077573, 2.951927095077573, 2.952612026584422, 2.952612026584422, 2.953301681756836, 2.953926681756836, 2.9546163369292495, 2.9419602735865253, 2.9440246453122274, 2.9440246453122274, 2.9440246453122274, 2.9453993618655154, 2.9453993618655154, 2.9453993618655154, 2.9453993618655154, 2.9453993618655154, 2.938678960475112, 2.938678960475112, 2.939296244425729, 2.940589204052022, 2.941936142827532, 2.94390974861723, 2.9445764152838967, 2.9458739713433575, 2.9369866784560643, 2.937666950564908, 2.9390138893404183, 2.9396988208472674, 2.9403161047978847, 2.9422944998596128, 2.9429117838102306, 2.943587459485906, 2.9449485705970173, 2.9355066119740103, 2.9355066119740103, 2.9361868840828538, 2.9375524694668957, 2.9388902770731598, 2.9388902770731598, 2.9401787019633745, 2.94085437763905, 2.9414716615896674, 2.942161316762081, 2.9428415888709245, 2.943536033315369, 2.943536033315369, 2.943536033315369, 2.9449016186994106, 2.946257940538491, 2.946929081478088, 2.935937344114019, 2.937275151720283, 2.9399105153860083, 2.941248322992272, 2.9419019177635137, 2.9419019177635137, 2.9419019177635137, 2.943235784643599, 2.9445827234191095, 2.945272378591523, 2.94593904525819, 2.94593904525819, 2.946619317367033, 2.9472904583066306, 2.9485973974296615, 2.949291841874106, 2.949958508540773, 2.952022880266475, 2.952703152375318, 2.952703152375318, 2.9533698190419853, 2.9533698190419853, 2.954726140881065, 2.9560600077611507, 2.9560600077611507, 2.9561403914103854, 2.9561403914103854, 2.9568070580770525, 2.9568070580770525, 2.957473724743719, 2.958140391410386, 2.958140391410386, 2.9588070580770522, 2.9588070580770522, 2.9551626103422963, 2.955820505079138, 2.957195221632426, 2.957195221632426, 2.9578403829227486, 2.958498277659591, 2.9591649443262575, 2.9591649443262575, 2.9618511738374345, 2.962522314777032, 2.963139598727649, 2.9638292539000632, 2.9638292539000632, 2.965803450866825, 2.965803450866825, 2.965803450866825, 2.965803450866825, 2.966448612157148, 2.966448612157148, 2.966448612157148, 2.966448612157148, 2.9670658961077647, 2.9670658961077647, 2.967746168216608, 2.967746168216608, 2.967746168216608, 2.967746168216608, 2.9683634521672255, 2.9690301188338926, 2.969675280124215, 2.9703555522330585, 2.9703555522330585, 2.9703555522330585, 2.9703555522330585, 2.9588506238051804, 2.960820520806342, 2.962158687652028, 2.9628389597608713, 2.9641771266065566, 2.965501862317396, 2.965501862317396, 2.9661470236077188, 2.9581160584172244, 2.95944992529731, 2.95944992529731, 2.960107820034152, 2.961423666461023, 2.961423666461023, 2.9621039385698666, 2.9640637462849564, 2.965361302344417, 2.9530478350344156, 2.9530478350344156, 2.953728107143259, 2.953728107143259, 2.954381701914501, 2.954998985865118, 2.954998985865118, 2.954998985865118, 2.949067017751197, 2.9497381586907947, 2.9497381586907947, 2.951028696137196, 2.951028696137196, 2.952970715798652, 2.952970715798652, 2.9536418567382494, 2.9536418567382494, 2.945239626750275, 2.9459107676898726, 2.9465819086294696, 2.9465819086294696, 2.947253049569067, 2.9479109443059093, 2.9485561055962317, 2.950515671426044, 2.9450343275075133, 2.9456632583251237, 2.9463168530963655, 2.9469879940359625, 2.9476415888072043, 2.948295183578446, 2.948295183578446, 2.948295183578446, 2.948295183578446, 2.942732343138621, 2.9434034840782184, 2.9440746250178154, 2.9440746250178154, 2.9447035558354253, 2.9447035558354253, 2.946028291546265, 2.9473167164364797, 2.937863440688087, 2.938543712796931, 2.938543712796931, 2.938543712796931, 2.939214853736528, 2.9398859946761253, 2.9398859946761253, 2.9411765321225265, 2.94185680423137, 2.936032940012648, 2.936032940012648, 2.936032940012648, 2.936654058025071, 2.937275176037493, 2.937275176037493, 2.937946316977091, 2.937946316977091, 2.9266777053828705, 2.9266777053828705, 2.927986908309324, 2.927986908309324, 2.928608026321746, 2.929261621092988, 2.929261621092988, 2.929261621092988, 2.9298713771905494, 2.9255464337957067, 2.9255464337957067, 2.9268465055529145, 2.927491666843237, 2.927491666843237, 2.9287378816114638, 2.9299687557214478, 2.9306398966610447, 2.928065108083726, 2.9287453801925696, 2.9300616824224894, 2.9307068437128123, 2.933237504627871, 2.933866435445481, 2.934537576385078, 2.9358038556878236, 2.936484127796667, 2.937093883894228, 2.937093883894228, 2.9377111678448453, 2.9383400986624553, 2.9383400986624553, 2.940223946867949, 2.940223946867949, 2.940223946867949, 2.9286686109862003, 2.9286686109862003, 2.9292858949368172, 2.930505815344449, 2.9311347461620594, 2.9311347461620594, 2.9317335485572693, 2.9317335485572693, 2.933058981956435, 2.9181425982341125, 2.9187961930053548, 2.919417311017777, 2.9200345949683943, 2.9207057359079918, 2.9207057359079918, 2.9207057359079918, 2.9213268539204145, 2.9225780758167974, 2.923797996224429, 2.9243967986196386, 2.925017916632061, 2.925017916632061, 2.925017916632061, 2.9256390346444836, 2.9256390346444836, 2.9275625727505323, 2.9219645421802025, 2.9232308214829477, 2.9250796727081894, 2.9256784751033993, 2.9262995931158216, 2.927537995078861, 2.9288127078625257, 2.9288127078625257, 2.9240092644195386, 2.92466285919078, 2.925308020481103, 2.925308020481103, 2.9259791614207, 2.9266002794331225, 2.9272292102507325, 2.927828012645942, 2.929676863871184, 2.9261293572918867, 2.927381754458338, 2.9280028724707607, 2.9280028724707607, 2.9280028724707607, 2.929255269637212, 2.929884200454822, 2.930513131272432, 2.924229697664752, 2.9248707233057774, 2.9248707233057774, 2.925524318077019, 2.9280141949432874, 2.929314266700495, 2.929314266700495, 2.9299552923415204, 2.9299552923415204, 2.9241488052618707, 2.9247476076570806, 2.9247476076570806, 2.9247476076570806, 2.92593456172865, 2.92593456172865, 2.926555679741072, 2.926555679741072, 2.9233709663652765, 2.9239920843776983, 2.9245838003540294, 2.9245838003540294, 2.9252373951252713, 2.926512107908936, 2.926512107908936, 2.9271531335499614, 2.9277448495262925, 2.9261628119166967, 2.9267545278930283, 2.9267545278930283, 2.9273718118436456, 2.927963527819977, 2.928634668759574, 2.928634668759574, 2.9292334711547836, 2.9273837214128586, 2.928054862352456, 2.928054862352456, 2.9299087219822355, 2.931129368776177, 2.932350015570118, 2.9329417315464497, 2.9329417315464497, 2.9335334475227812, 2.928313385875833, 2.928313385875833, 2.928313385875833, 2.928313385875833, 2.928313385875833, 2.9295586966234053, 2.9295586966234053, 2.930212291394647, 2.9185065110690913, 2.9191475367101174, 2.9191475367101174, 2.920360370698871, 2.920360370698871, 2.9215706968653183, 2.9215706968653183, 2.9228478984109763, 2.924049197112275, 2.924049197112275, 2.924655257718336, 2.925276375730758, 2.925276375730758, 2.9270693904083878, 2.927698321225998, 2.9283694621655956, 2.9289755227716556, 2.911668183376684, 2.911668183376684, 2.912289301389107, 2.912289301389107, 2.912289301389107, 2.912289301389107, 2.9128810173654385, 2.9128810173654385, 2.9135021353778603, 2.9028377724467536, 2.9034667032643635, 2.9040956340819735, 2.9040956340819735, 2.904724564899584, 2.9059203955556847, 2.9059203955556847, 2.906495108199363, 2.8786720344786714, 2.8786720344786714, 2.8786720344786714, 2.879263750455003, 2.8804402617529714, 2.8810250570746088, 2.881609852396246, 2.882194647717884, 2.882808144650399, 2.8794718048699197, 2.880067042965158, 2.880658758941489, 2.880658758941489, 2.880658758941489, 2.8812798769539114, 2.8824936030931587, 2.8824936030931587, 2.8668077644342462, 2.8685587504263586, 2.869199776067384, 2.87100874030187, 2.87100874030187, 2.871590135650707, 2.872746359543773, 2.873922870841742, 2.8745638964827678, 2.8721852856734538, 2.8721852856734538, 2.8727950417710146, 2.8733902798662525, 2.8733902798662525, 2.8733902798662525, 2.8746027340787066, 2.8746027340787066, 2.8688148676543657, 2.8711869082510533, 2.87177170357269, 2.872366941667928, 2.872366941667928, 2.872366941667928, 2.8735772678343756, 2.8753501684796965, 2.8753501684796965, 2.875501837869149, 2.8761078984752095, 2.8761078984752095, 2.87671395908127, 2.8779330194043764, 2.8779330194043764, 2.878574045045402, 2.87916928314064, 2.8706002980896455, 2.8706002980896455, 2.8723941494753484, 2.8729655780467764, 2.8729655780467764, 2.8729655780467764, 2.873557294023108, 2.874790035640465, 2.875970069057341, 2.8648605859478575, 2.8660237304956175, 2.8665951590670464, 2.867782113138616, 2.867782113138616, 2.868353541710044, 2.8689249702814728, 2.8689249702814728, 2.859337283887115, 2.8599289998634463, 2.8599289998634463, 2.8599289998634463, 2.8599289998634463, 2.8599289998634463, 2.860520715839778, 2.860520715839778, 2.8611617414808035, 2.8602012897836357, 2.8602012897836357, 2.8602012897836357, 2.8608423154246614, 2.8620022132191747, 2.862587008540812, 2.862587008540812, 2.863189418179366, 2.8600129120190427, 2.8600129120190427, 2.8611429998083486, 2.8611429998083486, 2.8623195111063175, 2.862907746400435, 2.862907746400435, 2.8634959816945527, 2.864064163512735, 2.8579982510788513, 2.858597053474061, 2.8591958558692707, 2.8598368815102964, 2.8610309220007437, 2.8616261600959825, 2.8616261600959825, 2.8616261600959825, 2.8586112260196805, 2.859810910878583, 2.859810910878583, 2.8603991461727007, 2.8609705747441296, 2.8609705747441296, 2.8609705747441296, 2.861555370065767, 2.8621267986371954, 2.859197083601635, 2.859197083601635, 2.8597818789232723, 2.8597818789232723, 2.86037011421739, 2.8609256697729455, 2.861517385749277, 2.8626840524159434, 2.8542442876988714, 2.8542442876988714, 2.8542442876988714, 2.8565871611237945, 2.857701375897227, 2.857701375897227, 2.8582728044686556, 2.85941625900817, 2.86001506140338, 2.8594727786748626, 2.8594727786748626, 2.860109721350022, 2.8612896726204706, 2.861874467942108, 2.862430023497663, 2.862430023497663, 2.8635703743748566, 2.861905202766326, 2.862463861984203, 2.863052097278321, 2.8647707973816363, 2.8647707973816363, 2.865362513357968, 2.865954229334299, 2.866542464628417, 2.866542464628417, 2.867101123846294, 2.867101123846294, 2.867692839822625, 2.867692839822625, 2.868869351120594, 2.8700166226524813, 2.87116699784669, 2.8717384264181183, 2.862718564526822, 2.862718564526822, 2.8632741200823775, 2.863829675637933, 2.864959026022867, 2.865543821344504, 2.865543821344504, 2.8672411196186527, 2.86841166541966, 2.867875640358748, 2.868508551751153, 2.869079980322582, 2.870256491620551, 2.870256491620551, 2.871427037421558, 2.871427037421558, 2.8726069886920067, 2.8731987046683383, 2.8737834999899756, 2.8749634512604247, 2.876181157974467, 2.877328429506354, 2.8790914286880644, 2.879683144664396, 2.879683144664396, 2.879683144664396, 2.879731738128565, 2.8808948826763245, 2.8808948826763245, 2.8814504382318806, 2.8826008134260883, 2.883233724818494, 2.883233724818494, 2.883771359227096, 2.8826697680398254, 2.8832511633886626, 2.8844108272542086, 2.8844108272542086, 2.8844108272542086, 2.884992222603046, 2.8861360134527194, 2.8867174088015566, 2.8867174088015566, 2.872998426905146, 2.874118883875832, 2.8746775430937093, 2.8752330986492645, 2.8758045272206934, 2.8763893225423307, 2.876981038518662, 2.876981038518662, 2.87467035446467, 2.875202269358287, 2.875734184251904, 2.875734184251904, 2.8774621726751874, 2.8786764794164297, 2.8792083943100466, 2.8797897896588838, 2.8797897896588838, 2.873238958773475, 2.873238958773475, 2.874456665487518, 2.8749885803811344, 2.875573375702772, 2.8761650916791033, 2.8761650916791033, 2.8761650916791033, 2.872131793532424, 2.8726812440818748, 2.874389623557696, 2.8749451791132516, 2.875494629662702, 2.875494629662702, 2.875494629662702, 2.875494629662702, 2.876026544556319, 2.8715902694361937, 2.8715902694361937, 2.8722192002538036, 2.8727686508032546, 2.8744409165740645, 2.8761626628000947, 2.8773357741252634, 2.877885224674714, 2.8768568491271993, 2.8768568491271993, 2.8768568491271993, 2.879217846798334, 2.8797497616919507, 2.8797497616919507, 2.8797497616919507, 2.8803115594447597, 2.8808671150003153, 2.875015558735351, 2.8766524797339743, 2.87720803528953, 2.87720803528953, 2.8777928306111678, 2.878342281160618, 2.8794472872656245, 2.8811195530364344, 2.871553611120582, 2.871553611120582, 2.871553611120582, 2.871553611120582, 2.871553611120582, 2.8732660815697546, 2.8743474470128225, 2.874903002568378, 2.8754524531178283, 2.8695611502022524, 2.8695611502022524, 2.8695611502022524, 2.8695611502022524, 2.8695611502022524, 2.8707180650958692, 2.8712645131833012, 2.8712645131833012, 2.8690050002622, 2.869551448349632, 2.871207526436378, 2.871207526436378, 2.872388081991933, 2.873490085634921, 2.873490085634921, 2.874081801611252, 2.874613716504869, 2.876256260688397, 2.876256260688397, 2.876841056010034, 2.876841056010034, 2.87739661156559, 2.8779883275419214, 2.879641403166648, 2.879641403166648, 2.87644450152128, 2.8770292968429176, 2.877584852398473, 2.878701562613727, 2.8804027505920256, 2.8809346654856425, 2.8809346654856425, 2.8809346654856425, 2.8815194608072803, 2.8807637540045965, 2.881830428256502, 2.881830428256502, 2.882977699788389, 2.883509614682006, 2.883509614682006, 2.884056062769438, 2.8846116183249935, 2.883297523043618, 2.883297523043618, 2.884495815297771, 2.884495815297771, 2.885600821402777, 2.886214318335292, 2.887301788784465, 2.887301788784465, 2.887301788784465, 2.8809474398401766, 2.881532235161814, 2.881532235161814, 2.8821004169799957, 2.8826323318736127, 2.8849675750321575, 2.8849675750321575, 2.8855140231195895, 2.8779587102111086, 2.8791013076727245, 2.8801985900200067, 2.881322327393744, 2.881322327393744, 2.8824035348394643, 2.8824035348394643, 2.883484742285185, 2.8840402978407402, 2.883576823316493, 2.8841293095043374, 2.8841293095043374, 2.8846974913225196, 2.885243939409951, 2.8858253347587883, 2.8869097358402507, 2.887456183927683, 2.8885757386076087, 2.8896660535214536, 2.891322997486823, 2.891322997486823, 2.8918694455742546, 2.892401360467871, 2.8935383113722635, 2.8935383113722635, 2.8940907975601093, 2.8952069522672352, 2.896307048979034, 2.8968361495081347, 2.8968361495081347, 2.8968361495081347, 2.8968361495081347, 2.89738863569598, 2.8984730367774425, 2.8996212930682463, 2.9001894748864285, 2.9013585273744993, 2.901926709192681, 2.901926709192681, 2.9024731572801126, 2.903025643467958, 2.9036104387895953, 2.9036104387895953, 2.900478896039571, 2.901010810933188, 2.901010810933188, 2.901010810933188, 2.901010810933188, 2.902078092353953, 2.9026336479095085, 2.903215043258346, 2.9048170840373997, 2.9054305809699152, 2.9065208958837596, 2.9076052969652215, 2.9087712800855825, 2.909323766273428, 2.909876252461273, 2.909876252461273, 2.9104897493937885, 2.904351531411379, 2.904913329164188, 2.906044572573257, 2.906044572573257, 2.906044572573257, 2.906044572573257, 2.906044572573257, 2.906597058761102, 2.9026333906839654, 2.9026333906839654, 2.903713826352903, 2.904791088023238, 2.905325847381527, 2.905325847381527, 2.905325847381527, 2.905325847381527, 2.9086773688444034, 2.9092329243999586, 2.9114321179143987, 2.911997089665811, 2.9137071437094244, 2.914241903067713, 2.914241903067713, 2.914241903067713, 2.91477381796133, 2.9158703750724277, 2.916987833011686, 2.9175342810991176, 2.918661050603339, 2.918661050603339, 2.918661050603339, 2.9191958099616273, 2.9191958099616273, 2.9197513655171834, 2.9203131632699924, 2.9208749610228013, 2.9208749610228013, 2.9214367587756103, 2.922524004321745, 2.92313750125426, 2.9236722606125483, 2.92477199172225, 2.9225313016317807, 2.923086857187336, 2.923648654940145, 2.9242011411279902, 2.9242011411279902, 2.924762938880799, 2.925318494436355, 2.925318494436355, 2.925318494436355, 2.9168621164985917, 2.9174176720541474, 2.917973227609703, 2.9185381993611155, 2.9196165623421644, 2.9196165623421644, 2.920181534093577, 2.9207134489871938, 2.9111833306381483, 2.912764206182011, 2.9133559221583427, 2.9133559221583427, 2.9138584347211567, 2.9143609472839707, 2.9143609472839707, 2.9166319189523686, 2.9171344315151826, 2.9165295804838607, 2.918211611374036, 2.918211611374036, 2.9187463707323253, 2.9187463707323253, 2.9192988569201708, 2.920366341234397, 2.920934523052579, 2.918893701275099, 2.918893701275099, 2.9193962138379126, 2.9199309731962018, 2.9210364854881545, 2.922682684322426, 2.922682684322426, 2.922682684322426, 2.922682684322426, 2.921552740819601, 2.921552740819601, 2.922108296375156, 2.9226430557334444, 2.9226430557334444, 2.9226430557334444, 2.9231986112890005, 2.92483603847457, 2.9206425599547057, 2.9211831004952464, 2.9222474108108694, 2.9222474108108694, 2.923314895125096, 2.923314895125096, 2.924972788974001, 2.924972788974001, 2.92550754833229, 2.9259186041003304, 2.9264591446408708, 2.927040539989708, 2.927040539989708, 2.927040539989708, 2.9286899128225827, 2.929803223065037, 2.931469019495337, 2.9320308172481457, 2.9325926150009547, 2.933729565905347, 2.9342320784681615, 2.935358847972383, 2.9369866340590574, 2.9375484318118663, 2.938606499930236, 2.93972078387089, 2.93972078387089, 2.9402555432291786, 2.9407874581227955, 2.941339944310641, 2.941339944310641, 2.941892430498486, 2.942427189856775, 2.942427189856775, 2.942427189856775, 2.942988987609584, 2.943523746967873, 2.943523746967873, 2.94405566186149, 2.94405566186149, 2.9456518870707304, 2.9462136848235394, 2.9462136848235394, 2.939917282037775, 2.9404197946005883, 2.9404197946005883, 2.941487278914815, 2.9425747493639878, 2.943609176820419, 2.9441905721692563, 2.9441905721692563, 2.9379767152320477, 2.9379767152320477, 2.939041025547671, 2.939041025547671, 2.939567341337144, 2.939567341337144, 2.9401323130885566, 2.941205076965462, 2.9417075895282765, 2.940614894623427, 2.940614894623427, 2.9411174071862405, 2.942208694727127, 2.9432636934777863, 2.9432636934777863, 2.9432636934777863, 2.943810141565218, 2.942583498199174, 2.942583498199174, 2.943115413092791, 2.943115413092791, 2.9436179256556048, 2.945261260388066, 2.9468550604917665, 2.9468550604917665, 2.9468550604917665, 2.929074726375688, 2.930139036691311, 2.93070083444412, 2.931806346736073, 2.9328976342769595, 2.9328976342769595, 2.9328976342769595, 2.933423950066433, 2.926948002187526, 2.927479917081143, 2.927479917081143, 2.9285325486600904, 2.9285325486600904, 2.9300932919059948, 2.9306582636574072, 2.931204711744839, 2.93226294242793, 2.918586350160998, 2.9196744637032808, 2.9196744637032808, 2.920239435454693, 2.922424435642005, 2.9229269482048195, 2.9234588630984364, 2.924531626975342, 2.9208238625902214, 2.9208238625902214, 2.9213263751530354, 2.9213263751530354, 2.9218881729058443, 2.9229115188019916, 2.923443433695609, 2.923992884245059, 2.924519200034533, 2.9208878859826095, 2.922504192862074, 2.923527538758221, 2.9240594536518385, 2.925131909085996, 2.9256527424193295, 2.9261790582088034, 2.926681570771617, 2.924253662028433, 2.924253662028433, 2.924756174591247, 2.925288089484864, 2.925288089484864, 2.925288089484864, 2.9258089228181974, 2.9258089228181974, 2.9263408377118143, 2.923928589201025, 2.9244605040946423, 2.9244605040946423, 2.9255197726948947, 2.92661348534132, 2.927134318674654, 2.9282213073026258, 2.929315019949052, 2.9298358532823854, 2.930400825033798, 2.930400825033798, 2.930400825033798, 2.9309472731212294, 2.9309472731212294, 2.9309472731212294, 2.9309472731212294, 2.93148781366177, 2.9311013612084484, 2.9316221945417817, 2.932162735082322, 2.932665247645136, 2.932665247645136, 2.9347907597489917, 2.9353313002895325, 2.935871840830073, 2.9279312818349394, 2.9279312818349394, 2.9279312818349394, 2.9289840300618897, 2.9300513114826545, 2.931072144815988, 2.931072144815988, 2.931072144815988, 2.931072144815988, 2.9299426174986154, 2.931021419475934, 2.931553334369551, 2.9325821627218387, 2.9325821627218387, 2.9325821627218387, 2.933147134473251, 2.9337121062246636, 2.9320357820348675, 2.9325882682227133, 2.9330833177276636, 2.9336358039155086, 2.934703288229735, 2.934703288229735, 2.934703288229735, 2.934703288229735, 2.9357377156861664, 2.932123786039292, 2.933171321732088, 2.9336976375215618, 2.9336976375215618, 2.9347764394988807, 2.9347764394988807, 2.9358548024799296, 2.9358548024799296, 2.924680641603845, 2.924680641603845, 2.925765042685308, 2.9262858760186408, 2.9262858760186408, 2.9273972958574848, 2.927962267608897, 2.927962267608897, 2.928494182502514, 2.9281561127908153, 2.92870859897866, 2.9292294323119936, 2.9297557481014675, 2.930302196188899, 2.930302196188899, 2.9308546823767445, 2.931419654128157, 2.926336264349696, 2.9273699181958497, 2.9273699181958497, 2.9279348899472617, 2.928455723280595, 2.928982039070069, 2.9294948595828894, 2.929982664460938, 2.9310169174264185, 2.9252538873115754, 2.925741692189624, 2.9273469266044194, 2.927899412792265, 2.9284313276858818, 2.9284313276858818, 2.9289338402486957, 2.9299920709317866, 2.9304996851449845, 2.9310125056578054, 2.9310125056578054, 2.931538821447279, 2.932085269534711, 2.9331640715120293, 2.9337105195994613, 2.934231352932795, 2.934231352932795, 2.9200597455834596, 2.9200597455834596, 2.921060370974329, 2.9226501794953648, 2.9246840199345527, 2.925684645325422, 2.9261974658382424, 2.9261974658382424, 2.9261974658382424, 2.9272758288192913, 2.9272758288192913, 2.9272758288192913, 2.9278021446087648, 2.928304657171579, 2.928304657171579, 2.928304657171579, 2.9303715260660517, 2.9292113050715765, 2.9292113050715765, 2.929713817634391, 2.9302266381472113, 2.9302266381472113, 2.9307791243350563, 2.9307791243350563, 2.9313255724224883, 2.9313255724224883, 2.931813377300537, 2.931813377300537, 2.931813377300537, 2.9338928046687256, 2.934380609546774, 2.934380609546774, 2.934380609546774, 2.934380609546774, 2.923385947138312, 2.923385947138312, 2.924386572529181, 2.924386572529181, 2.924918487422798, 2.925963222829236, 2.92646573539205, 2.92646573539205, 2.9158864425142115, 2.9169446731973023, 2.9169446731973023, 2.918455823971498, 2.9190083101593434, 2.9190083101593434, 2.919529143492677, 2.919529143492677, 2.9200316560554906, 2.9094222750520062, 2.9094222750520062, 2.9094222750520062, 2.9094222750520062, 2.9099100799300555, 2.9104309132633888, 2.9104309132633888, 2.9104309132633888, 2.9031565250325113, 2.903677358365844, 2.903677358365844, 2.903677358365844, 2.905769074641154, 2.906806330068653, 2.907812269661728, 2.907812269661728, 2.908835615557875, 2.9063929510629407, 2.9063929510629407, 2.9063929510629407, 2.9063929510629407, 2.906911085777966, 2.906911085777966, 2.906911085777966, 2.906911085777966, 2.9035660694396284, 2.9035660694396284, 2.9040685820024423, 2.9045563868804916, 2.905058899443305, 2.9055770341583314, 2.9055770341583314, 2.9066027830865555, 2.9066027830865555, 2.9069233500509286, 2.9069233500509286, 2.9084455823854083, 2.9094689282815556, 2.909989761614889, 2.9114868605380284, 2.9119893731008424, 2.9124969873140403, 2.9047885813147376, 2.9047885813147376, 2.9047885813147376, 2.905291093877552, 2.905809228592578, 2.9068481966409374, 2.9068481966409374, 2.9073558108541353, 2.9078766441874686, 2.906215413210231, 2.9072543812585905, 2.90829883176309, 2.908816966478116, 2.909825604689498, 2.9103464380228314, 2.911366157794497, 2.9123747960058792, 2.9071276670444015, 2.908133606637476, 2.908133606637476, 2.909106928658592, 2.9096277619919255, 2.9101328124969763, 2.910650947212002, 2.910650947212002, 2.910650947212002, 2.908564915260361, 2.909519916510958, 2.9105285547223403, 2.9105285547223403, 2.9119869830031977, 2.9119869830031977, 2.912492033508248, 2.9130128668415813, 2.9130128668415813, 2.9130128668415813, 2.913531001556607, 2.914036052061658, 2.9145541867766838, 2.9150723214917096, 2.9155773719967604, 2.916029860684543, 2.916550694017876, 2.9129693771366556, 2.9129693771366556, 2.9129693771366556, 2.9129693771366556, 2.9139890969083213, 2.9139890969083213, 2.9144916094711357, 2.9144916094711357, 2.9145129443079183, 2.9150337776412516, 2.9150337776412516, 2.9160785130476894, 2.917068830488552, 2.918053234069952, 2.918053234069952, 2.918585148963569, 2.920113545364767, 2.915053992031121, 2.915053992031121, 2.915569455948647, 2.915569455948647, 2.916542777969763, 2.9170636113030963, 2.917516099990879, 2.918478792760294, 2.9169962191574736, 2.9180048573688557, 2.919552026849156, 2.920039831727205, 2.9205448822322557, 2.921055086313888, 2.9220730627942277, 2.9220730627942277, 2.922593896127561, 2.9220866280929654, 2.923107036256231, 2.9236198567690517, 2.9236198567690517, 2.925172286085245, 2.925172286085245, 2.9261850027296914, 2.9271830116893733, 2.9276932157710056, 2.9281982662760564, 2.930180678817137, 2.930701512150471, 2.9311893170285197, 2.932661525487968, 2.933679396505839, 2.9346999109284155, 2.9346999109284155, 2.9356549121790123, 2.9356549121790123, 2.9356549121790123, 2.936645229619875, 2.9382030283518765, 2.9391874319332763, 2.9391874319332763, 2.9391874319332763, 2.9386981862746637, 2.939203236779714, 2.9396557254674964, 2.9396557254674964, 2.9401082141552797, 2.94061326466033, 2.9411157772231444, 2.9416208277281948, 2.9421310318098275, 2.9396535735293767, 2.9401560860921903, 2.9406085747799735, 2.9411161889931714, 2.9421583079684215, 2.9421583079684215, 2.9421583079684215, 2.9421583079684215, 2.9386565981722947, 2.9401192136360903, 2.9405717023238727, 2.9405717023238727, 2.9405717023238727, 2.941581829099885, 2.9431117529531834, 2.9431117529531834, 2.944127007539867, 2.9416876136004726, 2.9416876136004726, 2.9416876136004726, 2.9416876136004726, 2.942690126163287, 2.942690126163287, 2.9431779310413355, 2.9431779310413355, 2.936057936239261, 2.9365457411173095, 2.937048253680124, 2.9385583293108026, 2.939565892378667, 2.939565892378667, 2.939565892378667, 2.939565892378667, 2.9400978072722843, 2.9390680019706488, 2.940055806848698, 2.9405583194115117, 2.9405583194115117, 2.941597848518327, 2.942097848518327, 2.942097848518327, 2.942097848518327, 2.928931329832278, 2.928931329832278, 2.929938892900142, 2.9304414054629566, 2.9308938941507394, 2.9308938941507394, 2.9314015083639373, 2.9314015083639373, 2.9314015083639373, 2.9295278708128123, 2.9300303833756263, 2.9300303833756263, 2.9300303833756263, 2.9300303833756263, 2.9300303833756263, 2.9300303833756263, 2.9300303833756263, 2.9197677273802554, 2.9197677273802554, 2.9202677273802555, 2.9202677273802555, 2.9202677273802555, 2.921208020946087, 2.9216605096338695, 2.9226486519263597, 2.9226486519263597, 2.9207490621158443, 2.9207490621158443, 2.9212321539032837, 2.921732153903284, 2.921732153903284, 2.9222321539032836, 2.9222321539032836, 2.9226846425910664, 2.914047918897668, 2.915574957191537, 2.915574957191537, 2.9160675680289754, 2.9160675680289754, 2.916520056716758, 2.9170225692795726, 2.919000547062824, 2.919971443728312, 2.917455940984134, 2.918408429671917, 2.9188915214593565, 2.9198791818017455, 2.920903707532801, 2.921406220095615, 2.922353758288348, 2.922353758288348, 2.9136636933110354, 2.9150585323314124, 2.9160056886233963, 2.9160056886233963, 2.917455838653668, 2.9184803643847235, 2.9194399603443193, 2.919892449032102, 2.9203469944866476, 2.9194528101685506, 2.9194528101685506, 2.9194528101685506, 2.919984725062167, 2.9209270753947614, 2.9213795640825446, 2.9223148787678594, 2.9223148787678594, 2.920881538374996, 2.921369343253045, 2.921369343253045, 2.9218571481310938, 2.9223116935856392, 2.9223116935856392, 2.9228018896640706, 2.9232543783518534, 2.924242183229902, 2.919828701320348, 2.919828701320348, 2.9203071702198695, 2.9213071952204945, 2.921797391298926, 2.9227875873773574, 2.9232400760651402, 2.9241471102074685, 2.9217965044862018, 2.9222749733857234, 2.9232626819019654, 2.9232626819019654, 2.9232626819019654, 2.9232626819019654, 2.923741150801487, 2.924238663239298, 2.925223980555158, 2.9166100756630575, 2.9166100756630575, 2.9166100756630575, 2.9166100756630575, 2.9166100756630575, 2.9166100756630575, 2.9175727684324726, 2.9185298264498325, 2.908486884467192, 2.9094340407591757, 2.9094340407591757, 2.91037639109177, 2.9113449652005885, 2.9113449652005885, 2.9113449652005885, 2.9123477801196596, 2.9123477801196596, 2.9076888068862785, 2.9076888068862785, 2.9076888068862785, 2.9076888068862785, 2.9076888068862785, 2.908657380995097, 2.909154893432908, 2.909154893432908, 2.9050079427956303, 2.9050079427956303, 2.9050079427956303, 2.9055155570088287, 2.9055155570088287, 2.906515782059465, 2.907013294497276, 2.907013294497276, 2.9079682957478727, 2.8998542217589107, 2.9003281554082, 2.900802089057489, 2.901779186838762, 2.9022531204880515, 2.9027556330508655, 2.9027556330508655, 2.903229566700155, 2.903229566700155, 2.903229566700155, 2.903229566700155, 2.903229566700155, 2.904153595722775, 2.904153595722775, 2.904651108160586, 2.904651108160586, 2.9056326560230725, 2.9008730845892776, 2.9008730845892776, 2.9017995069263494, 2.9027429241437135, 2.9027429241437135, 2.9032454367065275, 2.9037429491443385, 2.9037429491443385, 2.898277443257031, 2.898277443257031, 2.898277443257031, 2.898729931944814, 2.898729931944814, 2.8992084008443357, 2.8997109134071493, 2.8997109134071493, 2.9011905237512368, 2.8928528041454484, 2.8933157671084113, 2.8942728251257708, 2.894775337688585, 2.8952448212566604, 2.8957077842196233, 2.896181717868912, 2.896181717868912, 2.8802842791969794, 2.8802842791969794, 2.8807388246515253, 2.881210522764733, 2.881210522764733, 2.8816867132409234, 2.8816867132409234, 2.8821606468902123, 2.8826323450034197, 2.8689142177501825, 2.8689142177501825, 2.8689142177501825, 2.8698638127096783, 2.8713164493979724, 2.8722174234239466, 2.8731961264629504, 2.8741396066587677, 2.8729360931535486, 2.8733969226466365, 2.873843351218065, 2.874786831413881, 2.8752413768684266, 2.87616949608114, 2.8771065160504183, 2.8775827065266086, 2.878085219089423, 2.875462298503777, 2.8764335384849185, 2.87735537365909, 2.87832517594153, 2.87832517594153, 2.8792470111157016, 2.8801904913115175, 2.880657781031144, 2.8775687585938234, 2.878029588086911, 2.8785246375918616, 2.8785246375918616, 2.878991927311488, 2.878991927311488, 2.878991927311488, 2.878991927311488, 2.8794869768164384, 2.87666144811254, 2.8771287378321664, 2.8785269473778916, 2.8785269473778916, 2.8785269473778916, 2.878971391822336, 2.879914872018152, 2.879914872018152, 2.8808138619171424, 2.8817762011417187, 2.8817762011417187, 2.8831869710571616, 2.884149310281739, 2.8846080258780686, 2.885542605317321, 2.885542605317321, 2.8860098950369477, 2.88691516897448, 2.887852188943758, 2.889254058102636, 2.8896985025470805, 2.8896985025470805, 2.8906355225163582, 2.891538682557133, 2.8929683115013356, 2.8934127559457803, 2.893857200390225, 2.893857200390225, 2.893857200390225, 2.8957680235088654, 2.8967115037046822, 2.8971702193010125, 2.8981260982990507, 2.8985933880186763, 2.8985933880186763, 2.8990695784948666, 2.8990695784948666, 2.8990695784948666, 2.900473888183771, 2.9013728780827606, 2.901840167802387, 2.902294713256932, 2.901249487126279, 2.9016939315707235, 2.9026093065183565, 2.9026093065183565, 2.9030680221146867, 2.9035267377110174, 2.9035267377110174, 2.9044320116485487, 2.9044320116485487, 2.9018775562030044, 2.902336271799334, 2.902336271799334, 2.902336271799334, 2.903793660528862, 2.904248205983407, 2.904248205983407, 2.904248205983407, 2.901218125207122, 2.9021298593711933, 2.9025906888642807, 2.9025906888642807, 2.9030857383692314, 2.903546567862319, 2.903546567862319, 2.90445830202639, 2.906299682289979, 2.906299682289979, 2.9072431624857957, 2.9086642173067028, 2.9086642173067028, 2.9105002271749703, 2.9105002271749703, 2.9105002271749703, 2.9105002271749703, 2.9074532029603537, 2.9083664640112294, 2.90884265448742, 2.90884265448742, 2.909745814528195, 2.909745814528195, 2.910240864033146, 2.9107081537527715, 2.9111959586308207, 2.911299152835311, 2.9126948884009187, 2.9126948884009187, 2.9131536039972494, 2.913620893716876, 2.9141086985949243, 2.91456324404947, 2.9155255832740465, 2.9159842988703764, 2.9159842988703764, 2.9164388443249223, 2.9169150348011126, 2.9173823245207386, 2.9183288449951177, 2.9183288449951177, 2.918789674488205, 2.9201679351739536, 2.9201679351739536, 2.9206266507702834, 2.9206266507702834, 2.9215420257179163, 2.9215420257179163, 2.9224594569105773, 2.9224594569105773, 2.9224594569105773, 2.9188955652701103, 2.9193542808664406, 2.919812996462771, 2.9203080459677215, 2.9212515261635383, 2.9217060716180834, 2.9217060716180834, 2.9226430915873616, 2.923138141092312, 2.9212855994620863, 2.922687795254233, 2.923146510850563, 2.9236138005701897, 2.9245312317628502, 2.9245312317628502, 2.9249899473591805, 2.9249899473591805, 2.924933353359908, 2.924933353359908, 2.9253941828529952, 2.9262973428937697, 2.9267560584901, 2.9272005029345443, 2.9276677926541708, 2.9276677926541708, 2.928126508250501, 2.9181872729791216, 2.9186317174235663, 2.9186317174235663, 2.9190925469166538, 2.919551262512984, 2.9200058079675295, 2.9200058079675295, 2.920484276867051, 2.918992748263137, 2.919447293717682, 2.919447293717682, 2.919447293717682, 2.919447293717682, 2.919447293717682, 2.919447293717682, 2.919901839172228, 2.9208278444881843, 2.908890705580377, 2.909335150024822, 2.909335150024822, 2.9097896954793674, 2.9102658859555577, 2.9107246015518884, 2.9125537669086183, 2.913029957384809, 2.9077120569672195, 2.9081707725635497, 2.9081707725635497, 2.9090697624625395, 2.9099729225033144, 2.910920811092712, 2.910920811092712, 2.9113795266890428, 2.9113795266890428, 2.9109937653501383, 2.911907026401013, 2.9132733060196303, 2.9132733060196303, 2.913727851474176, 2.914186567070506, 2.914186567070506, 2.9146310115149503, 2.9119258191998227, 2.9123931089194492, 2.9123931089194492, 2.9128476543739943, 2.9137593885380655, 2.914211877225848, 2.915125138276724, 2.916935332459827, 2.9173940480561575, 2.9143555749863834, 2.915268836037259, 2.915268836037259, 2.9161719960780337, 2.9161719960780337, 2.91663928579766, 2.9171065755172862, 2.9171065755172862, 2.9171637548685836, 2.9171637548685836, 2.9180944907993194, 2.9190036568461, 2.9190036568461, 2.9194709465657263, 2.9199296621620565, 2.9199296621620565, 2.9199296621620565, 2.915956167942548, 2.915956167942548, 2.9164086566303307, 2.917307646529321, 2.918675605397279, 2.9191280940850617, 2.9191280940850617, 2.9191280940850617, 2.9182938517709993, 2.9182938517709993, 2.9182938517709993, 2.9182938517709993, 2.918746340458782, 2.919653486548386, 2.919653486548386, 2.9201122021447157, 2.9205566465891604, 2.9163922081521703, 2.917318451719923, 2.917318451719923, 2.917318451719923, 2.9177750727244893, 2.9177750727244893, 2.9191706815618894, 2.9191706815618894, 2.917526871309588, 2.917526871309588, 2.917526871309588, 2.917526871309588, 2.917971315754033, 2.9193562749181163, 2.9198235646377424, 2.9202822802340727, 2.9202822802340727, 2.9149485834659616, 2.915403128920507, 2.915403128920507, 2.9163115082564217, 2.9163115082564217, 2.916759938749695, 2.917671105208807, 2.918574265249582, 2.9164295094514365, 2.9178035616486633, 2.9178035616486633, 2.9182480060931075, 2.9186964365863814, 2.9186964365863814, 2.9196226801541343, 2.9196226801541343, 2.9196226801541343, 2.9155292483043826, 2.9155292483043826, 2.9155292483043826, 2.915985869308949, 2.915985869308949, 2.9169097800331416, 2.9178013960623717, 2.9178013960623717, 2.911494829370697, 2.911953544967027, 2.911953544967027, 2.911953544967027, 2.9137470324020236, 2.9137470324020236, 2.914191476846468, 2.915088788934026, 2.915980404963257, 2.914593909266216, 2.9150568722291794, 2.9150568722291794, 2.9150568722291794, 2.915974380646688, 2.916881788054095, 2.9177828535031063, 2.9191619590237208, 2.918406673346381, 2.918406673346381, 2.9188696363093443, 2.9188696363093443, 2.9188696363093443, 2.9197913148686374, 2.9197913148686374, 2.9202542778316003, 2.9211532677305905, 2.9139288794321034, 2.9152589624554204, 2.9152589624554204, 2.9157135079099654, 2.9161408583373154, 2.916612556450523, 2.9179916619711386, 2.9179916619711386, 2.916243265033378, 2.9166978104879235, 2.917605217895331, 2.918962923390651, 2.9194073678350954, 2.9202929477724, 2.921622972154148, 2.9225446507134416, 2.9225446507134416, 2.9216881888704327, 2.9221326333148765, 2.923934355809833, 2.923934355809833, 2.9243827863031067, 2.9243827863031067, 2.924845749266069, 2.925734638154958, 2.924728443896548, 2.9252001420097553, 2.925671840122963, 2.926102874605722, 2.926102874605722, 2.926565837568685, 2.927014268061959, 2.927014268061959, 2.928357702405393, 2.926470506849204, 2.926470506849204, 2.926470506849204, 2.926470506849204, 2.926470506849204, 2.926470506849204, 2.9269149512936488, 2.9269149512936488, 2.921504625060322, 2.921976323173529, 2.9233158417068807, 2.9233158417068807, 2.9233158417068807, 2.9242008147856864, 2.9242008147856864, 2.9246553602402323, 2.9260344657608472, 2.916625598367508, 2.916625598367508, 2.9170700428119525, 2.9174884528537937, 2.9179068628956344, 2.918810354492959, 2.9197114199419696, 2.92012982998381, 2.921441570739384, 2.921441570739384, 2.9223527371984956, 2.922824435311703, 2.922824435311703, 2.9242072998840225, 2.925092272962828, 2.925092272962828, 2.9259873470517346, 2.925693447273382, 2.9270641352855797, 2.927518680740125, 2.9288654098997395, 2.9288654098997395, 2.9288654098997395, 2.929740440946147, 2.930180969580508, 2.9294745466183323, 2.9299290920728778, 2.9299290920728778, 2.930786759657818, 2.930786759657818, 2.9312312041022626, 2.9312312041022626, 2.9312312041022626, 2.9316756485467073, 2.932088871687203, 2.932088871687203, 2.932088871687203, 2.932088871687203, 2.9325434171417486, 2.9330151152549564, 2.934363051296725, 2.9352259057830103, 2.935670350227454, 2.9365693401264443, 2.9365693401264443, 2.93702388558099, 2.93702388558099, 2.93702388558099, 2.93702388558099, 2.93702388558099, 2.93702388558099, 2.9254090088297047, 2.9254090088297047, 2.9271969578563293, 2.9271969578563293, 2.9276686559695366, 2.9276686559695366, 2.9276686559695366, 2.928586164387045, 2.9287861708923795, 2.9287861708923795, 2.92963877860213, 2.92963877860213, 2.92963877860213, 2.9304953723607094, 2.9304953723607094, 2.9318167583503696, 2.9322612027948143, 2.9327076313662426, 2.934541282341404, 2.9350042453043663, 2.9350042453043663, 2.9350042453043663, 2.935448689748811, 2.935448689748811, 2.935889218383172, 2.933152826733681, 2.933597271178125, 2.9340417156225698, 2.9349010978263506, 2.935309261091657, 2.936652695435091, 2.937067633194427, 2.937067633194427, 2.9379202409041776, 2.9332079145787455, 2.9336228523380816, 2.9340858153010445, 2.9345263439354055, 2.934934507200712, 2.934934507200712, 2.934934507200712, 2.934934507200712, 2.9331108651668107, 2.934014356764135, 2.934837457788777, 2.934837457788777, 2.93658129217578, 2.9370257366202246, 2.9370257366202246, 2.937878344329975, 2.9382932820893113, 2.937752688580178, 2.937752688580178, 2.938219978299804, 2.93868726801943, 2.9391418134739755, 2.9395862579184198, 2.9395862579184198, 2.940001195677756, 2.938334782790588, 2.9392081618905115, 2.939662707345057, 2.9401071517895017, 2.9401071517895017, 2.9401071517895017, 2.9410188859535724, 2.9419262933609795, 2.942361075969675, 2.9432499648585635, 2.9432499648585635, 2.944566462072091, 2.9450210075266363, 2.9454557901353318, 2.9454557901353318, 2.946361676346186, 2.946361676346186, 2.946361676346186, 2.946361676346186, 2.946361676346186, 2.9468162218007317, 2.947738056974903, 2.947738056974903, 2.947738056974903, 2.947738056974903, 2.9481766534661316, 2.9468433675651764, 2.9472878120096206, 2.9477322564540653, 2.9481471942134014, 2.948552052512997, 2.948552052512997, 2.948552052512997, 2.948552052512997, 2.9462087979933775, 2.947072371889303, 2.947072371889303, 2.947072371889303, 2.9475109683805307, 2.9475109683805307, 2.9479554128249754, 2.9483602711245704, 2.9483602711245704, 2.942055306663019, 2.9424939031542467, 2.9433892999732842, 2.9438042377326203, 2.9451361280645107, 2.9465022510682486, 2.9465022510682486, 2.9469652140312115, 2.9474239296275417, 2.9483270896683167, 2.9491965728821983, 2.9491965728821983, 2.9496552884785285, 2.950099732922973, 2.95138763215824, 2.95138763215824, 2.95138763215824, 2.9518367780625137, 2.9522812225069583, 2.9522812225069583, 2.9527441854699212, 2.9527441854699212, 2.9531987309244667, 2.9540682141383483, 2.954951255074021, 2.950547272918106, 2.950547272918106, 2.9518820307528637, 2.953198517610191, 2.9541059250175983, 2.9554163163806217, 2.9562639866315177, 2.9562639866315177, 2.956678924390854, 2.955073998161464, 2.9558921617272516, 2.9558921617272516, 2.9563070994865877, 2.9567103252930393, 2.9575933662287115, 2.958052081825042, 2.958515044788005, 2.957351836923446, 2.9581805946447917, 2.9590737365905646, 2.9590737365905646, 2.959488674349901, 2.960341556692145, 2.961653806539039, 2.961653806539039, 2.962567067589915, 2.963011512034359, 2.9638643943766034, 2.9643273573395663, 2.9652263472385565, 2.9660963235978945, 2.9660963235978945, 2.966540768042339, 2.966540768042339, 2.9678530178892335, 2.9678530178892335, 2.9682679556485696, 2.9691379320079077, 2.9700511930587834, 2.9704897895500113, 2.971766668712129, 2.9722111131565736, 2.9722111131565736, 2.9693911704658396, 2.9702531118686215, 2.971156271909396, 2.971156271909396, 2.971156271909396, 2.9724928882280253, 2.972931484719253, 2.972931484719253, 2.972151425860267, 2.973016038371938, 2.9739335467894468, 2.974348484548783, 2.9748114475117458, 2.9752500440029737, 2.9765492292735343, 2.977433476784758, 2.9788097007985965, 2.9788097007985965, 2.9788097007985965, 2.979633094672275, 2.979633094672275, 2.9800775391167194, 2.9800775391167194, 2.980497707183946, 2.9809421516283905, 2.981345377434842, 2.981765545502069, 2.981765545502069, 2.981765545502069, 2.9830518122441934, 2.983455038050645, 2.983455038050645, 2.983455038050645, 2.983455038050645, 2.9825602494567414, 2.9825602494567414, 2.9830189650530716, 2.9830189650530716, 2.9830189650530716, 2.9838540708796346, 2.984759511718704, 2.984759511718704, 2.985185043633597, 2.985629488078042, 2.985629488078042, 2.985629488078042, 2.986483022328606, 2.986483022328606, 2.9869274667730505, 2.9878075441424894, 2.9878075441424894, 2.9858120335714324, 2.9862707491677627, 2.987118419418659, 2.9879641194007798, 2.9879641194007798, 2.9892685386796676, 2.9892685386796676, 2.989711016555774, 2.9867731726489675, 2.9867731726489675, 2.9867731726489675, 2.9876082784755313, 2.988028446542758, 2.988028446542758, 2.9893651827417647, 2.9893651827417647, 2.9893651827417647, 2.988836374878789, 2.9896597687524675, 2.990104213196912, 2.9909911355174628, 2.9914436242052456, 2.9923082367169167, 2.9923082367169167, 2.9923082367169167, 2.986367096760648, 2.988099014522768, 2.988513952282104, 2.9893928359456616, 2.989851551541992, 2.990310267138322, 2.9916004152653244, 2.992037096488032, 2.9924895851758144, 2.9928928109822666, 2.9928928109822666, 2.9928928109822666, 2.9937608207732658, 2.9937608207732658, 2.9937608207732658, 2.9946288305642654, 2.9946288305642654, 2.994530630949432, 2.9954337909902065, 2.9954337909902065, 2.9954337909902065, 2.995884241440657, 2.9963209226633643, 2.9963209226633643, 2.9963209226633643, 2.9963209226633643, 2.9918197331374534, 2.9918197331374534, 2.9918197331374534, 2.992682379080786, 2.993085604887238, 2.993085604887238, 2.993511136802131, 2.9939313048693585, 2.9899425586782113, 2.9912469742566623, 2.9916671423238888, 2.9916671423238888, 2.9916671423238888, 2.9920873103911156, 2.9920873103911156, 2.992529788267222, 2.992529788267222, 2.9839715425785505, 2.9839715425785505, 2.9844007271279063, 2.984803952934358, 2.9852241210015853, 2.9856273468080365, 2.9856273468080365, 2.9860528787229303, 2.9745221546582745, 2.974980870254605, 2.974980870254605, 2.975423348130711, 2.9758265739371628, 2.9762297997436145, 2.976648209785455, 2.976648209785455, 2.9770773943348114, 2.970502880427204, 2.9709320649765596, 2.9718076780973446, 2.972236862646701, 2.9726400884531525, 2.973511750878615, 2.9739409354279713, 2.9739409354279713, 2.9720107539384824, 2.972860106555065, 2.973690110687866, 2.973690110687866, 2.974516613420106, 2.9749590912962125, 2.9749590912962125, 2.975368927361786, 2.976645360066016, 2.9739053022444155, 2.9739053022444155, 2.9739053022444155, 2.9747718988830707, 2.9747718988830707, 2.975201083432427, 2.97649319023648, 2.976935668112586, 2.97655224108363, 2.97655224108363, 2.9770109566799596, 2.9770109566799596, 2.9774141824864118, 2.9774141824864118, 2.977817408292863, 2.978649818648672, 2.979053044455123, 2.9697729754058826, 2.9702077580145785, 2.9714844610585116, 2.9718942971240856, 2.972323481673442, 2.972323481673442, 2.9727582642821373, 2.9727582642821373, 2.970523090597349, 2.9709578732060447, 2.971814137843047, 2.971814137843047, 2.972272853439377, 2.972731569035708, 2.9731517371029343, 2.9735615731685083, 2.973981741235735, 2.9741116342531444, 2.9745464168618403, 2.974956252927414, 2.974956252927414, 2.9754026814988426, 2.9754026814988426, 2.9754026814988426, 2.9758059073052943, 2.97215376262296, 2.97215376262296, 2.9725829471723157, 2.9725829471723157, 2.973029375743745, 2.973029375743745, 2.973029375743745, 2.9734392118093185, 2.9734392118093185, 2.969139292356353, 2.969542518162805, 2.969542518162805, 2.969945743969256, 2.9703921725406848, 2.9708386011121135, 2.9708386011121135, 2.9708386011121135, 2.9616132213035113, 2.9620164471099626, 2.9628641482593876, 2.9628641482593876, 2.9628641482593876, 2.9628641482593876, 2.9633105768308163, 2.9645462129930755, 2.9649772474758342, 2.9657741740696872, 2.966190840736354, 2.966611008803581, 2.9670142346100326, 2.9670142346100326, 2.9674309012766993, 2.9678407373422733, 2.968243963148725, 2.9615452827863153, 2.9615452827863153, 2.9615452827863153, 2.961976317269074, 2.962407351751833, 2.964030781077926, 2.9644406171434996, 2.9644406171434996, 2.9657279023278442, 2.962432618568976, 2.962826319356378, 2.9632727479278063, 2.9632727479278063, 2.963675973734258, 2.964085809799832, 2.964085809799832, 2.964085809799832, 2.96205278839321, 2.96205278839321, 2.962906464650112, 2.9633374991328707, 2.9637311999202725, 2.9637311999202725, 2.9641461376796086, 2.9641461376796086, 2.964592566251037, 2.96538949284489, 2.9658359214163186, 2.9658359214163186, 2.9662560894835455, 2.9662560894835455, 2.966659315289997, 2.9674696827440656, 2.9683299692600897, 2.965841980522088, 2.965841980522088, 2.9671420853504182, 2.96753578613782, 2.96753578613782, 2.96753578613782, 2.9679524528044867, 2.9679524528044867, 2.969218773849034, 2.9621383330937894, 2.9621383330937894, 2.9621383330937894, 2.9621383330937894, 2.9621383330937894, 2.962532033881191, 2.962532033881191, 2.962532033881191, 2.9610716548614566, 2.9610716548614566, 2.9619173548435773, 2.9619173548435773, 2.9623110556309786, 2.9623110556309786, 2.963130948104097, 2.963524648891499, 2.963524648891499, 2.959949897970996, 2.959949897970996, 2.9616215875922216, 2.9620314236577956, 2.9620314236577956, 2.96287355493847, 2.96287355493847, 2.9636934474115884, 2.958826315564944, 2.959644890006673, 2.9600401469236695, 2.9616933381545247, 2.9616933381545247, 2.9616933381545247, 2.9616933381545247, 2.9621397667259535, 2.9625429925324047, 2.955708049328264, 2.956128217395491, 2.956128217395491, 2.9569251439893445, 2.9569251439893445, 2.9569251439893445, 2.9569251439893445, 2.957766829477769, 2.9482968147044724, 2.948713481371139, 2.949108738288135, 2.9495024390755367, 2.950711188056025, 2.950711188056025, 2.950711188056025, 2.951560842433905, 2.952414190323279, 2.950846682072903, 2.952493250564461, 2.9529099172311275, 2.9529099172311275, 2.9533265838977942, 2.9537234092946196, 2.9537234092946196, 2.9541266351010713, 2.9532967885180867, 2.953690489305488, 2.954107155972155, 2.954502412889151, 2.9549056386956023, 2.9549056386956023, 2.9549056386956023, 2.9557175622792653, 2.9557175622792653, 2.952497557480958, 2.952497557480958, 2.952497557480958, 2.9532865151853556, 2.9536897409918073, 2.954122641424708, 2.954122641424708, 2.954122641424708, 2.9467585628841855, 2.9471617886906376, 2.947555489478039, 2.947555489478039, 2.9483524160718924, 2.9483524160718924, 2.9487556418783436, 2.9487556418783436, 2.9487556418783436, 2.9421905640833557, 2.943010456556474, 2.943010456556474, 2.943860023656041, 2.9442929240889417, 2.9442929240889417, 2.9446961498953934, 2.945494632618841, 2.9425694142310466, 2.942964671148043, 2.942964671148043, 2.942964671148043, 2.943381337814709, 2.9445768944859783, 2.9445768944859783, 2.9457724511572474, 2.946175676963699, 2.94322576420721, 2.944032215820113, 2.944032215820113, 2.944032215820113, 2.944032215820113, 2.944445438960609, 2.944445438960609, 2.945640995631878, 2.942184039391724, 2.9442584774414415, 2.945071311313366, 2.945071311313366, 2.945071311313366, 2.9454950401269255, 2.9458982659333772, 2.9463219947469366, 2.9463219947469366, 2.9439597637454002, 2.944776212692347, 2.944776212692347, 2.9456104729815573, 2.9464028038463743, 2.9475983605176435, 2.9488358466133056, 2.949652295560253, 2.9481269235681626, 2.9481269235681626, 2.9481269235681626, 2.948530149374614, 2.9489538781881732, 2.9493460350509184, 2.9493460350509184, 2.949735140109284, 2.949735140109284, 2.947104138103383, 2.947104138103383, 2.9475351725861416, 2.947927329448887, 2.948721180255338, 2.9491244060617903, 2.9491244060617903, 2.9495276318682415, 2.9479673433381373, 2.949193400350558, 2.949193400350558, 2.9495966261570095, 2.9504198175025134, 2.9504198175025134, 2.951243008848017, 2.951243008848017, 2.952024270769128, 2.9497601195799086, 2.9497601195799086, 2.9505413815010195, 2.9505413815010195, 2.9505413815010195, 2.9505413815010195, 2.9505413815010195, 2.950944607307471, 2.945644659972969, 2.94684682690336, 2.948018953720843, 2.948018953720843, 2.948018953720843, 2.94880951695809, 2.949219353023664, 2.949622578830115, 2.9500463076436754, 2.949552469489645, 2.9499370848742603, 2.950340310680712, 2.950340310680712, 2.950340310680712, 2.9507294157390778, 2.9511185207974435, 2.9511185207974435, 2.9502087962825687, 2.9502087962825687, 2.9502087962825687, 2.951404352953838, 2.951404352953838, 2.951404352953838, 2.951404352953838, 2.951404352953838, 2.951807578760289, 2.9476642595151814, 2.9480474012776337, 2.9488743558976447, 2.94927118129447, 2.9496543230569223, 2.950043428115288, 2.950043428115288, 2.9504653690435583, 2.9452543345300417, 2.945651159926867, 2.9460543857333183, 2.9460543857333183, 2.9464465425960635, 2.9464465425960635, 2.9472324730512547, 2.9472324730512547, 2.9472324730512547, 2.936143477543072, 2.936563645610299, 2.9373684778424534, 2.938570385930001, 2.938953527692453, 2.939739895261357, 2.940143121067808, 2.940143121067808, 2.9405383779848044, 2.9405383779848044, 2.9405383779848044, 2.9409585460520313, 2.9409585460520313, 2.9409585460520313, 2.942164848955663, 2.9429569312694843, 2.943736898428762, 2.9370558057264953, 2.937842173295399, 2.937842173295399, 2.938245399101851, 2.938245399101851, 2.9386486249083026, 2.939033240292918, 2.939033240292918, 2.9358791005556744, 2.9370545731829436, 2.9370545731829436, 2.9370545731829436, 2.937439188567559, 2.9378328893549606, 2.9382265901423623, 2.9390186724561835, 2.939835665920236, 2.937675301774578, 2.938069002561979, 2.938458107620345, 2.9388782756875718, 2.939675202281425, 2.940091868948092, 2.940091868948092, 2.940091868948092, 2.935974942621535, 2.935974942621535, 2.935974942621535, 2.936771869215388, 2.938345650564033, 2.938345650564033, 2.938345650564033, 2.939124049243481, 2.9399024479229294, 2.935388757940342, 2.9357840148573384, 2.93616715661979, 2.93616715661979, 2.93616715661979, 2.936556261678156, 2.936556261678156, 2.936556261678156, 2.9298592413252496, 2.9298592413252496, 2.930267404590556, 2.930267404590556, 2.9310471346489217, 2.9310471346489217, 2.9314423915659176, 2.931850554831224, 2.9322458117482197, 2.9288292524702273, 2.9296060950200813, 2.9296060950200813, 2.9303814751967954, 2.930770580255161, 2.931173806061613, 2.931173806061613, 2.931958131849014, 2.9323696544827595, 2.9323696544827595, 2.9323696544827595, 2.9323696544827595, 2.9327778177480655, 2.933181043554517, 2.933592566188262, 2.933983191188262, 2.934366332950714, 2.930089475053241, 2.930884139449438, 2.93167346564199, 2.9320566074044416, 2.932451864321438, 2.932847121238434, 2.9336299270842012, 2.934019032142567, 2.933219002383418, 2.9336142593004144, 2.9336142593004144, 2.93400336435878, 2.934392469417146, 2.934392469417146, 2.934787726334142, 2.934787726334142, 2.9351738267202423, 2.92306327041691, 2.92306327041691, 2.924228536459086, 2.92501490402799, 2.92501490402799, 2.925408604815391, 2.926207087538839, 2.926590229301291, 2.9210834919345863, 2.921477192721988, 2.922275751808985, 2.9226588935714366, 2.9230479986298024, 2.92383599869185, 2.924611297317047, 2.924611297317047, 2.925391098490549, 2.925391098490549, 2.9257742402530007, 2.9265600979031476, 2.9269432396655994, 2.9269432396655994, 2.9273191795152234, 2.9273191795152234, 2.9273191795152234, 2.926986655653288, 2.9277820383224844, 2.9281772952394807, 2.9281772952394807, 2.929714693023574, 2.9312722573590975, 2.9320313389711736, 2.9320313389711736, 2.932819339033221, 2.932819339033221, 2.9332145959502167, 2.933609852867213, 2.9340020097299577, 2.93438515149241, 2.93438515149241, 2.93438515149241, 2.9347742565507757, 2.9285227899383184, 2.928904469327631, 2.9296845550914465, 2.9300676968538983, 2.9300676968538983, 2.9304436367035227, 2.9308388936205185, 2.9308388936205185, 2.9308388936205185, 2.930095371164029, 2.930095371164029, 2.9304770505533417, 2.931236132165418, 2.932790596446691, 2.932790596446691, 2.932790596446691, 2.9335541331955404, 2.9292925987397167, 2.9292925987397167, 2.9296958245461684, 2.930078966308621, 2.9304821921150723, 2.931268559683976, 2.931268559683976, 2.9320393441316552, 2.933186022642956, 2.9328016708380593, 2.9328016708380593, 2.9332048966445106, 2.9332048966445106, 2.9332048966445106, 2.9332048966445106, 2.9332048966445106, 2.933598597431912, 2.9324909086573925, 2.933281731363069, 2.933669328262294, 2.9340569251615185, 2.934828121928139, 2.9355993186947584, 2.9363856862636624, 2.9367763112636625, 2.9367763112636625, 2.9339066035870185, 2.9342825434366424, 2.9346731684366425, 2.9346731684366425, 2.9346731684366425, 2.935060765335867, 2.93544390709832, 2.935827048860772, 2.934365983426654, 2.9351443821061016, 2.9355319790053267, 2.9363178609223226, 2.9371037428393185, 2.937486884601771, 2.937486884601771, 2.9378775096017713, 2.938651276364223, 2.9353144384765875, 2.935690378326211, 2.935690378326211, 2.935690378326211, 2.935690378326211, 2.936073520088663, 2.936456661851115, 2.9368398036135672, 2.933926245106358, 2.9351153528298055, 2.9358860914914824, 2.9358860914914824, 2.936270706876098, 2.936270706876098, 2.937048928775323, 2.9385965582240017, 2.9385965582240017, 2.9362104779161107, 2.9369767614410143, 2.937748973724855, 2.93813358910947, 2.9385242141094703, 2.9389194710264666, 2.9396800262607057, 2.9396800262607057, 2.936978488296421, 2.938129819368975, 2.938129819368975, 2.9389035861314268, 2.9400649497931037, 2.9400649497931037, 2.940455574793104, 2.940838716555556, 2.941994070601848, 2.9427693109864634, 2.943172536792915, 2.943555678555367, 2.9439316184049913, 2.945097613983664, 2.945480755746116, 2.946230334634381, 2.94738449638323, 2.947779753300226, 2.9485596256018374, 2.948924589105487, 2.948924589105487, 2.948924589105487, 2.949315214105487, 2.950484237784935, 2.951258004547387, 2.952025761694455, 2.95167662836849, 2.952456500670101, 2.954391020372469, 2.955540726984545, 2.955935983901541, 2.955935983901541, 2.955935983901541, 2.9567022674264454, 2.9564364377224077, 2.957216310024019, 2.957216310024019, 2.9575994517864714, 2.9579900767864715, 2.9587368549125594, 2.9591244518117845, 2.9591244518117845, 2.9594880881754206, 2.960261854937873, 2.9613845729135857, 2.962550568492259, 2.962935183876874, 2.962935183876874, 2.962935183876874, 2.9633183256393267, 2.9637135825563226, 2.9640895224059465, 2.9640895224059465, 2.9644654622555704, 2.9644654622555704, 2.9644654622555704, 2.9644654622555704, 2.9648686880620216, 2.9648686880620216, 2.965244627911646, 2.9660123850587135, 2.966388324908338, 2.9667642647579617, 2.967154889757962, 2.967945712463638, 2.9691087265277014, 2.9694963234269265, 2.9694963234269265, 2.9692356989822772, 2.969598017822857, 2.969598017822857, 2.969993274739853, 2.970740208965048, 2.9711233507275003, 2.9711233507275003, 2.971507966112116, 2.9718911078745682, 2.971149684693029, 2.9715529104994807, 2.9715529104994807, 2.9719288503491046, 2.9719288503491046, 2.9719288503491046, 2.9719288503491046, 2.9719288503491046, 2.971193065366665, 2.971576207129117, 2.971576207129117, 2.973142270219409, 2.973142270219409, 2.974305284283472, 2.9747005412004683, 2.9750851565850835, 2.9758485264844183, 2.9752023694185468, 2.9752023694185468, 2.9759465220113235, 2.976322461860948, 2.976322461860948, 2.976322461860948, 2.9771083437779438, 2.9771083437779438, 2.9752732049588033, 2.9752732049588033, 2.9752732049588033, 2.9756342157891282, 2.9756342157891282, 2.9763904835364494, 2.9763904835364494, 2.9763904835364494, 2.976767842027015, 2.9707504339406627, 2.9711277924312287, 2.971503732280853, 2.971864743111178, 2.972643141790626, 2.9734094253155305, 2.9734094253155305, 2.973792567077983, 2.9729672967308, 2.973704247410749, 2.973704247410749, 2.974065258241074, 2.974065258241074, 2.974065258241074, 2.974462083637899, 2.9748452254003515, 2.9748452254003515, 2.973347665836637, 2.9737250243272024, 2.974470650542143, 2.9748552659267586, 2.9756367067081992, 2.9763779456754063, 2.9763779456754063, 2.977138445928424, 2.9756365540981977, 2.9756365540981977, 2.97601678223508, 2.9767801521344137, 2.9771411629647386, 2.9771411629647386, 2.977913928211188, 2.9786522975320784, 2.9794084655185844, 2.9794084655185844, 2.9801689217923495, 2.980948794093961, 2.981724279147839, 2.982481865775287, 2.982481865775287, 2.982862093912169, 2.9835990445921183, 2.9740912414137317, 2.9744685999042977, 2.9744685999042977, 2.9744685999042977, 2.9748445397539216, 2.9752204796035455, 2.975615736520542, 2.975615736520542, 2.9759930950111078, 2.974443638565103, 2.9748267803275557, 2.9751877911578806, 2.9759483463921197, 2.976328574529002, 2.976328574529002, 2.976710253918315, 2.9778361082701372, 2.9782252133285034, 2.9786083550909552, 2.9786083550909552, 2.979775858828769, 2.9801575382180827, 2.9805185490484076, 2.9808795598787325, 2.981635727865238, 2.981635727865238, 2.98201595600212, 2.98201595600212, 2.982376966832445, 2.98273797766277, 2.98273797766277, 2.98273797766277, 2.983502821184268, 2.983502821184268, 2.979262904886026, 2.979643133022908, 2.979643133022908, 2.980019072872532, 2.980019072872532, 2.980380083702857, 2.9811362516893634, 2.9811362516893634, 2.9811362516893634, 2.9792545701331017, 2.9792545701331017, 2.9796305099827256, 2.9796305099827256, 2.9807863221339614, 2.9811622619835854, 2.981930019130653, 2.982313160893105, 2.981944454820977, 2.981944454820977, 2.981944454820977, 2.982707824720311, 2.9838400323172563, 2.984218820196044, 2.9853494877740796, 2.985744744691076, 2.986129360075691, 2.9865153817319756, 2.986894169610763, 2.9880349529818853, 2.9880349529818853, 2.98839596381221, 2.9887747516909977, 2.9898904902497345, 2.9902664300993584, 2.9902664300993584, 2.9906495718618107, 2.9906495718618107, 2.9906495718618107, 2.9910327136242625, 2.9917696643042113, 2.9917696643042113, 2.9917696643042113, 2.9917696643042113, 2.9844090594438724, 2.9851488581529853, 2.9851488581529853, 2.9855276460317732, 2.9855276460317732, 2.9855276460317732, 2.985912261416389, 2.9862896199069544, 2.9774873397343553, 2.977854986793179, 2.9789845634932424, 2.979352210552066, 2.9797281504016904, 2.980478939222966, 2.980478939222966, 2.9812075971121144, 2.9830683412202412, 2.9823604008075035, 2.9827435425699553, 2.9827435425699553, 2.9838495589496703, 2.9838495589496703, 2.9838495589496703, 2.9838495589496703, 2.984217206008494, 2.979525864194427, 2.9799075435837397, 2.9802685544140646, 2.981038069767376, 2.981038069767376, 2.981416857646164, 2.9817956455249517, 2.9817956455249517, 2.982178787287404, 2.9785805147320126, 2.978953649060371, 2.979314659890696, 2.979314659890696, 2.979314659890696, 2.980423210302793, 2.9807881738064426, 2.9811803306691878, 2.979666412997789, 2.979666412997789, 2.979666412997789, 2.980058569860534, 2.9808204995017737, 2.9808204995017737, 2.981549157390922, 2.981549157390922, 2.9823053253774283, 2.983058687842669, 2.9834374757214563, 2.9845582904733505, 2.9845582904733505, 2.9856830578985685, 2.9860561922269264, 2.9860561922269264, 2.986808114434073, 2.9853240672374297, 2.9856985990726357, 2.986078827209518, 2.986078827209518, 2.986078827209518, 2.986078827209518, 2.9864576150883058, 2.9868252621471294, 2.9868252621471294, 2.981497159410961, 2.9826469898713635, 2.9830257777501514, 2.9830257777501514, 2.98339891207851, 2.9837910689412555, 2.9841642032696134, 2.9841642032696134, 2.9791066538266504, 2.9798775985681836, 2.9806191632697034, 2.9817142369576324, 2.9821063938203776, 2.982849980728825, 2.98324213759157, 2.98324213759157, 2.983976282750253, 2.982131469807324, 2.982510257686112, 2.9828933994485642, 2.9828933994485642, 2.9828933994485642, 2.9832665337769226, 2.9843794668143935, 2.9847526011427514, 2.9774876616274852, 2.977866449506273, 2.9782395838346316, 2.9786127181629896, 2.978985852491348, 2.978985852491348, 2.979358986819706, 2.9797321211480643, 2.9801242780108095, 2.9753887113646025, 2.975753674868252, 2.9761458317309972, 2.976905635652566, 2.9772705991562156, 2.9780060523251537, 2.9783848402039412, 2.978747159044521, 2.9773095381048766, 2.9780398152903778, 2.9784186031691657, 2.9784186031691657, 2.9787757460263085, 2.9787757460263085, 2.979138064866888, 2.979500383707468, 2.9798575265646106, 2.979119580606668, 2.979119580606668, 2.9794927149350263, 2.979871502813814, 2.9806220379044985, 2.980995172232856, 2.9817254494183576, 2.9820864602486825, 2.981387057461688, 2.981387057461688, 2.981387057461688, 2.9821468613832574, 2.9821468613832574, 2.983266430649226, 2.984394518247902, 2.984394518247902, 2.98477330612669, 2.9730686424312163, 2.973802787589899, 2.9745737323314327, 2.974932155270501, 2.9752892981276435, 2.9752892981276435, 2.975668086006431, 2.975668086006431, 2.973259110862002, 2.973620121692327, 2.973620121692327, 2.9739811325226517, 2.9739811325226517, 2.9739811325226517, 2.975065625459611, 2.975065625459611, 2.975065625459611, 2.975065625459611, 2.9757916954575028, 2.9757916954575028, 2.9761593425163264, 2.9765164853734687, 2.9765164853734687, 2.9765164853734687, 2.9768736282306123, 2.975800140438276, 2.975800140438276, 2.976161151268601, 2.976161151268601, 2.976161151268601, 2.976161151268601, 2.976161151268601, 2.976538509759167, 2.976899520589492, 2.975895100814327, 2.975895100814327, 2.9766279473729016, 2.9773772470927895, 2.978111748440498, 2.978850117761389, 2.9799591297114927, 2.9799591297114927, 2.979540114764176, 2.979897257621319, 2.98061798068186, 2.98061798068186, 2.98061798068186, 2.9809953391724258, 2.9817201290883917, 2.9817201290883917, 2.9820798413186074, 2.9814087686190653, 2.9814087686190653, 2.9817861271096318, 2.9821458393398474, 2.982876116525348, 2.983253475015914, 2.983253475015914, 2.983253475015914, 2.982207577887529, 2.982580712215887, 2.982580712215887, 2.982956652065511, 2.9833163642957268, 2.9836937227862927, 2.9847891141025524, 2.9855033998168383, 2.9862379011645475, 2.985748728171343, 2.986126086661909, 2.986480696590987, 2.98684834364981, 2.9872159907086338, 2.9879479591282783, 2.988302569057356, 2.988659711914499, 2.9850465185239377, 2.985419652852296, 2.986144442768262, 2.9865175770966204, 2.9868907114249788, 2.9872478542821215, 2.987604997139264, 2.988355489958188, 2.988355489958188, 2.9859975688254012, 2.9863534407115226, 2.9863534407115226, 2.9867307992020886, 2.9870918100324135, 2.9870918100324135, 2.9881779591040356, 2.988894814191394, 2.9814324311870894, 2.981789574044232, 2.9821627083725906, 2.982518580258711, 2.982895938749277, 2.983630182814699, 2.983630182814699, 2.983989895044915, 2.983989895044915, 2.983989895044915, 2.984347037902058, 2.9850892167960876, 2.9850892167960876, 2.985806071883446, 2.9861834303740116, 2.987253624419427, 2.987253624419427, 2.9864948717145503, 2.987229373062259, 2.9879516300501607, 2.9883192771089844, 2.989053521174406, 2.989782179063554, 2.9901380509496756, 2.9905097981615714, 2.9912616884873433, 2.9912616884873433, 2.9912616884873433, 2.9920107941898055, 2.9920107941898055, 2.9923825414017013, 2.9923825414017013, 2.9927542886135976, 2.9934992941629868, 2.990412409759731, 2.9907695526168743, 2.991125424502995, 2.9914971717148906, 2.9918648187737142, 2.9922169314497706, 2.9922169314497706, 2.9922169314497706, 2.9929350666190544, 2.9910289919633035, 2.9917660626840856, 2.992494952753124, 2.992862599811948, 2.992862599811948, 2.993579454899307, 2.993579454899307, 2.993951202111203, 2.988613723021806, 2.988613723021806, 2.988613723021806, 2.988613723021806, 2.9893517404509997, 2.9900818230515864, 2.990792322799188, 2.990792322799188, 2.9911640700110844, 2.9884835459757895, 2.9884835459757895, 2.9888511930346127, 2.9895555581139774, 2.9899273053258737, 2.9899273053258737, 2.9902870175560894, 2.9906441604132317, 2.9906401308281447, 2.9906401308281447, 2.9906401308281447, 2.9906401308281447, 2.9906401308281447, 2.9906401308281447, 2.9906401308281447, 2.9913531999488194, 2.9917065568392784, 2.9874429553037403, 2.987788976064986, 2.9881607232768816, 2.9881607232768816, 2.9881607232768816, 2.988506744038127, 2.988506744038127, 2.988866456268343, 2.9860319071000396, 2.986377927861285, 2.9867469315513224, 2.9867469315513224, 2.987092952312568, 2.987461956002605, 2.988184316583101, 2.9889150319641264, 2.9889150319641264, 2.9843708385296384, 2.9843708385296384, 2.9847305507598545, 2.9854337143782432, 2.986162604447282, 2.9868762722673514, 2.9868762722673514, 2.987229629157811, 2.9819465616192176, 2.982299918509677, 2.982299918509677, 2.9830029257497865, 2.983352576099437, 2.983352576099437, 2.983702226449087, 2.9847985894281632, 2.985158301658379, 2.9847269564414045, 2.985080313331864, 2.985786046323325, 2.986155050013362, 2.986529581848568, 2.986529581848568, 2.987258471917607, 2.987258471917607, 2.987611828808066, 2.9879578495693115, 2.9897565489721893, 2.9897565489721893, 2.9901310808073953, 2.9908447486274645, 2.9912137523175018, 2.991923114897367, 2.991923114897367, 2.991923114897367, 2.9922691356586126, 2.9922691356586126, 2.9922691356586126, 2.9929864330670872, 2.9936995021877624, 2.9944026658061507, 2.995125026386647, 2.995494030076684, 2.995847386967143, 2.9965578867147458, 2.9965578867147458, 2.9965578867147458, 2.9965578867147458, 2.9965578867147458, 2.996911243605205, 2.9972788906640284, 2.9898346901948467, 2.990184340544497, 2.9905339908941473, 2.9909002912604477, 2.9909002912604477, 2.9909002912604477, 2.991257434117591, 2.9919752020907326, 2.989651443977501, 2.9903608065573666, 2.9903608065573666, 2.9903608065573666, 2.9903608065573666, 2.991071306304969, 2.9914246631954287, 2.9921481064188713, 2.9921481064188713, 2.9851862041137625, 2.9851862041137625, 2.985539561004222, 2.985539561004222, 2.9859058613705223, 2.986250688956729, 2.9873189597663794, 2.9873189597663794, 2.9850540081666526, 2.9850540081666526, 2.9857663292941985, 2.9861234721513417, 2.9864694929125872, 2.9868191432622373, 2.987182779625874, 2.988249285062883, 2.988249285062883, 2.9871081364588368, 2.9874541572200823, 2.9874541572200823, 2.987800177981328, 2.9885134646946145, 2.9885134646946145, 2.9885134646946145, 2.988863115044265, 2.9847868606644226, 2.9847868606644226, 2.986224633139298, 2.986224633139298, 2.9869466924420025, 2.9869466924420025, 2.98728798937033, 2.98728798937033, 2.9876376397199804, 2.985739373801851, 2.9864498735494527, 2.9871681939435617, 2.98789158038628, 2.9886110420840026, 2.9889606924336527, 2.9889606924336527, 2.9893230112742324, 2.9890551322330725, 2.9894135551721406, 2.9897771915357767, 2.9897771915357767, 2.9897771915357767, 2.990130548426236, 2.990130548426236, 2.9908512902058844, 2.9915596298077096, 2.990190630382388, 2.9912555686374516, 2.9916127114945947, 2.9916127114945947, 2.9916127114945947, 2.9916127114945947, 2.9919587322558403, 2.99232105109642, 2.991571216988922, 2.991571216988922, 2.9922919962097008, 2.9922919962097008, 2.9922919962097008, 2.993683793228587, 2.993683793228587, 2.993683793228587, 2.993683793228587, 2.992574623631976, 2.992574623631976, 2.992574623631976, 2.992574623631976, 2.9936305999369193, 2.9936305999369193, 2.993969582987767, 2.9946763761945596, 2.9917230203779686, 2.9920801632351113, 2.992426183996357, 2.992426183996357, 2.9927898203599934, 2.99384958263162, 2.99384958263162, 2.9945345864437134, 2.995230257554609, 2.9922948275477403, 2.992651970404883, 2.993340603805381, 2.9940613830261595, 2.9947821622469393, 2.9954847816614234, 2.995838138551883, 2.996195281409025, 2.9908047190672518, 2.9911618619243954, 2.9915254982880315, 2.991880108217109, 2.9925943939313955, 2.9925943939313955, 2.992940414692641, 2.994000721168172, 2.994000721168172, 2.994000721168172, 2.9943540780586315, 2.9947112209157742, 2.995418014122568, 2.995418014122568, 2.995418014122568, 2.995767664472218, 2.9961066475230655, 2.9954011867807653, 2.9957583296379084, 2.9957583296379084, 2.9964651228447012, 2.9964651228447012, 2.9964651228447012, 2.9968147731943517, 2.997171916051495, 2.997171916051495, 2.992989334856877, 2.993702621570164, 2.994423400790943, 2.994423400790943, 2.995130193997736, 2.995487336854879, 2.995835768910628, 2.996199405274264, 2.9947713071683344, 2.9954743491531617, 2.9958314920103044, 2.996891642107557, 2.997587768015548, 2.998638049055522, 2.998638049055522, 2.9989914059459815, 2.9996981991527747, 3.0000371822036214, 3.0000371822036214, 3.0003868325532723, 3.000736482902922, 3.000736482902922, 3.0010754659537695, 3.002117612623006, 3.0031703471651703, 2.999811388129068, 3.0001574088903133, 3.001206891688763, 3.001905144229525, 3.001905144229525, 3.0022511649907706, 3.0022511649907706, 3.002600815340421, 3.00295417223088, 3.00295417223088, 3.00295417223088, 3.0039998690626466, 3.004353225953106, 3.005050225455249, 3.005407368312392, 3.005407368312392, 3.005407368312392, 3.00576197824147, 3.0061116285911202, 3.0064662385201983, 3.0064662385201983, 3.006815888869849, 3.0075082288111554, 3.007861585701615, 3.007861585701615, 3.007861585701615, 3.0072465070796928, 3.0072465070796928, 3.007610143443329, 3.0079635003337883, 3.008309521095034, 3.009016314301827, 3.0097268140494298, 3.0107762968478795, 3.0063854863464785, 3.0070947418796776, 3.0074443922293277, 3.0074443922293277, 3.0077904129905733, 3.0077904129905733, 3.0081364337518197, 3.0081364337518197, 3.0081364337518197, 3.006535671916158, 3.006535671916158, 3.006535671916158, 3.006887784592214, 3.0072267676430617, 3.0075657506939093, 3.0086118209113097, 3.009332600132089, 3.0096681706018877, 3.010025313459031, 3.0103774261350873, 3.0107307830255463, 3.011076803786792, 3.011433946643935, 3.0117873035343945, 3.0117873035343945, 3.012126286585242, 3.0102398409009625, 3.010585861662208, 3.0112785749891495, 3.011614145458948, 3.011614145458948, 3.0122957366899925, 3.012645387039643, 3.012645387039643, 3.008695864562976, 3.009757339818899, 3.0104500531458402, 3.011863806187427, 3.011863806187427, 3.011863806187427, 3.0125594772983226, 3.0125594772983226, 3.0132674973484486, 3.012564516119151, 3.0129000865889504, 3.0132390696397975, 3.0135987818700136, 3.0142886421138435, 3.0149891696564763, 3.015338820006127, 3.0164015221053813, 3.0174493058923337, 3.0174493058923337, 3.017788288943181, 3.01812385941298, 3.0184759720890364, 3.0188280847650923, 3.0188280847650923, 3.0191777351147424, 3.0198794981404493, 3.0205900875636473, 3.0212646410842936, 3.0212646410842936, 3.021610661845539, 3.021610661845539, 3.021610661845539, 3.021610661845539, 3.021610661845539, 3.021610661845539, 3.021610661845539, 3.021610661845539, 3.0223099625448397, 3.0223099625448397, 3.022662075220896, 3.0233547885478376, 3.0233547885478376, 3.0240424716936927, 3.0240424716936927, 3.0243814547445402, 3.0250819822871735, 3.025774695614115, 3.025774695614115, 3.026481488820908, 3.0268275095821537, 3.0268275095821537, 3.0231359764864414, 3.0231359764864414, 3.0231359764864414, 3.0234819972476874, 3.0241900172978124, 3.025237801084765, 3.0259420613634935, 3.026292938556476, 3.0266319216073234, 3.0259277477324176, 3.0262848905895603, 3.0262848905895603, 3.0262848905895603, 3.027337530808249, 3.027337530808249, 3.027337530808249, 3.0280356132136492, 3.027258471605416, 3.027933025126062, 3.0286216585265597, 3.0286216585265597, 3.0289700905823085, 3.0289700905823085, 3.029309073633156, 3.029309073633156, 3.029309073633156, 3.0246543539596966, 3.0246543539596966, 3.0250089638887747, 3.0250089638887747, 3.025357395944524, 3.025357395944524, 3.025357395944524, 3.025714538801667, 3.0250240080397894, 3.0250240080397894, 3.0253724400955386, 3.0257270500246163, 3.0257270500246163, 3.026416910268446, 3.026752480738245, 3.027801543484318, 3.0288456466509626, 3.0281241245358155, 3.029168682499555, 3.029168682499555, 3.0295195596925377, 3.030559173433709, 3.0308947439035077, 3.0308947439035077, 3.0308947439035077, 3.0274770507873128, 3.0278254828430624, 3.028515343086892, 3.028515343086892, 3.028850913556691, 3.029544506536616, 3.029544506536616, 3.029544506536616, 3.029901649393759, 3.0279356534183566, 3.028970533136887, 3.029325143065965, 3.029325143065965, 3.029325143065965, 3.029325143065965, 3.0296629809038027, 3.0300201237609454, 3.029301193568331, 3.0296583364254746, 3.0296583364254746, 3.0296583364254746, 3.0299973194763217, 3.030345751532071, 3.0306847345829184, 3.0306847345829184, 3.0306847345829184, 3.0186925645414258, 3.0190422148910763, 3.019388235652322, 3.0200839067632175, 3.0218087145981527, 3.0218087145981527, 3.022143162758688, 3.022143162758688, 3.0217686484724555, 3.0217686484724555, 3.0221158706946776, 3.022809113678146, 3.0231504106064735, 3.023497632828696, 3.023497632828696, 3.0238547756858383, 3.0242007964470843, 3.022086427198313, 3.02242541024916, 3.02242541024916, 3.02242541024916, 3.0227738423049098, 3.0227738423049098, 3.0227738423049098, 3.0231071756382426, 3.022141519232852, 3.0224986620899945, 3.022838798144416, 3.022838798144416, 3.022838798144416, 3.022838798144416, 3.022838798144416, 3.022838798144416, 3.022838798144416, 3.0215365059648684, 3.0215365059648684, 3.0215365059648684, 3.0215365059648684, 3.0215365059648684, 3.0215365059648684, 3.02186873187849, 3.022200957792111, 3.0183031716160498, 3.0183031716160498, 3.0186410094538876, 3.0186410094538876, 3.0189906598035376, 3.0193228857171586, 3.019668906478404, 3.020009042532826, 3.0203574745885753, 3.0131232786454407, 3.013468106231648, 3.013468106231648, 3.0138059440694858, 3.0141381699831067, 3.014486602038856, 3.0148188279524772, 3.015164848713723, 3.009918903549827, 3.009918903549827, 3.009918903549827, 3.0102649243110724, 3.0106027621489106, 3.0109405999867485, 3.0109405999867485, 3.01127282590037, 3.011621257956119, 3.0013781708257774, 3.0017218134374617, 3.0023976819627665, 3.0023976819627665, 3.0027310152961, 3.003406883821405, 3.0040780549925765, 3.0040780549925765, 3.001674655187822, 3.0027033578595663, 3.0033848383090875, 3.0033848383090875, 3.003722676146926, 3.003722676146926, 3.003722676146926, 3.003722676146926, 3.004412339519855, 3.0034385358965703, 3.0041235959566306, 3.0041235959566306, 3.0044672385683144, 3.0051545968449584, 3.0051545968449584, 3.0055018190671805, 3.0055018190671805, 3.002524013135957, 3.0028573464692903, 3.003537902024846, 3.003882729611053, 3.0042263722227367, 3.0045665082771587, 3.0052459564130016, 3.0052459564130016, 3.0052459564130016, 3.0033491880226686, 3.003696410244891, 3.004375858380734, 3.004375858380734, 3.0050470295519056, 3.0050470295519056, 3.005387165606327, 3.0060641415513443, 2.9989973319507977, 2.9989973319507977, 2.9989973319507977, 2.9993409745624815, 2.9996846171741653, 2.9996846171741653, 2.9996846171741653, 2.9996846171741653, 3.0000247532285877, 2.9959670554254805, 2.9962875682459935, 2.9962875682459935, 2.9966254060838313, 2.997313925234381, 2.997313925234381, 2.9976540612888027, 2.9976540612888027, 2.9946830506340456, 2.995003563454559, 2.9956850439040807, 2.9956850439040807, 2.996022881741918, 2.996360719579756, 2.996360719579756, 2.996360719579756, 2.996360719579756, 2.990716050064532, 2.991369896218378, 2.9917135388300613, 2.99204140768252, 2.992714815990157, 2.9930561129184845, 2.9940813324057354, 2.9940813324057354, 2.9947459015948943, 2.9954104707840536, 2.9954104707840536, 2.9960643169378995, 2.9970907522416046, 2.9970907522416046, 2.9970907522416046, 2.9970907522416046, 2.9977735449336254, 2.9977735449336254, 2.9977735449336254, 2.998442710714412, 2.998763223534925, 2.998763223534925, 2.9991104457571476, 2.9997849839316855, 2.9997849839316855, 2.9957584529336563, 2.9960789657541693, 2.9960789657541693, 2.9970822712667027, 2.9970822712667027, 2.9970822712667027, 2.997413397094517, 2.9980879352690555, 2.99841906109687, 2.9933346239744796, 2.9933346239744796, 2.9933346239744796, 2.99367132431118, 2.99367132431118, 2.9940068947809784, 2.9940068947809784, 2.9943274076014914, 2.9870639108640473, 2.9870639108640473, 2.9877296913005154, 2.988068674351363, 2.989073819787021, 2.989073819787021, 2.9904126957693533, 2.9904126957693533, 2.9910784762058213, 2.9894946667328677, 2.9898302372026664, 2.9901559701016893, 2.9904764829222024, 2.990807608750017, 2.9911548309722393, 2.9914805638712614, 2.9918073612568827, 2.9870820049492557, 2.9870820049492557, 2.987738088239568, 2.988073658709366, 2.9890597455182286, 2.9893953159880273, 2.9897320163247274, 2.9900664644852624, 2.990413686707485, 2.989372856662233, 2.9897073048227685, 2.9897073048227685, 2.9897073048227685, 2.9900406381561018, 2.990373971489435, 2.990373971489435, 2.991367530552973, 2.988680661866104, 2.988680661866104, 2.9890151100266396, 2.9890151100266396, 2.9896764133954608, 2.9896764133954608, 2.990332496685772, 2.991338785140351, 2.9916699109681653, 2.987655258535515, 2.9879863843633294, 2.988632630082865, 2.988632630082865, 2.988632630082865, 2.989294881738494, 2.989294881738494, 2.989626007566309, 2.989611203026261, 2.989611203026261, 2.9902756621874094, 2.990606788015224, 2.990606788015224, 2.9909335854008448, 2.991601366894713, 2.991601366894713, 2.9919358150552484, 2.991950041038468, 2.9922768384240888, 2.9922768384240888, 2.9922768384240888, 2.9926068714273892, 2.9929402047607225, 2.9932757752305212, 2.9932757752305212, 2.993601508129544, 2.9946048136420775, 2.9949348466453776, 2.9952681799787113, 2.9962693244368594, 2.9965961218224804, 2.9969305699830158, 2.9972616958108302, 2.9985979670743026, 2.9989451892965246, 2.999611885594138, 3.0002720163130916, 3.000919326519226, 3.001586022816839, 3.0019065356373518, 3.0019065356373518, 3.0022421061071505, 3.002639903376673, 3.002639903376673, 3.002639903376673, 3.0029645787013486, 3.0039624298729017, 3.0042957632062346, 3.0046204385309103, 3.0049472359165312, 3.0049472359165312, 3.005612809904881, 3.005612809904881, 3.005941757273302, 3.0062762054338363, 3.006939600962793, 3.0072663983484142, 3.007921359329462, 3.008591377959796, 3.0089160532844716, 3.009236566104984, 3.009572136574783, 3.009898933960404, 3.010219446780917, 3.0108774554389255, 3.011522643584114, 3.011522643584114, 3.011522643584114, 3.0105337078944983, 3.010862655262919, 3.010862655262919, 3.0118571766196895, 3.0121861239881107, 3.0121861239881107, 3.0125107993127855, 3.0125107993127855, 3.0096077351661648, 3.0102711306951213, 3.0102711306951213, 3.0102711306951213, 3.01060670116492, 3.01060670116492, 3.0112712190031394, 3.0125980175431133, 3.0129269649115344, 3.011138381352429, 3.011138381352429, 3.0114739518222278, 3.011809522292027, 3.011809522292027, 3.011809522292027, 3.0121450927618256, 3.01247621858964, 3.0077199938611465, 3.0077199938611465, 3.0077199938611465, 3.0080522197747674, 3.0083768950994427, 3.0087113432599777, 3.0090424690877926, 3.0097036423698347, 3.01003809053037, 3.009027638670404, 3.009679277318731, 3.009679277318731, 3.009679277318731, 3.009679277318731, 3.009679277318731, 3.009999790139244, 3.010328737507665, 3.0055877999985747, 3.0055877999985747, 3.0062511955275313, 3.0065801428959524, 3.007246839193565, 3.0075653105311444, 3.0082127292371452, 3.0082127292371452, 3.0085449551507666, 3.0072212168224874, 3.0072212168224874, 3.0075501641909077, 3.0078706770114207, 3.0081943016068897, 3.0088449988580916, 3.0098321857527606, 3.0104988820503737, 3.008208275726372, 3.008208275726372, 3.008208275726372, 3.0085438461961713, 3.0085438461961713, 3.0092127425172412, 3.0098729235767996, 3.010854790443335, 3.010854790443335, 3.009594641654466, 3.009594641654466, 3.0099161850628264, 3.0099161850628264, 3.0102484109764474, 3.010912928814667, 3.011574232183489, 3.0118957755918485, 3.010529093739828, 3.010854826638851, 3.010854826638851, 3.010854826638851, 3.011824936624758, 3.0124861099068005, 3.0124861099068005, 3.0131407901742437, 3.013471916002058, 3.0127953632309423, 3.0131243105993635, 3.0141061267886977, 3.0141061267886977, 3.0141061267886977, 3.0141061267886977, 3.0141061267886977, 3.0150952552166768, 3.004700407164232, 3.0050293545326525, 3.005347825870232, 3.006320977475255, 3.006320977475255, 3.006641490295768, 3.0073081865933817, 3.0076426347539167, 3.0076426347539167, 3.005473248175062, 3.005473248175062, 3.0061144384873337, 3.0061144384873337, 3.006445564315148, 3.006781134784947, 3.006781134784947, 3.006781134784947, 3.0061565236715504, 3.006490971832086, 3.006490971832086, 3.0068220976599003, 3.0068220976599003, 3.007153223487715, 3.007810082214553, 3.008137951067012, 3.008137951067012, 3.0013490957149296, 3.0013490957149296, 3.0016846661847283, 3.002012535037187, 3.0026558613028955, 3.0029914317726942, 3.0036347580384026, 3.0036347580384026, 2.9974258190176037, 2.998082677744441, 2.99903991698748, 2.999346665453737, 2.999668208862097, 2.999668208862097, 3.0006339520086285, 3.0009596849076514, 3.0009596849076514, 3.0012771452251115, 3.0012771452251115, 3.0012771452251115, 3.0012771452251115, 3.0012771452251115, 3.0019339614459915, 3.0019339614459915, 3.0022407099122495, 2.998614425086795, 2.9989401579858184, 2.9992691053542395, 2.9992691053542395, 2.9999185176150585, 3.0002319972388825, 3.0002319972388825, 3.0002319972388825, 3.0015367133849304, 3.0008399463838153, 3.0008399463838153, 3.0008399463838153, 3.001486759340973, 3.001486759340973, 3.001801224749778, 3.0021367952195765, 3.0021367952195765, 2.9991481282983234, 2.9991481282983234, 2.9997904472343793, 3.0004306455422074, 3.0007441251660323, 3.0007441251660323, 3.0007441251660323, 3.0010698580650548, 3.001712192326319, 2.9988453605472034, 2.999818934937108, 3.0001256834033656, 3.0004579093169874, 3.0004579093169874, 3.0007713889408114, 3.0014103633206903, 3.002063965072172, 3.000122709778518, 3.000122709778518, 3.000122709778518, 3.000437175187323, 3.000437175187323, 3.0007506548111476, 3.0007506548111476, 3.0007506548111476, 3.0013993364209712, 3.0000954026871707, 3.0004118583833734, 3.0004118583833734, 3.000726323792178, 3.000726323792178, 3.000726323792178, 3.000726323792178, 3.0020254589491153, 3.0010579040817573, 3.001364652548015, 3.002328217235153, 3.002328217235153, 3.0026446729313556, 3.0026446729313556, 3.0026446729313556, 3.0032913642537817, 3.0032913642537817, 2.998903508847049, 2.999231377699508, 2.999231377699508, 2.999545843108313, 3.000521215684189, 3.000521215684189, 3.00083274216394, 3.001144268643691, 3.001144268643691, 3.0018077079659484, 3.0021323832906233, 3.002446848699429, 3.003081775733211, 3.003081775733211, 3.003081775733211, 3.0034140016468323, 3.003732472984412, 3.0034886786743713, 3.003807150011951, 3.003807150011951, 3.003807150011951, 3.0041256213495307, 3.004761823153957, 3.005080294491536, 3.005732320657537, 3.0048004572407114, 3.0051326831543324, 3.005468253624131, 3.005779780103882, 3.005779780103882, 3.0061076489563407, 3.0067710882785983, 3.0070895596161784, 3.0074174284686377, 3.004770481827806, 3.005095157152481, 3.005095157152481, 3.005095157152481, 3.005095157152481, 3.00541061456573, 3.00541061456573, 3.0063746852226156, 3.0010771850396685, 3.0013926424529176, 3.0013926424529176, 3.001711113790497, 3.0020295851280765, 3.002348056465656, 3.002348056465656, 3.002348056465656, 3.002675925318115, 2.999310236467356, 2.999609637664961, 2.999609637664961, 2.999934312989636, 3.000256893634797, 3.000256893634797, 3.0005847624872564, 3.0005847624872564, 2.9954400624567845, 2.996097964312544, 2.9964085233187547, 2.9967440937885534, 2.9967440937885534, 2.9970719626410123, 2.9970719626410123, 2.9977152889067207, 2.9977152889067207, 2.984907140190745, 2.9855455680494147, 2.9858423039544593, 2.9864856302201677, 2.9864856302201677, 2.9864856302201677, 2.9864856302201677, 2.9864856302201677, 2.9813992763672035, 2.981696012272248, 2.981696012272248, 2.982298558574846, 2.9826264274273053, 2.9832733755878404, 2.983579185985394, 2.983913634145929, 2.9845473133959417, 2.981966853287402, 2.9825820605300257, 2.983213244595605, 2.984181372006153, 2.984499843343733, 2.985137309719412, 2.985137309719412, 2.985779643980676, 2.9834785670481763, 2.9837930324569815, 2.984089768362026, 2.9844082396996052, 2.9844082396996052, 2.9850145731278697, 2.985342441980329, 2.985991355549669, 2.985991355549669, 2.9775129812284566, 2.9775129812284566, 2.9775129812284566, 2.9781466604784694, 2.9781466604784694, 2.978786919036558, 2.979108462444918, 2.979108462444918, 2.976409533316873, 2.9767153437144267, 2.977334538760866, 2.9785808471201944, 2.978889489095503, 2.9795140938530063, 2.9801541085989465, 2.9804508445039906, 2.9810691238173956, 2.9804520224195525, 2.9804520224195525, 2.981096068103308, 2.981096068103308, 2.981096068103308, 2.9814056656265278, 2.9814056656265278, 2.9814056656265278, 2.9820406886587123, 2.9823493306340207, 2.9823493306340207, 2.9826771994864796, 2.983589343312297, 2.9839078146498768, 2.9839078146498768, 2.9839078146498768, 2.9839078146498768, 2.9836031880351657, 2.9839118300104746, 2.9839118300104746, 2.9845143763130726, 2.9848239738362916, 2.9851335713595115, 2.985446071359512, 2.9860486176621097, 2.984670755764466, 2.984670755764466, 2.984967491669511, 2.984967491669511, 2.984967491669511, 2.9852880044900236, 2.9852880044900236, 2.9852880044900236, 2.9852880044900236, 2.974733720447924, 2.9750414127556164, 2.9750414127556164, 2.975338148660661, 2.975649675140412, 2.975649675140412, 2.9768733454459806, 2.977494469448951, 2.9700577312308507, 2.9700577312308507, 2.9700577312308507, 2.9706769500182935, 2.971317542027805, 2.972577990186162, 2.9732116694361745, 2.9732116694361745, 2.973508405341219, 2.972880466528053, 2.973186276925607, 2.9738130458339516, 2.9741275112427568, 2.9741275112427568, 2.974439037722507, 2.974750564202258, 2.974750564202258, 2.9720801196218827, 2.9726955275426556, 2.973642739852701, 2.973642739852701, 2.973642739852701, 2.9742581477734737, 2.9745630258222544, 2.9748774912310596, 2.97518236927984, 2.974599651296697, 2.975216055825228, 2.975216055825228, 2.975216055825228, 2.975216055825228, 2.975525653348448, 2.9758556863517485, 2.9758556863517485, 2.975563288690929, 2.975563288690929, 2.9761806255682335, 2.9761806255682335, 2.9774529797968556, 2.9774529797968556, 2.9774529797968556, 2.9777497157018997, 2.9780775845543586, 2.975316796890521, 2.975628323370272, 2.975628323370272, 2.975628323370272, 2.975628323370272, 2.975628323370272, 2.975934133767825, 2.975934133767825, 2.9675387082346782, 2.9678417385377083, 2.9681484870039663, 2.9687858433957985, 2.9690973698755494, 2.9693994846791747, 2.9697100436853856, 2.970012158489011, 2.970308894394056, 2.9688054482075827, 2.9688054482075827, 2.9694042989162526, 2.970644061341625, 2.9709508098078827, 2.971252924611508, 2.9718654834753195, 2.9718654834753195, 2.965130600504814, 2.9654336308078446, 2.9654336308078446, 2.9654336308078446, 2.965739441205398, 2.9660500002116095, 2.9663778690640688, 2.967616730151282, 2.9679234786175397, 2.9682302270837972, 2.968541753563548, 2.968853280043299, 2.9691600285095565, 2.9691600285095565, 2.9694705875157674, 2.9694705875157674, 2.9697821139955183, 2.9655925839068122, 2.9655925839068122, 2.9655925839068122, 2.9655925839068122, 2.9658983943043657, 2.9658983943043657, 2.9658983943043657, 2.966200509107991, 2.96652837796045, 2.964914878421813, 2.964914878421813, 2.964914878421813, 2.964914878421813, 2.9652116143268574, 2.9655394831793163, 2.9661818174405807, 2.9671012691215104, 2.9612141163474885, 2.9612141163474885, 2.9612141163474885, 2.961516231151114, 2.961516231151114, 2.962149910401126, 2.962149910401126, 2.9624614368808766, 2.963370731649733, 2.962143844651366, 2.9624505931176235, 2.962747329022668, 2.962747329022668, 2.963044064927712, 2.96427255540259, 2.964569291307634, 2.9651875662536424, 2.9604544752500725, 2.9604544752500725, 2.9604544752500725, 2.9607512111551175, 2.9607512111551175, 2.9607512111551175, 2.961053325958743, 2.96166310472803, 2.9622565765381195, 2.959795969506744, 2.959795969506744, 2.959795969506744, 2.959795969506744, 2.959795969506744, 2.959795969506744, 2.959795969506744, 2.9600989998097744, 2.9559231245203086, 2.956219860425353, 2.956219860425353, 2.956823344796655, 2.9571254596002805, 2.958031809526213, 2.958031809526213, 2.9589364987167923, 2.9598459659208642, 2.9598303993226507, 2.960438661707446, 2.9607473036827545, 2.9607473036827545, 2.9613407754928436, 2.9613407754928436, 2.961637511397888, 2.9628525032991293, 2.96201203746191, 2.96201203746191, 2.96201203746191, 2.962924169958543, 2.9632520388110017, 2.9635635652907526, 2.9638629664883576, 2.9641716084636665, 2.965100083333007, 2.9654279521854656, 2.9654279521854656, 2.9657558210379245, 2.9657558210379245, 2.9657558210379245, 2.9660644630132333, 2.9660644630132333, 2.9663731049885422, 2.96548165859707, 2.965783773400695, 2.965783773400695, 2.966382624109365, 2.967587459733498, 2.9678932701310514, 2.9678932701310514, 2.968795217631254, 2.968795217631254, 2.968795217631254, 2.9690919535362985, 2.969397763933852, 2.9697256327863113, 2.970329862393562, 2.970626598298607, 2.970626598298607, 2.970626598298607, 2.970626598298607, 2.9712254490072767, 2.971534090982585, 2.9718308268876297, 2.9724350564948803, 2.972746582974631, 2.9730433188796757, 2.973351960854984, 2.973351960854984, 2.973952566871866, 2.974559582088697, 2.975167844473492, 2.9754645803785364, 2.975763981576141, 2.975763981576141, 2.975763981576141, 2.975763981576141, 2.9740114317817268, 2.9746147514046295, 2.975528824186978, 2.9758255600920225, 2.9764288797149248, 2.977041611013953, 2.977041611013953, 2.9779752691141548, 2.978887230712366, 2.978887230712366, 2.978887230712366, 2.9794851714366875, 2.9797872862403127, 2.980095928215621, 2.980398043019247, 2.980694778924291, 2.981020511823314, 2.981622027824544, 2.981622027824544, 2.981622027824544, 2.982220878533214, 2.983125657611172, 2.9834314680087255, 2.9840366796038835, 2.9840366796038835, 2.984659148407951, 2.9821525140477343, 2.9824583244452882, 2.983092699319619, 2.983696018942522, 2.984004660917831, 2.984918680773493, 2.984918680773493, 2.985546528476141, 2.9864513075540984, 2.9864513075540984, 2.987050158262768, 2.987050158262768, 2.9873468941678127, 2.9873468941678127, 2.9876436300728573, 2.9876436300728573, 2.9876436300728573, 2.9882442360897388, 2.9882442360897388, 2.9885436372873437, 2.9891415780116657, 2.989443692815291, 2.9903565643978505, 2.9909619422782034, 2.9912876751772264, 2.9885726935523538, 2.9885726935523538, 2.989775779383332, 2.990985352702724, 2.991311085601747, 2.991610486799352, 2.991610486799352, 2.992239250001405, 2.992547891976714, 2.992850922279744, 2.992850922279744, 2.993462594558083, 2.993764709361708, 2.993764709361708, 2.994363560070378, 2.9949979349447093, 2.9953000497483346, 2.9952806559752867, 2.9961981612204784, 2.9961981612204784, 2.9964993660397554, 2.9974059487393854, 2.9977053499369903, 2.9977053499369903, 2.998031082836013, 2.9986362279426686, 2.9986362279426686, 2.9989448699179775, 2.9995537331878603, 2.9995537331878603, 2.9995537331878603, 2.9995537331878603, 2.999855847991486, 3.000157962795111, 2.9987037284067446, 2.9990049332260216, 2.9990049332260216, 2.9993306661250445, 2.9999358112317003, 3.00023343027932, 3.00023343027932, 3.00023343027932, 3.0008432770739057, 2.9999346020434396, 3.0005415948958456, 3.0005415948958456, 3.0005415948958456, 3.0005415948958456, 3.0011485877482516, 3.0017474384569214, 3.0017474384569214, 3.0017758928798726, 3.0017758928798726, 3.0017758928798726, 3.002077097699149, 3.002705860901202, 3.003007065720479, 3.0033038016255236, 3.003600537530568, 3.003600537530568, 3.003600537530568, 3.004207530382974, 3.0045087352022515, 3.005131204006319, 3.005427939911363, 3.005427939911363, 3.0057300547149888, 3.006333374337891, 3.006938519444547, 3.0075483662391322, 3.008178977186936, 3.0084757130919804, 3.0087778278956057, 3.0093794418494304, 3.009979208057506, 3.009979208057506, 3.010584353164161, 3.010012829276043, 3.010012829276043, 3.010012829276043, 3.010012829276043, 3.0103149440796684, 3.0109266163580073, 3.0109266163580073, 3.0112296466610373, 3.0104148256892933, 3.0104148256892933, 3.010711561594338, 3.0116134426060386, 3.0125225557771262, 3.0128311977524347, 3.0128311977524347, 3.0128311977524347, 3.0134581354707346, 3.011766620230836, 3.011766620230836, 3.011766620230836, 3.012069650533866, 3.012069650533866, 3.012069650533866, 3.012673880141117, 3.0129706160461613, 3.012156263369064, 3.012449518501029, 3.012449518501029, 3.012449518501029, 3.012449518501029, 3.012449518501029, 3.013078281703082, 3.013078281703082, 3.0136890384820156, 3.012280676845549, 3.012909440047603, 3.013806130343763, 3.0141100817115443, 3.0141100817115443, 3.0141100817115443, 3.014406817616589, 3.014406817616589, 3.0141563884046425, 3.0141563884046425, 3.0144603397724237, 3.0147689817477326, 3.0147689817477326, 3.0150605269372366, 3.0150605269372366, 3.0153862598362595, 3.0156902112040407, 3.014849153707204, 3.0151450116953695, 3.015751077866776, 3.0160531926704013, 3.0160531926704013, 3.0160531926704013, 3.0163543974896787, 3.017251087785838, 3.014437175838796, 3.0147411272065776, 3.015049769181886, 3.015049769181886, 3.015049769181886, 3.0159464594780463, 3.0162485742816716, 3.0162485742816716, 3.016540119471176, 3.0143893129302084, 3.014710856338569, 3.0150129711421942, 3.0150129711421942, 3.0150129711421942, 3.0153150859458195, 3.015928174543684, 3.0168248648398444, 3.0134723934610714, 3.0134723934610714, 3.013775423764102, 3.013775423764102, 3.0144056091477704, 3.0146946264888106, 3.0146946264888106, 3.0149967412924363, 3.015593090321036, 3.014990680682482, 3.0155930957864077, 3.0155930957864077, 3.0155930957864077, 3.0158846409759117, 3.0158846409759117, 3.0158846409759117, 3.016466055977771, 3.0115005230616894, 3.0120898407030303, 3.0120898407030303, 3.012983093166378, 3.012983093166378, 3.012983093166378, 3.012983093166378, 3.012983093166378, 3.0132842979856553, 3.0050823577401555, 3.0050823577401555, 3.005992978702713, 3.005992978702713, 3.006293279003013, 3.0065822963440536, 3.0071725185043707, 3.0077628177460367, 3.004666847846871, 3.004968962650497, 3.004968962650497, 3.005270167469774, 3.0055591848108145, 3.0061494069711325, 3.0061494069711325, 3.0061494069711325, 3.0070409110320755, 3.004387726512334, 3.0046907568153642, 3.0049928716189895, 3.0049928716189895, 3.0052959019220205, 3.0059165955591887, 3.006217800378466, 3.0065068177195067, 3.0002221669623426, 3.000511184303383, 3.000511184303383, 3.000511184303383, 3.00081238912266, 3.001114503926286, 3.0017081639194156, 3.002328857556584, 3.002328857556584, 2.999352324037099, 2.999653528856376, 3.0002455765004465, 3.000534593841487, 3.000534593841487, 3.000534593841487, 3.0011248160018047, 3.0011248160018047, 2.999173419960939, 2.99946243730198, 2.99977989761944, 3.000062383495146, 3.000062383495146, 3.000062383495146, 3.0003635883144235, 3.0006647931337005, 3.000965997952978, 2.9992434706511366, 2.9995455854547624, 2.9998477002583877, 3.0001489050776646, 3.0004379224187048, 3.000720408294411, 3.001009425635451, 3.001312455938481, 3.000765992563645, 3.000765992563645, 3.001055009904685, 3.001344027245726, 3.001344027245726, 3.001344027245726, 3.0016452320650027, 3.0016452320650027, 3.00194643688428, 2.996418537448913, 2.996721567751943, 2.996721567751943, 2.996721567751943, 2.996721567751943, 2.997039028069403, 2.997039028069403, 2.9973420583724337, 2.9901600145304448, 2.9901600145304448, 2.9901600145304448, 2.9901600145304448, 2.9901600145304448, 2.9907406259842486, 2.9907406259842486, 2.9907406259842486, 2.9910418308035256, 2.9879459821484287, 2.9879459821484287, 2.9882333384702675, 2.9882333384702675, 2.988821899611384, 2.9894034814464474, 2.9894034814464474, 2.990295901006795, 2.987157706652647, 2.987157706652647, 2.987450104313466, 2.987728655845499, 2.987728655845499, 2.987728655845499, 2.987728655845499, 2.9880072073775326, 2.9888702498478232, 2.9869964621941234, 2.987299492497154, 2.9875780440291875, 2.9875780440291875, 2.988157800380498, 2.988751402860594, 2.9890544331636244, 2.9893417894854633, 2.985786410256232, 2.9860989102562323, 2.986678666607543, 2.987532901919375, 2.987532901919375, 2.987532901919375, 2.9878202582412143, 2.9878202582412143, 2.9878202582412143, 2.983362971363987, 2.9836478716488872, 2.9839603716488874, 2.9839603716488874, 2.9839603716488874, 2.9848631142338813, 2.9851464003528614, 2.9857461126348257, 2.9863134509898677, 2.986894924958766, 2.987197955261796, 2.987197955261796, 2.987197955261796, 2.9877777116131066, 2.9880562631451397, 2.9880562631451397, 2.9880562631451397, 2.9852415700727986, 2.985823363654465, 2.9861019151864987, 2.9869753766125156, 2.9869753766125156, 2.987269494259574, 2.9875680017222606, 2.987846553254294, 2.9846717420526883, 2.9846717420526883, 2.9852491458187274, 2.9855568381264197, 2.9855568381264197, 2.9858441944482585, 2.986430058232784, 2.986430058232784, 2.986430058232784, 2.985062174101184, 2.985062174101184, 2.985062174101184, 2.985062174101184, 2.985062174101184, 2.985643648070082, 2.985643648070082, 2.985643648070082, 2.980609972628528, 2.9809148506773084, 2.981498541372292, 2.9817770929043257, 2.982952519943171, 2.983235005818877, 2.983235005818877, 2.98351355735091, 2.9840909611169497, 2.9840909611169497, 2.9843783174387886, 2.984676824901475, 2.9858281179406427, 2.986106669472676, 2.9864115475214565, 2.9864115475214565, 2.9866989038432954, 2.986066293754492, 2.986066293754492, 2.986066293754492, 2.986066293754492, 2.986066293754492, 2.9866313782378144, 2.9866313782378144, 2.9869138641135207, 2.987218742162301, 2.979303597256856, 2.9798904305084455, 2.980172916384152, 2.980172916384152, 2.9804594493354415, 2.9804594493354415, 2.9810422355114476, 2.9813434403307246, 2.9745252468667416, 2.974816792056246, 2.9753818765395685, 2.9753818765395685, 2.9753818765395685, 2.9753818765395685, 2.9756643624152748, 2.9759413707255242, 2.9765299318666405, 2.974383726596034, 2.974383726596034, 2.9752579161694626, 2.9755529014202002, 2.9755529014202002, 2.9755529014202002, 2.9755529014202002, 2.9758444466097047, 2.9760805574179203, 2.976375542668658, 2.9769406271519805, 2.977219178684014, 2.977219178684014, 2.977219178684014, 2.977219178684014, 2.977219178684014, 2.9775016645597203, 2.970800021734257, 2.970800021734257, 2.970800021734257, 2.970800021734257, 2.971373911007386, 2.9716646086818046, 2.9719640098794096, 2.972262517342096, 2.970573984209783, 2.9711590246237587, 2.9717516497335046, 2.9725960898714474, 2.9731672158287554, 2.973444224139005, 2.973444224139005, 2.974012479337248, 2.9742933782136527, 2.973673126180406, 2.9739516777124395, 2.974238210663729, 2.974806465861972, 2.9753990909717176, 2.975685623923007, 2.975979741570066, 2.975979741570066, 2.9732820894225953, 2.9732820894225953, 2.9735590977328448, 2.9741543411005757, 2.9744416974224146, 2.9744416974224146, 2.9750060620545034, 2.9753027979595474, 2.9755893309108368, 2.973822797651377, 2.974114342840881, 2.974114342840881, 2.97468678690679, 2.97468678690679, 2.97468678690679, 2.97468678690679, 2.97468678690679, 2.9672317197953224, 2.9675126186717273, 2.9678111261344133, 2.9678111261344133, 2.9686812301479235, 2.9695401830205856, 2.9695401830205856, 2.969818734552619, 2.970407015647168, 2.9682111129583073, 2.9682111129583073, 2.9684976459095966, 2.9690602349268462, 2.9693569708318908, 2.9693569708318908, 2.969932258268969, 2.970210809801002, 2.9660337213722814, 2.966609237145217, 2.966890927286062, 2.967167935596311, 2.967167935596311, 2.967450421472017, 2.9677419666615217, 2.968022865537926, 2.968022865537926, 2.9685944620887494, 2.9688860072782535, 2.9688860072782535, 2.9688860072782535, 2.9688860072782535, 2.9688860072782535, 2.9688860072782535, 2.9691645588102875, 2.9640033479251837, 2.964294893114688, 2.964294893114688, 2.9651419981464757, 2.96543873405152, 2.9657188460963377, 2.9657188460963377, 2.966291290162247, 2.966568298472496, 2.9627438942830158, 2.9627438942830158, 2.9630406301880603, 2.963622932273159, 2.963622932273159, 2.963622932273159, 2.9641815958500106, 2.9641815958500106, 2.9553648519452382, 2.9559321936360123, 2.9562123056808307, 2.9564893139910797, 2.9567625380347957, 2.9573324979835562, 2.9573324979835562, 2.95761104951559, 2.95761104951559, 2.954269280708452, 2.954269280708452, 2.954835188562325, 2.9551084126060405, 2.9551084126060405, 2.955663972448323, 2.9559555176378276, 2.956249635284886, 2.9544645778780656, 2.9544645778780656, 2.9544645778780656, 2.9547415861883146, 2.955028942510154, 2.955601386576063, 2.9561699400758163, 2.9567309509970388, 2.9578716043574014, 2.9569434715267486, 2.9578033375542243, 2.9580765615979403, 2.9592026780790475, 2.9594759021227635, 2.960044455622517, 2.9606177521597403, 2.9608978642045582, 2.9603588845677598, 2.9603588845677598, 2.9603588845677598, 2.9603588845677598, 2.9606374360997934, 2.9611876684537584, 2.962047534481234, 2.9626016574013545, 2.9626016574013545, 2.9584247005515225, 2.9589979970887454, 2.9589979970887454, 2.959555117443813, 2.9598475151046317, 2.9598475151046317, 2.9604008511931648, 2.9606923963826697, 2.9595089380551256, 2.9595089380551256, 2.9600886920377834, 2.9603760483596226, 2.960656160404441, 2.960656160404441, 2.960656160404441, 2.9609370592808455, 2.961217171325663, 2.960051322477664, 2.960051322477664, 2.9606084428327315, 2.9606084428327315, 2.9608869943647647, 2.9608869943647647, 2.9608869943647647, 2.9608869943647647, 2.9570893042497675, 2.9570893042497675, 2.957375837201057, 2.957375837201057, 2.957943305567714, 2.95821652961143, 2.9587962835940873, 2.9587962835940873, 2.959640760270994, 2.958297215076007, 2.958297215076007, 2.9588666210470755, 2.9591590187078944, 2.9597329079810226, 2.9600099162912725, 2.9600099162912725, 2.9608506087016453, 2.9611276170118943, 2.9614046253221438, 2.9614046253221438, 2.9614046253221438, 2.9616847373669617, 2.9616847373669617, 2.961965636243366, 2.961965636243366, 2.9628070091857035, 2.961117220212411, 2.9613981190888157, 2.961965587455473, 2.9622529437773117, 2.9625378440622123, 2.9628179561070302, 2.9628179561070302, 2.9630949644172793, 2.9609369304025157, 2.9609369304025157, 2.961217042447333, 2.962057734857706, 2.962057734857706, 2.9626220994897947, 2.962899107800044, 2.9634634724321325, 2.9634634724321325, 2.9634671247124467, 2.963748023588851, 2.963748023588851, 2.9640250318991006, 2.9640250318991006, 2.9640250318991006, 2.964305930775505, 2.964586042820323, 2.9626949229953294, 2.963259107990714, 2.963259107990714, 2.963828513961782, 2.963828513961782, 2.963828513961782, 2.9641158702836212, 2.9646841254818654, 2.9649611337921145, 2.958073153382313, 2.9586310605689663, 2.9586310605689663, 2.9586310605689663, 2.9586310605689663, 2.958911172613784, 2.959749478508349, 2.9605898849823964, 2.959767117200142, 2.959767117200142, 2.960044125510391, 2.960313667289367, 2.9605906755996165, 2.9605906755996165, 2.961151762568096, 2.9614318746129142, 2.9619889949679807, 2.9580417562286963, 2.9586142002946048, 2.958894312339423, 2.958894312339423, 2.9591744243842406, 2.959455323260645, 2.959455323260645, 2.959455323260645, 2.9534580449856866, 2.9534580449856866, 2.953729047695714, 2.954009159740532, 2.9548511803804995, 2.9551344664994796, 2.955414578544298, 2.955414578544298, 2.955414578544298, 2.9504799552458034, 2.9513164053003464, 2.951593413610596, 2.951864416320623, 2.951864416320623, 2.952147702439603, 2.952430988558583, 2.952707996868832, 2.9483187848117196, 2.9483187848117196, 2.948587602016021, 2.948856419220322, 2.94913653126514, 2.9496831262472183, 2.949968026532119, 2.9505266988088836, 2.9508068108537016, 2.951373674236415, 2.9521967802697233, 2.9521967802697233, 2.9521967802697233, 2.9524768923145412, 2.9530306098037427, 2.9533076181139917, 2.953578620824019, 2.9495304524200954, 2.9497957044094854, 2.9497957044094854, 2.950064521613786, 2.9503415299240356, 2.9503415299240356, 2.9508868939582436, 2.9511670060030615, 2.9514380087130885, 2.9477128374901165, 2.9479780894795065, 2.9479780894795065, 2.948791352489173, 2.948791352489173, 2.949068360799422, 2.949068360799422, 2.9501691916349726, 2.944133659944753, 2.9444046626547804, 2.9449605656497075, 2.9449605656497075, 2.9455094948988267, 2.9460493148131546, 2.9463294268579725, 2.946610325734377, 2.946610325734377, 2.9438587345549636, 2.9438587345549636, 2.9438587345549636, 2.9441388465997815, 2.9446751012991985, 2.9449439185035, 2.9449439185035, 2.9452091704928898, 2.9409995225064334, 2.9409995225064334, 2.941270525216461, 2.941270525216461, 2.941270525216461, 2.941541527926488, 2.941541527926488, 2.9418216399713057, 2.942374126159151, 2.941252077644449, 2.941799323448399, 2.9420794354932167, 2.942355678587139, 2.942355678587139, 2.942355678587139, 2.9426326868973884, 2.9431777471956124, 2.941223222368922, 2.941774337123767, 2.9423337787775234, 2.9431515169547593, 2.9431515169547593, 2.9434167689441493, 2.9439731240828895, 2.9439731240828895, 2.9442419412871903, 2.9450583080314248, 2.9458799151595554, 2.9458799151595554, 2.946699847118702, 2.946699847118702, 2.9469799591635195, 2.9469799591635195, 2.947260071208338, 2.943997014602079, 2.943997014602079, 2.943997014602079, 2.944262266591469, 2.944540044369247, 2.945097934191842, 2.945097934191842, 2.9456432982260505, 2.9459143009360775, 2.9408459259836417, 2.941111177973031, 2.941111177973031, 2.941388955750809, 2.941934667483984, 2.942479727782208, 2.942479727782208, 2.943306434809104, 2.943306434809104, 2.943584212586882, 2.9444123068560573, 2.9446924189008747, 2.944966391503615, 2.944966391503615, 2.9455143737279723, 2.9455143737279723, 2.945788346330712, 2.942201055060613, 2.942201055060613, 2.942469872264914, 2.942469872264914, 2.942469872264914, 2.9430148475776807, 2.9435620933816304, 2.9435620933816304, 2.9438253889908506, 2.9440906409802405, 2.944366884074163, 2.944366884074163, 2.944366884074163, 2.9449170997708256, 2.9449170997708256, 2.945196429379764, 2.945468168510199, 2.9457482805550166, 2.9457482805550166, 2.946026058332795, 2.9465717700659697, 2.947121286974182, 2.947121286974182, 2.947401399019, 2.9476776421129225, 2.946827296175019, 2.946827296175019, 2.946827296175019, 2.947105073952797, 2.947105073952797, 2.947105073952797, 2.947105073952797, 2.9479191064299917, 2.9479191064299917, 2.94718180868298, 2.9474595864607585, 2.947737364238536, 2.947737364238536, 2.9482853464628933, 2.9482853464628933, 2.9485563491729203, 2.9485563491729203, 2.9454575163586236, 2.9457285190686506, 2.9457285190686506, 2.9457285190686506, 2.9457285190686506, 2.946274230801825, 2.946548203404565, 2.946548203404565, 2.9473739634067, 2.944283523995257, 2.944283523995257, 2.944283523995257, 2.944557496597997, 2.944820654492734, 2.944820654492734, 2.944820654492734, 2.9453663824774865, 2.943727553281027, 2.94455644581365, 2.94482169780304, 2.94482169780304, 2.945357952502457, 2.945357952502457, 2.945892113107221, 2.946167595200885, 2.946432847190275, 2.9445591759024343, 2.9448316554664666, 2.945094813361204, 2.945094813361204, 2.945094813361204, 2.9453687859639435, 2.9453687859639435, 2.9456488980087614, 2.9432027222816672, 2.9434737249916942, 2.943746204555727, 2.9440186841197598, 2.9440186841197598, 2.9440186841197598, 2.9440186841197598, 2.9442818420144965, 2.9445535811449313, 2.940759885676102, 2.940759885676102, 2.941295523134872, 2.9418481147437228, 2.9421112726384595, 2.942646169663631, 2.942646169663631, 2.942646169663631, 2.9421243628342415, 2.9421243628342415, 2.9421243628342415, 2.9421243628342415, 2.9426678451083013, 2.9429410691520177, 2.943486772759766, 2.943486772759766, 2.943486772759766, 2.9413639002468885, 2.9416341705171587, 2.9418994225065487, 2.9418994225065487, 2.9418994225065487, 2.9418994225065487, 2.9421711616369834, 2.9421711616369834, 2.9354378447467173, 2.9354378447467173, 2.9354378447467173, 2.935701002641454, 2.93597422668517, 2.936525257781236, 2.936796260491263, 2.9373310542596287, 2.9384093183597506, 2.9384093183597506, 2.9384093183597506, 2.9386825424034666, 2.9386825424034666, 2.939496294947797, 2.9400368394367993, 2.9405710000415635, 2.9408341579363, 2.9389087571784724, 2.9389087571784724, 2.9389087571784724, 2.9391740091678624, 2.9394392611572524, 2.939708802936228, 2.939708802936228, 2.939708802936228, 2.939708802936228, 2.934126506326149, 2.934126506326149, 2.9343960481051248, 2.9343960481051248, 2.9343960481051248, 2.9346592059998615, 2.9346592059998615, 2.9349302087098885, 2.9341920404662543, 2.9341920404662543, 2.9341920404662543, 2.9341920404662543, 2.93472683423462, 2.934997836944647, 2.935263088934037, 2.935263088934037, 2.935263088934037, 2.9303031199693272, 2.9303031199693272, 2.9303031199693272, 2.930570499648472, 2.930841502358499, 2.9311088820376434, 2.93137554870431, 2.9316429283834546, 2.929773611292219, 2.930044614002246, 2.930044614002246, 2.9308475353683296, 2.9308475353683296, 2.9313794540243863, 2.9316504567344133, 2.9321888391235844, 2.9321888391235844, 2.9272795773900766, 2.9278145815385046, 2.9280763616432166, 2.928349585686932, 2.928349585686932, 2.928614837676322, 2.928880089665712, 2.929151092375739, 2.9286395015659017, 2.9286395015659017, 2.928906881245046, 2.92970270769557, 2.929973710405597, 2.9307766317716806, 2.9307766317716806, 2.9307766317716806, 2.9307766317716806, 2.929212009968009, 2.9294852340117243, 2.9294852340117243, 2.9294852340117243, 2.9297540512160256, 2.9302810833101276, 2.9305463352995176, 2.9308173380095446, 2.9280050249048832, 2.9282668050095952, 2.9282668050095952, 2.9285378077196222, 2.9293371060548234, 2.9293371060548234, 2.9298641381489254, 2.9301373621926414, 2.9306664664247752, 2.9306752675154017, 2.930942647194546, 2.930942647194546, 2.931211464398847, 2.9314817346691173, 2.9314817346691173, 2.9320179893685343, 2.9320179893685343, 2.928656537415852, 2.928656537415852, 2.9291871347248657, 2.9297211810706765, 2.9297211810706765, 2.930253099726733, 2.930253099726733, 2.930253099726733, 2.930253099726733, 2.9216488732459416, 2.9216488732459416, 2.921917690450243, 2.922179470554955, 2.922441250659667, 2.9227086303388115, 2.9227086303388115, 2.9229760100179556, 2.919174589599806, 2.919174589599806, 2.919174589599806, 2.919436369704518, 2.919436369704518, 2.919436369704518, 2.9199634017986194, 2.9199634017986194, 2.920494633720508, 2.912776556496137, 2.9130432231628043, 2.9130432231628043, 2.913307075405548, 2.9138355221769268, 2.914096618782671, 2.914096618782671, 2.914096618782671, 2.9094976459676136, 2.9094976459676136, 2.9094976459676136, 2.9097643126342803, 2.9097643126342803, 2.9097643126342803, 2.9102906612294146, 2.9110780736815824, 2.9113433256709724, 2.90733290361801, 2.907862007850144, 2.907862007850144, 2.907862007850144, 2.9081286745168105, 2.9083939265062004, 2.9086550231119443, 2.9086550231119443, 2.905727234624314, 2.905727234624314, 2.905995331139059, 2.9065258351178387, 2.9067876152225507, 2.9067876152225507, 2.907316091507439, 2.9086239056691547, 2.9088877579118986, 2.9094162341967875, 2.9094162341967875, 2.9099467531061975, 2.910469951661759, 2.9107317317664716, 2.9107317317664716, 2.9109998282812173, 2.9115317469372735, 2.912323347521798, 2.9125914440365426, 2.9125914440365426, 2.912852540642287, 2.913384459298344, 2.9139073360088, 2.914435099281211, 2.914690201322027, 2.914690201322027, 2.9113208603845604, 2.911587527051227, 2.911851379293971, 2.911851379293971, 2.911851379293971, 2.911851379293971, 2.911851379293971, 2.911851379293971, 2.9060344145570443, 2.906295511162788, 2.906560763152178, 2.906560763152178, 2.9070898673843124, 2.9076028531588225, 2.9076028531588225, 2.908132046279312, 2.908132046279312, 2.9068845004677937, 2.9068845004677937, 2.9068845004677937, 2.9071497524571837, 2.9071497524571837, 2.9076712657295944, 2.9076712657295944, 2.9079365177189844, 2.900212624759255, 2.9007389733543887, 2.9007389733543887, 2.9007389733543887, 2.90100144054599, 2.901260507903503, 2.9015202481632434, 2.9015202481632434, 2.902314711175721, 2.900110781977453, 2.900110781977453, 2.900110781977453, 2.900617504062839, 2.9008848837419836, 2.9011439510994963, 2.9011439510994963, 2.9014030184570094, 2.8984196827940396, 2.8989453296643335, 2.8994709765346283, 2.8997362285240182, 2.9002674454552353, 2.9002674454552353, 2.9002674454552353, 2.9002674454552353, 2.90106462738832, 2.8990871734077333, 2.8990871734077333, 2.8990871734077333, 2.899348270013478, 2.899348270013478, 2.900112932754241, 2.900112932754241, 2.9006378996854574, 2.8906137307818485, 2.8906137307818485, 2.8911338947451055, 2.891398445009656, 2.891398445009656, 2.891658861676323, 2.891658861676323, 2.8921803749487336, 2.892706723543868, 2.8901931414143265, 2.890455608605927, 2.8907087731628893, 2.8909691898295558, 2.8912344418189457, 2.891487606375908, 2.892268490113861, 2.8925268880466772, 2.890959305638542, 2.890959305638542, 2.891212470195504, 2.8917354183928707, 2.8919938163256873, 2.8922583665902373, 2.8922583665902373, 2.8922583665902373, 2.8927699290800164, 2.8919663826765403, 2.892224780609357, 2.892224780609357, 2.892477945166319, 2.8927383618329854, 2.8927383618329854, 2.8935196436240695, 2.8935196436240695, 2.8905237530211316, 2.890786220212733, 2.8910473168184767, 2.8913057147512933, 2.8915668113570376, 2.891831361621588, 2.89208452617855, 2.8926013220441833, 2.8926013220441833, 2.8898760061296302, 2.8903968712540484, 2.8903968712540484, 2.8903968712540484, 2.8906552691868646, 2.891178217384231, 2.8914406845758323, 2.8914406845758323, 2.8890118057766108, 2.8895326709010285, 2.8902937143364906, 2.8902937143364906, 2.890554810942235, 2.8908165910469465, 2.891054686285042, 2.891054686285042, 2.8913130842178587, 2.891842510966751, 2.8921009088995673, 2.8923633760911684, 2.8931501231270973, 2.8931501231270973, 2.89340328768406, 2.893903850113756, 2.893903850113756, 2.8939209764988196, 2.8939209764988196, 2.8947070400357804, 2.8947070400357804, 2.8947070400357804, 2.8947070400357804, 2.8952265345743413, 2.8957230277452526, 2.8957230277452526, 2.8952219126451655, 2.8957387085107986, 2.8959768037488938, 2.8959768037488938, 2.896239270940495, 2.8967508334302736, 2.8967508334302736, 2.8970112500969405, 2.8947239074766458, 2.8949823054094623, 2.895484950912108, 2.8962445594226143, 2.8964977239795764, 2.8967601911711776, 2.8967601911711776, 2.8967601911711776, 2.897020607837844, 2.893785053483172, 2.894300685231735, 2.894300685231735, 2.8945631524233364, 2.895073386389039, 2.895596334586405, 2.8958547325192217, 2.8960928277573172, 2.8955994617560585, 2.8958565311647986, 2.8966082076265227, 2.8966082076265227, 2.896861372183485, 2.896861372183485, 2.896861372183485, 2.897114536740447, 2.897114536740447, 2.893908222543358, 2.893908222543358, 2.894426388557843, 2.8946821430335463, 2.8946821430335463, 2.8949405409663624, 2.8952009576330293, 2.8954620542387732, 2.8937463048294316, 2.894273322285583, 2.8945317202183998, 2.894769815456495, 2.8950343657210458, 2.895272460959141, 2.895272460959141, 2.8955295303678814, 2.8955295303678814, 2.889181258740418, 2.88943442329738, 2.88943442329738, 2.8901853693945005, 2.8901853693945005, 2.8901853693945005, 2.890423464632596, 2.8906759898851213, 2.889449814828086, 2.889449814828086, 2.889714365092636, 2.889714365092636, 2.889714365092636, 2.889714365092636, 2.8899675296495984, 2.8899675296495984, 2.8902232841253013, 2.888540202302683, 2.889327636425501, 2.8901103353154807, 2.890363499872443, 2.890616025124968, 2.89086918968193, 2.89086918968193, 2.8913807521717088, 2.8868112790513676, 2.8873156998897365, 2.887568864446698, 2.887568864446698, 2.887568864446698, 2.887827262379515, 2.887827262379515, 2.888078518660922, 2.888595594177998, 2.8837406082677313, 2.884256072185257, 2.884256072185257, 2.8847624012991813, 2.8855291214981142, 2.886278779225988, 2.886278779225988, 2.88653194378295, 2.886076861067197, 2.886330025624159, 2.8873561192716983, 2.887869024088401, 2.887869024088401, 2.8881267560471633, 2.8883780123285705, 2.8886311768855326, 2.8886311768855326, 2.8886311768855326, 2.8886311768855326, 2.8888889088442955, 2.8891466408030584, 2.8896359923225607, 2.8898937242813236, 2.8901318195194188, 2.8901318195194188, 2.887439254928609, 2.8879540972291653, 2.8879540972291653, 2.88846499374489, 2.888703088982985, 2.8889676392475354, 2.8889676392475354, 2.8892188955289426, 2.8892188955289426, 2.8892188955289426, 2.889986902386462, 2.890504374604965, 2.890757539161927, 2.890995634400022, 2.8912553746597625, 2.8912553746597625, 2.8917617329819856, 2.8917617329819856, 2.8920214732417255, 2.892538945460229, 2.8927986857199697, 2.893057083652786, 2.893057083652786, 2.8932951788908814, 2.8937930143887165, 2.894310729210229, 2.889389331981598, 2.889389331981598, 2.8896477299144148, 2.889897106473019, 2.889897106473019, 2.8901352017111135, 2.8901352017111135, 2.8908841934649336, 2.8906677870527977, 2.89117370973809, 2.8914268742950515, 2.8919484584965582, 2.8919484584965582, 2.892186553734654, 2.892186553734654, 2.8926891805279453, 2.893438172281766, 2.893438172281766, 2.893438172281766, 2.8941986018509427, 2.8941986018509427, 2.8941986018509427, 2.894458342110683, 2.8952289788861485, 2.8954867108449114, 2.8930398520610474, 2.8930398520610474, 2.893545108772286, 2.893804849032026, 2.8940625809907887, 2.8943101057432643, 2.8947969572002648, 2.895060115095002, 2.895567732578172, 2.8943723617848116, 2.8943723617848116, 2.8946104570229068, 2.8946104570229068, 2.8946104570229068, 2.8946104570229068, 2.8946104570229068, 2.895122641907878, 2.8937462267723464, 2.8937462267723464, 2.8937462267723464, 2.894000679698555, 2.894258411657318, 2.8952635538929643, 2.8952635538929643, 2.8952635538929643, 2.8957593810898223, 2.895738936216928, 2.8959870751747445, 2.8959870751747445, 2.8967670145848485, 2.8967670145848485, 2.89752057374047, 2.8977687126982863, 2.8980284529580267, 2.896855567385887, 2.896855567385887, 2.8978784641466655, 2.8978784641466655, 2.8981266031044823, 2.8981266031044823, 2.8983843350632443, 2.8988928315418905, 2.8988928315418905, 2.896211782195969, 2.89647152245571, 2.89647152245571, 2.896972825970488, 2.8972209649283043, 2.897980733314627, 2.8982326224833925, 2.8982326224833925, 2.891606766177855, 2.891606766177855, 2.892367328134596, 2.892619217303362, 2.892619217303362, 2.892619217303362, 2.8928711064721275, 2.8936188228377517, 2.8936188228377517, 2.892092113869679, 2.8923402528274957, 2.892855716745021, 2.8933469765400783, 2.8933469765400783, 2.893604708498841, 2.893862440457604, 2.893862440457604, 2.89436460790556, 2.894602703143655, 2.894602703143655, 2.8948558677006178, 2.8948558677006178, 2.8956088449573896, 2.8956088449573896, 2.896366605042735, 2.896366605042735, 2.8946552334127804, 2.8951668628412865, 2.8951668628412865, 2.8951668628412865, 2.8951668628412865, 2.8951668628412865, 2.8951668628412865, 2.8956626900381446, 2.8949142853866645, 2.8951740256464045, 2.8954317576051674, 2.8956849221621295, 2.8959380867190916, 2.896183184758307, 2.896183184758307, 2.89644091671707, 2.89644091671707, 2.8942784147101124, 2.8942784147101124, 2.8945165099482075, 2.895261046820196, 2.895261046820196, 2.8955142113771575, 2.8955142113771575, 2.896010038574015, 2.8970027144038197, 2.8975084042133075, 2.897755317793554, 2.898254756626326, 2.8992583976742945, 2.8995161296330574, 2.8997738615918207, 2.8997738615918207, 2.900020775172067, 2.899560735371561, 2.899560735371561, 2.899812624540327, 2.9000601492928024, 2.9000601492928024, 2.9003070628730487, 2.9005589520418145, 2.9010533903745372, 2.901291485612632, 2.901551225872373, 2.901798750624848, 2.901798750624848, 2.9020506397936137, 2.9020506397936137, 2.902298164546089, 2.9027969672951017, 2.9027969672951017, 2.8994502338023014, 2.8997079657610643, 2.8997079657610643, 2.900197036407259, 2.900712500324785, 2.900712500324785, 2.900712500324785, 2.9012247658370507, 2.9017376706537528, 2.9017376706537528, 2.9019757658918484, 2.9027275689968564, 2.9027275689968564, 2.9027275689968564, 2.9027275689968564, 2.9027275689968564, 2.9029656642349515, 2.89955743638685, 2.89955743638685, 2.8998043499670962, 2.900051874719572, 2.9007892478101502, 2.9007892478101502, 2.9015317574695367, 2.9017894894282996, 2.9025395394333, 2.902787064185775, 2.903044796144538, 2.9035423208970137, 2.9035423208970137, 2.903800052855776, 2.9040525781083013, 2.905072456447118, 2.905072456447118, 2.9032999613996777, 2.903557693358441, 2.904047677765302, 2.904047677765302, 2.904047677765302, 2.904047677765302, 2.904047677765302, 2.904525581156874, 2.902821969019855, 2.90307072523876, 2.9033105333922373, 2.9033105333922373, 2.9035503415457145, 2.904060598757002, 2.904060598757002, 2.9045651929182172, 2.9045651929182172, 2.9043420401232636, 2.9043420401232636, 2.9043420401232636, 2.9045991095320036, 2.905084729522575, 2.905084729522575, 2.905084729522575, 2.9055715809795757, 2.903331294700879, 2.9038186276068307, 2.9040711528593564, 2.9043288848181192, 2.904586616776882, 2.9048264249303593, 2.905561397730672, 2.9060723209160138, 2.9060723209160138, 2.9027750236939984, 2.9030213291127174, 2.9032783985214583, 2.903518206674936, 2.904008014828413, 2.904008014828413, 2.904255539580888, 2.9047507042277236, 2.9030810996298198, 2.9030810996298198, 2.903575598407326, 2.903575598407326, 2.903575598407326, 2.9040910623248513, 2.9040910623248513, 2.9043481317335917, 2.904595656486067, 2.902911109237493, 2.9031688411962557, 2.903672273400719, 2.903672273400719, 2.904174504136988, 2.9049344668320196, 2.9049344668320196, 2.9049344668320196, 2.9010704014803856, 2.9010704014803856, 2.9010704014803856, 2.9018107274547504, 2.902300926477956, 2.9025496826968618, 2.9027984389157675, 2.9030459636682426, 2.9035512203794807, 2.9027593829245717, 2.9027593829245717, 2.903254945553752, 2.903254945553752, 2.903254945553752, 2.9035024703062273, 2.9035024703062273, 2.9037481705519275, 2.902344101205935, 2.9030920321879043, 2.9033401711457207, 2.9038434503738992, 2.9038434503738992, 2.9038434503738992, 2.904348707085137, 2.904348707085137, 2.904596231837613, 2.903515211751853, 2.903772943710616, 2.9040204684630906, 2.9042679932155666, 2.9045257251743295, 2.9050130580802813, 2.9052605828327573, 2.9052605828327573, 2.9034051525295053, 2.903649651307011, 2.903894749346227, 2.9043867728762085, 2.9046445048349714, 2.9048890036124773, 2.9051365283649524, 2.905636129183275, 2.90588365393575, 2.9037385394643915, 2.9037385394643915, 2.9037385394643915, 2.903986064216867, 2.903986064216867, 2.904241166257683, 2.904241166257683, 2.9049888910901904, 2.9040107276251943, 2.9040107276251943, 2.90425825237767, 2.90425825237767, 2.90425825237767, 2.90473056072197, 2.90473056072197, 2.904969224206457, 2.9057005104826343, 2.9059341553424476, 2.9059341553424476, 2.906181680094923, 2.906684306888214, 2.90693183164069, 2.9074099752780094, 2.9074099752780094, 2.907888118915328, 2.905674299211224, 2.9061795559224626, 2.9064270806749377, 2.906909646598449, 2.9071571713509243, 2.90740167012843, 2.907640333612917, 2.907640333612917, 2.908379235183969, 2.906569427313306, 2.906569427313306, 2.90681332975233, 2.9070684317931463, 2.9070684317931463, 2.9070684317931463, 2.9073129305706527, 2.9077941001829406, 2.9072890692481814, 2.9075365940006566, 2.908017763612945, 2.90826528836542, 2.90826528836542, 2.9085097871429264, 2.9087573118954015, 2.9092510774207048, 2.9092510774207048, 2.902277875714168, 2.9025254004666428, 2.9025254004666428, 2.9030174239966247]\n"
     ]
    }
   ],
   "source": [
    "p = 10\n",
    "max_alpha = 0.85\n",
    "\n",
    "\n",
    "alphas = []\n",
    "p_stars = []\n",
    "l_maxes = []\n",
    "\n",
    "\n",
    "def index_average(arr):\n",
    "    return [sum(item[i] for item in arr) / len(arr) for i in range(len(arr[0]))]\n",
    "\n",
    "for _ in range(10):\n",
    "    i_alphas = []\n",
    "    i_p_stars = []\n",
    "\n",
    "    linear_hashing = LinearHashing(p, max_alpha)\n",
    "    keys = generate_keys(10000)\n",
    "    for key in keys:\n",
    "        linear_hashing.insert(key)\n",
    "        i_alphas.append(linear_hashing.alpha)\n",
    "        i_p_stars.append(linear_hashing.p_star)\n",
    "\n",
    "\n",
    "    alphas.append(i_alphas)\n",
    "    p_stars.append(i_p_stars)\n",
    "\n",
    "\n",
    "average_ith_alphas = index_average(alphas)\n",
    "average_ith_p_stars = index_average(p_stars)\n",
    "\n",
    "print(\n",
    "    f\"avg i alphas: {average_ith_alphas} avg p*: {average_ith_p_stars}\"\n",
    ")"
   ]
  },
  {
   "cell_type": "code",
   "execution_count": null,
   "metadata": {},
   "outputs": [],
   "source": []
  }
 ],
 "metadata": {
  "kernelspec": {
   "display_name": "Python 3",
   "language": "python",
   "name": "python3"
  },
  "language_info": {
   "codemirror_mode": {
    "name": "ipython",
    "version": 3
   },
   "file_extension": ".py",
   "mimetype": "text/x-python",
   "name": "python",
   "nbconvert_exporter": "python",
   "pygments_lexer": "ipython3",
   "version": "3.10.12"
  },
  "orig_nbformat": 4
 },
 "nbformat": 4,
 "nbformat_minor": 2
}
