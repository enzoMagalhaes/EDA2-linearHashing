{
 "cells": [
  {
   "cell_type": "code",
   "execution_count": 11,
   "metadata": {},
   "outputs": [
    {
     "name": "stdout",
     "output_type": "stream",
     "text": [
      "CONFIG: {p: 1, maxAlpha: 0.2}  average alpha: 0.2 average p*: 1.67\n",
      "CONFIG: {p: 1, maxAlpha: 0.3}  average alpha: 0.3 average p*: 1.62\n",
      "CONFIG: {p: 1, maxAlpha: 0.4}  average alpha: 0.4 average p*: 1.53\n",
      "CONFIG: {p: 1, maxAlpha: 0.5}  average alpha: 0.5 average p*: 1.58\n",
      "CONFIG: {p: 1, maxAlpha: 0.6}  average alpha: 0.6 average p*: 1.57\n",
      "CONFIG: {p: 1, maxAlpha: 0.7}  average alpha: 0.7 average p*: 1.68\n",
      "CONFIG: {p: 1, maxAlpha: 0.8}  average alpha: 0.8 average p*: 1.86\n",
      "CONFIG: {p: 1, maxAlpha: 0.9}  average alpha: 0.9 average p*: 2.1\n",
      "CONFIG: {p: 5, maxAlpha: 0.2}  average alpha: 0.2 average p*: 1.17\n",
      "CONFIG: {p: 5, maxAlpha: 0.3}  average alpha: 0.3 average p*: 1.11\n",
      "CONFIG: {p: 5, maxAlpha: 0.4}  average alpha: 0.4 average p*: 1.07\n",
      "CONFIG: {p: 5, maxAlpha: 0.5}  average alpha: 0.5 average p*: 1.09\n",
      "CONFIG: {p: 5, maxAlpha: 0.6}  average alpha: 0.6 average p*: 1.21\n",
      "CONFIG: {p: 5, maxAlpha: 0.7}  average alpha: 0.7 average p*: 1.35\n",
      "CONFIG: {p: 5, maxAlpha: 0.8}  average alpha: 0.8 average p*: 2.02\n",
      "CONFIG: {p: 5, maxAlpha: 0.9}  average alpha: 0.9 average p*: 3.93\n",
      "CONFIG: {p: 10, maxAlpha: 0.2}  average alpha: 0.2 average p*: 1.05\n",
      "CONFIG: {p: 10, maxAlpha: 0.3}  average alpha: 0.3 average p*: 1.01\n",
      "CONFIG: {p: 10, maxAlpha: 0.4}  average alpha: 0.4 average p*: 1.01\n",
      "CONFIG: {p: 10, maxAlpha: 0.5}  average alpha: 0.5 average p*: 1.03\n",
      "CONFIG: {p: 10, maxAlpha: 0.6}  average alpha: 0.6 average p*: 1.17\n",
      "CONFIG: {p: 10, maxAlpha: 0.7}  average alpha: 0.7 average p*: 1.37\n",
      "CONFIG: {p: 10, maxAlpha: 0.8}  average alpha: 0.8 average p*: 2.15\n",
      "CONFIG: {p: 10, maxAlpha: 0.9}  average alpha: 0.9 average p*: 4.38\n",
      "CONFIG: {p: 20, maxAlpha: 0.2}  average alpha: 0.2 average p*: 1.0\n",
      "CONFIG: {p: 20, maxAlpha: 0.3}  average alpha: 0.3 average p*: 1.0\n",
      "CONFIG: {p: 20, maxAlpha: 0.4}  average alpha: 0.4 average p*: 1.0\n",
      "CONFIG: {p: 20, maxAlpha: 0.5}  average alpha: 0.5 average p*: 1.02\n",
      "CONFIG: {p: 20, maxAlpha: 0.6}  average alpha: 0.6 average p*: 1.16\n",
      "CONFIG: {p: 20, maxAlpha: 0.7}  average alpha: 0.68 average p*: 1.35\n",
      "CONFIG: {p: 20, maxAlpha: 0.8}  average alpha: 0.79 average p*: 2.09\n",
      "CONFIG: {p: 20, maxAlpha: 0.9}  average alpha: 0.9 average p*: 4.49\n",
      "CONFIG: {p: 50, maxAlpha: 0.2}  average alpha: 0.2 average p*: 1.0\n",
      "CONFIG: {p: 50, maxAlpha: 0.3}  average alpha: 0.3 average p*: 1.0\n",
      "CONFIG: {p: 50, maxAlpha: 0.4}  average alpha: 0.4 average p*: 1.0\n",
      "CONFIG: {p: 50, maxAlpha: 0.5}  average alpha: 0.5 average p*: 1.01\n",
      "CONFIG: {p: 50, maxAlpha: 0.6}  average alpha: 0.59 average p*: 1.14\n",
      "CONFIG: {p: 50, maxAlpha: 0.7}  average alpha: 0.66 average p*: 1.25\n",
      "CONFIG: {p: 50, maxAlpha: 0.8}  average alpha: 0.7 average p*: 1.35\n",
      "CONFIG: {p: 50, maxAlpha: 0.9}  average alpha: 0.88 average p*: 3.24\n"
     ]
    }
   ],
   "source": [
    "from src.linear_hashing import LinearHashing\n",
    "from random import randint\n",
    "\n",
    "def generate_keys(p, start=0, end=10**5):\n",
    "    n = p * 1000\n",
    "\n",
    "    random_numbers = set()\n",
    "    while len(random_numbers) < n:\n",
    "        random_numbers.add(randint(start, end))\n",
    "\n",
    "    return list(random_numbers)\n",
    "\n",
    "def average(numbers):\n",
    "    return round(sum(numbers) / len(numbers),2)\n",
    "\n",
    "test_ps = [1, 5, 10, 20, 50]\n",
    "test_alphas = [0.2, 0.3, 0.4, 0.5, 0.6, 0.7, 0.8, 0.9]\n",
    "\n",
    "for p in test_ps:\n",
    "    for alpha in test_alphas:\n",
    "        alphas = []\n",
    "        pStars = []\n",
    "\n",
    "        for _ in range(10):\n",
    "            linear_hashing = LinearHashing(p, alpha)\n",
    "            keys = generate_keys(p)\n",
    "            for key in keys:\n",
    "                linear_hashing.insert(key)\n",
    "\n",
    "            alphas.append(linear_hashing.alpha)\n",
    "            pStars.append(linear_hashing.p_star)\n",
    "        \n",
    "        print(f\"CONFIG: {{p: {p}, maxAlpha: {alpha}}}  average alpha: {average(alphas)} average p*: {average(pStars)}\")"
   ]
  }
 ],
 "metadata": {
  "kernelspec": {
   "display_name": "Python 3",
   "language": "python",
   "name": "python3"
  },
  "language_info": {
   "codemirror_mode": {
    "name": "ipython",
    "version": 3
   },
   "file_extension": ".py",
   "mimetype": "text/x-python",
   "name": "python",
   "nbconvert_exporter": "python",
   "pygments_lexer": "ipython3",
   "version": "3.10.12"
  },
  "orig_nbformat": 4
 },
 "nbformat": 4,
 "nbformat_minor": 2
}
