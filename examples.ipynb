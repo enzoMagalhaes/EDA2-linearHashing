{
 "cells": [
  {
   "cell_type": "code",
   "execution_count": 3,
   "metadata": {},
   "outputs": [
    {
     "name": "stdout",
     "output_type": "stream",
     "text": [
      "Page 0:\n",
      "[16, 20] -> [36, 48] -> [40, 64] -> [88, 96]\n",
      "Page 1:\n",
      "[]\n",
      "Page 2:\n",
      "[]\n",
      "Page 3:\n",
      "[15, 3]\n"
     ]
    }
   ],
   "source": [
    "from src.linear_hashing import LinearHashing\n",
    "\n",
    "# Example usage:\n",
    "linear_hashing = LinearHashing(2, 0.8)\n",
    "linear_hashing.insert(16)\n",
    "linear_hashing.insert(15)\n",
    "linear_hashing.insert(20)\n",
    "linear_hashing.insert(36)\n",
    "linear_hashing.insert(48)\n",
    "linear_hashing.insert(40)\n",
    "linear_hashing.insert(64)\n",
    "linear_hashing.insert(88)\n",
    "linear_hashing.insert(96)\n",
    "linear_hashing.insert(3)\n",
    "linear_hashing.print()"
   ]
  },
  {
   "cell_type": "code",
   "execution_count": 46,
   "metadata": {},
   "outputs": [
    {
     "name": "stdout",
     "output_type": "stream",
     "text": [
      "Page 0:\n",
      "[8]\n",
      "Page 1:\n",
      "[17, 25]\n",
      "Page 2:\n",
      "[10]\n",
      "Page 3:\n",
      "[11, 15]\n",
      "Page 4:\n",
      "[44, 12]\n"
     ]
    }
   ],
   "source": [
    "linear_hashing = LinearHashing(2, 0.8)\n",
    "linear_hashing.insert(8);\n",
    "linear_hashing.insert(11);\n",
    "linear_hashing.insert(10);\n",
    "linear_hashing.insert(15);\n",
    "linear_hashing.insert(17);\n",
    "linear_hashing.insert(25);\n",
    "linear_hashing.insert(44);\n",
    "linear_hashing.insert(12)\n",
    "\n",
    "linear_hashing.print();"
   ]
  },
  {
   "cell_type": "code",
   "execution_count": 47,
   "metadata": {},
   "outputs": [
    {
     "name": "stdout",
     "output_type": "stream",
     "text": [
      "Page 0:\n",
      "[8]\n",
      "Page 1:\n",
      "[17, 25]\n",
      "Page 2:\n",
      "[10]\n",
      "Page 3:\n",
      "[11]\n",
      "Page 4:\n",
      "[44, 12]\n",
      "Page 5:\n",
      "[37, 21]\n",
      "Page 6:\n",
      "[22, 30]\n",
      "Page 7:\n",
      "[15]\n"
     ]
    }
   ],
   "source": [
    "linear_hashing = LinearHashing(2, 0.8)\n",
    "linear_hashing.insert(8);\n",
    "linear_hashing.insert(17);\n",
    "linear_hashing.insert(25);\n",
    "linear_hashing.insert(10);\n",
    "linear_hashing.insert(11);\n",
    "linear_hashing.insert(15);\n",
    "linear_hashing.insert(44);\n",
    "linear_hashing.insert(12);\n",
    "linear_hashing.insert(22);\n",
    "linear_hashing.insert(37);\n",
    "linear_hashing.insert(30);\n",
    "linear_hashing.insert(21);\n",
    "\n",
    "linear_hashing.print();\n"
   ]
  }
 ],
 "metadata": {
  "kernelspec": {
   "display_name": "Python 3",
   "language": "python",
   "name": "python3"
  },
  "language_info": {
   "codemirror_mode": {
    "name": "ipython",
    "version": 3
   },
   "file_extension": ".py",
   "mimetype": "text/x-python",
   "name": "python",
   "nbconvert_exporter": "python",
   "pygments_lexer": "ipython3",
   "version": "3.10.12"
  },
  "orig_nbformat": 4
 },
 "nbformat": 4,
 "nbformat_minor": 2
}
